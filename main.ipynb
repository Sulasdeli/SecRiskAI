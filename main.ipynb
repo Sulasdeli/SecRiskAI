{
  "nbformat": 4,
  "nbformat_minor": 0,
  "metadata": {
    "colab": {
      "name": "MA_Erion_Sula.ipynb",
      "provenance": [],
      "collapsed_sections": [
        "zNZraghsm_y-",
        "pLNjIGy823fN",
        "WO5fIwT19COL",
        "W6INnv4s-7Lr",
        "tq--wueVRT2V",
        "h6Nun-zRkweH"
      ],
      "toc_visible": true
    },
    "kernelspec": {
      "name": "python3",
      "display_name": "Python 3"
    }
  },
  "cells": [
    {
      "cell_type": "code",
      "metadata": {
        "id": "PpHjojtsm3el"
      },
      "source": [
        "import os\n",
        "import random\n",
        "import pandas as pd\n",
        "import numpy\n",
        "from sklearn.model_selection import train_test_split\n",
        "from sklearn.metrics import plot_confusion_matrix, ConfusionMatrixDisplay\n",
        "import matplotlib.pyplot as plt\n",
        "from sklearn.tree import export_text\n",
        "from joblib import dump, load"
      ],
      "execution_count": null,
      "outputs": []
    },
    {
      "cell_type": "markdown",
      "metadata": {
        "id": "zNZraghsm_y-"
      },
      "source": [
        "# Data Generation"
      ]
    },
    {
      "cell_type": "code",
      "metadata": {
        "id": "-aiRIsuQnEz9"
      },
      "source": [
        "columns = ['Invested Amount', 'Successful Attacks', 'Failed Attacks', 'Business Value', 'Number of Employees', 'Employee Training', 'Known Vulnerabilities', 'External Advisor', 'Risk']\n",
        "features = columns[:-1]\n",
        "LEVELS = [\"LOW\", \"MEDIUM\", \"HIGH\"]\n",
        "prediction_result_mapping = {0: \"LOW\", 1: \"MEDIUM\", 2: \"HIGH\"}"
      ],
      "execution_count": null,
      "outputs": []
    },
    {
      "cell_type": "code",
      "metadata": {
        "id": "pcZiySYynFMr"
      },
      "source": [
        "def generate_data(nr_entries = 1000, min_empl = 30, max_empl = 90000, min_nr_attacks = 0, nr_attacks = 50, \n",
        "                  avg_business_value = 5000000, std_business_value = 50000, max_invested_perc = 0.3, max_nr_vulnerabilities = 10):\n",
        "    df = pd.DataFrame(columns=columns)\n",
        "    for i in range(0, nr_entries):\n",
        "        nr_employees = random.randint(min_empl, max_empl)\n",
        "        employees_training = random.choice(LEVELS)\n",
        "        failed_attack = random.randrange(nr_attacks)\n",
        "        succ_attack = random.randrange(nr_attacks)\n",
        "        business_value = int(numpy.random.normal(loc=avg_business_value, scale=std_business_value))\n",
        "        invested_perc = random.uniform(0, max_invested_perc)\n",
        "        invested_amount = int(invested_perc * business_value)\n",
        "        known_vulnerabilities = random.randrange(max_nr_vulnerabilities)\n",
        "        external_adv = \"NO\" if (i % 2) == 0 else \"YES\"\n",
        "\n",
        "        # Risk is computed based on the other parameters and is then categorized using 'get_categorized_risk'\n",
        "        computed_risk = invested_perc - (succ_attack / nr_attacks) + (nr_employees / max_empl) * LEVELS.index(employees_training) - (known_vulnerabilities / max_nr_vulnerabilities) + (i % 2) / 3\n",
        "        \n",
        "        df.loc[i] = [invested_amount, succ_attack, failed_attack, business_value, nr_employees, employees_training, known_vulnerabilities, external_adv, get_categorized_risk(computed_risk)]\n",
        "    return df\n",
        "\n",
        "def get_categorized_risk(weighted_risk, low_medium_boundary = 1.0, medium_high_boundary = 0.0):\n",
        "  if weighted_risk >= low_medium_boundary:\n",
        "      return \"LOW\"\n",
        "  elif weighted_risk >= medium_high_boundary and weighted_risk < low_medium_boundary:\n",
        "      return \"MEDIUM\"\n",
        "  else:\n",
        "      return \"HIGH\""
      ],
      "execution_count": null,
      "outputs": []
    },
    {
      "cell_type": "code",
      "metadata": {
        "id": "rLn7TsxAnHvG"
      },
      "source": [
        "data = generate_data(nr_entries=10000)"
      ],
      "execution_count": null,
      "outputs": []
    },
    {
      "cell_type": "code",
      "metadata": {
        "colab": {
          "base_uri": "https://localhost:8080/",
          "height": 204
        },
        "id": "joncs4RGRcM2",
        "outputId": "f67cf97c-4bf8-4649-a02d-4861883911e3"
      },
      "source": [
        "data.head()"
      ],
      "execution_count": null,
      "outputs": [
        {
          "output_type": "execute_result",
          "data": {
            "text/html": [
              "<div>\n",
              "<style scoped>\n",
              "    .dataframe tbody tr th:only-of-type {\n",
              "        vertical-align: middle;\n",
              "    }\n",
              "\n",
              "    .dataframe tbody tr th {\n",
              "        vertical-align: top;\n",
              "    }\n",
              "\n",
              "    .dataframe thead th {\n",
              "        text-align: right;\n",
              "    }\n",
              "</style>\n",
              "<table border=\"1\" class=\"dataframe\">\n",
              "  <thead>\n",
              "    <tr style=\"text-align: right;\">\n",
              "      <th></th>\n",
              "      <th>Invested Amount</th>\n",
              "      <th>Successful Attacks</th>\n",
              "      <th>Failed Attacks</th>\n",
              "      <th>Business Value</th>\n",
              "      <th>Number of Employees</th>\n",
              "      <th>Employee Training</th>\n",
              "      <th>Known Vulnerabilities</th>\n",
              "      <th>External Advisor</th>\n",
              "      <th>Risk</th>\n",
              "    </tr>\n",
              "  </thead>\n",
              "  <tbody>\n",
              "    <tr>\n",
              "      <th>0</th>\n",
              "      <td>930168</td>\n",
              "      <td>18</td>\n",
              "      <td>17</td>\n",
              "      <td>5072439</td>\n",
              "      <td>77791</td>\n",
              "      <td>MEDIUM</td>\n",
              "      <td>8</td>\n",
              "      <td>NO</td>\n",
              "      <td>HIGH</td>\n",
              "    </tr>\n",
              "    <tr>\n",
              "      <th>1</th>\n",
              "      <td>1211778</td>\n",
              "      <td>10</td>\n",
              "      <td>35</td>\n",
              "      <td>5014920</td>\n",
              "      <td>72635</td>\n",
              "      <td>LOW</td>\n",
              "      <td>7</td>\n",
              "      <td>YES</td>\n",
              "      <td>HIGH</td>\n",
              "    </tr>\n",
              "    <tr>\n",
              "      <th>2</th>\n",
              "      <td>112645</td>\n",
              "      <td>47</td>\n",
              "      <td>7</td>\n",
              "      <td>4990529</td>\n",
              "      <td>42769</td>\n",
              "      <td>MEDIUM</td>\n",
              "      <td>7</td>\n",
              "      <td>NO</td>\n",
              "      <td>HIGH</td>\n",
              "    </tr>\n",
              "    <tr>\n",
              "      <th>3</th>\n",
              "      <td>544943</td>\n",
              "      <td>17</td>\n",
              "      <td>14</td>\n",
              "      <td>4970089</td>\n",
              "      <td>30229</td>\n",
              "      <td>HIGH</td>\n",
              "      <td>0</td>\n",
              "      <td>YES</td>\n",
              "      <td>MEDIUM</td>\n",
              "    </tr>\n",
              "    <tr>\n",
              "      <th>4</th>\n",
              "      <td>364860</td>\n",
              "      <td>17</td>\n",
              "      <td>4</td>\n",
              "      <td>4944402</td>\n",
              "      <td>27235</td>\n",
              "      <td>LOW</td>\n",
              "      <td>6</td>\n",
              "      <td>NO</td>\n",
              "      <td>HIGH</td>\n",
              "    </tr>\n",
              "  </tbody>\n",
              "</table>\n",
              "</div>"
            ],
            "text/plain": [
              "  Invested Amount Successful Attacks  ... External Advisor    Risk\n",
              "0          930168                 18  ...               NO    HIGH\n",
              "1         1211778                 10  ...              YES    HIGH\n",
              "2          112645                 47  ...               NO    HIGH\n",
              "3          544943                 17  ...              YES  MEDIUM\n",
              "4          364860                 17  ...               NO    HIGH\n",
              "\n",
              "[5 rows x 9 columns]"
            ]
          },
          "metadata": {
            "tags": []
          },
          "execution_count": 141
        }
      ]
    },
    {
      "cell_type": "code",
      "metadata": {
        "colab": {
          "base_uri": "https://localhost:8080/",
          "height": 173
        },
        "id": "o8JKzDQdRSbx",
        "outputId": "f3fca018-25f0-4549-90e8-a3b091ceec2c"
      },
      "source": [
        "data.describe()"
      ],
      "execution_count": null,
      "outputs": [
        {
          "output_type": "execute_result",
          "data": {
            "text/html": [
              "<div>\n",
              "<style scoped>\n",
              "    .dataframe tbody tr th:only-of-type {\n",
              "        vertical-align: middle;\n",
              "    }\n",
              "\n",
              "    .dataframe tbody tr th {\n",
              "        vertical-align: top;\n",
              "    }\n",
              "\n",
              "    .dataframe thead th {\n",
              "        text-align: right;\n",
              "    }\n",
              "</style>\n",
              "<table border=\"1\" class=\"dataframe\">\n",
              "  <thead>\n",
              "    <tr style=\"text-align: right;\">\n",
              "      <th></th>\n",
              "      <th>Invested Amount</th>\n",
              "      <th>Successful Attacks</th>\n",
              "      <th>Failed Attacks</th>\n",
              "      <th>Business Value</th>\n",
              "      <th>Number of Employees</th>\n",
              "      <th>Employee Training</th>\n",
              "      <th>Known Vulnerabilities</th>\n",
              "      <th>External Advisor</th>\n",
              "      <th>Risk</th>\n",
              "    </tr>\n",
              "  </thead>\n",
              "  <tbody>\n",
              "    <tr>\n",
              "      <th>count</th>\n",
              "      <td>10000</td>\n",
              "      <td>10000</td>\n",
              "      <td>10000</td>\n",
              "      <td>10000</td>\n",
              "      <td>10000</td>\n",
              "      <td>10000</td>\n",
              "      <td>10000</td>\n",
              "      <td>10000</td>\n",
              "      <td>10000</td>\n",
              "    </tr>\n",
              "    <tr>\n",
              "      <th>unique</th>\n",
              "      <td>9969</td>\n",
              "      <td>50</td>\n",
              "      <td>50</td>\n",
              "      <td>9712</td>\n",
              "      <td>9452</td>\n",
              "      <td>3</td>\n",
              "      <td>10</td>\n",
              "      <td>2</td>\n",
              "      <td>3</td>\n",
              "    </tr>\n",
              "    <tr>\n",
              "      <th>top</th>\n",
              "      <td>448235</td>\n",
              "      <td>3</td>\n",
              "      <td>7</td>\n",
              "      <td>5023316</td>\n",
              "      <td>59</td>\n",
              "      <td>LOW</td>\n",
              "      <td>1</td>\n",
              "      <td>NO</td>\n",
              "      <td>HIGH</td>\n",
              "    </tr>\n",
              "    <tr>\n",
              "      <th>freq</th>\n",
              "      <td>2</td>\n",
              "      <td>218</td>\n",
              "      <td>228</td>\n",
              "      <td>3</td>\n",
              "      <td>3</td>\n",
              "      <td>3389</td>\n",
              "      <td>1045</td>\n",
              "      <td>5000</td>\n",
              "      <td>6044</td>\n",
              "    </tr>\n",
              "  </tbody>\n",
              "</table>\n",
              "</div>"
            ],
            "text/plain": [
              "        Invested Amount  Successful Attacks  ...  External Advisor   Risk\n",
              "count             10000               10000  ...             10000  10000\n",
              "unique             9969                  50  ...                 2      3\n",
              "top              448235                   3  ...                NO   HIGH\n",
              "freq                  2                 218  ...              5000   6044\n",
              "\n",
              "[4 rows x 9 columns]"
            ]
          },
          "metadata": {
            "tags": []
          },
          "execution_count": 142
        }
      ]
    },
    {
      "cell_type": "markdown",
      "metadata": {
        "id": "j5jzupOcf4YK"
      },
      "source": [
        "## Data Export as .csv"
      ]
    },
    {
      "cell_type": "code",
      "metadata": {
        "id": "8gE5LaXovjIc"
      },
      "source": [
        "# data.to_csv('data.csv')"
      ],
      "execution_count": null,
      "outputs": []
    },
    {
      "cell_type": "markdown",
      "metadata": {
        "id": "pLNjIGy823fN"
      },
      "source": [
        "# Data Processing"
      ]
    },
    {
      "cell_type": "markdown",
      "metadata": {
        "id": "9N28npkjgT6A"
      },
      "source": [
        "## Categorization Step"
      ]
    },
    {
      "cell_type": "code",
      "metadata": {
        "id": "GV0F9aKHTN9F"
      },
      "source": [
        "levels_mapping = { 'LOW': 0, 'MEDIUM': 1, 'HIGH': 2 }\n",
        "advisor_mapping = { 'NO': 0, 'YES': 1 }\n",
        "\n",
        "data = data.replace({'Employee Training': levels_mapping, 'Risk': levels_mapping, 'External Advisor': advisor_mapping})"
      ],
      "execution_count": null,
      "outputs": []
    },
    {
      "cell_type": "code",
      "metadata": {
        "colab": {
          "base_uri": "https://localhost:8080/",
          "height": 204
        },
        "id": "wVxuzRnAUGr3",
        "outputId": "aa2f753b-d4be-4945-c185-60203e9cba4a"
      },
      "source": [
        "data.head()"
      ],
      "execution_count": null,
      "outputs": [
        {
          "output_type": "execute_result",
          "data": {
            "text/html": [
              "<div>\n",
              "<style scoped>\n",
              "    .dataframe tbody tr th:only-of-type {\n",
              "        vertical-align: middle;\n",
              "    }\n",
              "\n",
              "    .dataframe tbody tr th {\n",
              "        vertical-align: top;\n",
              "    }\n",
              "\n",
              "    .dataframe thead th {\n",
              "        text-align: right;\n",
              "    }\n",
              "</style>\n",
              "<table border=\"1\" class=\"dataframe\">\n",
              "  <thead>\n",
              "    <tr style=\"text-align: right;\">\n",
              "      <th></th>\n",
              "      <th>Invested Amount</th>\n",
              "      <th>Successful Attacks</th>\n",
              "      <th>Failed Attacks</th>\n",
              "      <th>Business Value</th>\n",
              "      <th>Number of Employees</th>\n",
              "      <th>Employee Training</th>\n",
              "      <th>Known Vulnerabilities</th>\n",
              "      <th>External Advisor</th>\n",
              "      <th>Risk</th>\n",
              "    </tr>\n",
              "  </thead>\n",
              "  <tbody>\n",
              "    <tr>\n",
              "      <th>0</th>\n",
              "      <td>930168</td>\n",
              "      <td>18</td>\n",
              "      <td>17</td>\n",
              "      <td>5072439</td>\n",
              "      <td>77791</td>\n",
              "      <td>1</td>\n",
              "      <td>8</td>\n",
              "      <td>0</td>\n",
              "      <td>2</td>\n",
              "    </tr>\n",
              "    <tr>\n",
              "      <th>1</th>\n",
              "      <td>1211778</td>\n",
              "      <td>10</td>\n",
              "      <td>35</td>\n",
              "      <td>5014920</td>\n",
              "      <td>72635</td>\n",
              "      <td>0</td>\n",
              "      <td>7</td>\n",
              "      <td>1</td>\n",
              "      <td>2</td>\n",
              "    </tr>\n",
              "    <tr>\n",
              "      <th>2</th>\n",
              "      <td>112645</td>\n",
              "      <td>47</td>\n",
              "      <td>7</td>\n",
              "      <td>4990529</td>\n",
              "      <td>42769</td>\n",
              "      <td>1</td>\n",
              "      <td>7</td>\n",
              "      <td>0</td>\n",
              "      <td>2</td>\n",
              "    </tr>\n",
              "    <tr>\n",
              "      <th>3</th>\n",
              "      <td>544943</td>\n",
              "      <td>17</td>\n",
              "      <td>14</td>\n",
              "      <td>4970089</td>\n",
              "      <td>30229</td>\n",
              "      <td>2</td>\n",
              "      <td>0</td>\n",
              "      <td>1</td>\n",
              "      <td>1</td>\n",
              "    </tr>\n",
              "    <tr>\n",
              "      <th>4</th>\n",
              "      <td>364860</td>\n",
              "      <td>17</td>\n",
              "      <td>4</td>\n",
              "      <td>4944402</td>\n",
              "      <td>27235</td>\n",
              "      <td>0</td>\n",
              "      <td>6</td>\n",
              "      <td>0</td>\n",
              "      <td>2</td>\n",
              "    </tr>\n",
              "  </tbody>\n",
              "</table>\n",
              "</div>"
            ],
            "text/plain": [
              "  Invested Amount Successful Attacks  ... External Advisor Risk\n",
              "0          930168                 18  ...                0    2\n",
              "1         1211778                 10  ...                1    2\n",
              "2          112645                 47  ...                0    2\n",
              "3          544943                 17  ...                1    1\n",
              "4          364860                 17  ...                0    2\n",
              "\n",
              "[5 rows x 9 columns]"
            ]
          },
          "metadata": {
            "tags": []
          },
          "execution_count": 144
        }
      ]
    },
    {
      "cell_type": "markdown",
      "metadata": {
        "id": "XC3ojrafgOeX"
      },
      "source": [
        "## Normalization Step"
      ]
    },
    {
      "cell_type": "code",
      "metadata": {
        "id": "7a32suNR26Bm",
        "colab": {
          "base_uri": "https://localhost:8080/",
          "height": 204
        },
        "outputId": "0d403855-f0db-4b53-8279-ca7e1c11ce27"
      },
      "source": [
        "normalized_data = data[features].apply(lambda x: ( (x - x.min()) / (x.max() - x.min())))\n",
        "normalized_data.head()"
      ],
      "execution_count": null,
      "outputs": [
        {
          "output_type": "execute_result",
          "data": {
            "text/html": [
              "<div>\n",
              "<style scoped>\n",
              "    .dataframe tbody tr th:only-of-type {\n",
              "        vertical-align: middle;\n",
              "    }\n",
              "\n",
              "    .dataframe tbody tr th {\n",
              "        vertical-align: top;\n",
              "    }\n",
              "\n",
              "    .dataframe thead th {\n",
              "        text-align: right;\n",
              "    }\n",
              "</style>\n",
              "<table border=\"1\" class=\"dataframe\">\n",
              "  <thead>\n",
              "    <tr style=\"text-align: right;\">\n",
              "      <th></th>\n",
              "      <th>Invested Amount</th>\n",
              "      <th>Successful Attacks</th>\n",
              "      <th>Failed Attacks</th>\n",
              "      <th>Business Value</th>\n",
              "      <th>Number of Employees</th>\n",
              "      <th>Employee Training</th>\n",
              "      <th>Known Vulnerabilities</th>\n",
              "      <th>External Advisor</th>\n",
              "    </tr>\n",
              "  </thead>\n",
              "  <tbody>\n",
              "    <tr>\n",
              "      <th>0</th>\n",
              "      <td>0.609467</td>\n",
              "      <td>0.367347</td>\n",
              "      <td>0.346939</td>\n",
              "      <td>0.699632</td>\n",
              "      <td>0.864381</td>\n",
              "      <td>0.5</td>\n",
              "      <td>0.888889</td>\n",
              "      <td>0.0</td>\n",
              "    </tr>\n",
              "    <tr>\n",
              "      <th>1</th>\n",
              "      <td>0.794004</td>\n",
              "      <td>0.204082</td>\n",
              "      <td>0.714286</td>\n",
              "      <td>0.558627</td>\n",
              "      <td>0.807066</td>\n",
              "      <td>0.0</td>\n",
              "      <td>0.777778</td>\n",
              "      <td>1.0</td>\n",
              "    </tr>\n",
              "    <tr>\n",
              "      <th>2</th>\n",
              "      <td>0.0737529</td>\n",
              "      <td>0.959184</td>\n",
              "      <td>0.142857</td>\n",
              "      <td>0.498833</td>\n",
              "      <td>0.475066</td>\n",
              "      <td>0.5</td>\n",
              "      <td>0.777778</td>\n",
              "      <td>0.0</td>\n",
              "    </tr>\n",
              "    <tr>\n",
              "      <th>3</th>\n",
              "      <td>0.357033</td>\n",
              "      <td>0.346939</td>\n",
              "      <td>0.285714</td>\n",
              "      <td>0.448725</td>\n",
              "      <td>0.335668</td>\n",
              "      <td>1.0</td>\n",
              "      <td>0</td>\n",
              "      <td>1.0</td>\n",
              "    </tr>\n",
              "    <tr>\n",
              "      <th>4</th>\n",
              "      <td>0.239027</td>\n",
              "      <td>0.346939</td>\n",
              "      <td>0.0816327</td>\n",
              "      <td>0.385755</td>\n",
              "      <td>0.302386</td>\n",
              "      <td>0.0</td>\n",
              "      <td>0.666667</td>\n",
              "      <td>0.0</td>\n",
              "    </tr>\n",
              "  </tbody>\n",
              "</table>\n",
              "</div>"
            ],
            "text/plain": [
              "  Invested Amount Successful Attacks  ... Known Vulnerabilities External Advisor\n",
              "0        0.609467           0.367347  ...              0.888889              0.0\n",
              "1        0.794004           0.204082  ...              0.777778              1.0\n",
              "2       0.0737529           0.959184  ...              0.777778              0.0\n",
              "3        0.357033           0.346939  ...                     0              1.0\n",
              "4        0.239027           0.346939  ...              0.666667              0.0\n",
              "\n",
              "[5 rows x 8 columns]"
            ]
          },
          "metadata": {
            "tags": []
          },
          "execution_count": 145
        }
      ]
    },
    {
      "cell_type": "markdown",
      "metadata": {
        "id": "CcxkNU9NnM8p"
      },
      "source": [
        "# Deep Neural Network Classifier"
      ]
    },
    {
      "cell_type": "code",
      "metadata": {
        "colab": {
          "base_uri": "https://localhost:8080/"
        },
        "id": "utNWa3s01wAg",
        "outputId": "a157a5c1-3f25-4e75-9943-72629ca2ba3e"
      },
      "source": [
        "import tensorflow as tf\n",
        "print(tf.__version__)"
      ],
      "execution_count": null,
      "outputs": [
        {
          "output_type": "stream",
          "text": [
            "2.4.1\n"
          ],
          "name": "stdout"
        }
      ]
    },
    {
      "cell_type": "code",
      "metadata": {
        "id": "WffwogDxmSrE"
      },
      "source": [
        "# Define the training inputs\n",
        "def get_train_inputs():\n",
        "    x = { feature_name: tf.constant(X_train, dtype=tf.float64)}\n",
        "    y = tf.constant(y_train, dtype=tf.int32)\n",
        "    return x, y\n",
        "\n",
        "# Define the test inputs\n",
        "def get_test_inputs():\n",
        "    x = { feature_name: tf.constant(X_test, dtype=tf.float64)}\n",
        "    y = tf.constant(y_test, dtype=tf.int32)\n",
        "    return x, y"
      ],
      "execution_count": null,
      "outputs": []
    },
    {
      "cell_type": "code",
      "metadata": {
        "id": "HlgrfGhqnJHs"
      },
      "source": [
        "X_train, X_test, y_train, y_test = train_test_split(normalized_data[features].values, data[\"Risk\"].values, test_size=0.35)"
      ],
      "execution_count": null,
      "outputs": []
    },
    {
      "cell_type": "code",
      "metadata": {
        "id": "PqQffZ211V-r"
      },
      "source": [
        "# Specify that all features have real-value data\n",
        "feature_name = \"risk_features\"\n",
        "feature_columns = [tf.feature_column.numeric_column(feature_name, \n",
        "                                                    shape=len(features))]"
      ],
      "execution_count": null,
      "outputs": []
    },
    {
      "cell_type": "code",
      "metadata": {
        "colab": {
          "base_uri": "https://localhost:8080/"
        },
        "id": "fM_UP3Ny7bH-",
        "outputId": "840ab78b-656d-405c-f420-c4b14a906114"
      },
      "source": [
        "# Build 5 layer DNN with 512, 256, 128, 64, 32 units respectively.\n",
        "classifier = tf.estimator.DNNClassifier(feature_columns=feature_columns,\n",
        "                                            hidden_units=[512, 256, 128, 64, 32, 16],\n",
        "                                            n_classes=3)"
      ],
      "execution_count": null,
      "outputs": [
        {
          "output_type": "stream",
          "text": [
            "INFO:tensorflow:Using default config.\n",
            "WARNING:tensorflow:Using temporary folder as model directory: /tmp/tmpz07tizh2\n",
            "INFO:tensorflow:Using config: {'_model_dir': '/tmp/tmpz07tizh2', '_tf_random_seed': None, '_save_summary_steps': 100, '_save_checkpoints_steps': None, '_save_checkpoints_secs': 600, '_session_config': allow_soft_placement: true\n",
            "graph_options {\n",
            "  rewrite_options {\n",
            "    meta_optimizer_iterations: ONE\n",
            "  }\n",
            "}\n",
            ", '_keep_checkpoint_max': 5, '_keep_checkpoint_every_n_hours': 10000, '_log_step_count_steps': 100, '_train_distribute': None, '_device_fn': None, '_protocol': None, '_eval_distribute': None, '_experimental_distribute': None, '_experimental_max_worker_delay_secs': None, '_session_creation_timeout_secs': 7200, '_checkpoint_save_graph_def': True, '_service': None, '_cluster_spec': ClusterSpec({}), '_task_type': 'worker', '_task_id': 0, '_global_id_in_cluster': 0, '_master': '', '_evaluation_master': '', '_is_chief': True, '_num_ps_replicas': 0, '_num_worker_replicas': 1}\n"
          ],
          "name": "stdout"
        }
      ]
    },
    {
      "cell_type": "markdown",
      "metadata": {
        "id": "iQEuHrLBer8f"
      },
      "source": [
        "## Train"
      ]
    },
    {
      "cell_type": "code",
      "metadata": {
        "colab": {
          "base_uri": "https://localhost:8080/"
        },
        "id": "FP9K2lTz77fu",
        "outputId": "5393ccef-e68e-42e4-9eb1-db29e8679e9b"
      },
      "source": [
        "classifier.train(input_fn=get_train_inputs, steps=5000)"
      ],
      "execution_count": null,
      "outputs": [
        {
          "output_type": "stream",
          "text": [
            "INFO:tensorflow:Calling model_fn.\n",
            "INFO:tensorflow:Done calling model_fn.\n",
            "INFO:tensorflow:Create CheckpointSaverHook.\n",
            "INFO:tensorflow:Graph was finalized.\n",
            "INFO:tensorflow:Running local_init_op.\n",
            "INFO:tensorflow:Done running local_init_op.\n",
            "INFO:tensorflow:Calling checkpoint listeners before saving checkpoint 0...\n",
            "INFO:tensorflow:Saving checkpoints for 0 into /tmp/tmpz07tizh2/model.ckpt.\n",
            "INFO:tensorflow:Calling checkpoint listeners after saving checkpoint 0...\n",
            "INFO:tensorflow:loss = 1.1193318, step = 0\n",
            "INFO:tensorflow:global_step/sec: 9.12455\n",
            "INFO:tensorflow:loss = 1.0791106, step = 100 (10.961 sec)\n",
            "INFO:tensorflow:global_step/sec: 9.20167\n",
            "INFO:tensorflow:loss = 1.0665467, step = 200 (10.868 sec)\n",
            "INFO:tensorflow:global_step/sec: 9.17547\n",
            "INFO:tensorflow:loss = 1.0559008, step = 300 (10.900 sec)\n",
            "INFO:tensorflow:global_step/sec: 9.16572\n",
            "INFO:tensorflow:loss = 1.0451894, step = 400 (10.909 sec)\n",
            "INFO:tensorflow:global_step/sec: 9.17586\n",
            "INFO:tensorflow:loss = 1.033302, step = 500 (10.899 sec)\n",
            "INFO:tensorflow:global_step/sec: 9.14494\n",
            "INFO:tensorflow:loss = 1.0207356, step = 600 (10.934 sec)\n",
            "INFO:tensorflow:global_step/sec: 9.15776\n",
            "INFO:tensorflow:loss = 1.0069642, step = 700 (10.919 sec)\n",
            "INFO:tensorflow:global_step/sec: 9.15081\n",
            "INFO:tensorflow:loss = 0.9915068, step = 800 (10.928 sec)\n",
            "INFO:tensorflow:global_step/sec: 9.14733\n",
            "INFO:tensorflow:loss = 0.9737086, step = 900 (10.932 sec)\n",
            "INFO:tensorflow:global_step/sec: 9.13275\n",
            "INFO:tensorflow:loss = 0.95289713, step = 1000 (10.954 sec)\n",
            "INFO:tensorflow:global_step/sec: 9.14955\n",
            "INFO:tensorflow:loss = 0.92832184, step = 1100 (10.925 sec)\n",
            "INFO:tensorflow:global_step/sec: 9.04189\n",
            "INFO:tensorflow:loss = 0.8994779, step = 1200 (11.064 sec)\n",
            "INFO:tensorflow:global_step/sec: 9.13257\n",
            "INFO:tensorflow:loss = 0.8661673, step = 1300 (10.949 sec)\n",
            "INFO:tensorflow:global_step/sec: 9.09343\n",
            "INFO:tensorflow:loss = 0.8286248, step = 1400 (10.995 sec)\n",
            "INFO:tensorflow:global_step/sec: 9.12402\n",
            "INFO:tensorflow:loss = 0.7878891, step = 1500 (10.960 sec)\n",
            "INFO:tensorflow:global_step/sec: 9.12535\n",
            "INFO:tensorflow:loss = 0.7455937, step = 1600 (10.962 sec)\n",
            "INFO:tensorflow:global_step/sec: 9.12574\n",
            "INFO:tensorflow:loss = 0.70333403, step = 1700 (10.958 sec)\n",
            "INFO:tensorflow:global_step/sec: 9.12766\n",
            "INFO:tensorflow:loss = 0.6623241, step = 1800 (10.956 sec)\n",
            "INFO:tensorflow:global_step/sec: 9.08486\n",
            "INFO:tensorflow:loss = 0.6234814, step = 1900 (11.004 sec)\n",
            "INFO:tensorflow:global_step/sec: 9.06929\n",
            "INFO:tensorflow:loss = 0.5874118, step = 2000 (11.031 sec)\n",
            "INFO:tensorflow:global_step/sec: 9.03268\n",
            "INFO:tensorflow:loss = 0.5544531, step = 2100 (11.066 sec)\n",
            "INFO:tensorflow:global_step/sec: 9.02524\n",
            "INFO:tensorflow:loss = 0.5245268, step = 2200 (11.081 sec)\n",
            "INFO:tensorflow:global_step/sec: 9.11708\n",
            "INFO:tensorflow:loss = 0.49735484, step = 2300 (10.970 sec)\n",
            "INFO:tensorflow:global_step/sec: 9.096\n",
            "INFO:tensorflow:loss = 0.47244802, step = 2400 (10.991 sec)\n",
            "INFO:tensorflow:global_step/sec: 9.10707\n",
            "INFO:tensorflow:loss = 0.44956404, step = 2500 (10.982 sec)\n",
            "INFO:tensorflow:global_step/sec: 9.12617\n",
            "INFO:tensorflow:loss = 0.42852625, step = 2600 (10.958 sec)\n",
            "INFO:tensorflow:global_step/sec: 9.10471\n",
            "INFO:tensorflow:loss = 0.4090554, step = 2700 (10.982 sec)\n",
            "INFO:tensorflow:global_step/sec: 9.13142\n",
            "INFO:tensorflow:loss = 0.39066917, step = 2800 (10.953 sec)\n",
            "INFO:tensorflow:global_step/sec: 9.1084\n",
            "INFO:tensorflow:loss = 0.3725799, step = 2900 (10.982 sec)\n",
            "INFO:tensorflow:global_step/sec: 9.08754\n",
            "INFO:tensorflow:loss = 0.35492015, step = 3000 (11.004 sec)\n",
            "INFO:tensorflow:global_step/sec: 9.11798\n",
            "INFO:tensorflow:loss = 0.33867744, step = 3100 (10.964 sec)\n",
            "INFO:tensorflow:global_step/sec: 9.12242\n",
            "INFO:tensorflow:loss = 0.3241324, step = 3200 (10.961 sec)\n",
            "INFO:tensorflow:global_step/sec: 9.06405\n",
            "INFO:tensorflow:loss = 0.31096348, step = 3300 (11.036 sec)\n",
            "INFO:tensorflow:global_step/sec: 9.11408\n",
            "INFO:tensorflow:loss = 0.29884928, step = 3400 (10.973 sec)\n",
            "INFO:tensorflow:global_step/sec: 9.09992\n",
            "INFO:tensorflow:loss = 0.2876174, step = 3500 (10.989 sec)\n",
            "INFO:tensorflow:global_step/sec: 9.11286\n",
            "INFO:tensorflow:loss = 0.27702552, step = 3600 (10.970 sec)\n",
            "INFO:tensorflow:global_step/sec: 9.12635\n",
            "INFO:tensorflow:loss = 0.26666543, step = 3700 (10.957 sec)\n",
            "INFO:tensorflow:global_step/sec: 9.10387\n",
            "INFO:tensorflow:loss = 0.25490287, step = 3800 (10.985 sec)\n",
            "INFO:tensorflow:global_step/sec: 9.1063\n",
            "INFO:tensorflow:loss = 0.24412888, step = 3900 (10.981 sec)\n",
            "INFO:tensorflow:global_step/sec: 9.07694\n",
            "INFO:tensorflow:loss = 0.23555198, step = 4000 (11.016 sec)\n",
            "INFO:tensorflow:global_step/sec: 9.08996\n",
            "INFO:tensorflow:loss = 0.22808953, step = 4100 (11.006 sec)\n",
            "INFO:tensorflow:global_step/sec: 9.11246\n",
            "INFO:tensorflow:loss = 0.22125678, step = 4200 (10.977 sec)\n",
            "INFO:tensorflow:global_step/sec: 9.07651\n",
            "INFO:tensorflow:loss = 0.21489307, step = 4300 (11.010 sec)\n",
            "INFO:tensorflow:global_step/sec: 9.13466\n",
            "INFO:tensorflow:loss = 0.20890567, step = 4400 (10.947 sec)\n",
            "INFO:tensorflow:global_step/sec: 9.08937\n",
            "INFO:tensorflow:loss = 0.20321965, step = 4500 (11.003 sec)\n",
            "INFO:tensorflow:global_step/sec: 9.09834\n",
            "INFO:tensorflow:loss = 0.19777197, step = 4600 (10.993 sec)\n",
            "INFO:tensorflow:global_step/sec: 9.09986\n",
            "INFO:tensorflow:loss = 0.19256036, step = 4700 (10.990 sec)\n",
            "INFO:tensorflow:global_step/sec: 9.13123\n",
            "INFO:tensorflow:loss = 0.18756115, step = 4800 (10.954 sec)\n",
            "INFO:tensorflow:global_step/sec: 9.12598\n",
            "INFO:tensorflow:loss = 0.18277045, step = 4900 (10.954 sec)\n",
            "INFO:tensorflow:Calling checkpoint listeners before saving checkpoint 5000...\n",
            "INFO:tensorflow:Saving checkpoints for 5000 into /tmp/tmpz07tizh2/model.ckpt.\n",
            "INFO:tensorflow:Calling checkpoint listeners after saving checkpoint 5000...\n",
            "INFO:tensorflow:Loss for final step: 0.17819238.\n"
          ],
          "name": "stdout"
        },
        {
          "output_type": "execute_result",
          "data": {
            "text/plain": [
              "<tensorflow_estimator.python.estimator.canned.dnn.DNNClassifierV2 at 0x7f891bc69940>"
            ]
          },
          "metadata": {
            "tags": []
          },
          "execution_count": 190
        }
      ]
    },
    {
      "cell_type": "markdown",
      "metadata": {
        "id": "bY2DLr5kfa3C"
      },
      "source": [
        "## Evaluate"
      ]
    },
    {
      "cell_type": "code",
      "metadata": {
        "colab": {
          "base_uri": "https://localhost:8080/"
        },
        "id": "6kVeppcU9jLK",
        "outputId": "53ab6ab6-980a-46d0-d802-76cb5d55baba"
      },
      "source": [
        "accuracy_score = classifier.evaluate(input_fn=get_test_inputs, steps=100)[\"accuracy\"]\n",
        "\n",
        "print('Accuracy: {0:.2%}'.format(accuracy_score))"
      ],
      "execution_count": null,
      "outputs": [
        {
          "output_type": "stream",
          "text": [
            "INFO:tensorflow:Calling model_fn.\n",
            "INFO:tensorflow:Done calling model_fn.\n",
            "INFO:tensorflow:Starting evaluation at 2021-02-10T17:58:26Z\n",
            "INFO:tensorflow:Graph was finalized.\n",
            "INFO:tensorflow:Restoring parameters from /tmp/tmpz07tizh2/model.ckpt-5000\n",
            "INFO:tensorflow:Running local_init_op.\n",
            "INFO:tensorflow:Done running local_init_op.\n",
            "INFO:tensorflow:Evaluation [10/100]\n",
            "INFO:tensorflow:Evaluation [20/100]\n",
            "INFO:tensorflow:Evaluation [30/100]\n",
            "INFO:tensorflow:Evaluation [40/100]\n",
            "INFO:tensorflow:Evaluation [50/100]\n",
            "INFO:tensorflow:Evaluation [60/100]\n",
            "INFO:tensorflow:Evaluation [70/100]\n",
            "INFO:tensorflow:Evaluation [80/100]\n",
            "INFO:tensorflow:Evaluation [90/100]\n",
            "INFO:tensorflow:Evaluation [100/100]\n",
            "INFO:tensorflow:Inference Time : 2.28722s\n",
            "INFO:tensorflow:Finished evaluation at 2021-02-10-17:58:28\n",
            "INFO:tensorflow:Saving dict for global step 5000: accuracy = 0.9317143, average_loss = 0.20178598, global_step = 5000, loss = 0.20178609\n",
            "INFO:tensorflow:Saving 'checkpoint_path' summary for global step 5000: /tmp/tmpz07tizh2/model.ckpt-5000\n",
            "Accuracy: 93.17%\n"
          ],
          "name": "stdout"
        }
      ]
    },
    {
      "cell_type": "markdown",
      "metadata": {
        "id": "03X_jnCXfhio"
      },
      "source": [
        "## Export"
      ]
    },
    {
      "cell_type": "code",
      "metadata": {
        "id": "hTSSnDCFDMdV"
      },
      "source": [
        "# feature_spec = {'risk_features': tf.io.FixedLenFeature(shape=len(features), dtype=tf.float32)}\n",
        "\n",
        "# serving_fn = tf.estimator.export.build_parsing_serving_input_receiver_fn(feature_spec)\n",
        "\n",
        "# classifier.export_saved_model(export_dir_base='./model/export', serving_input_receiver_fn=serving_fn)"
      ],
      "execution_count": null,
      "outputs": []
    },
    {
      "cell_type": "markdown",
      "metadata": {
        "id": "jT10f4c2Yjfy"
      },
      "source": [
        "## Prediction"
      ]
    },
    {
      "cell_type": "markdown",
      "metadata": {
        "id": "P95IBDnAflRx"
      },
      "source": [
        "### Data Preparation"
      ]
    },
    {
      "cell_type": "code",
      "metadata": {
        "colab": {
          "base_uri": "https://localhost:8080/",
          "height": 80
        },
        "id": "s9o4gP77ziMy",
        "outputId": "1157bf43-7f45-4ec0-dcdb-da9a0c79718a"
      },
      "source": [
        "def get_data_for_prediction():\n",
        "  return { feature_name: tf.constant(normalized_prediction_df, dtype=tf.float64)}\n",
        "\n",
        "# Create DataFrame from data to be predicted\n",
        "prediction_df = pd.DataFrame([[1077113, 1, 29, 4947796, 57879, 2, 0, 0]], columns=features)\n",
        "\n",
        "# Normalize using the initial dataframe -> bring the data for the prediction to the same scale\n",
        "normalized_prediction_df = prediction_df[features]\n",
        "for feature in features:\n",
        "    normalized_prediction_df[feature] = normalized_prediction_df[feature].apply(lambda x: ( (x - data[feature].min()) / (data[feature].max() - data[feature].min())))\n",
        "\n",
        "normalized_prediction_df"
      ],
      "execution_count": null,
      "outputs": [
        {
          "output_type": "execute_result",
          "data": {
            "text/html": [
              "<div>\n",
              "<style scoped>\n",
              "    .dataframe tbody tr th:only-of-type {\n",
              "        vertical-align: middle;\n",
              "    }\n",
              "\n",
              "    .dataframe tbody tr th {\n",
              "        vertical-align: top;\n",
              "    }\n",
              "\n",
              "    .dataframe thead th {\n",
              "        text-align: right;\n",
              "    }\n",
              "</style>\n",
              "<table border=\"1\" class=\"dataframe\">\n",
              "  <thead>\n",
              "    <tr style=\"text-align: right;\">\n",
              "      <th></th>\n",
              "      <th>Invested Amount</th>\n",
              "      <th>Successful Attacks</th>\n",
              "      <th>Failed Attacks</th>\n",
              "      <th>Business Value</th>\n",
              "      <th>Number of Employees</th>\n",
              "      <th>Employee Training</th>\n",
              "      <th>Known Vulnerabilities</th>\n",
              "      <th>External Advisor</th>\n",
              "    </tr>\n",
              "  </thead>\n",
              "  <tbody>\n",
              "    <tr>\n",
              "      <th>0</th>\n",
              "      <td>0.705759</td>\n",
              "      <td>0.020408</td>\n",
              "      <td>0.591837</td>\n",
              "      <td>0.394075</td>\n",
              "      <td>0.643033</td>\n",
              "      <td>1.0</td>\n",
              "      <td>0.0</td>\n",
              "      <td>0.0</td>\n",
              "    </tr>\n",
              "  </tbody>\n",
              "</table>\n",
              "</div>"
            ],
            "text/plain": [
              "   Invested Amount  Successful Attacks  ...  Known Vulnerabilities  External Advisor\n",
              "0         0.705759            0.020408  ...                    0.0               0.0\n",
              "\n",
              "[1 rows x 8 columns]"
            ]
          },
          "metadata": {
            "tags": []
          },
          "execution_count": 192
        }
      ]
    },
    {
      "cell_type": "markdown",
      "metadata": {
        "id": "FsOdc3WTfrBu"
      },
      "source": [
        "### Result"
      ]
    },
    {
      "cell_type": "code",
      "metadata": {
        "colab": {
          "base_uri": "https://localhost:8080/"
        },
        "id": "CCdPZ1ymYni5",
        "outputId": "9bdecc85-a97f-43fd-87e2-2eeb230350f7"
      },
      "source": [
        "for pred in classifier.predict(input_fn=get_data_for_prediction):\n",
        "  print(\"\\n\")\n",
        "  print(\"Predicted RISK is: \" + prediction_result_mapping[pred['class_ids'][0]])\n",
        "  break"
      ],
      "execution_count": null,
      "outputs": [
        {
          "output_type": "stream",
          "text": [
            "WARNING:tensorflow:Input graph does not use tf.data.Dataset or contain a QueueRunner. That means predict yields forever. This is probably a mistake.\n",
            "INFO:tensorflow:Calling model_fn.\n",
            "INFO:tensorflow:Done calling model_fn.\n",
            "INFO:tensorflow:Graph was finalized.\n",
            "INFO:tensorflow:Restoring parameters from /tmp/tmpz07tizh2/model.ckpt-5000\n",
            "INFO:tensorflow:Running local_init_op.\n",
            "INFO:tensorflow:Done running local_init_op.\n",
            "\n",
            "\n",
            "Predicted RISK is: LOW\n"
          ],
          "name": "stdout"
        }
      ]
    },
    {
      "cell_type": "markdown",
      "metadata": {
        "id": "WO5fIwT19COL"
      },
      "source": [
        "# Decision Tree Classifier"
      ]
    },
    {
      "cell_type": "code",
      "metadata": {
        "id": "KgNfk7F1-uVE"
      },
      "source": [
        "from sklearn.tree import DecisionTreeClassifier \n",
        "from sklearn.metrics import accuracy_score"
      ],
      "execution_count": null,
      "outputs": []
    },
    {
      "cell_type": "code",
      "metadata": {
        "id": "lH6UCQ7YBKXy"
      },
      "source": [
        "# Data here is not normalized\n",
        "X_train, X_test, y_train, y_test = train_test_split(data[features].values, data[\"Risk\"].values, random_state=0)"
      ],
      "execution_count": null,
      "outputs": []
    },
    {
      "cell_type": "markdown",
      "metadata": {
        "id": "gLCndhSU-33o"
      },
      "source": [
        "## Train"
      ]
    },
    {
      "cell_type": "code",
      "metadata": {
        "id": "sG9pTfVT-zl5"
      },
      "source": [
        "dtree_model = DecisionTreeClassifier().fit(X_train, y_train) "
      ],
      "execution_count": null,
      "outputs": []
    },
    {
      "cell_type": "markdown",
      "metadata": {
        "id": "W6INnv4s-7Lr"
      },
      "source": [
        "## Evaluate"
      ]
    },
    {
      "cell_type": "code",
      "metadata": {
        "colab": {
          "base_uri": "https://localhost:8080/"
        },
        "id": "BcEqOFL78lUB",
        "outputId": "40e128cc-2f2a-4eb7-8fc9-111848ce066f"
      },
      "source": [
        "accuracy = dtree_model.score(X_test, y_test) \n",
        "\n",
        "print('Accuracy: {0:.2%}'.format(accuracy))"
      ],
      "execution_count": null,
      "outputs": [
        {
          "output_type": "stream",
          "text": [
            "Accuracy: 90.24%\n"
          ],
          "name": "stdout"
        }
      ]
    },
    {
      "cell_type": "code",
      "metadata": {
        "colab": {
          "base_uri": "https://localhost:8080/",
          "height": 279
        },
        "id": "YiRDsZKLAvwK",
        "outputId": "2338e52b-413e-47ba-ae4f-ae33596f4759"
      },
      "source": [
        "plot_confusion_matrix(dtree_model, X_test, y_test)  \n",
        "plt.show()"
      ],
      "execution_count": null,
      "outputs": [
        {
          "output_type": "display_data",
          "data": {
            "image/png": "[encoded data removed]",
            "text/plain": [
              "<Figure size 432x288 with 2 Axes>"
            ]
          },
          "metadata": {
            "tags": [],
            "needs_background": "light"
          }
        }
      ]
    },
    {
      "cell_type": "markdown",
      "metadata": {
        "id": "b2mHCI6cM_dY"
      },
      "source": [
        "## Export"
      ]
    },
    {
      "cell_type": "code",
      "metadata": {
        "id": "hL7D6-KZNDN1"
      },
      "source": [
        "#r = export_text(dtree_model, feature_names=features)\n",
        "#print(r)\n",
        "\n",
        "dump(svm_model, 'Tree_classifier.joblib') "
      ],
      "execution_count": null,
      "outputs": []
    },
    {
      "cell_type": "markdown",
      "metadata": {
        "id": "v0K5xoX4Dq7c"
      },
      "source": [
        "## Prediction"
      ]
    },
    {
      "cell_type": "code",
      "metadata": {
        "colab": {
          "base_uri": "https://localhost:8080/",
          "height": 80
        },
        "id": "Dg0Ruo5uDVyN",
        "outputId": "f1524f6e-5aa4-4d9f-9c6c-e03eb75700b9"
      },
      "source": [
        "# Create DataFrame from data to be predicted\n",
        "prediction_df = pd.DataFrame([[1446923, 33, 31, 4962292, 84495, 2, 5, 1]], columns=features)\n",
        "prediction_df"
      ],
      "execution_count": null,
      "outputs": [
        {
          "output_type": "execute_result",
          "data": {
            "text/html": [
              "<div>\n",
              "<style scoped>\n",
              "    .dataframe tbody tr th:only-of-type {\n",
              "        vertical-align: middle;\n",
              "    }\n",
              "\n",
              "    .dataframe tbody tr th {\n",
              "        vertical-align: top;\n",
              "    }\n",
              "\n",
              "    .dataframe thead th {\n",
              "        text-align: right;\n",
              "    }\n",
              "</style>\n",
              "<table border=\"1\" class=\"dataframe\">\n",
              "  <thead>\n",
              "    <tr style=\"text-align: right;\">\n",
              "      <th></th>\n",
              "      <th>Invested Amount</th>\n",
              "      <th>Successful Attacks</th>\n",
              "      <th>Failed Attacks</th>\n",
              "      <th>Business Value</th>\n",
              "      <th>Number of Employees</th>\n",
              "      <th>Employee Training</th>\n",
              "      <th>Known Vulnerabilities</th>\n",
              "      <th>External Advisor</th>\n",
              "    </tr>\n",
              "  </thead>\n",
              "  <tbody>\n",
              "    <tr>\n",
              "      <th>0</th>\n",
              "      <td>1446923</td>\n",
              "      <td>33</td>\n",
              "      <td>31</td>\n",
              "      <td>4962292</td>\n",
              "      <td>84495</td>\n",
              "      <td>2</td>\n",
              "      <td>5</td>\n",
              "      <td>1</td>\n",
              "    </tr>\n",
              "  </tbody>\n",
              "</table>\n",
              "</div>"
            ],
            "text/plain": [
              "   Invested Amount  Successful Attacks  ...  Known Vulnerabilities  External Advisor\n",
              "0          1446923                  33  ...                      5                 1\n",
              "\n",
              "[1 rows x 8 columns]"
            ]
          },
          "metadata": {
            "tags": []
          },
          "execution_count": 232
        }
      ]
    },
    {
      "cell_type": "code",
      "metadata": {
        "colab": {
          "base_uri": "https://localhost:8080/"
        },
        "id": "hEtL2WYM_LYf",
        "outputId": "8fe56ff1-8890-4d90-a220-a83150ecef8b"
      },
      "source": [
        "predicted_risk = dtree_model.predict(prediction_df)[0]\n",
        "print(\"Predicted RISK is: \" + prediction_result_mapping[predicted_risk])"
      ],
      "execution_count": null,
      "outputs": [
        {
          "output_type": "stream",
          "text": [
            "Predicted RISK is: LOW\n"
          ],
          "name": "stdout"
        }
      ]
    },
    {
      "cell_type": "markdown",
      "metadata": {
        "id": "tq--wueVRT2V"
      },
      "source": [
        "# Support Vector Machine (SVM) classifier"
      ]
    },
    {
      "cell_type": "code",
      "metadata": {
        "id": "Bw6TcEsVRvCS"
      },
      "source": [
        "from sklearn.svm import LinearSVC, SVC "
      ],
      "execution_count": null,
      "outputs": []
    },
    {
      "cell_type": "code",
      "metadata": {
        "id": "mhPqAcqfYT-d"
      },
      "source": [
        "# Data here is normalized\n",
        "X_train, X_test, y_train, y_test = train_test_split(normalized_data[features].values, data[\"Risk\"].values)"
      ],
      "execution_count": null,
      "outputs": []
    },
    {
      "cell_type": "markdown",
      "metadata": {
        "id": "M27Qv-vxR-PC"
      },
      "source": [
        "## Train"
      ]
    },
    {
      "cell_type": "code",
      "metadata": {
        "id": "xZvj-RR8R3p4"
      },
      "source": [
        "# Linear\n",
        "#svm_model = LinearSVC().fit(X_train, y_train)\n",
        "\n",
        "svm_model = SVC(kernel='poly').fit(X_train, y_train)"
      ],
      "execution_count": null,
      "outputs": []
    },
    {
      "cell_type": "markdown",
      "metadata": {
        "id": "MzgoC2twSGou"
      },
      "source": [
        "## Evaluate"
      ]
    },
    {
      "cell_type": "code",
      "metadata": {
        "colab": {
          "base_uri": "https://localhost:8080/"
        },
        "id": "SHvrY_WTSO9j",
        "outputId": "85e77d50-6585-430c-eb61-468c46a11021"
      },
      "source": [
        "accuracy = svm_model.score(X_test, y_test) \n",
        "\n",
        "print('Accuracy: {0:.2%}'.format(accuracy))"
      ],
      "execution_count": null,
      "outputs": [
        {
          "output_type": "stream",
          "text": [
            "Accuracy: 97.68%\n"
          ],
          "name": "stdout"
        }
      ]
    },
    {
      "cell_type": "code",
      "metadata": {
        "colab": {
          "base_uri": "https://localhost:8080/",
          "height": 279
        },
        "id": "inO0fhE8StyF",
        "outputId": "e3e079d3-43b9-4781-d85a-d8339d3704c8"
      },
      "source": [
        "plot_confusion_matrix(svm_model, X_test, y_test)  \n",
        "plt.show()"
      ],
      "execution_count": null,
      "outputs": [
        {
          "output_type": "display_data",
          "data": {
            "image/png": "[encoded data removed]",
            "text/plain": [
              "<Figure size 432x288 with 2 Axes>"
            ]
          },
          "metadata": {
            "tags": [],
            "needs_background": "light"
          }
        }
      ]
    },
    {
      "cell_type": "markdown",
      "metadata": {
        "id": "AyWsyFoGv92H"
      },
      "source": [
        "## Export"
      ]
    },
    {
      "cell_type": "code",
      "metadata": {
        "id": "vWwDHaMxwANd"
      },
      "source": [
        "#dump(svm_model, 'SVM_classifier.joblib') "
      ],
      "execution_count": null,
      "outputs": []
    },
    {
      "cell_type": "markdown",
      "metadata": {
        "id": "TsL5MGI2Scsk"
      },
      "source": [
        "## Prediction"
      ]
    },
    {
      "cell_type": "code",
      "metadata": {
        "id": "lgzVe198aOe3",
        "colab": {
          "base_uri": "https://localhost:8080/"
        },
        "outputId": "7931221b-2ca9-4e5d-dc8e-2e793b9397c8"
      },
      "source": [
        "predicted_risk = svm_model.predict(normalized_prediction_df)[0]\n",
        "print(\"Predicted RISK is: \" + prediction_result_mapping[predicted_risk])"
      ],
      "execution_count": null,
      "outputs": [
        {
          "output_type": "stream",
          "text": [
            "Predicted RISK is: LOW\n"
          ],
          "name": "stdout"
        }
      ]
    },
    {
      "cell_type": "markdown",
      "metadata": {
        "id": "h6Nun-zRkweH"
      },
      "source": [
        "# K-nearest Neighbours Classifier"
      ]
    },
    {
      "cell_type": "code",
      "metadata": {
        "id": "g419boPkk11J"
      },
      "source": [
        "from sklearn.neighbors import KNeighborsClassifier"
      ],
      "execution_count": null,
      "outputs": []
    },
    {
      "cell_type": "code",
      "metadata": {
        "id": "XaWDsWe_lB36"
      },
      "source": [
        "# Data here is not normalized\n",
        "X_train, X_test, y_train, y_test = train_test_split(normalized_data[features].values, data[\"Risk\"].values)"
      ],
      "execution_count": null,
      "outputs": []
    },
    {
      "cell_type": "markdown",
      "metadata": {
        "id": "80VauLEYk-Ab"
      },
      "source": [
        "## Train"
      ]
    },
    {
      "cell_type": "code",
      "metadata": {
        "id": "kMYIfIEMk_Rr"
      },
      "source": [
        "knn = KNeighborsClassifier(n_neighbors = 10).fit(X_train, y_train) "
      ],
      "execution_count": null,
      "outputs": []
    },
    {
      "cell_type": "markdown",
      "metadata": {
        "id": "ury_lL8glFBP"
      },
      "source": [
        "## Evaluate"
      ]
    },
    {
      "cell_type": "code",
      "metadata": {
        "colab": {
          "base_uri": "https://localhost:8080/"
        },
        "id": "g3wV1N50lGlb",
        "outputId": "d74a40dd-a3f1-4dc4-a7ea-eb9a509a72b9"
      },
      "source": [
        "accuracy = knn.score(X_test, y_test) \n",
        "print('Accuracy: {0:.2%}'.format(accuracy))"
      ],
      "execution_count": null,
      "outputs": [
        {
          "output_type": "stream",
          "text": [
            "Accuracy: 92.40%\n"
          ],
          "name": "stdout"
        }
      ]
    },
    {
      "cell_type": "code",
      "metadata": {
        "colab": {
          "base_uri": "https://localhost:8080/",
          "height": 279
        },
        "id": "xdsPnneFlK4I",
        "outputId": "be98befe-128e-445f-bee8-29df305245b2"
      },
      "source": [
        "plot_confusion_matrix(knn, X_test, y_test)  \n",
        "plt.show()"
      ],
      "execution_count": null,
      "outputs": [
        {
          "output_type": "display_data",
          "data": {
            "image/png": "[encoded data removed]",
            "text/plain": [
              "<Figure size 432x288 with 2 Axes>"
            ]
          },
          "metadata": {
            "tags": [],
            "needs_background": "light"
          }
        }
      ]
    },
    {
      "cell_type": "markdown",
      "metadata": {
        "id": "DXBlr3WdwMCg"
      },
      "source": [
        "## Export"
      ]
    },
    {
      "cell_type": "code",
      "metadata": {
        "colab": {
          "base_uri": "https://localhost:8080/"
        },
        "id": "8expQdoewNvq",
        "outputId": "03371d5b-36f1-47a2-98dc-bdd89040e039"
      },
      "source": [
        "dump(knn, 'KNN_classifier.joblib') "
      ],
      "execution_count": null,
      "outputs": [
        {
          "output_type": "execute_result",
          "data": {
            "text/plain": [
              "['KNN_classifier.joblib']"
            ]
          },
          "metadata": {
            "tags": []
          },
          "execution_count": 246
        }
      ]
    },
    {
      "cell_type": "markdown",
      "metadata": {
        "id": "TASducYTs27s"
      },
      "source": [
        "## Prediction"
      ]
    },
    {
      "cell_type": "code",
      "metadata": {
        "colab": {
          "base_uri": "https://localhost:8080/"
        },
        "id": "WtQjtAOcs-ID",
        "outputId": "fbe99b40-0826-4e29-bd3f-ff283cec9cab"
      },
      "source": [
        "predicted_risk = knn.predict(normalized_prediction_df)[0]\n",
        "print(\"Predicted RISK is: \" + prediction_result_mapping[predicted_risk])"
      ],
      "execution_count": null,
      "outputs": [
        {
          "output_type": "stream",
          "text": [
            "Predicted RISK is: LOW\n"
          ],
          "name": "stdout"
        }
      ]
    }
  ]
}