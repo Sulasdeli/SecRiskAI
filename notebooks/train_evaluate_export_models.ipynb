{
  "nbformat": 4,
  "nbformat_minor": 0,
  "metadata": {
    "colab": {
      "name": "MA_Erion_Sula.ipynb",
      "provenance": [],
      "collapsed_sections": [
        "zNZraghsm_y-",
        "pLNjIGy823fN",
        "CcxkNU9NnM8p",
        "tq--wueVRT2V",
        "h6Nun-zRkweH"
      ],
      "toc_visible": true
    },
    "kernelspec": {
      "name": "python3",
      "display_name": "Python 3"
    }
  },
  "cells": [
    {
      "cell_type": "code",
      "metadata": {
        "id": "PpHjojtsm3el"
      },
      "source": [
        "import os\n",
        "import random\n",
        "import pandas as pd\n",
        "import numpy\n",
        "from sklearn.model_selection import train_test_split\n",
        "from sklearn.metrics import plot_confusion_matrix, ConfusionMatrixDisplay\n",
        "import matplotlib.pyplot as plt\n",
        "from sklearn.tree import export_text\n",
        "from joblib import dump, load"
      ],
      "execution_count": 113,
      "outputs": []
    },
    {
      "cell_type": "markdown",
      "metadata": {
        "id": "zNZraghsm_y-"
      },
      "source": [
        "# Data Generation"
      ]
    },
    {
      "cell_type": "code",
      "metadata": {
        "id": "-aiRIsuQnEz9"
      },
      "source": [
        "columns = ['Invested Amount', 'Successful Attacks', 'Failed Attacks', 'Business Value', 'Number of Employees', 'Employee Training', 'Known Vulnerabilities', 'External Advisor', 'Risk']\n",
        "features = columns[:-1]\n",
        "LEVELS = [\"LOW\", \"MEDIUM\", \"HIGH\"]\n",
        "prediction_result_mapping = {0: \"LOW\", 1: \"MEDIUM\", 2: \"HIGH\"}"
      ],
      "execution_count": 114,
      "outputs": []
    },
    {
      "cell_type": "code",
      "metadata": {
        "id": "pcZiySYynFMr"
      },
      "source": [
        "def generate_data(nr_entries = 1000, min_empl = 30, max_empl = 90000, min_nr_attacks = 0, nr_attacks = 50, \n",
        "                  avg_business_value = 5000000, std_business_value = 50000, max_invested_perc = 0.3, max_nr_vulnerabilities = 10):\n",
        "    df = pd.DataFrame(columns=columns)\n",
        "    for i in range(0, nr_entries):\n",
        "        nr_employees = random.randint(min_empl, max_empl)\n",
        "        employees_training = random.choice(LEVELS)\n",
        "        failed_attack = random.randrange(nr_attacks)\n",
        "        succ_attack = random.randrange(nr_attacks)\n",
        "        business_value = int(numpy.random.normal(loc=avg_business_value, scale=std_business_value))\n",
        "        invested_perc = random.uniform(0, max_invested_perc)\n",
        "        invested_amount = int(invested_perc * business_value)\n",
        "        known_vulnerabilities = random.randrange(max_nr_vulnerabilities)\n",
        "        external_adv = \"NO\" if (i % 2) == 0 else \"YES\"\n",
        "\n",
        "        # Risk is computed based on the other parameters and is then categorized using 'get_categorized_risk'\n",
        "        computed_risk = invested_perc - (succ_attack / nr_attacks) + (nr_employees / max_empl) * LEVELS.index(employees_training) - (known_vulnerabilities / max_nr_vulnerabilities) + (i % 2) / 3\n",
        "        \n",
        "        df.loc[i] = [invested_amount, succ_attack, failed_attack, business_value, nr_employees, employees_training, known_vulnerabilities, external_adv, get_categorized_risk(computed_risk)]\n",
        "    return df\n",
        "\n",
        "def get_categorized_risk(weighted_risk, low_medium_boundary = 1.0, medium_high_boundary = 0.0):\n",
        "  if weighted_risk >= low_medium_boundary:\n",
        "      return \"LOW\"\n",
        "  elif weighted_risk >= medium_high_boundary and weighted_risk < low_medium_boundary:\n",
        "      return \"MEDIUM\"\n",
        "  else:\n",
        "      return \"HIGH\""
      ],
      "execution_count": 115,
      "outputs": []
    },
    {
      "cell_type": "code",
      "metadata": {
        "id": "rLn7TsxAnHvG"
      },
      "source": [
        "data = generate_data(nr_entries = 10000)"
      ],
      "execution_count": 116,
      "outputs": []
    },
    {
      "cell_type": "code",
      "metadata": {
        "colab": {
          "base_uri": "https://localhost:8080/",
          "height": 0
        },
        "id": "joncs4RGRcM2",
        "outputId": "f503faa8-476c-4000-be3b-650e94611d5d"
      },
      "source": [
        "data.head()"
      ],
      "execution_count": 117,
      "outputs": [
        {
          "output_type": "execute_result",
          "data": {
            "text/html": [
              "<div>\n",
              "<style scoped>\n",
              "    .dataframe tbody tr th:only-of-type {\n",
              "        vertical-align: middle;\n",
              "    }\n",
              "\n",
              "    .dataframe tbody tr th {\n",
              "        vertical-align: top;\n",
              "    }\n",
              "\n",
              "    .dataframe thead th {\n",
              "        text-align: right;\n",
              "    }\n",
              "</style>\n",
              "<table border=\"1\" class=\"dataframe\">\n",
              "  <thead>\n",
              "    <tr style=\"text-align: right;\">\n",
              "      <th></th>\n",
              "      <th>Invested Amount</th>\n",
              "      <th>Successful Attacks</th>\n",
              "      <th>Failed Attacks</th>\n",
              "      <th>Business Value</th>\n",
              "      <th>Number of Employees</th>\n",
              "      <th>Employee Training</th>\n",
              "      <th>Known Vulnerabilities</th>\n",
              "      <th>External Advisor</th>\n",
              "      <th>Risk</th>\n",
              "    </tr>\n",
              "  </thead>\n",
              "  <tbody>\n",
              "    <tr>\n",
              "      <th>0</th>\n",
              "      <td>734240</td>\n",
              "      <td>29</td>\n",
              "      <td>0</td>\n",
              "      <td>5006577</td>\n",
              "      <td>58502</td>\n",
              "      <td>HIGH</td>\n",
              "      <td>9</td>\n",
              "      <td>NO</td>\n",
              "      <td>HIGH</td>\n",
              "    </tr>\n",
              "    <tr>\n",
              "      <th>1</th>\n",
              "      <td>1298563</td>\n",
              "      <td>30</td>\n",
              "      <td>40</td>\n",
              "      <td>5010682</td>\n",
              "      <td>22547</td>\n",
              "      <td>MEDIUM</td>\n",
              "      <td>4</td>\n",
              "      <td>YES</td>\n",
              "      <td>HIGH</td>\n",
              "    </tr>\n",
              "    <tr>\n",
              "      <th>2</th>\n",
              "      <td>384418</td>\n",
              "      <td>6</td>\n",
              "      <td>24</td>\n",
              "      <td>5004666</td>\n",
              "      <td>12540</td>\n",
              "      <td>MEDIUM</td>\n",
              "      <td>6</td>\n",
              "      <td>NO</td>\n",
              "      <td>HIGH</td>\n",
              "    </tr>\n",
              "    <tr>\n",
              "      <th>3</th>\n",
              "      <td>133058</td>\n",
              "      <td>13</td>\n",
              "      <td>31</td>\n",
              "      <td>4978776</td>\n",
              "      <td>40092</td>\n",
              "      <td>HIGH</td>\n",
              "      <td>5</td>\n",
              "      <td>YES</td>\n",
              "      <td>MEDIUM</td>\n",
              "    </tr>\n",
              "    <tr>\n",
              "      <th>4</th>\n",
              "      <td>579157</td>\n",
              "      <td>39</td>\n",
              "      <td>32</td>\n",
              "      <td>4992176</td>\n",
              "      <td>48295</td>\n",
              "      <td>HIGH</td>\n",
              "      <td>3</td>\n",
              "      <td>NO</td>\n",
              "      <td>MEDIUM</td>\n",
              "    </tr>\n",
              "  </tbody>\n",
              "</table>\n",
              "</div>"
            ],
            "text/plain": [
              "  Invested Amount Successful Attacks  ... External Advisor    Risk\n",
              "0          734240                 29  ...               NO    HIGH\n",
              "1         1298563                 30  ...              YES    HIGH\n",
              "2          384418                  6  ...               NO    HIGH\n",
              "3          133058                 13  ...              YES  MEDIUM\n",
              "4          579157                 39  ...               NO  MEDIUM\n",
              "\n",
              "[5 rows x 9 columns]"
            ]
          },
          "metadata": {
            "tags": []
          },
          "execution_count": 117
        }
      ]
    },
    {
      "cell_type": "code",
      "metadata": {
        "colab": {
          "base_uri": "https://localhost:8080/",
          "height": 0
        },
        "id": "o8JKzDQdRSbx",
        "outputId": "2ab31575-3681-44f1-b876-faea60f303a8"
      },
      "source": [
        "data.describe()"
      ],
      "execution_count": 118,
      "outputs": [
        {
          "output_type": "execute_result",
          "data": {
            "text/html": [
              "<div>\n",
              "<style scoped>\n",
              "    .dataframe tbody tr th:only-of-type {\n",
              "        vertical-align: middle;\n",
              "    }\n",
              "\n",
              "    .dataframe tbody tr th {\n",
              "        vertical-align: top;\n",
              "    }\n",
              "\n",
              "    .dataframe thead th {\n",
              "        text-align: right;\n",
              "    }\n",
              "</style>\n",
              "<table border=\"1\" class=\"dataframe\">\n",
              "  <thead>\n",
              "    <tr style=\"text-align: right;\">\n",
              "      <th></th>\n",
              "      <th>Invested Amount</th>\n",
              "      <th>Successful Attacks</th>\n",
              "      <th>Failed Attacks</th>\n",
              "      <th>Business Value</th>\n",
              "      <th>Number of Employees</th>\n",
              "      <th>Employee Training</th>\n",
              "      <th>Known Vulnerabilities</th>\n",
              "      <th>External Advisor</th>\n",
              "      <th>Risk</th>\n",
              "    </tr>\n",
              "  </thead>\n",
              "  <tbody>\n",
              "    <tr>\n",
              "      <th>count</th>\n",
              "      <td>10000</td>\n",
              "      <td>10000</td>\n",
              "      <td>10000</td>\n",
              "      <td>10000</td>\n",
              "      <td>10000</td>\n",
              "      <td>10000</td>\n",
              "      <td>10000</td>\n",
              "      <td>10000</td>\n",
              "      <td>10000</td>\n",
              "    </tr>\n",
              "    <tr>\n",
              "      <th>unique</th>\n",
              "      <td>9968</td>\n",
              "      <td>50</td>\n",
              "      <td>50</td>\n",
              "      <td>9718</td>\n",
              "      <td>9455</td>\n",
              "      <td>3</td>\n",
              "      <td>10</td>\n",
              "      <td>2</td>\n",
              "      <td>3</td>\n",
              "    </tr>\n",
              "    <tr>\n",
              "      <th>top</th>\n",
              "      <td>102823</td>\n",
              "      <td>28</td>\n",
              "      <td>15</td>\n",
              "      <td>4991849</td>\n",
              "      <td>7636</td>\n",
              "      <td>MEDIUM</td>\n",
              "      <td>4</td>\n",
              "      <td>NO</td>\n",
              "      <td>HIGH</td>\n",
              "    </tr>\n",
              "    <tr>\n",
              "      <th>freq</th>\n",
              "      <td>2</td>\n",
              "      <td>231</td>\n",
              "      <td>230</td>\n",
              "      <td>3</td>\n",
              "      <td>4</td>\n",
              "      <td>3393</td>\n",
              "      <td>1044</td>\n",
              "      <td>5000</td>\n",
              "      <td>6041</td>\n",
              "    </tr>\n",
              "  </tbody>\n",
              "</table>\n",
              "</div>"
            ],
            "text/plain": [
              "        Invested Amount  Successful Attacks  ...  External Advisor   Risk\n",
              "count             10000               10000  ...             10000  10000\n",
              "unique             9968                  50  ...                 2      3\n",
              "top              102823                  28  ...                NO   HIGH\n",
              "freq                  2                 231  ...              5000   6041\n",
              "\n",
              "[4 rows x 9 columns]"
            ]
          },
          "metadata": {
            "tags": []
          },
          "execution_count": 118
        }
      ]
    },
    {
      "cell_type": "markdown",
      "metadata": {
        "id": "j5jzupOcf4YK"
      },
      "source": [
        "## Data Export as .csv"
      ]
    },
    {
      "cell_type": "code",
      "metadata": {
        "id": "8gE5LaXovjIc"
      },
      "source": [
        "data.to_csv('data.csv')"
      ],
      "execution_count": 119,
      "outputs": []
    },
    {
      "cell_type": "markdown",
      "metadata": {
        "id": "pLNjIGy823fN"
      },
      "source": [
        "# Data Processing"
      ]
    },
    {
      "cell_type": "markdown",
      "metadata": {
        "id": "9N28npkjgT6A"
      },
      "source": [
        "## Categorization Step"
      ]
    },
    {
      "cell_type": "code",
      "metadata": {
        "id": "GV0F9aKHTN9F"
      },
      "source": [
        "levels_mapping = { 'LOW': 0, 'MEDIUM': 1, 'HIGH': 2 }\n",
        "advisor_mapping = { 'NO': 0, 'YES': 1 }\n",
        "\n",
        "data = data.replace({'Employee Training': levels_mapping, 'Risk': levels_mapping, 'External Advisor': advisor_mapping})"
      ],
      "execution_count": 120,
      "outputs": []
    },
    {
      "cell_type": "code",
      "metadata": {
        "colab": {
          "base_uri": "https://localhost:8080/",
          "height": 0
        },
        "id": "wVxuzRnAUGr3",
        "outputId": "805b70a0-6a54-4f9e-cacb-2fa2cfa15f43"
      },
      "source": [
        "data.head()"
      ],
      "execution_count": 121,
      "outputs": [
        {
          "output_type": "execute_result",
          "data": {
            "text/html": [
              "<div>\n",
              "<style scoped>\n",
              "    .dataframe tbody tr th:only-of-type {\n",
              "        vertical-align: middle;\n",
              "    }\n",
              "\n",
              "    .dataframe tbody tr th {\n",
              "        vertical-align: top;\n",
              "    }\n",
              "\n",
              "    .dataframe thead th {\n",
              "        text-align: right;\n",
              "    }\n",
              "</style>\n",
              "<table border=\"1\" class=\"dataframe\">\n",
              "  <thead>\n",
              "    <tr style=\"text-align: right;\">\n",
              "      <th></th>\n",
              "      <th>Invested Amount</th>\n",
              "      <th>Successful Attacks</th>\n",
              "      <th>Failed Attacks</th>\n",
              "      <th>Business Value</th>\n",
              "      <th>Number of Employees</th>\n",
              "      <th>Employee Training</th>\n",
              "      <th>Known Vulnerabilities</th>\n",
              "      <th>External Advisor</th>\n",
              "      <th>Risk</th>\n",
              "    </tr>\n",
              "  </thead>\n",
              "  <tbody>\n",
              "    <tr>\n",
              "      <th>0</th>\n",
              "      <td>734240</td>\n",
              "      <td>29</td>\n",
              "      <td>0</td>\n",
              "      <td>5006577</td>\n",
              "      <td>58502</td>\n",
              "      <td>2</td>\n",
              "      <td>9</td>\n",
              "      <td>0</td>\n",
              "      <td>2</td>\n",
              "    </tr>\n",
              "    <tr>\n",
              "      <th>1</th>\n",
              "      <td>1298563</td>\n",
              "      <td>30</td>\n",
              "      <td>40</td>\n",
              "      <td>5010682</td>\n",
              "      <td>22547</td>\n",
              "      <td>1</td>\n",
              "      <td>4</td>\n",
              "      <td>1</td>\n",
              "      <td>2</td>\n",
              "    </tr>\n",
              "    <tr>\n",
              "      <th>2</th>\n",
              "      <td>384418</td>\n",
              "      <td>6</td>\n",
              "      <td>24</td>\n",
              "      <td>5004666</td>\n",
              "      <td>12540</td>\n",
              "      <td>1</td>\n",
              "      <td>6</td>\n",
              "      <td>0</td>\n",
              "      <td>2</td>\n",
              "    </tr>\n",
              "    <tr>\n",
              "      <th>3</th>\n",
              "      <td>133058</td>\n",
              "      <td>13</td>\n",
              "      <td>31</td>\n",
              "      <td>4978776</td>\n",
              "      <td>40092</td>\n",
              "      <td>2</td>\n",
              "      <td>5</td>\n",
              "      <td>1</td>\n",
              "      <td>1</td>\n",
              "    </tr>\n",
              "    <tr>\n",
              "      <th>4</th>\n",
              "      <td>579157</td>\n",
              "      <td>39</td>\n",
              "      <td>32</td>\n",
              "      <td>4992176</td>\n",
              "      <td>48295</td>\n",
              "      <td>2</td>\n",
              "      <td>3</td>\n",
              "      <td>0</td>\n",
              "      <td>1</td>\n",
              "    </tr>\n",
              "  </tbody>\n",
              "</table>\n",
              "</div>"
            ],
            "text/plain": [
              "  Invested Amount Successful Attacks  ... External Advisor Risk\n",
              "0          734240                 29  ...                0    2\n",
              "1         1298563                 30  ...                1    2\n",
              "2          384418                  6  ...                0    2\n",
              "3          133058                 13  ...                1    1\n",
              "4          579157                 39  ...                0    1\n",
              "\n",
              "[5 rows x 9 columns]"
            ]
          },
          "metadata": {
            "tags": []
          },
          "execution_count": 121
        }
      ]
    },
    {
      "cell_type": "markdown",
      "metadata": {
        "id": "XC3ojrafgOeX"
      },
      "source": [
        "## Normalization Step - using scaler"
      ]
    },
    {
      "cell_type": "code",
      "metadata": {
        "id": "7a32suNR26Bm",
        "colab": {
          "base_uri": "https://localhost:8080/"
        },
        "outputId": "4a7e29e3-ea24-46a3-82c3-5c7143ba0b1c"
      },
      "source": [
        "from sklearn.preprocessing import StandardScaler, MinMaxScaler\n",
        "\n",
        "# Used for Tensorflow model\n",
        "normalized_data = data[features].apply(lambda x: ( (x - x.min()) / (x.max() - x.min())))\n",
        "normalized_data.head()\n",
        "\n",
        "\n",
        "# Used for the scikit models\n",
        "X_train, X_test, y_train, y_test = train_test_split(data[features].values, data[\"Risk\"].values, random_state=0)\n",
        "\n",
        "scaler = MinMaxScaler()\n",
        "scaler.fit(X_train)\n",
        "X_train_normalized = scaler.transform(X_train)\n",
        "X_test_normalized = scaler.transform(X_test)\n",
        "\n",
        "dump(scaler, 'MinMaxScaler.joblib') "
      ],
      "execution_count": 192,
      "outputs": [
        {
          "output_type": "execute_result",
          "data": {
            "text/plain": [
              "['MinMaxScaler.joblib']"
            ]
          },
          "metadata": {
            "tags": []
          },
          "execution_count": 192
        }
      ]
    },
    {
      "cell_type": "markdown",
      "metadata": {
        "id": "CcxkNU9NnM8p"
      },
      "source": [
        "# Deep Neural Network Classifier"
      ]
    },
    {
      "cell_type": "code",
      "metadata": {
        "colab": {
          "base_uri": "https://localhost:8080/"
        },
        "id": "utNWa3s01wAg",
        "outputId": "27426d75-0d08-4f46-d45f-e2ae45b31389"
      },
      "source": [
        "import tensorflow as tf\n",
        "print(tf.__version__)"
      ],
      "execution_count": 127,
      "outputs": [
        {
          "output_type": "stream",
          "text": [
            "2.4.1\n"
          ],
          "name": "stdout"
        }
      ]
    },
    {
      "cell_type": "code",
      "metadata": {
        "id": "WffwogDxmSrE"
      },
      "source": [
        "# Define the training inputs\n",
        "def get_train_inputs():\n",
        "    x = { feature_name: tf.constant(X_train, dtype=tf.float64)}\n",
        "    y = tf.constant(y_train, dtype=tf.int32)\n",
        "    return x, y\n",
        "\n",
        "# Define the test inputs\n",
        "def get_test_inputs():\n",
        "    x = { feature_name: tf.constant(X_test, dtype=tf.float64)}\n",
        "    y = tf.constant(y_test, dtype=tf.int32)\n",
        "    return x, y"
      ],
      "execution_count": 128,
      "outputs": []
    },
    {
      "cell_type": "code",
      "metadata": {
        "id": "HlgrfGhqnJHs"
      },
      "source": [
        "X_train, X_test, y_train, y_test = train_test_split(normalized_data[features].values, data[\"Risk\"].values, test_size=0.35)"
      ],
      "execution_count": 129,
      "outputs": []
    },
    {
      "cell_type": "code",
      "metadata": {
        "id": "PqQffZ211V-r"
      },
      "source": [
        "# Specify that all features have real-value data\n",
        "feature_name = \"risk_features\"\n",
        "feature_columns = [tf.feature_column.numeric_column(feature_name, \n",
        "                                                    shape=len(features))]"
      ],
      "execution_count": 130,
      "outputs": []
    },
    {
      "cell_type": "code",
      "metadata": {
        "colab": {
          "base_uri": "https://localhost:8080/"
        },
        "id": "fM_UP3Ny7bH-",
        "outputId": "3fca8f04-3007-4865-8fd6-64a6d2484216"
      },
      "source": [
        "# Build 5 layer DNN with 512, 256, 128, 64, 32 units respectively.\n",
        "classifier = tf.estimator.DNNClassifier(feature_columns=feature_columns,\n",
        "                                            hidden_units=[512, 256, 128, 64],\n",
        "                                            n_classes=3)"
      ],
      "execution_count": 131,
      "outputs": [
        {
          "output_type": "stream",
          "text": [
            "INFO:tensorflow:Using default config.\n",
            "WARNING:tensorflow:Using temporary folder as model directory: /tmp/tmpecea5k00\n",
            "INFO:tensorflow:Using config: {'_model_dir': '/tmp/tmpecea5k00', '_tf_random_seed': None, '_save_summary_steps': 100, '_save_checkpoints_steps': None, '_save_checkpoints_secs': 600, '_session_config': allow_soft_placement: true\n",
            "graph_options {\n",
            "  rewrite_options {\n",
            "    meta_optimizer_iterations: ONE\n",
            "  }\n",
            "}\n",
            ", '_keep_checkpoint_max': 5, '_keep_checkpoint_every_n_hours': 10000, '_log_step_count_steps': 100, '_train_distribute': None, '_device_fn': None, '_protocol': None, '_eval_distribute': None, '_experimental_distribute': None, '_experimental_max_worker_delay_secs': None, '_session_creation_timeout_secs': 7200, '_checkpoint_save_graph_def': True, '_service': None, '_cluster_spec': ClusterSpec({}), '_task_type': 'worker', '_task_id': 0, '_global_id_in_cluster': 0, '_master': '', '_evaluation_master': '', '_is_chief': True, '_num_ps_replicas': 0, '_num_worker_replicas': 1}\n"
          ],
          "name": "stdout"
        }
      ]
    },
    {
      "cell_type": "markdown",
      "metadata": {
        "id": "iQEuHrLBer8f"
      },
      "source": [
        "## Train"
      ]
    },
    {
      "cell_type": "code",
      "metadata": {
        "colab": {
          "base_uri": "https://localhost:8080/"
        },
        "id": "FP9K2lTz77fu",
        "outputId": "cecedbac-b49b-4205-8364-6c39c9550510"
      },
      "source": [
        "classifier.train(input_fn=get_train_inputs, steps=5000)"
      ],
      "execution_count": 132,
      "outputs": [
        {
          "output_type": "stream",
          "text": [
            "WARNING:tensorflow:From /usr/local/lib/python3.6/dist-packages/tensorflow/python/training/training_util.py:236: Variable.initialized_value (from tensorflow.python.ops.variables) is deprecated and will be removed in a future version.\n",
            "Instructions for updating:\n",
            "Use Variable.read_value. Variables in 2.X are initialized automatically both in eager and graph (inside tf.defun) contexts.\n",
            "INFO:tensorflow:Calling model_fn.\n",
            "WARNING:tensorflow:From /usr/local/lib/python3.6/dist-packages/tensorflow/python/keras/optimizer_v2/adagrad.py:83: calling Constant.__init__ (from tensorflow.python.ops.init_ops) with dtype is deprecated and will be removed in a future version.\n",
            "Instructions for updating:\n",
            "Call initializer instance with the dtype argument instead of passing it to the constructor\n",
            "INFO:tensorflow:Done calling model_fn.\n",
            "INFO:tensorflow:Create CheckpointSaverHook.\n",
            "INFO:tensorflow:Graph was finalized.\n",
            "INFO:tensorflow:Running local_init_op.\n",
            "INFO:tensorflow:Done running local_init_op.\n",
            "INFO:tensorflow:Calling checkpoint listeners before saving checkpoint 0...\n",
            "INFO:tensorflow:Saving checkpoints for 0 into /tmp/tmpecea5k00/model.ckpt.\n",
            "INFO:tensorflow:Calling checkpoint listeners after saving checkpoint 0...\n",
            "INFO:tensorflow:loss = 1.1058244, step = 0\n",
            "INFO:tensorflow:global_step/sec: 7.23013\n",
            "INFO:tensorflow:loss = 0.9889312, step = 100 (13.836 sec)\n",
            "INFO:tensorflow:global_step/sec: 7.27287\n",
            "INFO:tensorflow:loss = 0.91795915, step = 200 (13.749 sec)\n",
            "INFO:tensorflow:global_step/sec: 7.26097\n",
            "INFO:tensorflow:loss = 0.87107724, step = 300 (13.772 sec)\n",
            "INFO:tensorflow:global_step/sec: 7.25907\n",
            "INFO:tensorflow:loss = 0.83665776, step = 400 (13.777 sec)\n",
            "INFO:tensorflow:global_step/sec: 7.27024\n",
            "INFO:tensorflow:loss = 0.80735725, step = 500 (13.751 sec)\n",
            "INFO:tensorflow:global_step/sec: 7.27454\n",
            "INFO:tensorflow:loss = 0.778485, step = 600 (13.746 sec)\n",
            "INFO:tensorflow:global_step/sec: 7.23832\n",
            "INFO:tensorflow:loss = 0.7475024, step = 700 (13.820 sec)\n",
            "INFO:tensorflow:global_step/sec: 7.2686\n",
            "INFO:tensorflow:loss = 0.7144911, step = 800 (13.757 sec)\n",
            "INFO:tensorflow:global_step/sec: 7.24744\n",
            "INFO:tensorflow:loss = 0.6800972, step = 900 (13.797 sec)\n",
            "INFO:tensorflow:global_step/sec: 7.25887\n",
            "INFO:tensorflow:loss = 0.6457419, step = 1000 (13.775 sec)\n",
            "INFO:tensorflow:global_step/sec: 7.2605\n",
            "INFO:tensorflow:loss = 0.61231065, step = 1100 (13.772 sec)\n",
            "INFO:tensorflow:global_step/sec: 7.2692\n",
            "INFO:tensorflow:loss = 0.58043045, step = 1200 (13.757 sec)\n",
            "INFO:tensorflow:global_step/sec: 7.26523\n",
            "INFO:tensorflow:loss = 0.55051476, step = 1300 (13.767 sec)\n",
            "INFO:tensorflow:global_step/sec: 7.21591\n",
            "INFO:tensorflow:loss = 0.5229, step = 1400 (13.854 sec)\n",
            "INFO:tensorflow:global_step/sec: 7.26619\n",
            "INFO:tensorflow:loss = 0.49697837, step = 1500 (13.767 sec)\n",
            "INFO:tensorflow:global_step/sec: 7.2482\n",
            "INFO:tensorflow:loss = 0.4735115, step = 1600 (13.792 sec)\n",
            "INFO:tensorflow:global_step/sec: 7.28314\n",
            "INFO:tensorflow:loss = 0.45226693, step = 1700 (13.730 sec)\n",
            "INFO:tensorflow:global_step/sec: 7.20278\n",
            "INFO:tensorflow:loss = 0.4328679, step = 1800 (13.889 sec)\n",
            "INFO:tensorflow:global_step/sec: 7.20237\n",
            "INFO:tensorflow:loss = 0.4149973, step = 1900 (13.882 sec)\n",
            "INFO:tensorflow:global_step/sec: 7.25819\n",
            "INFO:tensorflow:loss = 0.39854252, step = 2000 (13.774 sec)\n",
            "INFO:tensorflow:global_step/sec: 7.20303\n",
            "INFO:tensorflow:loss = 0.38339764, step = 2100 (13.885 sec)\n",
            "INFO:tensorflow:global_step/sec: 7.19415\n",
            "INFO:tensorflow:loss = 0.36946976, step = 2200 (13.900 sec)\n",
            "INFO:tensorflow:global_step/sec: 7.25743\n",
            "INFO:tensorflow:loss = 0.35664958, step = 2300 (13.776 sec)\n",
            "INFO:tensorflow:global_step/sec: 7.26965\n",
            "INFO:tensorflow:loss = 0.34484935, step = 2400 (13.759 sec)\n",
            "INFO:tensorflow:global_step/sec: 7.27364\n",
            "INFO:tensorflow:loss = 0.3339806, step = 2500 (13.746 sec)\n",
            "INFO:tensorflow:global_step/sec: 7.29431\n",
            "INFO:tensorflow:loss = 0.32396173, step = 2600 (13.714 sec)\n",
            "INFO:tensorflow:global_step/sec: 7.24152\n",
            "INFO:tensorflow:loss = 0.3146948, step = 2700 (13.809 sec)\n",
            "INFO:tensorflow:global_step/sec: 7.26987\n",
            "INFO:tensorflow:loss = 0.30612612, step = 2800 (13.752 sec)\n",
            "INFO:tensorflow:global_step/sec: 7.27596\n",
            "INFO:tensorflow:loss = 0.29820314, step = 2900 (13.746 sec)\n",
            "INFO:tensorflow:global_step/sec: 7.25942\n",
            "INFO:tensorflow:loss = 0.29084256, step = 3000 (13.773 sec)\n",
            "INFO:tensorflow:global_step/sec: 7.24033\n",
            "INFO:tensorflow:loss = 0.2839827, step = 3100 (13.811 sec)\n",
            "INFO:tensorflow:global_step/sec: 7.26295\n",
            "INFO:tensorflow:loss = 0.2775743, step = 3200 (13.770 sec)\n",
            "INFO:tensorflow:global_step/sec: 7.26628\n",
            "INFO:tensorflow:loss = 0.27157387, step = 3300 (13.765 sec)\n",
            "INFO:tensorflow:global_step/sec: 7.26614\n",
            "INFO:tensorflow:loss = 0.2659298, step = 3400 (13.759 sec)\n",
            "INFO:tensorflow:global_step/sec: 7.27502\n",
            "INFO:tensorflow:loss = 0.26060507, step = 3500 (13.747 sec)\n",
            "INFO:tensorflow:global_step/sec: 7.25958\n",
            "INFO:tensorflow:loss = 0.25556752, step = 3600 (13.775 sec)\n",
            "INFO:tensorflow:global_step/sec: 7.27596\n",
            "INFO:tensorflow:loss = 0.25078946, step = 3700 (13.742 sec)\n",
            "INFO:tensorflow:global_step/sec: 7.25818\n",
            "INFO:tensorflow:loss = 0.24623847, step = 3800 (13.783 sec)\n",
            "INFO:tensorflow:global_step/sec: 7.28277\n",
            "INFO:tensorflow:loss = 0.24189927, step = 3900 (13.726 sec)\n",
            "INFO:tensorflow:global_step/sec: 7.26232\n",
            "INFO:tensorflow:loss = 0.23776619, step = 4000 (13.769 sec)\n",
            "INFO:tensorflow:global_step/sec: 7.22442\n",
            "INFO:tensorflow:loss = 0.23381867, step = 4100 (13.842 sec)\n",
            "INFO:tensorflow:global_step/sec: 7.29595\n",
            "INFO:tensorflow:loss = 0.23002575, step = 4200 (13.706 sec)\n",
            "INFO:tensorflow:global_step/sec: 7.28115\n",
            "INFO:tensorflow:loss = 0.22636415, step = 4300 (13.738 sec)\n",
            "INFO:tensorflow:Calling checkpoint listeners before saving checkpoint 4352...\n",
            "INFO:tensorflow:Saving checkpoints for 4352 into /tmp/tmpecea5k00/model.ckpt.\n",
            "INFO:tensorflow:Calling checkpoint listeners after saving checkpoint 4352...\n",
            "INFO:tensorflow:global_step/sec: 7.2208\n",
            "INFO:tensorflow:loss = 0.22282931, step = 4400 (13.845 sec)\n",
            "INFO:tensorflow:global_step/sec: 7.23206\n",
            "INFO:tensorflow:loss = 0.21940716, step = 4500 (13.832 sec)\n",
            "INFO:tensorflow:global_step/sec: 7.29022\n",
            "INFO:tensorflow:loss = 0.21609415, step = 4600 (13.712 sec)\n",
            "INFO:tensorflow:global_step/sec: 7.26976\n",
            "INFO:tensorflow:loss = 0.21288589, step = 4700 (13.756 sec)\n",
            "INFO:tensorflow:global_step/sec: 7.23788\n",
            "INFO:tensorflow:loss = 0.20976889, step = 4800 (13.820 sec)\n",
            "INFO:tensorflow:global_step/sec: 7.22336\n",
            "INFO:tensorflow:loss = 0.20672624, step = 4900 (13.845 sec)\n",
            "INFO:tensorflow:Calling checkpoint listeners before saving checkpoint 5000...\n",
            "INFO:tensorflow:Saving checkpoints for 5000 into /tmp/tmpecea5k00/model.ckpt.\n",
            "INFO:tensorflow:Calling checkpoint listeners after saving checkpoint 5000...\n",
            "INFO:tensorflow:Loss for final step: 0.20377782.\n"
          ],
          "name": "stdout"
        },
        {
          "output_type": "execute_result",
          "data": {
            "text/plain": [
              "<tensorflow_estimator.python.estimator.canned.dnn.DNNClassifierV2 at 0x7f4936414b38>"
            ]
          },
          "metadata": {
            "tags": []
          },
          "execution_count": 132
        }
      ]
    },
    {
      "cell_type": "markdown",
      "metadata": {
        "id": "bY2DLr5kfa3C"
      },
      "source": [
        "## Evaluate"
      ]
    },
    {
      "cell_type": "code",
      "metadata": {
        "colab": {
          "base_uri": "https://localhost:8080/"
        },
        "id": "6kVeppcU9jLK",
        "outputId": "f6ce3bc9-fb1e-43c1-ac3e-8a41c16f3b1b"
      },
      "source": [
        "accuracy_score = classifier.evaluate(input_fn=get_test_inputs, steps=100)[\"accuracy\"]\n",
        "\n",
        "print('Accuracy: {0:.2%}'.format(accuracy_score))"
      ],
      "execution_count": 133,
      "outputs": [
        {
          "output_type": "stream",
          "text": [
            "INFO:tensorflow:Calling model_fn.\n",
            "INFO:tensorflow:Done calling model_fn.\n",
            "INFO:tensorflow:Starting evaluation at 2021-02-13T22:52:24Z\n",
            "INFO:tensorflow:Graph was finalized.\n",
            "INFO:tensorflow:Restoring parameters from /tmp/tmpecea5k00/model.ckpt-5000\n",
            "INFO:tensorflow:Running local_init_op.\n",
            "INFO:tensorflow:Done running local_init_op.\n",
            "INFO:tensorflow:Evaluation [10/100]\n",
            "INFO:tensorflow:Evaluation [20/100]\n",
            "INFO:tensorflow:Evaluation [30/100]\n",
            "INFO:tensorflow:Evaluation [40/100]\n",
            "INFO:tensorflow:Evaluation [50/100]\n",
            "INFO:tensorflow:Evaluation [60/100]\n",
            "INFO:tensorflow:Evaluation [70/100]\n",
            "INFO:tensorflow:Evaluation [80/100]\n",
            "INFO:tensorflow:Evaluation [90/100]\n",
            "INFO:tensorflow:Evaluation [100/100]\n",
            "INFO:tensorflow:Inference Time : 2.64189s\n",
            "INFO:tensorflow:Finished evaluation at 2021-02-13-22:52:27\n",
            "INFO:tensorflow:Saving dict for global step 5000: accuracy = 0.92057145, average_loss = 0.22125426, global_step = 5000, loss = 0.22125421\n",
            "INFO:tensorflow:Saving 'checkpoint_path' summary for global step 5000: /tmp/tmpecea5k00/model.ckpt-5000\n",
            "Accuracy: 92.06%\n"
          ],
          "name": "stdout"
        }
      ]
    },
    {
      "cell_type": "markdown",
      "metadata": {
        "id": "03X_jnCXfhio"
      },
      "source": [
        "## Export"
      ]
    },
    {
      "cell_type": "code",
      "metadata": {
        "id": "hTSSnDCFDMdV",
        "colab": {
          "base_uri": "https://localhost:8080/"
        },
        "outputId": "c80c7039-4e4d-488b-ba13-56bdc1aa3aea"
      },
      "source": [
        "feature_spec = {'risk_features': tf.io.FixedLenFeature(shape=len(features), dtype=tf.float32)}\n",
        "\n",
        "serving_fn = tf.estimator.export.build_parsing_serving_input_receiver_fn(feature_spec)\n",
        "\n",
        "classifier.export_saved_model(export_dir_base='./model/export', serving_input_receiver_fn=serving_fn)"
      ],
      "execution_count": 134,
      "outputs": [
        {
          "output_type": "stream",
          "text": [
            "INFO:tensorflow:Calling model_fn.\n",
            "INFO:tensorflow:Done calling model_fn.\n",
            "WARNING:tensorflow:From /usr/local/lib/python3.6/dist-packages/tensorflow/python/saved_model/signature_def_utils_impl.py:145: build_tensor_info (from tensorflow.python.saved_model.utils_impl) is deprecated and will be removed in a future version.\n",
            "Instructions for updating:\n",
            "This function will only be available through the v1 compatibility library as tf.compat.v1.saved_model.utils.build_tensor_info or tf.compat.v1.saved_model.build_tensor_info.\n",
            "INFO:tensorflow:Signatures INCLUDED in export for Classify: ['serving_default', 'classification']\n",
            "INFO:tensorflow:Signatures INCLUDED in export for Regress: None\n",
            "INFO:tensorflow:Signatures INCLUDED in export for Predict: ['predict']\n",
            "INFO:tensorflow:Signatures INCLUDED in export for Train: None\n",
            "INFO:tensorflow:Signatures INCLUDED in export for Eval: None\n",
            "INFO:tensorflow:Restoring parameters from /tmp/tmpecea5k00/model.ckpt-5000\n",
            "INFO:tensorflow:Assets added to graph.\n",
            "INFO:tensorflow:No assets to write.\n",
            "INFO:tensorflow:SavedModel written to: ./model/export/temp-1613256747/saved_model.pb\n"
          ],
          "name": "stdout"
        },
        {
          "output_type": "execute_result",
          "data": {
            "text/plain": [
              "b'./model/export/1613256747'"
            ]
          },
          "metadata": {
            "tags": []
          },
          "execution_count": 134
        }
      ]
    },
    {
      "cell_type": "markdown",
      "metadata": {
        "id": "jT10f4c2Yjfy"
      },
      "source": [
        "## Prediction"
      ]
    },
    {
      "cell_type": "markdown",
      "metadata": {
        "id": "P95IBDnAflRx"
      },
      "source": [
        "### Data Preparation"
      ]
    },
    {
      "cell_type": "code",
      "metadata": {
        "colab": {
          "base_uri": "https://localhost:8080/",
          "height": 0
        },
        "id": "s9o4gP77ziMy",
        "outputId": "d7eddc26-4f6b-490e-99c8-496f5ee11442"
      },
      "source": [
        "def get_data_for_prediction():\n",
        "  return { feature_name: tf.constant(normalized_prediction_df, dtype=tf.float64)}\n",
        "\n",
        "# Create DataFrame from data to be predicted\n",
        "prediction_df = pd.DataFrame([[1077113, 8, 29, 4947796, 57879, 1, 6, 0]], columns=features)\n",
        "\n",
        "# Normalize using the initial dataframe -> bring the data for the prediction to the same scale\n",
        "normalized_prediction_df = prediction_df[features]\n",
        "for feature in features:\n",
        "    normalized_prediction_df[feature] = normalized_prediction_df[feature].apply(lambda x: ( (x - data[feature].min()) / (data[feature].max() - data[feature].min())))\n",
        "\n",
        "normalized_prediction_df"
      ],
      "execution_count": 135,
      "outputs": [
        {
          "output_type": "execute_result",
          "data": {
            "text/html": [
              "<div>\n",
              "<style scoped>\n",
              "    .dataframe tbody tr th:only-of-type {\n",
              "        vertical-align: middle;\n",
              "    }\n",
              "\n",
              "    .dataframe tbody tr th {\n",
              "        vertical-align: top;\n",
              "    }\n",
              "\n",
              "    .dataframe thead th {\n",
              "        text-align: right;\n",
              "    }\n",
              "</style>\n",
              "<table border=\"1\" class=\"dataframe\">\n",
              "  <thead>\n",
              "    <tr style=\"text-align: right;\">\n",
              "      <th></th>\n",
              "      <th>Invested Amount</th>\n",
              "      <th>Successful Attacks</th>\n",
              "      <th>Failed Attacks</th>\n",
              "      <th>Business Value</th>\n",
              "      <th>Number of Employees</th>\n",
              "      <th>Employee Training</th>\n",
              "      <th>Known Vulnerabilities</th>\n",
              "      <th>External Advisor</th>\n",
              "    </tr>\n",
              "  </thead>\n",
              "  <tbody>\n",
              "    <tr>\n",
              "      <th>0</th>\n",
              "      <td>0.702544</td>\n",
              "      <td>0.163265</td>\n",
              "      <td>0.591837</td>\n",
              "      <td>0.361095</td>\n",
              "      <td>0.64324</td>\n",
              "      <td>0.5</td>\n",
              "      <td>0.666667</td>\n",
              "      <td>0.0</td>\n",
              "    </tr>\n",
              "  </tbody>\n",
              "</table>\n",
              "</div>"
            ],
            "text/plain": [
              "   Invested Amount  Successful Attacks  ...  Known Vulnerabilities  External Advisor\n",
              "0         0.702544            0.163265  ...               0.666667               0.0\n",
              "\n",
              "[1 rows x 8 columns]"
            ]
          },
          "metadata": {
            "tags": []
          },
          "execution_count": 135
        }
      ]
    },
    {
      "cell_type": "markdown",
      "metadata": {
        "id": "FsOdc3WTfrBu"
      },
      "source": [
        "### Result"
      ]
    },
    {
      "cell_type": "code",
      "metadata": {
        "colab": {
          "base_uri": "https://localhost:8080/"
        },
        "id": "CCdPZ1ymYni5",
        "outputId": "a6b5d8d2-ebb9-4625-ec06-04cfbca04d6a"
      },
      "source": [
        "for pred in classifier.predict(input_fn=get_data_for_prediction):\n",
        "  print(\"\\n\")\n",
        "  print(\"Predicted RISK is: \" + prediction_result_mapping[pred['class_ids'][0]])\n",
        "  break"
      ],
      "execution_count": 136,
      "outputs": [
        {
          "output_type": "stream",
          "text": [
            "WARNING:tensorflow:Input graph does not use tf.data.Dataset or contain a QueueRunner. That means predict yields forever. This is probably a mistake.\n",
            "INFO:tensorflow:Calling model_fn.\n",
            "INFO:tensorflow:Done calling model_fn.\n",
            "INFO:tensorflow:Graph was finalized.\n",
            "INFO:tensorflow:Restoring parameters from /tmp/tmpecea5k00/model.ckpt-5000\n",
            "INFO:tensorflow:Running local_init_op.\n",
            "INFO:tensorflow:Done running local_init_op.\n",
            "\n",
            "\n",
            "Predicted RISK is: MEDIUM\n"
          ],
          "name": "stdout"
        }
      ]
    },
    {
      "cell_type": "markdown",
      "metadata": {
        "id": "WO5fIwT19COL"
      },
      "source": [
        "# Decision Tree Classifier"
      ]
    },
    {
      "cell_type": "code",
      "metadata": {
        "id": "KgNfk7F1-uVE"
      },
      "source": [
        "from sklearn.tree import DecisionTreeClassifier \n",
        "from sklearn.metrics import accuracy_score"
      ],
      "execution_count": 165,
      "outputs": []
    },
    {
      "cell_type": "code",
      "metadata": {
        "id": "lH6UCQ7YBKXy"
      },
      "source": [
        "# Data here is not normalized\n",
        "X_train, X_test, y_train, y_test = train_test_split(data[features].values, data[\"Risk\"].values, random_state=0)"
      ],
      "execution_count": 166,
      "outputs": []
    },
    {
      "cell_type": "markdown",
      "metadata": {
        "id": "gLCndhSU-33o"
      },
      "source": [
        "## Train"
      ]
    },
    {
      "cell_type": "code",
      "metadata": {
        "id": "sG9pTfVT-zl5"
      },
      "source": [
        "dtree_model = DecisionTreeClassifier().fit(X_train, y_train) "
      ],
      "execution_count": 167,
      "outputs": []
    },
    {
      "cell_type": "markdown",
      "metadata": {
        "id": "W6INnv4s-7Lr"
      },
      "source": [
        "## Evaluate"
      ]
    },
    {
      "cell_type": "code",
      "metadata": {
        "colab": {
          "base_uri": "https://localhost:8080/"
        },
        "id": "BcEqOFL78lUB",
        "outputId": "fe6fa36b-9d8a-411e-fc9d-6cc74d660a64"
      },
      "source": [
        "accuracy = dtree_model.score(X_test, y_test) \n",
        "\n",
        "print('Accuracy: {0:.2%}'.format(accuracy))"
      ],
      "execution_count": 168,
      "outputs": [
        {
          "output_type": "stream",
          "text": [
            "Accuracy: 90.76%\n"
          ],
          "name": "stdout"
        }
      ]
    },
    {
      "cell_type": "code",
      "metadata": {
        "colab": {
          "base_uri": "https://localhost:8080/",
          "height": 279
        },
        "id": "YiRDsZKLAvwK",
        "outputId": "1c2280c4-521c-41de-d5b1-841bec6c4c73"
      },
      "source": [
        "plot_confusion_matrix(dtree_model, X_test, y_test)  \n",
        "plt.show()"
      ],
      "execution_count": 169,
      "outputs": [
        {
          "output_type": "display_data",
          "data": {
            "image/png": "[encoded data removed]",
            "text/plain": [
              "<Figure size 432x288 with 2 Axes>"
            ]
          },
          "metadata": {
            "tags": [],
            "needs_background": "light"
          }
        }
      ]
    },
    {
      "cell_type": "markdown",
      "metadata": {
        "id": "b2mHCI6cM_dY"
      },
      "source": [
        "## Export"
      ]
    },
    {
      "cell_type": "code",
      "metadata": {
        "id": "hL7D6-KZNDN1",
        "colab": {
          "base_uri": "https://localhost:8080/"
        },
        "outputId": "e36afbcf-0fd3-4647-c75f-dcdfad19cd72"
      },
      "source": [
        "#r = export_text(dtree_model, feature_names=features)\n",
        "#print(r)\n",
        "\n",
        "dump(dtree_model, 'Tree_classifier.joblib') "
      ],
      "execution_count": 170,
      "outputs": [
        {
          "output_type": "execute_result",
          "data": {
            "text/plain": [
              "['Tree_classifier.joblib']"
            ]
          },
          "metadata": {
            "tags": []
          },
          "execution_count": 170
        }
      ]
    },
    {
      "cell_type": "markdown",
      "metadata": {
        "id": "v0K5xoX4Dq7c"
      },
      "source": [
        "## Prediction"
      ]
    },
    {
      "cell_type": "code",
      "metadata": {
        "colab": {
          "base_uri": "https://localhost:8080/",
          "height": 80
        },
        "id": "Dg0Ruo5uDVyN",
        "outputId": "b7f248a1-faf8-4966-d13f-3477c171360d"
      },
      "source": [
        "# Create DataFrame from data to be predicted\n",
        "prediction_df = pd.DataFrame([[1077113, 8, 29, 4947796, 57879, 1, 6, 0]], columns=features)\n",
        "prediction_df"
      ],
      "execution_count": 171,
      "outputs": [
        {
          "output_type": "execute_result",
          "data": {
            "text/html": [
              "<div>\n",
              "<style scoped>\n",
              "    .dataframe tbody tr th:only-of-type {\n",
              "        vertical-align: middle;\n",
              "    }\n",
              "\n",
              "    .dataframe tbody tr th {\n",
              "        vertical-align: top;\n",
              "    }\n",
              "\n",
              "    .dataframe thead th {\n",
              "        text-align: right;\n",
              "    }\n",
              "</style>\n",
              "<table border=\"1\" class=\"dataframe\">\n",
              "  <thead>\n",
              "    <tr style=\"text-align: right;\">\n",
              "      <th></th>\n",
              "      <th>Invested Amount</th>\n",
              "      <th>Successful Attacks</th>\n",
              "      <th>Failed Attacks</th>\n",
              "      <th>Business Value</th>\n",
              "      <th>Number of Employees</th>\n",
              "      <th>Employee Training</th>\n",
              "      <th>Known Vulnerabilities</th>\n",
              "      <th>External Advisor</th>\n",
              "    </tr>\n",
              "  </thead>\n",
              "  <tbody>\n",
              "    <tr>\n",
              "      <th>0</th>\n",
              "      <td>1077113</td>\n",
              "      <td>8</td>\n",
              "      <td>29</td>\n",
              "      <td>4947796</td>\n",
              "      <td>57879</td>\n",
              "      <td>1</td>\n",
              "      <td>6</td>\n",
              "      <td>0</td>\n",
              "    </tr>\n",
              "  </tbody>\n",
              "</table>\n",
              "</div>"
            ],
            "text/plain": [
              "   Invested Amount  Successful Attacks  ...  Known Vulnerabilities  External Advisor\n",
              "0          1077113                   8  ...                      6                 0\n",
              "\n",
              "[1 rows x 8 columns]"
            ]
          },
          "metadata": {
            "tags": []
          },
          "execution_count": 171
        }
      ]
    },
    {
      "cell_type": "code",
      "metadata": {
        "colab": {
          "base_uri": "https://localhost:8080/"
        },
        "id": "hEtL2WYM_LYf",
        "outputId": "e58e9bc4-1f40-491c-b04a-44195ea6e992"
      },
      "source": [
        "predicted_risk = dtree_model.predict(prediction_df)[0]\n",
        "print(\"Predicted RISK is: \" + prediction_result_mapping[predicted_risk])"
      ],
      "execution_count": 172,
      "outputs": [
        {
          "output_type": "stream",
          "text": [
            "Predicted RISK is: MEDIUM\n"
          ],
          "name": "stdout"
        }
      ]
    },
    {
      "cell_type": "markdown",
      "metadata": {
        "id": "tq--wueVRT2V"
      },
      "source": [
        "# Support Vector Machine (SVM) classifier"
      ]
    },
    {
      "cell_type": "code",
      "metadata": {
        "id": "Bw6TcEsVRvCS"
      },
      "source": [
        "from sklearn.svm import LinearSVC, SVC "
      ],
      "execution_count": 193,
      "outputs": []
    },
    {
      "cell_type": "markdown",
      "metadata": {
        "id": "M27Qv-vxR-PC"
      },
      "source": [
        "## Train"
      ]
    },
    {
      "cell_type": "code",
      "metadata": {
        "id": "xZvj-RR8R3p4"
      },
      "source": [
        "# Linear\n",
        "#svm_model = LinearSVC().fit(X_train, y_train)\n",
        "\n",
        "svm_model = SVC(kernel='poly').fit(X_train_normalized, y_train)"
      ],
      "execution_count": 194,
      "outputs": []
    },
    {
      "cell_type": "markdown",
      "metadata": {
        "id": "MzgoC2twSGou"
      },
      "source": [
        "## Evaluate"
      ]
    },
    {
      "cell_type": "code",
      "metadata": {
        "colab": {
          "base_uri": "https://localhost:8080/"
        },
        "id": "SHvrY_WTSO9j",
        "outputId": "0634f3f4-c402-49a1-9e23-46e58adbb2da"
      },
      "source": [
        "accuracy = svm_model.score(X_test_normalized, y_test) \n",
        "\n",
        "print('Accuracy: {0:.2%}'.format(accuracy))"
      ],
      "execution_count": 200,
      "outputs": [
        {
          "output_type": "stream",
          "text": [
            "Accuracy: 97.84%\n"
          ],
          "name": "stdout"
        }
      ]
    },
    {
      "cell_type": "code",
      "metadata": {
        "colab": {
          "base_uri": "https://localhost:8080/",
          "height": 279
        },
        "id": "inO0fhE8StyF",
        "outputId": "bbd67697-d006-4365-be7c-70d335e980ab"
      },
      "source": [
        "plot_confusion_matrix(svm_model, X_test_normalized, y_test)  \n",
        "plt.show()"
      ],
      "execution_count": 202,
      "outputs": [
        {
          "output_type": "display_data",
          "data": {
            "image/png": "[encoded data removed]",
            "text/plain": [
              "<Figure size 432x288 with 2 Axes>"
            ]
          },
          "metadata": {
            "tags": [],
            "needs_background": "light"
          }
        }
      ]
    },
    {
      "cell_type": "markdown",
      "metadata": {
        "id": "AyWsyFoGv92H"
      },
      "source": [
        "## Export"
      ]
    },
    {
      "cell_type": "code",
      "metadata": {
        "id": "vWwDHaMxwANd",
        "colab": {
          "base_uri": "https://localhost:8080/"
        },
        "outputId": "0d413e8f-fff3-44b2-ee74-35609ec1139d"
      },
      "source": [
        "dump(svm_model, 'SVM_classifier.joblib') "
      ],
      "execution_count": 197,
      "outputs": [
        {
          "output_type": "execute_result",
          "data": {
            "text/plain": [
              "['SVM_classifier.joblib']"
            ]
          },
          "metadata": {
            "tags": []
          },
          "execution_count": 197
        }
      ]
    },
    {
      "cell_type": "markdown",
      "metadata": {
        "id": "TsL5MGI2Scsk"
      },
      "source": [
        "## Prediction"
      ]
    },
    {
      "cell_type": "code",
      "metadata": {
        "id": "lgzVe198aOe3",
        "colab": {
          "base_uri": "https://localhost:8080/"
        },
        "outputId": "4bb57d7f-0191-4ac9-ed09-9c5d777425ae"
      },
      "source": [
        "predicted_risk = svm_model.predict(scaler.transform([[1077113, 8, 29, 4947796, 57879, 1, 6, 0]]))[0]\n",
        "print(\"Predicted RISK is: \" + prediction_result_mapping[predicted_risk])"
      ],
      "execution_count": 198,
      "outputs": [
        {
          "output_type": "stream",
          "text": [
            "Predicted RISK is: MEDIUM\n"
          ],
          "name": "stdout"
        }
      ]
    },
    {
      "cell_type": "markdown",
      "metadata": {
        "id": "h6Nun-zRkweH"
      },
      "source": [
        "# K-nearest Neighbours Classifier"
      ]
    },
    {
      "cell_type": "code",
      "metadata": {
        "id": "g419boPkk11J"
      },
      "source": [
        "from sklearn.neighbors import KNeighborsClassifier"
      ],
      "execution_count": 203,
      "outputs": []
    },
    {
      "cell_type": "markdown",
      "metadata": {
        "id": "80VauLEYk-Ab"
      },
      "source": [
        "## Train"
      ]
    },
    {
      "cell_type": "code",
      "metadata": {
        "id": "kMYIfIEMk_Rr"
      },
      "source": [
        "knn = KNeighborsClassifier(n_neighbors = 17).fit(X_train_normalized, y_train) "
      ],
      "execution_count": 204,
      "outputs": []
    },
    {
      "cell_type": "markdown",
      "metadata": {
        "id": "ury_lL8glFBP"
      },
      "source": [
        "## Evaluate"
      ]
    },
    {
      "cell_type": "code",
      "metadata": {
        "colab": {
          "base_uri": "https://localhost:8080/"
        },
        "id": "g3wV1N50lGlb",
        "outputId": "da5e8a55-2ebe-4ef2-b8ea-e9ebaca5b352"
      },
      "source": [
        "accuracy = knn.score(X_test_normalized, y_test) \n",
        "print('Accuracy: {0:.2%}'.format(accuracy))"
      ],
      "execution_count": 205,
      "outputs": [
        {
          "output_type": "stream",
          "text": [
            "Accuracy: 94.16%\n"
          ],
          "name": "stdout"
        }
      ]
    },
    {
      "cell_type": "code",
      "metadata": {
        "colab": {
          "base_uri": "https://localhost:8080/",
          "height": 279
        },
        "id": "xdsPnneFlK4I",
        "outputId": "8706d23b-4f09-458c-ddad-d413ce386dd1"
      },
      "source": [
        "plot_confusion_matrix(knn, X_test_normalized, y_test)  \n",
        "plt.show()"
      ],
      "execution_count": 206,
      "outputs": [
        {
          "output_type": "display_data",
          "data": {
            "image/png": "[encoded data removed]",
            "text/plain": [
              "<Figure size 432x288 with 2 Axes>"
            ]
          },
          "metadata": {
            "tags": [],
            "needs_background": "light"
          }
        }
      ]
    },
    {
      "cell_type": "markdown",
      "metadata": {
        "id": "DXBlr3WdwMCg"
      },
      "source": [
        "## Export"
      ]
    },
    {
      "cell_type": "code",
      "metadata": {
        "colab": {
          "base_uri": "https://localhost:8080/"
        },
        "id": "8expQdoewNvq",
        "outputId": "4994f7f5-670a-44b8-bd0c-edb77f7a3ffa"
      },
      "source": [
        "dump(knn, 'KNN_classifier.joblib') "
      ],
      "execution_count": 207,
      "outputs": [
        {
          "output_type": "execute_result",
          "data": {
            "text/plain": [
              "['KNN_classifier.joblib']"
            ]
          },
          "metadata": {
            "tags": []
          },
          "execution_count": 207
        }
      ]
    },
    {
      "cell_type": "markdown",
      "metadata": {
        "id": "TASducYTs27s"
      },
      "source": [
        "## Prediction"
      ]
    },
    {
      "cell_type": "code",
      "metadata": {
        "colab": {
          "base_uri": "https://localhost:8080/"
        },
        "id": "WtQjtAOcs-ID",
        "outputId": "eb26abb7-8b5d-49cd-fa0e-5b90a97e5858"
      },
      "source": [
        "predicted_risk = knn.predict(scaler.transform([[1077113, 8, 29, 4947796, 57879, 1, 6, 0]]))[0]\n",
        "print(\"Predicted RISK is: \" + prediction_result_mapping[predicted_risk])"
      ],
      "execution_count": 208,
      "outputs": [
        {
          "output_type": "stream",
          "text": [
            "Predicted RISK is: MEDIUM\n"
          ],
          "name": "stdout"
        }
      ]
    },
    {
      "cell_type": "markdown",
      "metadata": {
        "id": "t6WO67S-A9il"
      },
      "source": [
        "# Multilayer Perceptron (MLP) using Backpropagation"
      ]
    },
    {
      "cell_type": "code",
      "metadata": {
        "id": "0xlIU84RBKX-"
      },
      "source": [
        "from sklearn.neural_network import MLPClassifier"
      ],
      "execution_count": 209,
      "outputs": []
    },
    {
      "cell_type": "code",
      "metadata": {
        "id": "14ShmPsoBTfm"
      },
      "source": [
        "clf = MLPClassifier(activation='tanh', solver='lbfgs', alpha=1e-5, hidden_layer_sizes=(5, 2), max_iter=10000)"
      ],
      "execution_count": 210,
      "outputs": []
    },
    {
      "cell_type": "markdown",
      "metadata": {
        "id": "heNQGEc9BJGk"
      },
      "source": [
        "## Train"
      ]
    },
    {
      "cell_type": "code",
      "metadata": {
        "id": "nhSBolqVBe5s",
        "colab": {
          "base_uri": "https://localhost:8080/"
        },
        "outputId": "facb9f24-a5ef-4da7-cd17-14a70ab4a399"
      },
      "source": [
        "clf.fit(X_train_normalized, y_train)"
      ],
      "execution_count": 211,
      "outputs": [
        {
          "output_type": "execute_result",
          "data": {
            "text/plain": [
              "MLPClassifier(activation='tanh', alpha=1e-05, batch_size='auto', beta_1=0.9,\n",
              "              beta_2=0.999, early_stopping=False, epsilon=1e-08,\n",
              "              hidden_layer_sizes=(5, 2), learning_rate='constant',\n",
              "              learning_rate_init=0.001, max_fun=15000, max_iter=10000,\n",
              "              momentum=0.9, n_iter_no_change=10, nesterovs_momentum=True,\n",
              "              power_t=0.5, random_state=None, shuffle=True, solver='lbfgs',\n",
              "              tol=0.0001, validation_fraction=0.1, verbose=False,\n",
              "              warm_start=False)"
            ]
          },
          "metadata": {
            "tags": []
          },
          "execution_count": 211
        }
      ]
    },
    {
      "cell_type": "markdown",
      "metadata": {
        "id": "pk-oY6mqBx6u"
      },
      "source": [
        "## Evaluate"
      ]
    },
    {
      "cell_type": "code",
      "metadata": {
        "id": "QeRwdI0FBzxi",
        "colab": {
          "base_uri": "https://localhost:8080/"
        },
        "outputId": "8b3fa9e7-a3ab-4688-b685-1f97264213cd"
      },
      "source": [
        "accuracy = clf.score(X_test_normalized, y_test) \n",
        "\n",
        "print('Accuracy: {0:.2%}'.format(accuracy))\n",
        "\n",
        "# lbfgs\n",
        "# identity -> 90.72%\n",
        "# logistic -> 98.88%\n",
        "# tanh -> 99.68%\n",
        "# relu -> 62.08%\n",
        "\n",
        "\n",
        "# sgd\n",
        "# identity -> 90.48%\n",
        "# logistic -> 62.08%\n",
        "# tanh -> 98.24%\n",
        "# relu -> 62.08%\n",
        "\n",
        "# adam\n",
        "# identity -> 90.88%\n",
        "# logistic -> 98.48%\n",
        "# tanh -> 99.04%\n",
        "# relu -> 98.88%"
      ],
      "execution_count": 212,
      "outputs": [
        {
          "output_type": "stream",
          "text": [
            "Accuracy: 99.68%\n"
          ],
          "name": "stdout"
        }
      ]
    },
    {
      "cell_type": "code",
      "metadata": {
        "id": "YVKeIhlOCN9Q",
        "colab": {
          "base_uri": "https://localhost:8080/",
          "height": 279
        },
        "outputId": "df391554-92ef-4484-fee7-e237a6edfb1f"
      },
      "source": [
        "plot_confusion_matrix(clf, X_test_normalized, y_test)  \n",
        "plt.show()"
      ],
      "execution_count": 213,
      "outputs": [
        {
          "output_type": "display_data",
          "data": {
            "image/png": "[encoded data removed]",
            "text/plain": [
              "<Figure size 432x288 with 2 Axes>"
            ]
          },
          "metadata": {
            "tags": [],
            "needs_background": "light"
          }
        }
      ]
    },
    {
      "cell_type": "markdown",
      "metadata": {
        "id": "GYKHF_jWCqxx"
      },
      "source": [
        "## Export"
      ]
    },
    {
      "cell_type": "code",
      "metadata": {
        "id": "5UNgMCQ9Cr9A",
        "colab": {
          "base_uri": "https://localhost:8080/"
        },
        "outputId": "c19e2ad8-2c31-4666-c7fe-fd29162b17eb"
      },
      "source": [
        "dump(clf, 'MLP_back.joblib') "
      ],
      "execution_count": 214,
      "outputs": [
        {
          "output_type": "execute_result",
          "data": {
            "text/plain": [
              "['MLP_back.joblib']"
            ]
          },
          "metadata": {
            "tags": []
          },
          "execution_count": 214
        }
      ]
    },
    {
      "cell_type": "markdown",
      "metadata": {
        "id": "8RdkYgONC1M5"
      },
      "source": [
        "## Prediction"
      ]
    },
    {
      "cell_type": "code",
      "metadata": {
        "id": "_3ehYsrbC0ki",
        "colab": {
          "base_uri": "https://localhost:8080/"
        },
        "outputId": "257aa88b-72ae-4d53-b10f-4ffc5900fe2f"
      },
      "source": [
        "predicted_risk = clf.predict(scaler.transform([[1077113, 8, 29, 4947796, 57879, 1, 6, 0]]))[0]\n",
        "print(\"Predicted RISK is: \" + prediction_result_mapping[predicted_risk])"
      ],
      "execution_count": 215,
      "outputs": [
        {
          "output_type": "stream",
          "text": [
            "Predicted RISK is: MEDIUM\n"
          ],
          "name": "stdout"
        }
      ]
    }
  ]
}