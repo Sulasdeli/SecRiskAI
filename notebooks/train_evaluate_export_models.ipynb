{
 "cells": [
  {
   "cell_type": "code",
   "execution_count": 106,
   "metadata": {
    "id": "PpHjojtsm3el"
   },
   "outputs": [],
   "source": [
    "import os\n",
    "import random\n",
    "import pandas as pd\n",
    "import numpy\n",
    "from sklearn.model_selection import train_test_split\n",
    "from sklearn.metrics import plot_confusion_matrix, ConfusionMatrixDisplay\n",
    "import matplotlib.pyplot as plt\n",
    "from sklearn.tree import export_text\n",
    "from joblib import dump, load\n",
    "from tqdm import tqdm\n",
    "from wandb.sklearn import plot_learning_curve\n",
    "import time\n",
    "\n",
    "MODEL_OUTPUT_PATH = \"../src/models/\"\n",
    "SCALER_OUTPUT_PATH = \"../src/scaler/\""
   ]
  },
  {
   "cell_type": "markdown",
   "metadata": {
    "id": "zNZraghsm_y-"
   },
   "source": [
    "# Data Generation"
   ]
  },
  {
   "cell_type": "code",
   "execution_count": 107,
   "metadata": {
    "id": "-aiRIsuQnEz9"
   },
   "outputs": [],
   "source": [
    "columns = ['Invested Amount', 'Successful Attacks', 'Failed Attacks', 'Business Value', 'Number of Employees', 'Employee Training', 'Known Vulnerabilities', 'External Advisor', 'Risk']\n",
    "features = columns[:-1]\n",
    "LEVELS = [\"LOW\", \"MEDIUM\", \"HIGH\"]\n",
    "prediction_result_mapping = {0: \"LOW\", 1: \"MEDIUM\", 2: \"HIGH\"}"
   ]
  },
  {
   "cell_type": "code",
   "execution_count": 108,
   "metadata": {
    "id": "pcZiySYynFMr"
   },
   "outputs": [],
   "source": [
    "def generate_data(nr_entries = 1000, min_empl = 30, max_empl = 90000, min_nr_attacks = 0, nr_attacks = 50, \n",
    "                  avg_business_value = 5000000, std_business_value = 50000, max_invested_perc = 0.3, max_nr_vulnerabilities = 10):\n",
    "    df = pd.DataFrame(columns=columns)\n",
    "    for i in tqdm(range(0, nr_entries)):\n",
    "        nr_employees = random.randint(min_empl, max_empl)\n",
    "        employees_training = random.choice(LEVELS)\n",
    "        failed_attack = random.randrange(nr_attacks)\n",
    "        succ_attack = random.randrange(nr_attacks)\n",
    "        business_value = int(numpy.random.normal(loc=avg_business_value, scale=std_business_value))\n",
    "        invested_perc = random.uniform(0, max_invested_perc)\n",
    "        invested_amount = int(invested_perc * business_value)\n",
    "        known_vulnerabilities = random.randrange(max_nr_vulnerabilities)\n",
    "        external_adv = \"NO\" if (i % 2) == 0 else \"YES\"\n",
    "\n",
    "        # Risk is computed based on the other parameters and is then categorized using 'get_categorized_risk'\n",
    "        computed_risk = invested_perc - (succ_attack / nr_attacks) + (nr_employees / max_empl) * LEVELS.index(employees_training) - (known_vulnerabilities / max_nr_vulnerabilities) + (i % 2)\n",
    "        \n",
    "        df.loc[i] = [invested_amount, succ_attack, failed_attack, business_value, nr_employees, employees_training, known_vulnerabilities, external_adv, get_categorized_risk(computed_risk)]\n",
    "    return df\n",
    "\n",
    "def get_categorized_risk(weighted_risk, low_medium_boundary = 1.0, medium_high_boundary = 0.0):\n",
    "  if weighted_risk >= low_medium_boundary:\n",
    "      return \"LOW\"\n",
    "  elif weighted_risk >= medium_high_boundary and weighted_risk < low_medium_boundary:\n",
    "      return \"MEDIUM\"\n",
    "  else:\n",
    "      return \"HIGH\""
   ]
  },
  {
   "cell_type": "code",
   "execution_count": 170,
   "metadata": {
    "id": "rLn7TsxAnHvG"
   },
   "outputs": [
    {
     "name": "stderr",
     "output_type": "stream",
     "text": [
      "100%|██████████| 100000/100000 [23:38<00:00, 70.48it/s]\n"
     ]
    }
   ],
   "source": [
    "data = generate_data(nr_entries = 100000)"
   ]
  },
  {
   "cell_type": "code",
   "execution_count": 174,
   "metadata": {
    "colab": {
     "base_uri": "https://localhost:8080/"
    },
    "id": "joncs4RGRcM2",
    "outputId": "f503faa8-476c-4000-be3b-650e94611d5d"
   },
   "outputs": [
    {
     "data": {
      "text/html": [
       "<div>\n",
       "<style scoped>\n",
       "    .dataframe tbody tr th:only-of-type {\n",
       "        vertical-align: middle;\n",
       "    }\n",
       "\n",
       "    .dataframe tbody tr th {\n",
       "        vertical-align: top;\n",
       "    }\n",
       "\n",
       "    .dataframe thead th {\n",
       "        text-align: right;\n",
       "    }\n",
       "</style>\n",
       "<table border=\"1\" class=\"dataframe\">\n",
       "  <thead>\n",
       "    <tr style=\"text-align: right;\">\n",
       "      <th></th>\n",
       "      <th>Invested Amount</th>\n",
       "      <th>Successful Attacks</th>\n",
       "      <th>Failed Attacks</th>\n",
       "      <th>Business Value</th>\n",
       "      <th>Number of Employees</th>\n",
       "      <th>Employee Training</th>\n",
       "      <th>Known Vulnerabilities</th>\n",
       "      <th>External Advisor</th>\n",
       "      <th>Risk</th>\n",
       "    </tr>\n",
       "  </thead>\n",
       "  <tbody>\n",
       "    <tr>\n",
       "      <th>0</th>\n",
       "      <td>131223</td>\n",
       "      <td>33</td>\n",
       "      <td>44</td>\n",
       "      <td>4890813</td>\n",
       "      <td>73649</td>\n",
       "      <td>HIGH</td>\n",
       "      <td>0</td>\n",
       "      <td>NO</td>\n",
       "      <td>LOW</td>\n",
       "    </tr>\n",
       "    <tr>\n",
       "      <th>1</th>\n",
       "      <td>963097</td>\n",
       "      <td>42</td>\n",
       "      <td>34</td>\n",
       "      <td>5043580</td>\n",
       "      <td>8084</td>\n",
       "      <td>HIGH</td>\n",
       "      <td>5</td>\n",
       "      <td>YES</td>\n",
       "      <td>MEDIUM</td>\n",
       "    </tr>\n",
       "    <tr>\n",
       "      <th>2</th>\n",
       "      <td>1359039</td>\n",
       "      <td>38</td>\n",
       "      <td>28</td>\n",
       "      <td>5001398</td>\n",
       "      <td>4520</td>\n",
       "      <td>LOW</td>\n",
       "      <td>5</td>\n",
       "      <td>NO</td>\n",
       "      <td>HIGH</td>\n",
       "    </tr>\n",
       "    <tr>\n",
       "      <th>3</th>\n",
       "      <td>691611</td>\n",
       "      <td>13</td>\n",
       "      <td>49</td>\n",
       "      <td>4965270</td>\n",
       "      <td>72774</td>\n",
       "      <td>LOW</td>\n",
       "      <td>5</td>\n",
       "      <td>YES</td>\n",
       "      <td>MEDIUM</td>\n",
       "    </tr>\n",
       "    <tr>\n",
       "      <th>4</th>\n",
       "      <td>376388</td>\n",
       "      <td>38</td>\n",
       "      <td>17</td>\n",
       "      <td>4934618</td>\n",
       "      <td>68223</td>\n",
       "      <td>LOW</td>\n",
       "      <td>1</td>\n",
       "      <td>NO</td>\n",
       "      <td>HIGH</td>\n",
       "    </tr>\n",
       "  </tbody>\n",
       "</table>\n",
       "</div>"
      ],
      "text/plain": [
       "  Invested Amount Successful Attacks Failed Attacks Business Value  \\\n",
       "0          131223                 33             44        4890813   \n",
       "1          963097                 42             34        5043580   \n",
       "2         1359039                 38             28        5001398   \n",
       "3          691611                 13             49        4965270   \n",
       "4          376388                 38             17        4934618   \n",
       "\n",
       "  Number of Employees Employee Training Known Vulnerabilities  \\\n",
       "0               73649              HIGH                     0   \n",
       "1                8084              HIGH                     5   \n",
       "2                4520               LOW                     5   \n",
       "3               72774               LOW                     5   \n",
       "4               68223               LOW                     1   \n",
       "\n",
       "  External Advisor    Risk  \n",
       "0               NO     LOW  \n",
       "1              YES  MEDIUM  \n",
       "2               NO    HIGH  \n",
       "3              YES  MEDIUM  \n",
       "4               NO    HIGH  "
      ]
     },
     "execution_count": 174,
     "metadata": {},
     "output_type": "execute_result"
    }
   ],
   "source": [
    "data.head()"
   ]
  },
  {
   "cell_type": "code",
   "execution_count": 176,
   "metadata": {
    "colab": {
     "base_uri": "https://localhost:8080/"
    },
    "id": "o8JKzDQdRSbx",
    "outputId": "2ab31575-3681-44f1-b876-faea60f303a8"
   },
   "outputs": [
    {
     "data": {
      "text/html": [
       "<div>\n",
       "<style scoped>\n",
       "    .dataframe tbody tr th:only-of-type {\n",
       "        vertical-align: middle;\n",
       "    }\n",
       "\n",
       "    .dataframe tbody tr th {\n",
       "        vertical-align: top;\n",
       "    }\n",
       "\n",
       "    .dataframe thead th {\n",
       "        text-align: right;\n",
       "    }\n",
       "</style>\n",
       "<table border=\"1\" class=\"dataframe\">\n",
       "  <thead>\n",
       "    <tr style=\"text-align: right;\">\n",
       "      <th></th>\n",
       "      <th>Invested Amount</th>\n",
       "      <th>Successful Attacks</th>\n",
       "      <th>Failed Attacks</th>\n",
       "      <th>Business Value</th>\n",
       "      <th>Number of Employees</th>\n",
       "      <th>Employee Training</th>\n",
       "      <th>Known Vulnerabilities</th>\n",
       "      <th>External Advisor</th>\n",
       "      <th>Risk</th>\n",
       "    </tr>\n",
       "  </thead>\n",
       "  <tbody>\n",
       "    <tr>\n",
       "      <th>count</th>\n",
       "      <td>100000</td>\n",
       "      <td>100000</td>\n",
       "      <td>100000</td>\n",
       "      <td>100000</td>\n",
       "      <td>100000</td>\n",
       "      <td>100000</td>\n",
       "      <td>100000</td>\n",
       "      <td>100000</td>\n",
       "      <td>100000</td>\n",
       "    </tr>\n",
       "    <tr>\n",
       "      <th>unique</th>\n",
       "      <td>96695</td>\n",
       "      <td>50</td>\n",
       "      <td>50</td>\n",
       "      <td>76936</td>\n",
       "      <td>60502</td>\n",
       "      <td>3</td>\n",
       "      <td>10</td>\n",
       "      <td>2</td>\n",
       "      <td>3</td>\n",
       "    </tr>\n",
       "    <tr>\n",
       "      <th>top</th>\n",
       "      <td>656896</td>\n",
       "      <td>21</td>\n",
       "      <td>42</td>\n",
       "      <td>5024014</td>\n",
       "      <td>58685</td>\n",
       "      <td>MEDIUM</td>\n",
       "      <td>6</td>\n",
       "      <td>NO</td>\n",
       "      <td>HIGH</td>\n",
       "    </tr>\n",
       "    <tr>\n",
       "      <th>freq</th>\n",
       "      <td>3</td>\n",
       "      <td>2083</td>\n",
       "      <td>2120</td>\n",
       "      <td>6</td>\n",
       "      <td>8</td>\n",
       "      <td>33575</td>\n",
       "      <td>10122</td>\n",
       "      <td>50000</td>\n",
       "      <td>42203</td>\n",
       "    </tr>\n",
       "  </tbody>\n",
       "</table>\n",
       "</div>"
      ],
      "text/plain": [
       "        Invested Amount  Successful Attacks  Failed Attacks  Business Value  \\\n",
       "count            100000              100000          100000          100000   \n",
       "unique            96695                  50              50           76936   \n",
       "top              656896                  21              42         5024014   \n",
       "freq                  3                2083            2120               6   \n",
       "\n",
       "        Number of Employees Employee Training  Known Vulnerabilities  \\\n",
       "count                100000            100000                 100000   \n",
       "unique                60502                 3                     10   \n",
       "top                   58685            MEDIUM                      6   \n",
       "freq                      8             33575                  10122   \n",
       "\n",
       "       External Advisor    Risk  \n",
       "count            100000  100000  \n",
       "unique                2       3  \n",
       "top                  NO    HIGH  \n",
       "freq              50000   42203  "
      ]
     },
     "execution_count": 176,
     "metadata": {},
     "output_type": "execute_result"
    }
   ],
   "source": [
    "data.describe()"
   ]
  },
  {
   "cell_type": "markdown",
   "metadata": {
    "id": "j5jzupOcf4YK"
   },
   "source": [
    "## Data Export as .csv"
   ]
  },
  {
   "cell_type": "code",
   "execution_count": 7,
   "metadata": {
    "id": "8gE5LaXovjIc"
   },
   "outputs": [],
   "source": [
    "data.to_csv('data.csv')"
   ]
  },
  {
   "cell_type": "markdown",
   "metadata": {
    "id": "pLNjIGy823fN"
   },
   "source": [
    "# Data Processing"
   ]
  },
  {
   "cell_type": "markdown",
   "metadata": {
    "id": "9N28npkjgT6A"
   },
   "source": [
    "## Categorization Step"
   ]
  },
  {
   "cell_type": "code",
   "execution_count": 177,
   "metadata": {
    "id": "GV0F9aKHTN9F"
   },
   "outputs": [
    {
     "name": "stdout",
     "output_type": "stream",
     "text": [
      "Categorization time: 0.13099288940429688s\n"
     ]
    }
   ],
   "source": [
    "start = time.time()\n",
    "\n",
    "levels_mapping = { 'LOW': 0, 'MEDIUM': 1, 'HIGH': 2 }\n",
    "advisor_mapping = { 'NO': 0, 'YES': 1 }\n",
    "\n",
    "data = data.replace({'Employee Training': levels_mapping, 'Risk': levels_mapping, 'External Advisor': advisor_mapping})\n",
    "\n",
    "stop = time.time()\n",
    "print(f\"Categorization time: {stop - start}s\")"
   ]
  },
  {
   "cell_type": "code",
   "execution_count": 178,
   "metadata": {
    "colab": {
     "base_uri": "https://localhost:8080/"
    },
    "id": "wVxuzRnAUGr3",
    "outputId": "805b70a0-6a54-4f9e-cacb-2fa2cfa15f43"
   },
   "outputs": [
    {
     "data": {
      "text/html": [
       "<div>\n",
       "<style scoped>\n",
       "    .dataframe tbody tr th:only-of-type {\n",
       "        vertical-align: middle;\n",
       "    }\n",
       "\n",
       "    .dataframe tbody tr th {\n",
       "        vertical-align: top;\n",
       "    }\n",
       "\n",
       "    .dataframe thead th {\n",
       "        text-align: right;\n",
       "    }\n",
       "</style>\n",
       "<table border=\"1\" class=\"dataframe\">\n",
       "  <thead>\n",
       "    <tr style=\"text-align: right;\">\n",
       "      <th></th>\n",
       "      <th>Invested Amount</th>\n",
       "      <th>Successful Attacks</th>\n",
       "      <th>Failed Attacks</th>\n",
       "      <th>Business Value</th>\n",
       "      <th>Number of Employees</th>\n",
       "      <th>Employee Training</th>\n",
       "      <th>Known Vulnerabilities</th>\n",
       "      <th>External Advisor</th>\n",
       "      <th>Risk</th>\n",
       "    </tr>\n",
       "  </thead>\n",
       "  <tbody>\n",
       "    <tr>\n",
       "      <th>0</th>\n",
       "      <td>131223</td>\n",
       "      <td>33</td>\n",
       "      <td>44</td>\n",
       "      <td>4890813</td>\n",
       "      <td>73649</td>\n",
       "      <td>2</td>\n",
       "      <td>0</td>\n",
       "      <td>0</td>\n",
       "      <td>0</td>\n",
       "    </tr>\n",
       "    <tr>\n",
       "      <th>1</th>\n",
       "      <td>963097</td>\n",
       "      <td>42</td>\n",
       "      <td>34</td>\n",
       "      <td>5043580</td>\n",
       "      <td>8084</td>\n",
       "      <td>2</td>\n",
       "      <td>5</td>\n",
       "      <td>1</td>\n",
       "      <td>1</td>\n",
       "    </tr>\n",
       "    <tr>\n",
       "      <th>2</th>\n",
       "      <td>1359039</td>\n",
       "      <td>38</td>\n",
       "      <td>28</td>\n",
       "      <td>5001398</td>\n",
       "      <td>4520</td>\n",
       "      <td>0</td>\n",
       "      <td>5</td>\n",
       "      <td>0</td>\n",
       "      <td>2</td>\n",
       "    </tr>\n",
       "    <tr>\n",
       "      <th>3</th>\n",
       "      <td>691611</td>\n",
       "      <td>13</td>\n",
       "      <td>49</td>\n",
       "      <td>4965270</td>\n",
       "      <td>72774</td>\n",
       "      <td>0</td>\n",
       "      <td>5</td>\n",
       "      <td>1</td>\n",
       "      <td>1</td>\n",
       "    </tr>\n",
       "    <tr>\n",
       "      <th>4</th>\n",
       "      <td>376388</td>\n",
       "      <td>38</td>\n",
       "      <td>17</td>\n",
       "      <td>4934618</td>\n",
       "      <td>68223</td>\n",
       "      <td>0</td>\n",
       "      <td>1</td>\n",
       "      <td>0</td>\n",
       "      <td>2</td>\n",
       "    </tr>\n",
       "  </tbody>\n",
       "</table>\n",
       "</div>"
      ],
      "text/plain": [
       "  Invested Amount Successful Attacks Failed Attacks Business Value  \\\n",
       "0          131223                 33             44        4890813   \n",
       "1          963097                 42             34        5043580   \n",
       "2         1359039                 38             28        5001398   \n",
       "3          691611                 13             49        4965270   \n",
       "4          376388                 38             17        4934618   \n",
       "\n",
       "  Number of Employees  Employee Training Known Vulnerabilities  \\\n",
       "0               73649                  2                     0   \n",
       "1                8084                  2                     5   \n",
       "2                4520                  0                     5   \n",
       "3               72774                  0                     5   \n",
       "4               68223                  0                     1   \n",
       "\n",
       "   External Advisor  Risk  \n",
       "0                 0     0  \n",
       "1                 1     1  \n",
       "2                 0     2  \n",
       "3                 1     1  \n",
       "4                 0     2  "
      ]
     },
     "execution_count": 178,
     "metadata": {},
     "output_type": "execute_result"
    }
   ],
   "source": [
    "data.head()"
   ]
  },
  {
   "cell_type": "markdown",
   "metadata": {
    "id": "XC3ojrafgOeX"
   },
   "source": [
    "## Normalization Step - using scaler"
   ]
  },
  {
   "cell_type": "code",
   "execution_count": 417,
   "metadata": {
    "colab": {
     "base_uri": "https://localhost:8080/"
    },
    "id": "7a32suNR26Bm",
    "outputId": "4a7e29e3-ea24-46a3-82c3-5c7143ba0b1c"
   },
   "outputs": [],
   "source": [
    "from sklearn.preprocessing import StandardScaler, MinMaxScaler\n",
    "\n",
    "# Used for Tensorflow model\n",
    "normalized_data = data[features].apply(lambda x: ( (x - x.min()) / (x.max() - x.min())))\n",
    "normalized_data.head()\n",
    "\n",
    "\n",
    "# Used for the scikit models\n",
    "#data = pd.read_csv(\"data.csv\")\n",
    "data.head()\n",
    "X_train, X_test, y_train, y_test = train_test_split(data[features].values, data[\"Risk\"].values, random_state=0)\n",
    "\n",
    "scaler = MinMaxScaler()\n",
    "scaler.fit(X_train)\n",
    "\n",
    "# Normalited Data\n",
    "X = data[features]\n",
    "Y = data[\"Risk\"]\n",
    "X_normalized = scaler.transform(data[features])\n",
    "\n",
    "\n",
    "# Normalized Splitted Data\n",
    "X_train_normalized = scaler.transform(X_train)\n",
    "X_test_normalized = scaler.transform(X_test)"
   ]
  },
  {
   "cell_type": "code",
   "execution_count": null,
   "metadata": {},
   "outputs": [],
   "source": [
    "dump(scaler, SCALER_OUTPUT_PATH + 'MinMaxScaler.joblib') "
   ]
  },
  {
   "cell_type": "markdown",
   "metadata": {
    "id": "CcxkNU9NnM8p"
   },
   "source": [
    "# Deep Neural Network Classifier"
   ]
  },
  {
   "cell_type": "code",
   "execution_count": 20,
   "metadata": {
    "colab": {
     "base_uri": "https://localhost:8080/"
    },
    "id": "utNWa3s01wAg",
    "outputId": "27426d75-0d08-4f46-d45f-e2ae45b31389"
   },
   "outputs": [
    {
     "name": "stdout",
     "output_type": "stream",
     "text": [
      "\u001b[31mERROR: Could not find a version that satisfies the requirement tensorflow\u001b[0m\r\n",
      "\u001b[31mERROR: No matching distribution found for tensorflow\u001b[0m\r\n"
     ]
    },
    {
     "ename": "ModuleNotFoundError",
     "evalue": "No module named 'tensorflow'",
     "output_type": "error",
     "traceback": [
      "\u001b[0;31m---------------------------------------------------------------------------\u001b[0m",
      "\u001b[0;31mModuleNotFoundError\u001b[0m                       Traceback (most recent call last)",
      "\u001b[0;32m<ipython-input-20-ae42ffdc9f90>\u001b[0m in \u001b[0;36m<module>\u001b[0;34m\u001b[0m\n\u001b[1;32m      1\u001b[0m \u001b[0mget_ipython\u001b[0m\u001b[0;34m(\u001b[0m\u001b[0;34m)\u001b[0m\u001b[0;34m.\u001b[0m\u001b[0msystem\u001b[0m\u001b[0;34m(\u001b[0m\u001b[0;34m'pip3 install tensorflow'\u001b[0m\u001b[0;34m)\u001b[0m\u001b[0;34m\u001b[0m\u001b[0;34m\u001b[0m\u001b[0m\n\u001b[0;32m----> 2\u001b[0;31m \u001b[0;32mimport\u001b[0m \u001b[0mtensorflow\u001b[0m \u001b[0;32mas\u001b[0m \u001b[0mtf\u001b[0m\u001b[0;34m\u001b[0m\u001b[0;34m\u001b[0m\u001b[0m\n\u001b[0m\u001b[1;32m      3\u001b[0m \u001b[0mprint\u001b[0m\u001b[0;34m(\u001b[0m\u001b[0mtf\u001b[0m\u001b[0;34m.\u001b[0m\u001b[0m__version__\u001b[0m\u001b[0;34m)\u001b[0m\u001b[0;34m\u001b[0m\u001b[0;34m\u001b[0m\u001b[0m\n",
      "\u001b[0;31mModuleNotFoundError\u001b[0m: No module named 'tensorflow'"
     ]
    }
   ],
   "source": [
    "!pip3 install tensorflow\n",
    "import tensorflow as tf\n",
    "print(tf.__version__)"
   ]
  },
  {
   "cell_type": "code",
   "execution_count": null,
   "metadata": {
    "id": "WffwogDxmSrE"
   },
   "outputs": [],
   "source": [
    "# Define the training inputs\n",
    "def get_train_inputs():\n",
    "    x = { feature_name: tf.constant(X_train, dtype=tf.float64)}\n",
    "    y = tf.constant(y_train, dtype=tf.int32)\n",
    "    return x, y\n",
    "\n",
    "# Define the test inputs\n",
    "def get_test_inputs():\n",
    "    x = { feature_name: tf.constant(X_test, dtype=tf.float64)}\n",
    "    y = tf.constant(y_test, dtype=tf.int32)\n",
    "    return x, y"
   ]
  },
  {
   "cell_type": "code",
   "execution_count": null,
   "metadata": {
    "id": "HlgrfGhqnJHs"
   },
   "outputs": [],
   "source": [
    "X_train, X_test, y_train, y_test = train_test_split(normalized_data[features].values, data[\"Risk\"].values, test_size=0.35)"
   ]
  },
  {
   "cell_type": "code",
   "execution_count": null,
   "metadata": {
    "id": "PqQffZ211V-r"
   },
   "outputs": [],
   "source": [
    "# Specify that all features have real-value data\n",
    "feature_name = \"risk_features\"\n",
    "feature_columns = [tf.feature_column.numeric_column(feature_name, \n",
    "                                                    shape=len(features))]"
   ]
  },
  {
   "cell_type": "code",
   "execution_count": null,
   "metadata": {
    "colab": {
     "base_uri": "https://localhost:8080/"
    },
    "id": "fM_UP3Ny7bH-",
    "outputId": "3fca8f04-3007-4865-8fd6-64a6d2484216"
   },
   "outputs": [
    {
     "name": "stdout",
     "output_type": "stream",
     "text": [
      "INFO:tensorflow:Using default config.\n",
      "WARNING:tensorflow:Using temporary folder as model directory: /tmp/tmpecea5k00\n",
      "INFO:tensorflow:Using config: {'_model_dir': '/tmp/tmpecea5k00', '_tf_random_seed': None, '_save_summary_steps': 100, '_save_checkpoints_steps': None, '_save_checkpoints_secs': 600, '_session_config': allow_soft_placement: true\n",
      "graph_options {\n",
      "  rewrite_options {\n",
      "    meta_optimizer_iterations: ONE\n",
      "  }\n",
      "}\n",
      ", '_keep_checkpoint_max': 5, '_keep_checkpoint_every_n_hours': 10000, '_log_step_count_steps': 100, '_train_distribute': None, '_device_fn': None, '_protocol': None, '_eval_distribute': None, '_experimental_distribute': None, '_experimental_max_worker_delay_secs': None, '_session_creation_timeout_secs': 7200, '_checkpoint_save_graph_def': True, '_service': None, '_cluster_spec': ClusterSpec({}), '_task_type': 'worker', '_task_id': 0, '_global_id_in_cluster': 0, '_master': '', '_evaluation_master': '', '_is_chief': True, '_num_ps_replicas': 0, '_num_worker_replicas': 1}\n"
     ]
    }
   ],
   "source": [
    "# Build 5 layer DNN with 512, 256, 128, 64, 32 units respectively.\n",
    "classifier = tf.estimator.DNNClassifier(feature_columns=feature_columns,\n",
    "                                            hidden_units=[10, 5, 3],\n",
    "                                            n_classes=3)"
   ]
  },
  {
   "cell_type": "markdown",
   "metadata": {
    "id": "iQEuHrLBer8f"
   },
   "source": [
    "## Train"
   ]
  },
  {
   "cell_type": "code",
   "execution_count": null,
   "metadata": {
    "colab": {
     "base_uri": "https://localhost:8080/"
    },
    "id": "FP9K2lTz77fu",
    "outputId": "cecedbac-b49b-4205-8364-6c39c9550510"
   },
   "outputs": [
    {
     "name": "stdout",
     "output_type": "stream",
     "text": [
      "WARNING:tensorflow:From /usr/local/lib/python3.6/dist-packages/tensorflow/python/training/training_util.py:236: Variable.initialized_value (from tensorflow.python.ops.variables) is deprecated and will be removed in a future version.\n",
      "Instructions for updating:\n",
      "Use Variable.read_value. Variables in 2.X are initialized automatically both in eager and graph (inside tf.defun) contexts.\n",
      "INFO:tensorflow:Calling model_fn.\n",
      "WARNING:tensorflow:From /usr/local/lib/python3.6/dist-packages/tensorflow/python/keras/optimizer_v2/adagrad.py:83: calling Constant.__init__ (from tensorflow.python.ops.init_ops) with dtype is deprecated and will be removed in a future version.\n",
      "Instructions for updating:\n",
      "Call initializer instance with the dtype argument instead of passing it to the constructor\n",
      "INFO:tensorflow:Done calling model_fn.\n",
      "INFO:tensorflow:Create CheckpointSaverHook.\n",
      "INFO:tensorflow:Graph was finalized.\n",
      "INFO:tensorflow:Running local_init_op.\n",
      "INFO:tensorflow:Done running local_init_op.\n",
      "INFO:tensorflow:Calling checkpoint listeners before saving checkpoint 0...\n",
      "INFO:tensorflow:Saving checkpoints for 0 into /tmp/tmpecea5k00/model.ckpt.\n",
      "INFO:tensorflow:Calling checkpoint listeners after saving checkpoint 0...\n",
      "INFO:tensorflow:loss = 1.1058244, step = 0\n",
      "INFO:tensorflow:global_step/sec: 7.23013\n",
      "INFO:tensorflow:loss = 0.9889312, step = 100 (13.836 sec)\n",
      "INFO:tensorflow:global_step/sec: 7.27287\n",
      "INFO:tensorflow:loss = 0.91795915, step = 200 (13.749 sec)\n",
      "INFO:tensorflow:global_step/sec: 7.26097\n",
      "INFO:tensorflow:loss = 0.87107724, step = 300 (13.772 sec)\n",
      "INFO:tensorflow:global_step/sec: 7.25907\n",
      "INFO:tensorflow:loss = 0.83665776, step = 400 (13.777 sec)\n",
      "INFO:tensorflow:global_step/sec: 7.27024\n",
      "INFO:tensorflow:loss = 0.80735725, step = 500 (13.751 sec)\n",
      "INFO:tensorflow:global_step/sec: 7.27454\n",
      "INFO:tensorflow:loss = 0.778485, step = 600 (13.746 sec)\n",
      "INFO:tensorflow:global_step/sec: 7.23832\n",
      "INFO:tensorflow:loss = 0.7475024, step = 700 (13.820 sec)\n",
      "INFO:tensorflow:global_step/sec: 7.2686\n",
      "INFO:tensorflow:loss = 0.7144911, step = 800 (13.757 sec)\n",
      "INFO:tensorflow:global_step/sec: 7.24744\n",
      "INFO:tensorflow:loss = 0.6800972, step = 900 (13.797 sec)\n",
      "INFO:tensorflow:global_step/sec: 7.25887\n",
      "INFO:tensorflow:loss = 0.6457419, step = 1000 (13.775 sec)\n",
      "INFO:tensorflow:global_step/sec: 7.2605\n",
      "INFO:tensorflow:loss = 0.61231065, step = 1100 (13.772 sec)\n",
      "INFO:tensorflow:global_step/sec: 7.2692\n",
      "INFO:tensorflow:loss = 0.58043045, step = 1200 (13.757 sec)\n",
      "INFO:tensorflow:global_step/sec: 7.26523\n",
      "INFO:tensorflow:loss = 0.55051476, step = 1300 (13.767 sec)\n",
      "INFO:tensorflow:global_step/sec: 7.21591\n",
      "INFO:tensorflow:loss = 0.5229, step = 1400 (13.854 sec)\n",
      "INFO:tensorflow:global_step/sec: 7.26619\n",
      "INFO:tensorflow:loss = 0.49697837, step = 1500 (13.767 sec)\n",
      "INFO:tensorflow:global_step/sec: 7.2482\n",
      "INFO:tensorflow:loss = 0.4735115, step = 1600 (13.792 sec)\n",
      "INFO:tensorflow:global_step/sec: 7.28314\n",
      "INFO:tensorflow:loss = 0.45226693, step = 1700 (13.730 sec)\n",
      "INFO:tensorflow:global_step/sec: 7.20278\n",
      "INFO:tensorflow:loss = 0.4328679, step = 1800 (13.889 sec)\n",
      "INFO:tensorflow:global_step/sec: 7.20237\n",
      "INFO:tensorflow:loss = 0.4149973, step = 1900 (13.882 sec)\n",
      "INFO:tensorflow:global_step/sec: 7.25819\n",
      "INFO:tensorflow:loss = 0.39854252, step = 2000 (13.774 sec)\n",
      "INFO:tensorflow:global_step/sec: 7.20303\n",
      "INFO:tensorflow:loss = 0.38339764, step = 2100 (13.885 sec)\n",
      "INFO:tensorflow:global_step/sec: 7.19415\n",
      "INFO:tensorflow:loss = 0.36946976, step = 2200 (13.900 sec)\n",
      "INFO:tensorflow:global_step/sec: 7.25743\n",
      "INFO:tensorflow:loss = 0.35664958, step = 2300 (13.776 sec)\n",
      "INFO:tensorflow:global_step/sec: 7.26965\n",
      "INFO:tensorflow:loss = 0.34484935, step = 2400 (13.759 sec)\n",
      "INFO:tensorflow:global_step/sec: 7.27364\n",
      "INFO:tensorflow:loss = 0.3339806, step = 2500 (13.746 sec)\n",
      "INFO:tensorflow:global_step/sec: 7.29431\n",
      "INFO:tensorflow:loss = 0.32396173, step = 2600 (13.714 sec)\n",
      "INFO:tensorflow:global_step/sec: 7.24152\n",
      "INFO:tensorflow:loss = 0.3146948, step = 2700 (13.809 sec)\n",
      "INFO:tensorflow:global_step/sec: 7.26987\n",
      "INFO:tensorflow:loss = 0.30612612, step = 2800 (13.752 sec)\n",
      "INFO:tensorflow:global_step/sec: 7.27596\n",
      "INFO:tensorflow:loss = 0.29820314, step = 2900 (13.746 sec)\n",
      "INFO:tensorflow:global_step/sec: 7.25942\n",
      "INFO:tensorflow:loss = 0.29084256, step = 3000 (13.773 sec)\n",
      "INFO:tensorflow:global_step/sec: 7.24033\n",
      "INFO:tensorflow:loss = 0.2839827, step = 3100 (13.811 sec)\n",
      "INFO:tensorflow:global_step/sec: 7.26295\n",
      "INFO:tensorflow:loss = 0.2775743, step = 3200 (13.770 sec)\n",
      "INFO:tensorflow:global_step/sec: 7.26628\n",
      "INFO:tensorflow:loss = 0.27157387, step = 3300 (13.765 sec)\n",
      "INFO:tensorflow:global_step/sec: 7.26614\n",
      "INFO:tensorflow:loss = 0.2659298, step = 3400 (13.759 sec)\n",
      "INFO:tensorflow:global_step/sec: 7.27502\n",
      "INFO:tensorflow:loss = 0.26060507, step = 3500 (13.747 sec)\n",
      "INFO:tensorflow:global_step/sec: 7.25958\n",
      "INFO:tensorflow:loss = 0.25556752, step = 3600 (13.775 sec)\n",
      "INFO:tensorflow:global_step/sec: 7.27596\n",
      "INFO:tensorflow:loss = 0.25078946, step = 3700 (13.742 sec)\n",
      "INFO:tensorflow:global_step/sec: 7.25818\n",
      "INFO:tensorflow:loss = 0.24623847, step = 3800 (13.783 sec)\n",
      "INFO:tensorflow:global_step/sec: 7.28277\n",
      "INFO:tensorflow:loss = 0.24189927, step = 3900 (13.726 sec)\n",
      "INFO:tensorflow:global_step/sec: 7.26232\n",
      "INFO:tensorflow:loss = 0.23776619, step = 4000 (13.769 sec)\n",
      "INFO:tensorflow:global_step/sec: 7.22442\n",
      "INFO:tensorflow:loss = 0.23381867, step = 4100 (13.842 sec)\n",
      "INFO:tensorflow:global_step/sec: 7.29595\n",
      "INFO:tensorflow:loss = 0.23002575, step = 4200 (13.706 sec)\n",
      "INFO:tensorflow:global_step/sec: 7.28115\n",
      "INFO:tensorflow:loss = 0.22636415, step = 4300 (13.738 sec)\n",
      "INFO:tensorflow:Calling checkpoint listeners before saving checkpoint 4352...\n",
      "INFO:tensorflow:Saving checkpoints for 4352 into /tmp/tmpecea5k00/model.ckpt.\n",
      "INFO:tensorflow:Calling checkpoint listeners after saving checkpoint 4352...\n",
      "INFO:tensorflow:global_step/sec: 7.2208\n",
      "INFO:tensorflow:loss = 0.22282931, step = 4400 (13.845 sec)\n",
      "INFO:tensorflow:global_step/sec: 7.23206\n",
      "INFO:tensorflow:loss = 0.21940716, step = 4500 (13.832 sec)\n",
      "INFO:tensorflow:global_step/sec: 7.29022\n",
      "INFO:tensorflow:loss = 0.21609415, step = 4600 (13.712 sec)\n",
      "INFO:tensorflow:global_step/sec: 7.26976\n",
      "INFO:tensorflow:loss = 0.21288589, step = 4700 (13.756 sec)\n",
      "INFO:tensorflow:global_step/sec: 7.23788\n",
      "INFO:tensorflow:loss = 0.20976889, step = 4800 (13.820 sec)\n",
      "INFO:tensorflow:global_step/sec: 7.22336\n",
      "INFO:tensorflow:loss = 0.20672624, step = 4900 (13.845 sec)\n",
      "INFO:tensorflow:Calling checkpoint listeners before saving checkpoint 5000...\n",
      "INFO:tensorflow:Saving checkpoints for 5000 into /tmp/tmpecea5k00/model.ckpt.\n",
      "INFO:tensorflow:Calling checkpoint listeners after saving checkpoint 5000...\n",
      "INFO:tensorflow:Loss for final step: 0.20377782.\n"
     ]
    },
    {
     "data": {
      "text/plain": [
       "<tensorflow_estimator.python.estimator.canned.dnn.DNNClassifierV2 at 0x7f4936414b38>"
      ]
     },
     "execution_count": 132,
     "metadata": {
      "tags": []
     },
     "output_type": "execute_result"
    }
   ],
   "source": [
    "classifier.train(input_fn=get_train_inputs, steps=5000)"
   ]
  },
  {
   "cell_type": "markdown",
   "metadata": {
    "id": "bY2DLr5kfa3C"
   },
   "source": [
    "## Evaluate"
   ]
  },
  {
   "cell_type": "code",
   "execution_count": null,
   "metadata": {
    "colab": {
     "base_uri": "https://localhost:8080/"
    },
    "id": "6kVeppcU9jLK",
    "outputId": "f6ce3bc9-fb1e-43c1-ac3e-8a41c16f3b1b"
   },
   "outputs": [
    {
     "name": "stdout",
     "output_type": "stream",
     "text": [
      "INFO:tensorflow:Calling model_fn.\n",
      "INFO:tensorflow:Done calling model_fn.\n",
      "INFO:tensorflow:Starting evaluation at 2021-02-13T22:52:24Z\n",
      "INFO:tensorflow:Graph was finalized.\n",
      "INFO:tensorflow:Restoring parameters from /tmp/tmpecea5k00/model.ckpt-5000\n",
      "INFO:tensorflow:Running local_init_op.\n",
      "INFO:tensorflow:Done running local_init_op.\n",
      "INFO:tensorflow:Evaluation [10/100]\n",
      "INFO:tensorflow:Evaluation [20/100]\n",
      "INFO:tensorflow:Evaluation [30/100]\n",
      "INFO:tensorflow:Evaluation [40/100]\n",
      "INFO:tensorflow:Evaluation [50/100]\n",
      "INFO:tensorflow:Evaluation [60/100]\n",
      "INFO:tensorflow:Evaluation [70/100]\n",
      "INFO:tensorflow:Evaluation [80/100]\n",
      "INFO:tensorflow:Evaluation [90/100]\n",
      "INFO:tensorflow:Evaluation [100/100]\n",
      "INFO:tensorflow:Inference Time : 2.64189s\n",
      "INFO:tensorflow:Finished evaluation at 2021-02-13-22:52:27\n",
      "INFO:tensorflow:Saving dict for global step 5000: accuracy = 0.92057145, average_loss = 0.22125426, global_step = 5000, loss = 0.22125421\n",
      "INFO:tensorflow:Saving 'checkpoint_path' summary for global step 5000: /tmp/tmpecea5k00/model.ckpt-5000\n",
      "Accuracy: 92.06%\n"
     ]
    }
   ],
   "source": [
    "accuracy_score = classifier.evaluate(input_fn=get_test_inputs, steps=100)[\"accuracy\"]\n",
    "\n",
    "print('Accuracy: {0:.2%}'.format(accuracy_score))"
   ]
  },
  {
   "cell_type": "markdown",
   "metadata": {
    "id": "03X_jnCXfhio"
   },
   "source": [
    "## Export"
   ]
  },
  {
   "cell_type": "code",
   "execution_count": null,
   "metadata": {
    "colab": {
     "base_uri": "https://localhost:8080/"
    },
    "id": "hTSSnDCFDMdV",
    "outputId": "c80c7039-4e4d-488b-ba13-56bdc1aa3aea"
   },
   "outputs": [
    {
     "name": "stdout",
     "output_type": "stream",
     "text": [
      "INFO:tensorflow:Calling model_fn.\n",
      "INFO:tensorflow:Done calling model_fn.\n",
      "WARNING:tensorflow:From /usr/local/lib/python3.6/dist-packages/tensorflow/python/saved_model/signature_def_utils_impl.py:145: build_tensor_info (from tensorflow.python.saved_model.utils_impl) is deprecated and will be removed in a future version.\n",
      "Instructions for updating:\n",
      "This function will only be available through the v1 compatibility library as tf.compat.v1.saved_model.utils.build_tensor_info or tf.compat.v1.saved_model.build_tensor_info.\n",
      "INFO:tensorflow:Signatures INCLUDED in export for Classify: ['serving_default', 'classification']\n",
      "INFO:tensorflow:Signatures INCLUDED in export for Regress: None\n",
      "INFO:tensorflow:Signatures INCLUDED in export for Predict: ['predict']\n",
      "INFO:tensorflow:Signatures INCLUDED in export for Train: None\n",
      "INFO:tensorflow:Signatures INCLUDED in export for Eval: None\n",
      "INFO:tensorflow:Restoring parameters from /tmp/tmpecea5k00/model.ckpt-5000\n",
      "INFO:tensorflow:Assets added to graph.\n",
      "INFO:tensorflow:No assets to write.\n",
      "INFO:tensorflow:SavedModel written to: ./model/export/temp-1613256747/saved_model.pb\n"
     ]
    },
    {
     "data": {
      "text/plain": [
       "b'./model/export/1613256747'"
      ]
     },
     "execution_count": 134,
     "metadata": {
      "tags": []
     },
     "output_type": "execute_result"
    }
   ],
   "source": [
    "feature_spec = {'risk_features': tf.io.FixedLenFeature(shape=len(features), dtype=tf.float32)}\n",
    "\n",
    "serving_fn = tf.estimator.export.build_parsing_serving_input_receiver_fn(feature_spec)\n",
    "\n",
    "classifier.export_saved_model(export_dir_base='./model/export', serving_input_receiver_fn=serving_fn)"
   ]
  },
  {
   "cell_type": "markdown",
   "metadata": {
    "id": "jT10f4c2Yjfy"
   },
   "source": [
    "## Prediction"
   ]
  },
  {
   "cell_type": "markdown",
   "metadata": {
    "id": "P95IBDnAflRx"
   },
   "source": [
    "### Data Preparation"
   ]
  },
  {
   "cell_type": "code",
   "execution_count": null,
   "metadata": {
    "colab": {
     "base_uri": "https://localhost:8080/"
    },
    "id": "s9o4gP77ziMy",
    "outputId": "d7eddc26-4f6b-490e-99c8-496f5ee11442"
   },
   "outputs": [
    {
     "data": {
      "text/html": [
       "<div>\n",
       "<style scoped>\n",
       "    .dataframe tbody tr th:only-of-type {\n",
       "        vertical-align: middle;\n",
       "    }\n",
       "\n",
       "    .dataframe tbody tr th {\n",
       "        vertical-align: top;\n",
       "    }\n",
       "\n",
       "    .dataframe thead th {\n",
       "        text-align: right;\n",
       "    }\n",
       "</style>\n",
       "<table border=\"1\" class=\"dataframe\">\n",
       "  <thead>\n",
       "    <tr style=\"text-align: right;\">\n",
       "      <th></th>\n",
       "      <th>Invested Amount</th>\n",
       "      <th>Successful Attacks</th>\n",
       "      <th>Failed Attacks</th>\n",
       "      <th>Business Value</th>\n",
       "      <th>Number of Employees</th>\n",
       "      <th>Employee Training</th>\n",
       "      <th>Known Vulnerabilities</th>\n",
       "      <th>External Advisor</th>\n",
       "    </tr>\n",
       "  </thead>\n",
       "  <tbody>\n",
       "    <tr>\n",
       "      <th>0</th>\n",
       "      <td>0.702544</td>\n",
       "      <td>0.163265</td>\n",
       "      <td>0.591837</td>\n",
       "      <td>0.361095</td>\n",
       "      <td>0.64324</td>\n",
       "      <td>0.5</td>\n",
       "      <td>0.666667</td>\n",
       "      <td>0.0</td>\n",
       "    </tr>\n",
       "  </tbody>\n",
       "</table>\n",
       "</div>"
      ],
      "text/plain": [
       "   Invested Amount  Successful Attacks  ...  Known Vulnerabilities  External Advisor\n",
       "0         0.702544            0.163265  ...               0.666667               0.0\n",
       "\n",
       "[1 rows x 8 columns]"
      ]
     },
     "execution_count": 135,
     "metadata": {
      "tags": []
     },
     "output_type": "execute_result"
    }
   ],
   "source": [
    "def get_data_for_prediction():\n",
    "  return { feature_name: tf.constant(normalized_prediction_df, dtype=tf.float64)}\n",
    "\n",
    "# Create DataFrame from data to be predicted\n",
    "prediction_df = pd.DataFrame([[1077113, 8, 29, 4947796, 57879, 1, 6, 0]], columns=features)\n",
    "\n",
    "# Normalize using the initial dataframe -> bring the data for the prediction to the same scale\n",
    "normalized_prediction_df = prediction_df[features]\n",
    "for feature in features:\n",
    "    normalized_prediction_df[feature] = normalized_prediction_df[feature].apply(lambda x: ( (x - data[feature].min()) / (data[feature].max() - data[feature].min())))\n",
    "\n",
    "normalized_prediction_df"
   ]
  },
  {
   "cell_type": "markdown",
   "metadata": {
    "id": "FsOdc3WTfrBu"
   },
   "source": [
    "### Result"
   ]
  },
  {
   "cell_type": "code",
   "execution_count": null,
   "metadata": {
    "colab": {
     "base_uri": "https://localhost:8080/"
    },
    "id": "CCdPZ1ymYni5",
    "outputId": "a6b5d8d2-ebb9-4625-ec06-04cfbca04d6a"
   },
   "outputs": [
    {
     "name": "stdout",
     "output_type": "stream",
     "text": [
      "WARNING:tensorflow:Input graph does not use tf.data.Dataset or contain a QueueRunner. That means predict yields forever. This is probably a mistake.\n",
      "INFO:tensorflow:Calling model_fn.\n",
      "INFO:tensorflow:Done calling model_fn.\n",
      "INFO:tensorflow:Graph was finalized.\n",
      "INFO:tensorflow:Restoring parameters from /tmp/tmpecea5k00/model.ckpt-5000\n",
      "INFO:tensorflow:Running local_init_op.\n",
      "INFO:tensorflow:Done running local_init_op.\n",
      "\n",
      "\n",
      "Predicted RISK is: MEDIUM\n"
     ]
    }
   ],
   "source": [
    "for pred in classifier.predict(input_fn=get_data_for_prediction):\n",
    "  print(\"\\n\")\n",
    "  print(\"Predicted RISK is: \" + prediction_result_mapping[pred['class_ids'][0]])\n",
    "  break"
   ]
  },
  {
   "cell_type": "markdown",
   "metadata": {
    "id": "WO5fIwT19COL"
   },
   "source": [
    "# Decision Tree Classifier"
   ]
  },
  {
   "cell_type": "code",
   "execution_count": 180,
   "metadata": {
    "id": "KgNfk7F1-uVE"
   },
   "outputs": [],
   "source": [
    "from sklearn.tree import DecisionTreeClassifier \n",
    "from sklearn.metrics import accuracy_score"
   ]
  },
  {
   "cell_type": "code",
   "execution_count": 418,
   "metadata": {
    "id": "lH6UCQ7YBKXy"
   },
   "outputs": [],
   "source": [
    "# Data here is not normalized\n",
    "#X_train, X_test, y_train, y_test = train_test_split(data[features].values, data[\"Risk\"].values, random_state=0)\n",
    "\n",
    "dtree = DecisionTreeClassifier()"
   ]
  },
  {
   "cell_type": "markdown",
   "metadata": {},
   "source": [
    "## Parameter Tuning (with K-Fold Cross Validation)"
   ]
  },
  {
   "cell_type": "code",
   "execution_count": null,
   "metadata": {},
   "outputs": [],
   "source": [
    "# Define the parameter ranges that should be tested on the model\n",
    "dtree_params = {\n",
    "    'criterion': [\"gini\", \"entropy\"],\n",
    "    'max_depth': range(1, 10),\n",
    "    'min_samples_split': range(2, 10),\n",
    "    'min_samples_leaf': range(1, 10)\n",
    "}\n",
    "\n",
    "# Instanciate the Grid for parameter tuning\n",
    "dtree_grid = GridSearchCV(dtree, dtree_params, cv=10, scoring='accuracy', n_jobs=-1)\n",
    "\n",
    "dtree = dtree_grid.fit(X, Y)"
   ]
  },
  {
   "cell_type": "code",
   "execution_count": null,
   "metadata": {},
   "outputs": [],
   "source": [
    "pd.DataFrame(dtree.cv_results_).head()"
   ]
  },
  {
   "cell_type": "code",
   "execution_count": null,
   "metadata": {},
   "outputs": [],
   "source": [
    "print(dtree.best_estimator_)\n",
    "print('Best Accuracy: {0:.2%}'.format(dtree.best_score_))"
   ]
  },
  {
   "cell_type": "markdown",
   "metadata": {
    "id": "gLCndhSU-33o"
   },
   "source": [
    "## (Train - using Test-Train Split)"
   ]
  },
  {
   "cell_type": "code",
   "execution_count": null,
   "metadata": {
    "id": "sG9pTfVT-zl5"
   },
   "outputs": [],
   "source": [
    "#start = time.time()\n",
    "\n",
    "#dtree.fit(X_train, y_train) \n",
    "\n",
    "#stop = time.time()\n",
    "#print(f\"Training time for Decision Tree Classifier: {stop - start}s\")"
   ]
  },
  {
   "cell_type": "markdown",
   "metadata": {
    "id": "W6INnv4s-7Lr"
   },
   "source": [
    "## Evaluate"
   ]
  },
  {
   "cell_type": "code",
   "execution_count": null,
   "metadata": {},
   "outputs": [],
   "source": [
    "# TODO\n",
    "test_scores_weight_uniform = [ x for ind, x in enumerate(knn.cv_results_['mean_test_score']) if ind % 2 == 0]\n",
    "test_scores_weight_distance = [ x for ind, x in enumerate(knn.cv_results_['mean_test_score']) if ind % 2 == 1]\n",
    "\n",
    "\n",
    "plt.title(\"Mean accuracy after 10-Fold Cross Validation\")\n",
    "plt.plot(test_scores_weight_uniform, label='weight=uniform')\n",
    "plt.plot(test_scores_weight_distance, label='weight=distance')\n",
    "plt.axvline(x=28, label='Best Estimator (N=28 & weight=distance)', color='r')\n",
    "plt.xlabel(\"N\")\n",
    "plt.ylabel(\"Accuracy\")\n",
    "plt.legend(loc='best')\n",
    "plt.show()"
   ]
  },
  {
   "cell_type": "code",
   "execution_count": null,
   "metadata": {
    "colab": {
     "base_uri": "https://localhost:8080/"
    },
    "id": "BcEqOFL78lUB",
    "outputId": "7f6d1c18-8b6e-44e5-cddf-3a8ccb1ecb9e"
   },
   "outputs": [],
   "source": [
    "#accuracy = dtree.score(X_test, y_test) \n",
    "\n",
    "#print('Accuracy: {0:.2%}'.format(accuracy))"
   ]
  },
  {
   "cell_type": "code",
   "execution_count": null,
   "metadata": {
    "colab": {
     "base_uri": "https://localhost:8080/",
     "height": 279
    },
    "id": "YiRDsZKLAvwK",
    "outputId": "2cef82a9-3bd5-4088-d725-cb2cb1ebcb8c"
   },
   "outputs": [],
   "source": [
    "plot_confusion_matrix(dtree, X_test, y_test)  \n",
    "plt.show()"
   ]
  },
  {
   "cell_type": "markdown",
   "metadata": {
    "id": "b2mHCI6cM_dY"
   },
   "source": [
    "## Export"
   ]
  },
  {
   "cell_type": "code",
   "execution_count": 185,
   "metadata": {
    "colab": {
     "base_uri": "https://localhost:8080/"
    },
    "id": "hL7D6-KZNDN1",
    "outputId": "65941a09-e0e6-4865-94f5-22c5a88fab81",
    "scrolled": true
   },
   "outputs": [
    {
     "data": {
      "text/plain": [
       "['../src/models/Tree_classifier.joblib']"
      ]
     },
     "execution_count": 185,
     "metadata": {},
     "output_type": "execute_result"
    }
   ],
   "source": [
    "#r = export_text(dtree_model, feature_names=features)\n",
    "#print(r)\n",
    "\n",
    "dump(dtree_model, MODEL_OUTPUT_PATH + 'Tree_classifier.joblib') "
   ]
  },
  {
   "cell_type": "markdown",
   "metadata": {
    "id": "v0K5xoX4Dq7c"
   },
   "source": [
    "## Prediction"
   ]
  },
  {
   "cell_type": "code",
   "execution_count": 186,
   "metadata": {
    "colab": {
     "base_uri": "https://localhost:8080/",
     "height": 80
    },
    "id": "Dg0Ruo5uDVyN",
    "outputId": "450f7695-d7e8-4394-86b6-f8f0bfa57d84"
   },
   "outputs": [
    {
     "data": {
      "text/html": [
       "<div>\n",
       "<style scoped>\n",
       "    .dataframe tbody tr th:only-of-type {\n",
       "        vertical-align: middle;\n",
       "    }\n",
       "\n",
       "    .dataframe tbody tr th {\n",
       "        vertical-align: top;\n",
       "    }\n",
       "\n",
       "    .dataframe thead th {\n",
       "        text-align: right;\n",
       "    }\n",
       "</style>\n",
       "<table border=\"1\" class=\"dataframe\">\n",
       "  <thead>\n",
       "    <tr style=\"text-align: right;\">\n",
       "      <th></th>\n",
       "      <th>Invested Amount</th>\n",
       "      <th>Successful Attacks</th>\n",
       "      <th>Failed Attacks</th>\n",
       "      <th>Business Value</th>\n",
       "      <th>Number of Employees</th>\n",
       "      <th>Employee Training</th>\n",
       "      <th>Known Vulnerabilities</th>\n",
       "      <th>External Advisor</th>\n",
       "    </tr>\n",
       "  </thead>\n",
       "  <tbody>\n",
       "    <tr>\n",
       "      <th>0</th>\n",
       "      <td>1077113</td>\n",
       "      <td>8</td>\n",
       "      <td>29</td>\n",
       "      <td>4947796</td>\n",
       "      <td>57879</td>\n",
       "      <td>1</td>\n",
       "      <td>6</td>\n",
       "      <td>0</td>\n",
       "    </tr>\n",
       "  </tbody>\n",
       "</table>\n",
       "</div>"
      ],
      "text/plain": [
       "   Invested Amount  Successful Attacks  Failed Attacks  Business Value  \\\n",
       "0          1077113                   8              29         4947796   \n",
       "\n",
       "   Number of Employees  Employee Training  Known Vulnerabilities  \\\n",
       "0                57879                  1                      6   \n",
       "\n",
       "   External Advisor  \n",
       "0                 0  "
      ]
     },
     "execution_count": 186,
     "metadata": {},
     "output_type": "execute_result"
    }
   ],
   "source": [
    "# Create DataFrame from data to be predicted\n",
    "prediction_df = pd.DataFrame([[1077113, 8, 29, 4947796, 57879, 1, 6, 0]], columns=features)\n",
    "prediction_df"
   ]
  },
  {
   "cell_type": "code",
   "execution_count": 188,
   "metadata": {
    "colab": {
     "base_uri": "https://localhost:8080/"
    },
    "id": "hEtL2WYM_LYf",
    "outputId": "2ffd7074-e93c-4e5e-b72b-6ef0ccdd1669"
   },
   "outputs": [
    {
     "name": "stdout",
     "output_type": "stream",
     "text": [
      "Predicted RISK is: MEDIUM\n"
     ]
    }
   ],
   "source": [
    "predicted_risk = dtree_model.predict(prediction_df)[0]\n",
    "print(\"Predicted RISK is: \" + prediction_result_mapping[predicted_risk])"
   ]
  },
  {
   "cell_type": "markdown",
   "metadata": {
    "id": "tq--wueVRT2V"
   },
   "source": [
    "# Support Vector Machine (SVM) classifier"
   ]
  },
  {
   "cell_type": "code",
   "execution_count": 124,
   "metadata": {
    "id": "Bw6TcEsVRvCS"
   },
   "outputs": [],
   "source": [
    "from sklearn.svm import LinearSVC, SVC "
   ]
  },
  {
   "cell_type": "code",
   "execution_count": null,
   "metadata": {},
   "outputs": [],
   "source": [
    "# Linear\n",
    "#svm_model = LinearSVC().fit(X_train, y_train)"
   ]
  },
  {
   "cell_type": "markdown",
   "metadata": {},
   "source": [
    "## Parameter Tuning (with K-Fold Cross Validation)"
   ]
  },
  {
   "cell_type": "code",
   "execution_count": null,
   "metadata": {},
   "outputs": [],
   "source": [
    "# Define the parameter ranges that should be tested on the model\n",
    "svm_params = {\n",
    "    'kernel': [\"poly\", \"rbf\", \"sigmoid\", \"precomputed\"],\n",
    "    'gamma': [\"scale\", \"auto\"]\n",
    "}\n",
    "\n",
    "# Instanciate the Grid for parameter tuning\n",
    "svm_grid = GridSearchCV(SVC(), svm_params, cv=10, scoring='accuracy', n_jobs=-1)\n",
    "\n",
    "svm = svm_grid.fit(X_normalized, Y)"
   ]
  },
  {
   "cell_type": "markdown",
   "metadata": {
    "id": "M27Qv-vxR-PC"
   },
   "source": [
    "## (Train - using Test-Train Split)"
   ]
  },
  {
   "cell_type": "code",
   "execution_count": 125,
   "metadata": {
    "id": "xZvj-RR8R3p4"
   },
   "outputs": [
    {
     "name": "stdout",
     "output_type": "stream",
     "text": [
      "Training time for polynomial SVM: 0.24025917053222656s\n"
     ]
    }
   ],
   "source": [
    "# Linear\n",
    "#svm_model = LinearSVC().fit(X_train, y_train)\n",
    "\n",
    "#start = time.time()\n",
    "\n",
    "#svm.fit(X_train_normalized, y_train)\n",
    "\n",
    "#stop = time.time()\n",
    "#print(f\"Training time for polynomial SVM: {stop - start}s\")"
   ]
  },
  {
   "cell_type": "markdown",
   "metadata": {
    "id": "MzgoC2twSGou"
   },
   "source": [
    "## Evaluate"
   ]
  },
  {
   "cell_type": "code",
   "execution_count": null,
   "metadata": {},
   "outputs": [],
   "source": [
    "# TODO\n",
    "test_scores_weight_uniform = [ x for ind, x in enumerate(knn.cv_results_['mean_test_score']) if ind % 2 == 0]\n",
    "test_scores_weight_distance = [ x for ind, x in enumerate(knn.cv_results_['mean_test_score']) if ind % 2 == 1]\n",
    "\n",
    "\n",
    "plt.title(\"Mean accuracy after 10-Fold Cross Validation\")\n",
    "plt.plot(test_scores_weight_uniform, label='weight=uniform')\n",
    "plt.plot(test_scores_weight_distance, label='weight=distance')\n",
    "plt.axvline(x=28, label='Best Estimator (N=28 & weight=distance)', color='r')\n",
    "plt.xlabel(\"N\")\n",
    "plt.ylabel(\"Accuracy\")\n",
    "plt.legend(loc='best')\n",
    "plt.show()"
   ]
  },
  {
   "cell_type": "code",
   "execution_count": 147,
   "metadata": {
    "colab": {
     "base_uri": "https://localhost:8080/"
    },
    "id": "SHvrY_WTSO9j",
    "outputId": "2b5f6949-3590-4738-9bc5-7c2cde47fc32"
   },
   "outputs": [
    {
     "name": "stdout",
     "output_type": "stream",
     "text": [
      "Accuracy: 98.44%\n"
     ]
    }
   ],
   "source": [
    "#accuracy = svm_model.score(X_test_normalized, y_test) \n",
    "\n",
    "#print('Accuracy: {0:.2%}'.format(accuracy))"
   ]
  },
  {
   "cell_type": "code",
   "execution_count": 127,
   "metadata": {
    "colab": {
     "base_uri": "https://localhost:8080/",
     "height": 279
    },
    "id": "inO0fhE8StyF",
    "outputId": "50419daf-6978-45a8-9c8f-f669917fa251"
   },
   "outputs": [
    {
     "data": {
      "image/png": "[encoded data removed]",
      "text/plain": [
       "<Figure size 432x288 with 2 Axes>"
      ]
     },
     "metadata": {
      "needs_background": "light"
     },
     "output_type": "display_data"
    }
   ],
   "source": [
    "plot_confusion_matrix(svm_model, X_test_normalized, y_test)  \n",
    "plt.show()"
   ]
  },
  {
   "cell_type": "markdown",
   "metadata": {
    "id": "AyWsyFoGv92H"
   },
   "source": [
    "## Export"
   ]
  },
  {
   "cell_type": "code",
   "execution_count": 33,
   "metadata": {
    "colab": {
     "base_uri": "https://localhost:8080/"
    },
    "id": "vWwDHaMxwANd",
    "outputId": "927eff1d-1e84-42b5-f195-5af4593eae54"
   },
   "outputs": [
    {
     "data": {
      "text/plain": [
       "['../src/models/SVM_classifier.joblib']"
      ]
     },
     "execution_count": 33,
     "metadata": {},
     "output_type": "execute_result"
    }
   ],
   "source": [
    "dump(svm_model, MODEL_OUTPUT_PATH + 'SVM_classifier.joblib') "
   ]
  },
  {
   "cell_type": "markdown",
   "metadata": {
    "id": "TsL5MGI2Scsk"
   },
   "source": [
    "## Prediction"
   ]
  },
  {
   "cell_type": "code",
   "execution_count": 128,
   "metadata": {
    "colab": {
     "base_uri": "https://localhost:8080/"
    },
    "id": "lgzVe198aOe3",
    "outputId": "145d728f-ff21-4fbd-ed67-fc0c15ecc5f3"
   },
   "outputs": [
    {
     "name": "stdout",
     "output_type": "stream",
     "text": [
      "Predicted RISK is: MEDIUM\n"
     ]
    }
   ],
   "source": [
    "predicted_risk = svm_model.predict(scaler.transform([[1077113, 8, 29, 4947796, 57879, 1, 6, 0]]))[0]\n",
    "print(\"Predicted RISK is: \" + prediction_result_mapping[predicted_risk])"
   ]
  },
  {
   "cell_type": "markdown",
   "metadata": {
    "id": "h6Nun-zRkweH"
   },
   "source": [
    "# K-nearest Neighbours Classifier"
   ]
  },
  {
   "cell_type": "code",
   "execution_count": 202,
   "metadata": {
    "id": "g419boPkk11J"
   },
   "outputs": [],
   "source": [
    "from sklearn.neighbors import KNeighborsClassifier\n",
    "from sklearn.model_selection import GridSearchCV"
   ]
  },
  {
   "cell_type": "code",
   "execution_count": 275,
   "metadata": {},
   "outputs": [],
   "source": [
    "knn = KNeighborsClassifier()"
   ]
  },
  {
   "cell_type": "markdown",
   "metadata": {},
   "source": [
    "## Parameter Tuning (with K-Fold Cross Validation)"
   ]
  },
  {
   "cell_type": "code",
   "execution_count": 277,
   "metadata": {},
   "outputs": [],
   "source": [
    "# Define the parameter ranges that should be tested on the model\n",
    "knn_params = {\n",
    "    'n_neighbors': range(1, 30),\n",
    "    'weights': weights_options\n",
    "}\n",
    "\n",
    "# Instanciate the Grid for parameter tuning\n",
    "knn_grid = GridSearchCV(knn, knn_params, cv=10, scoring='accuracy', n_jobs=-1)\n",
    "\n",
    "knn = knn_grid.fit(X_normalized, Y)"
   ]
  },
  {
   "cell_type": "code",
   "execution_count": 300,
   "metadata": {},
   "outputs": [
    {
     "data": {
      "text/html": [
       "<div>\n",
       "<style scoped>\n",
       "    .dataframe tbody tr th:only-of-type {\n",
       "        vertical-align: middle;\n",
       "    }\n",
       "\n",
       "    .dataframe tbody tr th {\n",
       "        vertical-align: top;\n",
       "    }\n",
       "\n",
       "    .dataframe thead th {\n",
       "        text-align: right;\n",
       "    }\n",
       "</style>\n",
       "<table border=\"1\" class=\"dataframe\">\n",
       "  <thead>\n",
       "    <tr style=\"text-align: right;\">\n",
       "      <th></th>\n",
       "      <th>mean_fit_time</th>\n",
       "      <th>std_fit_time</th>\n",
       "      <th>mean_score_time</th>\n",
       "      <th>std_score_time</th>\n",
       "      <th>param_n_neighbors</th>\n",
       "      <th>param_weights</th>\n",
       "      <th>params</th>\n",
       "      <th>split0_test_score</th>\n",
       "      <th>split1_test_score</th>\n",
       "      <th>split2_test_score</th>\n",
       "      <th>split3_test_score</th>\n",
       "      <th>split4_test_score</th>\n",
       "      <th>split5_test_score</th>\n",
       "      <th>split6_test_score</th>\n",
       "      <th>split7_test_score</th>\n",
       "      <th>split8_test_score</th>\n",
       "      <th>split9_test_score</th>\n",
       "      <th>mean_test_score</th>\n",
       "      <th>std_test_score</th>\n",
       "      <th>rank_test_score</th>\n",
       "    </tr>\n",
       "  </thead>\n",
       "  <tbody>\n",
       "    <tr>\n",
       "      <th>0</th>\n",
       "      <td>4.576065</td>\n",
       "      <td>0.200660</td>\n",
       "      <td>2.837404</td>\n",
       "      <td>0.107389</td>\n",
       "      <td>1</td>\n",
       "      <td>uniform</td>\n",
       "      <td>{'n_neighbors': 1, 'weights': 'uniform'}</td>\n",
       "      <td>0.9384</td>\n",
       "      <td>0.9414</td>\n",
       "      <td>0.9389</td>\n",
       "      <td>0.9416</td>\n",
       "      <td>0.9379</td>\n",
       "      <td>0.9450</td>\n",
       "      <td>0.9373</td>\n",
       "      <td>0.9391</td>\n",
       "      <td>0.9403</td>\n",
       "      <td>0.9363</td>\n",
       "      <td>0.93962</td>\n",
       "      <td>0.002411</td>\n",
       "      <td>55</td>\n",
       "    </tr>\n",
       "    <tr>\n",
       "      <th>1</th>\n",
       "      <td>4.286621</td>\n",
       "      <td>0.287884</td>\n",
       "      <td>1.759838</td>\n",
       "      <td>0.091029</td>\n",
       "      <td>1</td>\n",
       "      <td>distance</td>\n",
       "      <td>{'n_neighbors': 1, 'weights': 'distance'}</td>\n",
       "      <td>0.9384</td>\n",
       "      <td>0.9414</td>\n",
       "      <td>0.9389</td>\n",
       "      <td>0.9416</td>\n",
       "      <td>0.9379</td>\n",
       "      <td>0.9450</td>\n",
       "      <td>0.9373</td>\n",
       "      <td>0.9391</td>\n",
       "      <td>0.9403</td>\n",
       "      <td>0.9363</td>\n",
       "      <td>0.93962</td>\n",
       "      <td>0.002411</td>\n",
       "      <td>55</td>\n",
       "    </tr>\n",
       "    <tr>\n",
       "      <th>2</th>\n",
       "      <td>3.885283</td>\n",
       "      <td>0.275575</td>\n",
       "      <td>3.210705</td>\n",
       "      <td>0.243916</td>\n",
       "      <td>2</td>\n",
       "      <td>uniform</td>\n",
       "      <td>{'n_neighbors': 2, 'weights': 'uniform'}</td>\n",
       "      <td>0.9314</td>\n",
       "      <td>0.9355</td>\n",
       "      <td>0.9354</td>\n",
       "      <td>0.9341</td>\n",
       "      <td>0.9362</td>\n",
       "      <td>0.9402</td>\n",
       "      <td>0.9360</td>\n",
       "      <td>0.9328</td>\n",
       "      <td>0.9334</td>\n",
       "      <td>0.9301</td>\n",
       "      <td>0.93451</td>\n",
       "      <td>0.002696</td>\n",
       "      <td>58</td>\n",
       "    </tr>\n",
       "    <tr>\n",
       "      <th>3</th>\n",
       "      <td>3.641499</td>\n",
       "      <td>0.210027</td>\n",
       "      <td>2.134075</td>\n",
       "      <td>0.166986</td>\n",
       "      <td>2</td>\n",
       "      <td>distance</td>\n",
       "      <td>{'n_neighbors': 2, 'weights': 'distance'}</td>\n",
       "      <td>0.9384</td>\n",
       "      <td>0.9414</td>\n",
       "      <td>0.9389</td>\n",
       "      <td>0.9416</td>\n",
       "      <td>0.9379</td>\n",
       "      <td>0.9450</td>\n",
       "      <td>0.9373</td>\n",
       "      <td>0.9391</td>\n",
       "      <td>0.9403</td>\n",
       "      <td>0.9363</td>\n",
       "      <td>0.93962</td>\n",
       "      <td>0.002411</td>\n",
       "      <td>55</td>\n",
       "    </tr>\n",
       "    <tr>\n",
       "      <th>4</th>\n",
       "      <td>3.473574</td>\n",
       "      <td>0.388592</td>\n",
       "      <td>3.195176</td>\n",
       "      <td>0.047070</td>\n",
       "      <td>3</td>\n",
       "      <td>uniform</td>\n",
       "      <td>{'n_neighbors': 3, 'weights': 'uniform'}</td>\n",
       "      <td>0.9492</td>\n",
       "      <td>0.9541</td>\n",
       "      <td>0.9512</td>\n",
       "      <td>0.9490</td>\n",
       "      <td>0.9494</td>\n",
       "      <td>0.9556</td>\n",
       "      <td>0.9503</td>\n",
       "      <td>0.9486</td>\n",
       "      <td>0.9523</td>\n",
       "      <td>0.9465</td>\n",
       "      <td>0.95062</td>\n",
       "      <td>0.002595</td>\n",
       "      <td>53</td>\n",
       "    </tr>\n",
       "  </tbody>\n",
       "</table>\n",
       "</div>"
      ],
      "text/plain": [
       "   mean_fit_time  std_fit_time  mean_score_time  std_score_time  \\\n",
       "0       4.576065      0.200660         2.837404        0.107389   \n",
       "1       4.286621      0.287884         1.759838        0.091029   \n",
       "2       3.885283      0.275575         3.210705        0.243916   \n",
       "3       3.641499      0.210027         2.134075        0.166986   \n",
       "4       3.473574      0.388592         3.195176        0.047070   \n",
       "\n",
       "  param_n_neighbors param_weights                                     params  \\\n",
       "0                 1       uniform   {'n_neighbors': 1, 'weights': 'uniform'}   \n",
       "1                 1      distance  {'n_neighbors': 1, 'weights': 'distance'}   \n",
       "2                 2       uniform   {'n_neighbors': 2, 'weights': 'uniform'}   \n",
       "3                 2      distance  {'n_neighbors': 2, 'weights': 'distance'}   \n",
       "4                 3       uniform   {'n_neighbors': 3, 'weights': 'uniform'}   \n",
       "\n",
       "   split0_test_score  split1_test_score  split2_test_score  split3_test_score  \\\n",
       "0             0.9384             0.9414             0.9389             0.9416   \n",
       "1             0.9384             0.9414             0.9389             0.9416   \n",
       "2             0.9314             0.9355             0.9354             0.9341   \n",
       "3             0.9384             0.9414             0.9389             0.9416   \n",
       "4             0.9492             0.9541             0.9512             0.9490   \n",
       "\n",
       "   split4_test_score  split5_test_score  split6_test_score  split7_test_score  \\\n",
       "0             0.9379             0.9450             0.9373             0.9391   \n",
       "1             0.9379             0.9450             0.9373             0.9391   \n",
       "2             0.9362             0.9402             0.9360             0.9328   \n",
       "3             0.9379             0.9450             0.9373             0.9391   \n",
       "4             0.9494             0.9556             0.9503             0.9486   \n",
       "\n",
       "   split8_test_score  split9_test_score  mean_test_score  std_test_score  \\\n",
       "0             0.9403             0.9363          0.93962        0.002411   \n",
       "1             0.9403             0.9363          0.93962        0.002411   \n",
       "2             0.9334             0.9301          0.93451        0.002696   \n",
       "3             0.9403             0.9363          0.93962        0.002411   \n",
       "4             0.9523             0.9465          0.95062        0.002595   \n",
       "\n",
       "   rank_test_score  \n",
       "0               55  \n",
       "1               55  \n",
       "2               58  \n",
       "3               55  \n",
       "4               53  "
      ]
     },
     "execution_count": 300,
     "metadata": {},
     "output_type": "execute_result"
    }
   ],
   "source": [
    "pd.DataFrame(knn.cv_results_).head()"
   ]
  },
  {
   "cell_type": "code",
   "execution_count": 409,
   "metadata": {},
   "outputs": [
    {
     "name": "stdout",
     "output_type": "stream",
     "text": [
      "KNeighborsClassifier(n_neighbors=28, weights='distance')\n",
      "Best Accuracy: 96.59%\n"
     ]
    }
   ],
   "source": [
    "print(knn.best_estimator_)\n",
    "print('Best Accuracy: {0:.2%}'.format(knn.best_score_))"
   ]
  },
  {
   "cell_type": "markdown",
   "metadata": {
    "id": "80VauLEYk-Ab"
   },
   "source": [
    "## (Train - using Test-Train Split)"
   ]
  },
  {
   "cell_type": "code",
   "execution_count": 130,
   "metadata": {
    "id": "kMYIfIEMk_Rr"
   },
   "outputs": [
    {
     "name": "stdout",
     "output_type": "stream",
     "text": [
      "Training time KNN Classifier: 0.0075609683990478516s\n"
     ]
    }
   ],
   "source": [
    "#start = time.time()\n",
    "\n",
    "#knn.fit(X_train_normalized, y_train) \n",
    "\n",
    "#stop = time.time()\n",
    "#print(f\"Training time KNN Classifier: {stop - start}s\")"
   ]
  },
  {
   "cell_type": "markdown",
   "metadata": {
    "id": "ury_lL8glFBP"
   },
   "source": [
    "## Evaluate"
   ]
  },
  {
   "cell_type": "code",
   "execution_count": 350,
   "metadata": {},
   "outputs": [
    {
     "data": {
      "image/png": "[encoded data removed]",
      "text/plain": [
       "<Figure size 432x288 with 1 Axes>"
      ]
     },
     "metadata": {
      "needs_background": "light"
     },
     "output_type": "display_data"
    }
   ],
   "source": [
    "test_scores_weight_uniform = [ x for ind, x in enumerate(knn.cv_results_['mean_test_score']) if ind % 2 == 0]\n",
    "test_scores_weight_distance = [ x for ind, x in enumerate(knn.cv_results_['mean_test_score']) if ind % 2 == 1]\n",
    "\n",
    "\n",
    "plt.title(\"Mean accuracy after 10-Fold Cross Validation\")\n",
    "plt.plot(test_scores_weight_uniform, label='weight=uniform')\n",
    "plt.plot(test_scores_weight_distance, label='weight=distance')\n",
    "plt.axvline(x=28, label='Best Estimator (N=28 & weight=distance)', color='r')\n",
    "plt.xlabel(\"N\")\n",
    "plt.ylabel(\"Accuracy\")\n",
    "plt.legend(loc='best')\n",
    "plt.show()"
   ]
  },
  {
   "cell_type": "code",
   "execution_count": 317,
   "metadata": {
    "colab": {
     "base_uri": "https://localhost:8080/"
    },
    "id": "g3wV1N50lGlb",
    "outputId": "917f1fd2-356d-4874-cc71-1a9918a15012"
   },
   "outputs": [],
   "source": [
    "#accuracy = knn.score(X_test_normalized, y_test) \n",
    "#print('Accuracy: {0:.2%}'.format(accuracy))"
   ]
  },
  {
   "cell_type": "code",
   "execution_count": 413,
   "metadata": {
    "colab": {
     "base_uri": "https://localhost:8080/",
     "height": 279
    },
    "id": "xdsPnneFlK4I",
    "outputId": "ad63944e-9657-461b-cd70-0169b2c5ed78"
   },
   "outputs": [
    {
     "data": {
      "image/png": "[encoded data removed]",
      "text/plain": [
       "<Figure size 432x288 with 2 Axes>"
      ]
     },
     "metadata": {
      "needs_background": "light"
     },
     "output_type": "display_data"
    }
   ],
   "source": [
    "plot_confusion_matrix(knn, X_test_normalized, y_test)  \n",
    "plt.show()"
   ]
  },
  {
   "cell_type": "markdown",
   "metadata": {
    "id": "DXBlr3WdwMCg"
   },
   "source": [
    "## Export"
   ]
  },
  {
   "cell_type": "code",
   "execution_count": 284,
   "metadata": {
    "colab": {
     "base_uri": "https://localhost:8080/"
    },
    "id": "8expQdoewNvq",
    "outputId": "627ccd8b-9e35-4015-b660-dd44b53e2150"
   },
   "outputs": [
    {
     "data": {
      "text/plain": [
       "['../src/models/KNN_classifier.joblib']"
      ]
     },
     "execution_count": 284,
     "metadata": {},
     "output_type": "execute_result"
    }
   ],
   "source": [
    "dump(knn, MODEL_OUTPUT_PATH + 'KNN_classifier.joblib') "
   ]
  },
  {
   "cell_type": "markdown",
   "metadata": {
    "id": "TASducYTs27s"
   },
   "source": [
    "## Prediction"
   ]
  },
  {
   "cell_type": "code",
   "execution_count": 414,
   "metadata": {
    "colab": {
     "base_uri": "https://localhost:8080/"
    },
    "id": "WtQjtAOcs-ID",
    "outputId": "3316441d-2200-4f6d-d45b-a57f9e7d0716"
   },
   "outputs": [
    {
     "name": "stdout",
     "output_type": "stream",
     "text": [
      "Predicted RISK is: MEDIUM\n"
     ]
    }
   ],
   "source": [
    "predicted_risk = knn.predict(scaler.transform([[1077113, 8, 29, 4947796, 57879, 1, 6, 0]]))[0]\n",
    "print(\"Predicted RISK is: \" + prediction_result_mapping[predicted_risk])"
   ]
  },
  {
   "cell_type": "markdown",
   "metadata": {
    "id": "t6WO67S-A9il"
   },
   "source": [
    "# Multilayer Perceptron (MLP) using Backpropagation"
   ]
  },
  {
   "cell_type": "code",
   "execution_count": 324,
   "metadata": {
    "id": "0xlIU84RBKX-"
   },
   "outputs": [],
   "source": [
    "from sklearn.neural_network import MLPClassifier"
   ]
  },
  {
   "cell_type": "code",
   "execution_count": 415,
   "metadata": {
    "id": "14ShmPsoBTfm"
   },
   "outputs": [],
   "source": [
    "#clf = MLPClassifier(activation='tanh', solver='adam', alpha=1e-5, hidden_layer_sizes=(5, 2), max_iter=10000)\n",
    "\n",
    "mlp = MLPClassifier()"
   ]
  },
  {
   "cell_type": "markdown",
   "metadata": {},
   "source": [
    "## Parameter Tuning (with K-Fold Cross Validation)"
   ]
  },
  {
   "cell_type": "code",
   "execution_count": 380,
   "metadata": {},
   "outputs": [
    {
     "name": "stderr",
     "output_type": "stream",
     "text": [
      "/usr/local/lib/python3.9/site-packages/joblib/externals/loky/process_executor.py:688: UserWarning: A worker stopped while some jobs were given to the executor. This can be caused by a too short worker timeout or by a memory leak.\n",
      "  warnings.warn(\n"
     ]
    }
   ],
   "source": [
    "mlp_params={\n",
    "'learning_rate': [\"constant\", \"invscaling\", \"adaptive\"],\n",
    "'hidden_layer_sizes': [(5, 2)],\n",
    "'solver': [\"lbfgs\", \"sgd\", \"adam\"],\n",
    "'activation': [\"logistic\", \"relu\", \"tanh\"]\n",
    "}\n",
    "\n",
    "# Instanciate the Grid for parameter tuning\n",
    "mlp_grid = GridSearchCV(mlp, mlp_params, cv=10, scoring='accuracy', n_jobs=-1)\n",
    "\n",
    "mlp = mlp_grid.fit(X_normalized, Y)"
   ]
  },
  {
   "cell_type": "code",
   "execution_count": 381,
   "metadata": {},
   "outputs": [
    {
     "data": {
      "text/html": [
       "<div>\n",
       "<style scoped>\n",
       "    .dataframe tbody tr th:only-of-type {\n",
       "        vertical-align: middle;\n",
       "    }\n",
       "\n",
       "    .dataframe tbody tr th {\n",
       "        vertical-align: top;\n",
       "    }\n",
       "\n",
       "    .dataframe thead th {\n",
       "        text-align: right;\n",
       "    }\n",
       "</style>\n",
       "<table border=\"1\" class=\"dataframe\">\n",
       "  <thead>\n",
       "    <tr style=\"text-align: right;\">\n",
       "      <th></th>\n",
       "      <th>mean_fit_time</th>\n",
       "      <th>std_fit_time</th>\n",
       "      <th>mean_score_time</th>\n",
       "      <th>std_score_time</th>\n",
       "      <th>param_activation</th>\n",
       "      <th>param_hidden_layer_sizes</th>\n",
       "      <th>param_learning_rate</th>\n",
       "      <th>param_solver</th>\n",
       "      <th>params</th>\n",
       "      <th>split0_test_score</th>\n",
       "      <th>...</th>\n",
       "      <th>split3_test_score</th>\n",
       "      <th>split4_test_score</th>\n",
       "      <th>split5_test_score</th>\n",
       "      <th>split6_test_score</th>\n",
       "      <th>split7_test_score</th>\n",
       "      <th>split8_test_score</th>\n",
       "      <th>split9_test_score</th>\n",
       "      <th>mean_test_score</th>\n",
       "      <th>std_test_score</th>\n",
       "      <th>rank_test_score</th>\n",
       "    </tr>\n",
       "  </thead>\n",
       "  <tbody>\n",
       "    <tr>\n",
       "      <th>0</th>\n",
       "      <td>21.699180</td>\n",
       "      <td>0.587689</td>\n",
       "      <td>0.009680</td>\n",
       "      <td>0.003425</td>\n",
       "      <td>logistic</td>\n",
       "      <td>(5, 2)</td>\n",
       "      <td>constant</td>\n",
       "      <td>lbfgs</td>\n",
       "      <td>{'activation': 'logistic', 'hidden_layer_sizes...</td>\n",
       "      <td>0.9436</td>\n",
       "      <td>...</td>\n",
       "      <td>0.9598</td>\n",
       "      <td>0.8970</td>\n",
       "      <td>0.9792</td>\n",
       "      <td>0.9510</td>\n",
       "      <td>0.9890</td>\n",
       "      <td>0.9749</td>\n",
       "      <td>0.9838</td>\n",
       "      <td>0.96202</td>\n",
       "      <td>0.025531</td>\n",
       "      <td>14</td>\n",
       "    </tr>\n",
       "    <tr>\n",
       "      <th>1</th>\n",
       "      <td>111.414816</td>\n",
       "      <td>51.885217</td>\n",
       "      <td>0.006649</td>\n",
       "      <td>0.000675</td>\n",
       "      <td>logistic</td>\n",
       "      <td>(5, 2)</td>\n",
       "      <td>constant</td>\n",
       "      <td>sgd</td>\n",
       "      <td>{'activation': 'logistic', 'hidden_layer_sizes...</td>\n",
       "      <td>0.9561</td>\n",
       "      <td>...</td>\n",
       "      <td>0.9032</td>\n",
       "      <td>0.9351</td>\n",
       "      <td>0.9380</td>\n",
       "      <td>0.9354</td>\n",
       "      <td>0.4221</td>\n",
       "      <td>0.9183</td>\n",
       "      <td>0.9211</td>\n",
       "      <td>0.82703</td>\n",
       "      <td>0.202942</td>\n",
       "      <td>21</td>\n",
       "    </tr>\n",
       "    <tr>\n",
       "      <th>2</th>\n",
       "      <td>132.217800</td>\n",
       "      <td>12.674825</td>\n",
       "      <td>0.006818</td>\n",
       "      <td>0.001128</td>\n",
       "      <td>logistic</td>\n",
       "      <td>(5, 2)</td>\n",
       "      <td>constant</td>\n",
       "      <td>adam</td>\n",
       "      <td>{'activation': 'logistic', 'hidden_layer_sizes...</td>\n",
       "      <td>0.9941</td>\n",
       "      <td>...</td>\n",
       "      <td>0.9916</td>\n",
       "      <td>0.9923</td>\n",
       "      <td>0.9949</td>\n",
       "      <td>0.9922</td>\n",
       "      <td>0.9928</td>\n",
       "      <td>0.9920</td>\n",
       "      <td>0.9925</td>\n",
       "      <td>0.99266</td>\n",
       "      <td>0.001120</td>\n",
       "      <td>4</td>\n",
       "    </tr>\n",
       "    <tr>\n",
       "      <th>3</th>\n",
       "      <td>20.001387</td>\n",
       "      <td>0.771432</td>\n",
       "      <td>0.007812</td>\n",
       "      <td>0.001327</td>\n",
       "      <td>logistic</td>\n",
       "      <td>(5, 2)</td>\n",
       "      <td>invscaling</td>\n",
       "      <td>lbfgs</td>\n",
       "      <td>{'activation': 'logistic', 'hidden_layer_sizes...</td>\n",
       "      <td>0.9594</td>\n",
       "      <td>...</td>\n",
       "      <td>0.9564</td>\n",
       "      <td>0.9435</td>\n",
       "      <td>0.9486</td>\n",
       "      <td>0.9431</td>\n",
       "      <td>0.9611</td>\n",
       "      <td>0.9737</td>\n",
       "      <td>0.9944</td>\n",
       "      <td>0.96034</td>\n",
       "      <td>0.015993</td>\n",
       "      <td>15</td>\n",
       "    </tr>\n",
       "    <tr>\n",
       "      <th>4</th>\n",
       "      <td>8.054568</td>\n",
       "      <td>0.679785</td>\n",
       "      <td>0.008759</td>\n",
       "      <td>0.002117</td>\n",
       "      <td>logistic</td>\n",
       "      <td>(5, 2)</td>\n",
       "      <td>invscaling</td>\n",
       "      <td>sgd</td>\n",
       "      <td>{'activation': 'logistic', 'hidden_layer_sizes...</td>\n",
       "      <td>0.4220</td>\n",
       "      <td>...</td>\n",
       "      <td>0.4220</td>\n",
       "      <td>0.4220</td>\n",
       "      <td>0.2634</td>\n",
       "      <td>0.4220</td>\n",
       "      <td>0.4221</td>\n",
       "      <td>0.4221</td>\n",
       "      <td>0.4221</td>\n",
       "      <td>0.40617</td>\n",
       "      <td>0.047590</td>\n",
       "      <td>27</td>\n",
       "    </tr>\n",
       "    <tr>\n",
       "      <th>5</th>\n",
       "      <td>117.366811</td>\n",
       "      <td>3.752705</td>\n",
       "      <td>0.007250</td>\n",
       "      <td>0.001123</td>\n",
       "      <td>logistic</td>\n",
       "      <td>(5, 2)</td>\n",
       "      <td>invscaling</td>\n",
       "      <td>adam</td>\n",
       "      <td>{'activation': 'logistic', 'hidden_layer_sizes...</td>\n",
       "      <td>0.9825</td>\n",
       "      <td>...</td>\n",
       "      <td>0.9928</td>\n",
       "      <td>0.9940</td>\n",
       "      <td>0.9942</td>\n",
       "      <td>0.9923</td>\n",
       "      <td>0.9854</td>\n",
       "      <td>0.9915</td>\n",
       "      <td>0.9910</td>\n",
       "      <td>0.98961</td>\n",
       "      <td>0.005170</td>\n",
       "      <td>7</td>\n",
       "    </tr>\n",
       "    <tr>\n",
       "      <th>6</th>\n",
       "      <td>19.424358</td>\n",
       "      <td>1.032549</td>\n",
       "      <td>0.007498</td>\n",
       "      <td>0.001701</td>\n",
       "      <td>logistic</td>\n",
       "      <td>(5, 2)</td>\n",
       "      <td>adaptive</td>\n",
       "      <td>lbfgs</td>\n",
       "      <td>{'activation': 'logistic', 'hidden_layer_sizes...</td>\n",
       "      <td>0.9447</td>\n",
       "      <td>...</td>\n",
       "      <td>0.9236</td>\n",
       "      <td>0.9270</td>\n",
       "      <td>0.9733</td>\n",
       "      <td>0.9513</td>\n",
       "      <td>0.9672</td>\n",
       "      <td>0.9249</td>\n",
       "      <td>0.9461</td>\n",
       "      <td>0.94870</td>\n",
       "      <td>0.020087</td>\n",
       "      <td>16</td>\n",
       "    </tr>\n",
       "    <tr>\n",
       "      <th>7</th>\n",
       "      <td>98.175264</td>\n",
       "      <td>19.634865</td>\n",
       "      <td>0.008115</td>\n",
       "      <td>0.001902</td>\n",
       "      <td>logistic</td>\n",
       "      <td>(5, 2)</td>\n",
       "      <td>adaptive</td>\n",
       "      <td>sgd</td>\n",
       "      <td>{'activation': 'logistic', 'hidden_layer_sizes...</td>\n",
       "      <td>0.9278</td>\n",
       "      <td>...</td>\n",
       "      <td>0.9557</td>\n",
       "      <td>0.9103</td>\n",
       "      <td>0.9118</td>\n",
       "      <td>0.4220</td>\n",
       "      <td>0.9229</td>\n",
       "      <td>0.8988</td>\n",
       "      <td>0.8995</td>\n",
       "      <td>0.87024</td>\n",
       "      <td>0.150341</td>\n",
       "      <td>19</td>\n",
       "    </tr>\n",
       "    <tr>\n",
       "      <th>8</th>\n",
       "      <td>113.984426</td>\n",
       "      <td>3.034323</td>\n",
       "      <td>0.006928</td>\n",
       "      <td>0.000567</td>\n",
       "      <td>logistic</td>\n",
       "      <td>(5, 2)</td>\n",
       "      <td>adaptive</td>\n",
       "      <td>adam</td>\n",
       "      <td>{'activation': 'logistic', 'hidden_layer_sizes...</td>\n",
       "      <td>0.9937</td>\n",
       "      <td>...</td>\n",
       "      <td>0.9931</td>\n",
       "      <td>0.9912</td>\n",
       "      <td>0.9932</td>\n",
       "      <td>0.9918</td>\n",
       "      <td>0.9397</td>\n",
       "      <td>0.9431</td>\n",
       "      <td>0.9881</td>\n",
       "      <td>0.97908</td>\n",
       "      <td>0.020822</td>\n",
       "      <td>8</td>\n",
       "    </tr>\n",
       "    <tr>\n",
       "      <th>9</th>\n",
       "      <td>12.068960</td>\n",
       "      <td>7.674920</td>\n",
       "      <td>0.006581</td>\n",
       "      <td>0.001870</td>\n",
       "      <td>relu</td>\n",
       "      <td>(5, 2)</td>\n",
       "      <td>constant</td>\n",
       "      <td>lbfgs</td>\n",
       "      <td>{'activation': 'relu', 'hidden_layer_sizes': (...</td>\n",
       "      <td>0.4220</td>\n",
       "      <td>...</td>\n",
       "      <td>0.9425</td>\n",
       "      <td>0.9905</td>\n",
       "      <td>0.9061</td>\n",
       "      <td>0.9981</td>\n",
       "      <td>0.9368</td>\n",
       "      <td>0.9941</td>\n",
       "      <td>0.8808</td>\n",
       "      <td>0.79148</td>\n",
       "      <td>0.244544</td>\n",
       "      <td>22</td>\n",
       "    </tr>\n",
       "    <tr>\n",
       "      <th>10</th>\n",
       "      <td>83.586835</td>\n",
       "      <td>28.998513</td>\n",
       "      <td>0.005256</td>\n",
       "      <td>0.000605</td>\n",
       "      <td>relu</td>\n",
       "      <td>(5, 2)</td>\n",
       "      <td>constant</td>\n",
       "      <td>sgd</td>\n",
       "      <td>{'activation': 'relu', 'hidden_layer_sizes': (...</td>\n",
       "      <td>0.9374</td>\n",
       "      <td>...</td>\n",
       "      <td>0.9950</td>\n",
       "      <td>0.9638</td>\n",
       "      <td>0.4220</td>\n",
       "      <td>0.9948</td>\n",
       "      <td>0.9707</td>\n",
       "      <td>0.9430</td>\n",
       "      <td>0.9919</td>\n",
       "      <td>0.92078</td>\n",
       "      <td>0.167582</td>\n",
       "      <td>17</td>\n",
       "    </tr>\n",
       "    <tr>\n",
       "      <th>11</th>\n",
       "      <td>92.568620</td>\n",
       "      <td>22.089718</td>\n",
       "      <td>0.007783</td>\n",
       "      <td>0.003136</td>\n",
       "      <td>relu</td>\n",
       "      <td>(5, 2)</td>\n",
       "      <td>constant</td>\n",
       "      <td>adam</td>\n",
       "      <td>{'activation': 'relu', 'hidden_layer_sizes': (...</td>\n",
       "      <td>0.9981</td>\n",
       "      <td>...</td>\n",
       "      <td>0.9722</td>\n",
       "      <td>0.9984</td>\n",
       "      <td>0.9606</td>\n",
       "      <td>0.9508</td>\n",
       "      <td>0.9947</td>\n",
       "      <td>0.9632</td>\n",
       "      <td>0.9425</td>\n",
       "      <td>0.97450</td>\n",
       "      <td>0.019771</td>\n",
       "      <td>12</td>\n",
       "    </tr>\n",
       "    <tr>\n",
       "      <th>12</th>\n",
       "      <td>11.033138</td>\n",
       "      <td>6.948657</td>\n",
       "      <td>0.005584</td>\n",
       "      <td>0.000709</td>\n",
       "      <td>relu</td>\n",
       "      <td>(5, 2)</td>\n",
       "      <td>invscaling</td>\n",
       "      <td>lbfgs</td>\n",
       "      <td>{'activation': 'relu', 'hidden_layer_sizes': (...</td>\n",
       "      <td>0.9378</td>\n",
       "      <td>...</td>\n",
       "      <td>0.4220</td>\n",
       "      <td>0.8855</td>\n",
       "      <td>0.9943</td>\n",
       "      <td>0.9416</td>\n",
       "      <td>0.4221</td>\n",
       "      <td>0.4221</td>\n",
       "      <td>0.9387</td>\n",
       "      <td>0.78469</td>\n",
       "      <td>0.238639</td>\n",
       "      <td>23</td>\n",
       "    </tr>\n",
       "    <tr>\n",
       "      <th>13</th>\n",
       "      <td>11.950041</td>\n",
       "      <td>8.344538</td>\n",
       "      <td>0.005332</td>\n",
       "      <td>0.000595</td>\n",
       "      <td>relu</td>\n",
       "      <td>(5, 2)</td>\n",
       "      <td>invscaling</td>\n",
       "      <td>sgd</td>\n",
       "      <td>{'activation': 'relu', 'hidden_layer_sizes': (...</td>\n",
       "      <td>0.4447</td>\n",
       "      <td>...</td>\n",
       "      <td>0.4231</td>\n",
       "      <td>0.6653</td>\n",
       "      <td>0.4202</td>\n",
       "      <td>0.5227</td>\n",
       "      <td>0.4293</td>\n",
       "      <td>0.4724</td>\n",
       "      <td>0.4219</td>\n",
       "      <td>0.46015</td>\n",
       "      <td>0.076668</td>\n",
       "      <td>26</td>\n",
       "    </tr>\n",
       "    <tr>\n",
       "      <th>14</th>\n",
       "      <td>64.706801</td>\n",
       "      <td>41.275801</td>\n",
       "      <td>0.007138</td>\n",
       "      <td>0.002351</td>\n",
       "      <td>relu</td>\n",
       "      <td>(5, 2)</td>\n",
       "      <td>invscaling</td>\n",
       "      <td>adam</td>\n",
       "      <td>{'activation': 'relu', 'hidden_layer_sizes': (...</td>\n",
       "      <td>0.9320</td>\n",
       "      <td>...</td>\n",
       "      <td>0.9976</td>\n",
       "      <td>0.9969</td>\n",
       "      <td>0.9425</td>\n",
       "      <td>0.4220</td>\n",
       "      <td>0.9962</td>\n",
       "      <td>0.9981</td>\n",
       "      <td>0.9479</td>\n",
       "      <td>0.86055</td>\n",
       "      <td>0.220647</td>\n",
       "      <td>20</td>\n",
       "    </tr>\n",
       "    <tr>\n",
       "      <th>15</th>\n",
       "      <td>11.863307</td>\n",
       "      <td>7.457638</td>\n",
       "      <td>0.006061</td>\n",
       "      <td>0.001137</td>\n",
       "      <td>relu</td>\n",
       "      <td>(5, 2)</td>\n",
       "      <td>adaptive</td>\n",
       "      <td>lbfgs</td>\n",
       "      <td>{'activation': 'relu', 'hidden_layer_sizes': (...</td>\n",
       "      <td>0.4219</td>\n",
       "      <td>...</td>\n",
       "      <td>0.9408</td>\n",
       "      <td>0.4220</td>\n",
       "      <td>0.4220</td>\n",
       "      <td>0.9454</td>\n",
       "      <td>0.9356</td>\n",
       "      <td>0.9738</td>\n",
       "      <td>0.9334</td>\n",
       "      <td>0.78390</td>\n",
       "      <td>0.237497</td>\n",
       "      <td>24</td>\n",
       "    </tr>\n",
       "    <tr>\n",
       "      <th>16</th>\n",
       "      <td>98.882972</td>\n",
       "      <td>7.019897</td>\n",
       "      <td>0.005116</td>\n",
       "      <td>0.000560</td>\n",
       "      <td>relu</td>\n",
       "      <td>(5, 2)</td>\n",
       "      <td>adaptive</td>\n",
       "      <td>sgd</td>\n",
       "      <td>{'activation': 'relu', 'hidden_layer_sizes': (...</td>\n",
       "      <td>0.9963</td>\n",
       "      <td>...</td>\n",
       "      <td>0.9920</td>\n",
       "      <td>0.9790</td>\n",
       "      <td>0.9966</td>\n",
       "      <td>0.9420</td>\n",
       "      <td>0.9369</td>\n",
       "      <td>0.9515</td>\n",
       "      <td>0.9919</td>\n",
       "      <td>0.97654</td>\n",
       "      <td>0.022541</td>\n",
       "      <td>11</td>\n",
       "    </tr>\n",
       "    <tr>\n",
       "      <th>17</th>\n",
       "      <td>100.285802</td>\n",
       "      <td>38.831493</td>\n",
       "      <td>0.007640</td>\n",
       "      <td>0.003214</td>\n",
       "      <td>relu</td>\n",
       "      <td>(5, 2)</td>\n",
       "      <td>adaptive</td>\n",
       "      <td>adam</td>\n",
       "      <td>{'activation': 'relu', 'hidden_layer_sizes': (...</td>\n",
       "      <td>0.9959</td>\n",
       "      <td>...</td>\n",
       "      <td>0.9950</td>\n",
       "      <td>0.9439</td>\n",
       "      <td>0.9613</td>\n",
       "      <td>0.4220</td>\n",
       "      <td>0.9924</td>\n",
       "      <td>0.9508</td>\n",
       "      <td>0.9979</td>\n",
       "      <td>0.91679</td>\n",
       "      <td>0.167314</td>\n",
       "      <td>18</td>\n",
       "    </tr>\n",
       "    <tr>\n",
       "      <th>18</th>\n",
       "      <td>23.541162</td>\n",
       "      <td>1.038203</td>\n",
       "      <td>0.011604</td>\n",
       "      <td>0.003265</td>\n",
       "      <td>tanh</td>\n",
       "      <td>(5, 2)</td>\n",
       "      <td>constant</td>\n",
       "      <td>lbfgs</td>\n",
       "      <td>{'activation': 'tanh', 'hidden_layer_sizes': (...</td>\n",
       "      <td>0.9896</td>\n",
       "      <td>...</td>\n",
       "      <td>0.9799</td>\n",
       "      <td>0.9372</td>\n",
       "      <td>0.9936</td>\n",
       "      <td>0.9610</td>\n",
       "      <td>0.9830</td>\n",
       "      <td>0.9543</td>\n",
       "      <td>0.9834</td>\n",
       "      <td>0.97671</td>\n",
       "      <td>0.018337</td>\n",
       "      <td>10</td>\n",
       "    </tr>\n",
       "    <tr>\n",
       "      <th>19</th>\n",
       "      <td>119.287625</td>\n",
       "      <td>2.313831</td>\n",
       "      <td>0.007656</td>\n",
       "      <td>0.000945</td>\n",
       "      <td>tanh</td>\n",
       "      <td>(5, 2)</td>\n",
       "      <td>constant</td>\n",
       "      <td>sgd</td>\n",
       "      <td>{'activation': 'tanh', 'hidden_layer_sizes': (...</td>\n",
       "      <td>0.9912</td>\n",
       "      <td>...</td>\n",
       "      <td>0.9919</td>\n",
       "      <td>0.9920</td>\n",
       "      <td>0.9919</td>\n",
       "      <td>0.9903</td>\n",
       "      <td>0.9884</td>\n",
       "      <td>0.9921</td>\n",
       "      <td>0.9875</td>\n",
       "      <td>0.99115</td>\n",
       "      <td>0.001823</td>\n",
       "      <td>6</td>\n",
       "    </tr>\n",
       "    <tr>\n",
       "      <th>20</th>\n",
       "      <td>101.671218</td>\n",
       "      <td>14.177215</td>\n",
       "      <td>0.007796</td>\n",
       "      <td>0.001121</td>\n",
       "      <td>tanh</td>\n",
       "      <td>(5, 2)</td>\n",
       "      <td>constant</td>\n",
       "      <td>adam</td>\n",
       "      <td>{'activation': 'tanh', 'hidden_layer_sizes': (...</td>\n",
       "      <td>0.9958</td>\n",
       "      <td>...</td>\n",
       "      <td>0.9961</td>\n",
       "      <td>0.9949</td>\n",
       "      <td>0.9969</td>\n",
       "      <td>0.9942</td>\n",
       "      <td>0.9951</td>\n",
       "      <td>0.9964</td>\n",
       "      <td>0.9947</td>\n",
       "      <td>0.99557</td>\n",
       "      <td>0.000819</td>\n",
       "      <td>1</td>\n",
       "    </tr>\n",
       "    <tr>\n",
       "      <th>21</th>\n",
       "      <td>22.027520</td>\n",
       "      <td>1.973705</td>\n",
       "      <td>0.009169</td>\n",
       "      <td>0.001785</td>\n",
       "      <td>tanh</td>\n",
       "      <td>(5, 2)</td>\n",
       "      <td>invscaling</td>\n",
       "      <td>lbfgs</td>\n",
       "      <td>{'activation': 'tanh', 'hidden_layer_sizes': (...</td>\n",
       "      <td>0.9919</td>\n",
       "      <td>...</td>\n",
       "      <td>0.9937</td>\n",
       "      <td>0.9789</td>\n",
       "      <td>0.9823</td>\n",
       "      <td>0.9448</td>\n",
       "      <td>0.9846</td>\n",
       "      <td>0.9291</td>\n",
       "      <td>0.9824</td>\n",
       "      <td>0.97703</td>\n",
       "      <td>0.020891</td>\n",
       "      <td>9</td>\n",
       "    </tr>\n",
       "    <tr>\n",
       "      <th>22</th>\n",
       "      <td>21.117820</td>\n",
       "      <td>18.834692</td>\n",
       "      <td>0.007637</td>\n",
       "      <td>0.001769</td>\n",
       "      <td>tanh</td>\n",
       "      <td>(5, 2)</td>\n",
       "      <td>invscaling</td>\n",
       "      <td>sgd</td>\n",
       "      <td>{'activation': 'tanh', 'hidden_layer_sizes': (...</td>\n",
       "      <td>0.6063</td>\n",
       "      <td>...</td>\n",
       "      <td>0.4376</td>\n",
       "      <td>0.6161</td>\n",
       "      <td>0.7037</td>\n",
       "      <td>0.5315</td>\n",
       "      <td>0.4313</td>\n",
       "      <td>0.5061</td>\n",
       "      <td>0.3791</td>\n",
       "      <td>0.52786</td>\n",
       "      <td>0.109395</td>\n",
       "      <td>25</td>\n",
       "    </tr>\n",
       "    <tr>\n",
       "      <th>23</th>\n",
       "      <td>99.851089</td>\n",
       "      <td>16.786995</td>\n",
       "      <td>0.008797</td>\n",
       "      <td>0.002433</td>\n",
       "      <td>tanh</td>\n",
       "      <td>(5, 2)</td>\n",
       "      <td>invscaling</td>\n",
       "      <td>adam</td>\n",
       "      <td>{'activation': 'tanh', 'hidden_layer_sizes': (...</td>\n",
       "      <td>0.9956</td>\n",
       "      <td>...</td>\n",
       "      <td>0.9938</td>\n",
       "      <td>0.9941</td>\n",
       "      <td>0.9936</td>\n",
       "      <td>0.9951</td>\n",
       "      <td>0.9938</td>\n",
       "      <td>0.9932</td>\n",
       "      <td>0.9936</td>\n",
       "      <td>0.99413</td>\n",
       "      <td>0.000789</td>\n",
       "      <td>3</td>\n",
       "    </tr>\n",
       "    <tr>\n",
       "      <th>24</th>\n",
       "      <td>25.124848</td>\n",
       "      <td>2.459820</td>\n",
       "      <td>0.010531</td>\n",
       "      <td>0.001569</td>\n",
       "      <td>tanh</td>\n",
       "      <td>(5, 2)</td>\n",
       "      <td>adaptive</td>\n",
       "      <td>lbfgs</td>\n",
       "      <td>{'activation': 'tanh', 'hidden_layer_sizes': (...</td>\n",
       "      <td>0.9870</td>\n",
       "      <td>...</td>\n",
       "      <td>0.9954</td>\n",
       "      <td>0.9787</td>\n",
       "      <td>0.9685</td>\n",
       "      <td>0.9842</td>\n",
       "      <td>0.9844</td>\n",
       "      <td>0.9780</td>\n",
       "      <td>0.9291</td>\n",
       "      <td>0.97212</td>\n",
       "      <td>0.018461</td>\n",
       "      <td>13</td>\n",
       "    </tr>\n",
       "    <tr>\n",
       "      <th>25</th>\n",
       "      <td>110.542645</td>\n",
       "      <td>2.330045</td>\n",
       "      <td>0.007226</td>\n",
       "      <td>0.001351</td>\n",
       "      <td>tanh</td>\n",
       "      <td>(5, 2)</td>\n",
       "      <td>adaptive</td>\n",
       "      <td>sgd</td>\n",
       "      <td>{'activation': 'tanh', 'hidden_layer_sizes': (...</td>\n",
       "      <td>0.9925</td>\n",
       "      <td>...</td>\n",
       "      <td>0.9935</td>\n",
       "      <td>0.9896</td>\n",
       "      <td>0.9927</td>\n",
       "      <td>0.9908</td>\n",
       "      <td>0.9925</td>\n",
       "      <td>0.9933</td>\n",
       "      <td>0.9922</td>\n",
       "      <td>0.99214</td>\n",
       "      <td>0.001176</td>\n",
       "      <td>5</td>\n",
       "    </tr>\n",
       "    <tr>\n",
       "      <th>26</th>\n",
       "      <td>71.843199</td>\n",
       "      <td>15.600559</td>\n",
       "      <td>0.004647</td>\n",
       "      <td>0.001583</td>\n",
       "      <td>tanh</td>\n",
       "      <td>(5, 2)</td>\n",
       "      <td>adaptive</td>\n",
       "      <td>adam</td>\n",
       "      <td>{'activation': 'tanh', 'hidden_layer_sizes': (...</td>\n",
       "      <td>0.9941</td>\n",
       "      <td>...</td>\n",
       "      <td>0.9955</td>\n",
       "      <td>0.9935</td>\n",
       "      <td>0.9956</td>\n",
       "      <td>0.9939</td>\n",
       "      <td>0.9961</td>\n",
       "      <td>0.9952</td>\n",
       "      <td>0.9954</td>\n",
       "      <td>0.99469</td>\n",
       "      <td>0.000933</td>\n",
       "      <td>2</td>\n",
       "    </tr>\n",
       "  </tbody>\n",
       "</table>\n",
       "<p>27 rows × 22 columns</p>\n",
       "</div>"
      ],
      "text/plain": [
       "    mean_fit_time  std_fit_time  mean_score_time  std_score_time  \\\n",
       "0       21.699180      0.587689         0.009680        0.003425   \n",
       "1      111.414816     51.885217         0.006649        0.000675   \n",
       "2      132.217800     12.674825         0.006818        0.001128   \n",
       "3       20.001387      0.771432         0.007812        0.001327   \n",
       "4        8.054568      0.679785         0.008759        0.002117   \n",
       "5      117.366811      3.752705         0.007250        0.001123   \n",
       "6       19.424358      1.032549         0.007498        0.001701   \n",
       "7       98.175264     19.634865         0.008115        0.001902   \n",
       "8      113.984426      3.034323         0.006928        0.000567   \n",
       "9       12.068960      7.674920         0.006581        0.001870   \n",
       "10      83.586835     28.998513         0.005256        0.000605   \n",
       "11      92.568620     22.089718         0.007783        0.003136   \n",
       "12      11.033138      6.948657         0.005584        0.000709   \n",
       "13      11.950041      8.344538         0.005332        0.000595   \n",
       "14      64.706801     41.275801         0.007138        0.002351   \n",
       "15      11.863307      7.457638         0.006061        0.001137   \n",
       "16      98.882972      7.019897         0.005116        0.000560   \n",
       "17     100.285802     38.831493         0.007640        0.003214   \n",
       "18      23.541162      1.038203         0.011604        0.003265   \n",
       "19     119.287625      2.313831         0.007656        0.000945   \n",
       "20     101.671218     14.177215         0.007796        0.001121   \n",
       "21      22.027520      1.973705         0.009169        0.001785   \n",
       "22      21.117820     18.834692         0.007637        0.001769   \n",
       "23      99.851089     16.786995         0.008797        0.002433   \n",
       "24      25.124848      2.459820         0.010531        0.001569   \n",
       "25     110.542645      2.330045         0.007226        0.001351   \n",
       "26      71.843199     15.600559         0.004647        0.001583   \n",
       "\n",
       "   param_activation param_hidden_layer_sizes param_learning_rate param_solver  \\\n",
       "0          logistic                   (5, 2)            constant        lbfgs   \n",
       "1          logistic                   (5, 2)            constant          sgd   \n",
       "2          logistic                   (5, 2)            constant         adam   \n",
       "3          logistic                   (5, 2)          invscaling        lbfgs   \n",
       "4          logistic                   (5, 2)          invscaling          sgd   \n",
       "5          logistic                   (5, 2)          invscaling         adam   \n",
       "6          logistic                   (5, 2)            adaptive        lbfgs   \n",
       "7          logistic                   (5, 2)            adaptive          sgd   \n",
       "8          logistic                   (5, 2)            adaptive         adam   \n",
       "9              relu                   (5, 2)            constant        lbfgs   \n",
       "10             relu                   (5, 2)            constant          sgd   \n",
       "11             relu                   (5, 2)            constant         adam   \n",
       "12             relu                   (5, 2)          invscaling        lbfgs   \n",
       "13             relu                   (5, 2)          invscaling          sgd   \n",
       "14             relu                   (5, 2)          invscaling         adam   \n",
       "15             relu                   (5, 2)            adaptive        lbfgs   \n",
       "16             relu                   (5, 2)            adaptive          sgd   \n",
       "17             relu                   (5, 2)            adaptive         adam   \n",
       "18             tanh                   (5, 2)            constant        lbfgs   \n",
       "19             tanh                   (5, 2)            constant          sgd   \n",
       "20             tanh                   (5, 2)            constant         adam   \n",
       "21             tanh                   (5, 2)          invscaling        lbfgs   \n",
       "22             tanh                   (5, 2)          invscaling          sgd   \n",
       "23             tanh                   (5, 2)          invscaling         adam   \n",
       "24             tanh                   (5, 2)            adaptive        lbfgs   \n",
       "25             tanh                   (5, 2)            adaptive          sgd   \n",
       "26             tanh                   (5, 2)            adaptive         adam   \n",
       "\n",
       "                                               params  split0_test_score  ...  \\\n",
       "0   {'activation': 'logistic', 'hidden_layer_sizes...             0.9436  ...   \n",
       "1   {'activation': 'logistic', 'hidden_layer_sizes...             0.9561  ...   \n",
       "2   {'activation': 'logistic', 'hidden_layer_sizes...             0.9941  ...   \n",
       "3   {'activation': 'logistic', 'hidden_layer_sizes...             0.9594  ...   \n",
       "4   {'activation': 'logistic', 'hidden_layer_sizes...             0.4220  ...   \n",
       "5   {'activation': 'logistic', 'hidden_layer_sizes...             0.9825  ...   \n",
       "6   {'activation': 'logistic', 'hidden_layer_sizes...             0.9447  ...   \n",
       "7   {'activation': 'logistic', 'hidden_layer_sizes...             0.9278  ...   \n",
       "8   {'activation': 'logistic', 'hidden_layer_sizes...             0.9937  ...   \n",
       "9   {'activation': 'relu', 'hidden_layer_sizes': (...             0.4220  ...   \n",
       "10  {'activation': 'relu', 'hidden_layer_sizes': (...             0.9374  ...   \n",
       "11  {'activation': 'relu', 'hidden_layer_sizes': (...             0.9981  ...   \n",
       "12  {'activation': 'relu', 'hidden_layer_sizes': (...             0.9378  ...   \n",
       "13  {'activation': 'relu', 'hidden_layer_sizes': (...             0.4447  ...   \n",
       "14  {'activation': 'relu', 'hidden_layer_sizes': (...             0.9320  ...   \n",
       "15  {'activation': 'relu', 'hidden_layer_sizes': (...             0.4219  ...   \n",
       "16  {'activation': 'relu', 'hidden_layer_sizes': (...             0.9963  ...   \n",
       "17  {'activation': 'relu', 'hidden_layer_sizes': (...             0.9959  ...   \n",
       "18  {'activation': 'tanh', 'hidden_layer_sizes': (...             0.9896  ...   \n",
       "19  {'activation': 'tanh', 'hidden_layer_sizes': (...             0.9912  ...   \n",
       "20  {'activation': 'tanh', 'hidden_layer_sizes': (...             0.9958  ...   \n",
       "21  {'activation': 'tanh', 'hidden_layer_sizes': (...             0.9919  ...   \n",
       "22  {'activation': 'tanh', 'hidden_layer_sizes': (...             0.6063  ...   \n",
       "23  {'activation': 'tanh', 'hidden_layer_sizes': (...             0.9956  ...   \n",
       "24  {'activation': 'tanh', 'hidden_layer_sizes': (...             0.9870  ...   \n",
       "25  {'activation': 'tanh', 'hidden_layer_sizes': (...             0.9925  ...   \n",
       "26  {'activation': 'tanh', 'hidden_layer_sizes': (...             0.9941  ...   \n",
       "\n",
       "    split3_test_score  split4_test_score  split5_test_score  \\\n",
       "0              0.9598             0.8970             0.9792   \n",
       "1              0.9032             0.9351             0.9380   \n",
       "2              0.9916             0.9923             0.9949   \n",
       "3              0.9564             0.9435             0.9486   \n",
       "4              0.4220             0.4220             0.2634   \n",
       "5              0.9928             0.9940             0.9942   \n",
       "6              0.9236             0.9270             0.9733   \n",
       "7              0.9557             0.9103             0.9118   \n",
       "8              0.9931             0.9912             0.9932   \n",
       "9              0.9425             0.9905             0.9061   \n",
       "10             0.9950             0.9638             0.4220   \n",
       "11             0.9722             0.9984             0.9606   \n",
       "12             0.4220             0.8855             0.9943   \n",
       "13             0.4231             0.6653             0.4202   \n",
       "14             0.9976             0.9969             0.9425   \n",
       "15             0.9408             0.4220             0.4220   \n",
       "16             0.9920             0.9790             0.9966   \n",
       "17             0.9950             0.9439             0.9613   \n",
       "18             0.9799             0.9372             0.9936   \n",
       "19             0.9919             0.9920             0.9919   \n",
       "20             0.9961             0.9949             0.9969   \n",
       "21             0.9937             0.9789             0.9823   \n",
       "22             0.4376             0.6161             0.7037   \n",
       "23             0.9938             0.9941             0.9936   \n",
       "24             0.9954             0.9787             0.9685   \n",
       "25             0.9935             0.9896             0.9927   \n",
       "26             0.9955             0.9935             0.9956   \n",
       "\n",
       "    split6_test_score  split7_test_score  split8_test_score  \\\n",
       "0              0.9510             0.9890             0.9749   \n",
       "1              0.9354             0.4221             0.9183   \n",
       "2              0.9922             0.9928             0.9920   \n",
       "3              0.9431             0.9611             0.9737   \n",
       "4              0.4220             0.4221             0.4221   \n",
       "5              0.9923             0.9854             0.9915   \n",
       "6              0.9513             0.9672             0.9249   \n",
       "7              0.4220             0.9229             0.8988   \n",
       "8              0.9918             0.9397             0.9431   \n",
       "9              0.9981             0.9368             0.9941   \n",
       "10             0.9948             0.9707             0.9430   \n",
       "11             0.9508             0.9947             0.9632   \n",
       "12             0.9416             0.4221             0.4221   \n",
       "13             0.5227             0.4293             0.4724   \n",
       "14             0.4220             0.9962             0.9981   \n",
       "15             0.9454             0.9356             0.9738   \n",
       "16             0.9420             0.9369             0.9515   \n",
       "17             0.4220             0.9924             0.9508   \n",
       "18             0.9610             0.9830             0.9543   \n",
       "19             0.9903             0.9884             0.9921   \n",
       "20             0.9942             0.9951             0.9964   \n",
       "21             0.9448             0.9846             0.9291   \n",
       "22             0.5315             0.4313             0.5061   \n",
       "23             0.9951             0.9938             0.9932   \n",
       "24             0.9842             0.9844             0.9780   \n",
       "25             0.9908             0.9925             0.9933   \n",
       "26             0.9939             0.9961             0.9952   \n",
       "\n",
       "    split9_test_score  mean_test_score  std_test_score  rank_test_score  \n",
       "0              0.9838          0.96202        0.025531               14  \n",
       "1              0.9211          0.82703        0.202942               21  \n",
       "2              0.9925          0.99266        0.001120                4  \n",
       "3              0.9944          0.96034        0.015993               15  \n",
       "4              0.4221          0.40617        0.047590               27  \n",
       "5              0.9910          0.98961        0.005170                7  \n",
       "6              0.9461          0.94870        0.020087               16  \n",
       "7              0.8995          0.87024        0.150341               19  \n",
       "8              0.9881          0.97908        0.020822                8  \n",
       "9              0.8808          0.79148        0.244544               22  \n",
       "10             0.9919          0.92078        0.167582               17  \n",
       "11             0.9425          0.97450        0.019771               12  \n",
       "12             0.9387          0.78469        0.238639               23  \n",
       "13             0.4219          0.46015        0.076668               26  \n",
       "14             0.9479          0.86055        0.220647               20  \n",
       "15             0.9334          0.78390        0.237497               24  \n",
       "16             0.9919          0.97654        0.022541               11  \n",
       "17             0.9979          0.91679        0.167314               18  \n",
       "18             0.9834          0.97671        0.018337               10  \n",
       "19             0.9875          0.99115        0.001823                6  \n",
       "20             0.9947          0.99557        0.000819                1  \n",
       "21             0.9824          0.97703        0.020891                9  \n",
       "22             0.3791          0.52786        0.109395               25  \n",
       "23             0.9936          0.99413        0.000789                3  \n",
       "24             0.9291          0.97212        0.018461               13  \n",
       "25             0.9922          0.99214        0.001176                5  \n",
       "26             0.9954          0.99469        0.000933                2  \n",
       "\n",
       "[27 rows x 22 columns]"
      ]
     },
     "execution_count": 381,
     "metadata": {},
     "output_type": "execute_result"
    }
   ],
   "source": [
    "mlp_result = pd.DataFrame(mlp.cv_results_)\n",
    "\n",
    "mlp_result"
   ]
  },
  {
   "cell_type": "code",
   "execution_count": 408,
   "metadata": {},
   "outputs": [
    {
     "name": "stdout",
     "output_type": "stream",
     "text": [
      "MLPClassifier(activation='tanh', hidden_layer_sizes=(5, 2))\n",
      "Best Accuracy: 99.56%\n"
     ]
    }
   ],
   "source": [
    "print(mlp.best_estimator_)\n",
    "print('Best Accuracy: {0:.2%}'.format(mlp.best_score_))"
   ]
  },
  {
   "cell_type": "markdown",
   "metadata": {
    "id": "heNQGEc9BJGk"
   },
   "source": [
    "## (Train - Using Test-Train Split)"
   ]
  },
  {
   "cell_type": "code",
   "execution_count": 322,
   "metadata": {
    "colab": {
     "base_uri": "https://localhost:8080/"
    },
    "id": "nhSBolqVBe5s",
    "outputId": "667264a9-0ff5-47c6-942b-e729d472cf79"
   },
   "outputs": [],
   "source": [
    "#start = time.time()\n",
    "\n",
    "#mlp.fit(X_train_normalized, y_train)\n",
    "\n",
    "#stop = time.time()\n",
    "#print(f\"Training time MLP Classifier: {stop - start}s\")"
   ]
  },
  {
   "cell_type": "markdown",
   "metadata": {
    "id": "pk-oY6mqBx6u"
   },
   "source": [
    "## Evaluate"
   ]
  },
  {
   "cell_type": "code",
   "execution_count": 388,
   "metadata": {},
   "outputs": [
    {
     "ename": "ValueError",
     "evalue": "x and y must have same first dimension, but have shapes (9,) and (27,)",
     "output_type": "error",
     "traceback": [
      "\u001b[0;31m---------------------------------------------------------------------------\u001b[0m",
      "\u001b[0;31mValueError\u001b[0m                                Traceback (most recent call last)",
      "\u001b[0;32m<ipython-input-388-65f0f4b7606d>\u001b[0m in \u001b[0;36m<module>\u001b[0;34m\u001b[0m\n\u001b[1;32m      4\u001b[0m \u001b[0;34m\u001b[0m\u001b[0m\n\u001b[1;32m      5\u001b[0m \u001b[0mplt\u001b[0m\u001b[0;34m.\u001b[0m\u001b[0mtitle\u001b[0m\u001b[0;34m(\u001b[0m\u001b[0;34m\"Mean accuracy after 10-Fold Cross Validation with multiple param combinations\"\u001b[0m\u001b[0;34m)\u001b[0m\u001b[0;34m\u001b[0m\u001b[0;34m\u001b[0m\u001b[0m\n\u001b[0;32m----> 6\u001b[0;31m \u001b[0mplt\u001b[0m\u001b[0;34m.\u001b[0m\u001b[0mplot\u001b[0m\u001b[0;34m(\u001b[0m\u001b[0;34m[\u001b[0m\u001b[0;34m\"logistic \\n constant\"\u001b[0m\u001b[0;34m,\u001b[0m \u001b[0;34m\"logistic \\n invscaling\"\u001b[0m\u001b[0;34m,\u001b[0m \u001b[0;34m\"logistic \\n adaptive\"\u001b[0m\u001b[0;34m,\u001b[0m \u001b[0;34m\"relu \\n constant\"\u001b[0m\u001b[0;34m,\u001b[0m \u001b[0;34m\"relu \\n invscaling\"\u001b[0m\u001b[0;34m,\u001b[0m \u001b[0;34m\"relu\\n adaptive\"\u001b[0m\u001b[0;34m,\u001b[0m \u001b[0;34m\"tanh\\n constant\"\u001b[0m\u001b[0;34m,\u001b[0m \u001b[0;34m\"tanh\\n invscaling\"\u001b[0m\u001b[0;34m,\u001b[0m \u001b[0;34m\"tanh\\n adaptive\"\u001b[0m\u001b[0;34m]\u001b[0m\u001b[0;34m,\u001b[0m \u001b[0mtest_scores\u001b[0m\u001b[0;34m)\u001b[0m\u001b[0;34m\u001b[0m\u001b[0;34m\u001b[0m\u001b[0m\n\u001b[0m\u001b[1;32m      7\u001b[0m \u001b[0mplt\u001b[0m\u001b[0;34m.\u001b[0m\u001b[0mxticks\u001b[0m\u001b[0;34m(\u001b[0m\u001b[0mrotation\u001b[0m\u001b[0;34m=\u001b[0m\u001b[0;36m50\u001b[0m\u001b[0;34m)\u001b[0m\u001b[0;34m\u001b[0m\u001b[0;34m\u001b[0m\u001b[0m\n\u001b[1;32m      8\u001b[0m \u001b[0mplt\u001b[0m\u001b[0;34m.\u001b[0m\u001b[0mylabel\u001b[0m\u001b[0;34m(\u001b[0m\u001b[0;34m\"Accuracy\"\u001b[0m\u001b[0;34m)\u001b[0m\u001b[0;34m\u001b[0m\u001b[0;34m\u001b[0m\u001b[0m\n",
      "\u001b[0;32m/usr/local/lib/python3.9/site-packages/matplotlib/pyplot.py\u001b[0m in \u001b[0;36mplot\u001b[0;34m(scalex, scaley, data, *args, **kwargs)\u001b[0m\n\u001b[1;32m   2838\u001b[0m \u001b[0;34m@\u001b[0m\u001b[0m_copy_docstring_and_deprecators\u001b[0m\u001b[0;34m(\u001b[0m\u001b[0mAxes\u001b[0m\u001b[0;34m.\u001b[0m\u001b[0mplot\u001b[0m\u001b[0;34m)\u001b[0m\u001b[0;34m\u001b[0m\u001b[0;34m\u001b[0m\u001b[0m\n\u001b[1;32m   2839\u001b[0m \u001b[0;32mdef\u001b[0m \u001b[0mplot\u001b[0m\u001b[0;34m(\u001b[0m\u001b[0;34m*\u001b[0m\u001b[0margs\u001b[0m\u001b[0;34m,\u001b[0m \u001b[0mscalex\u001b[0m\u001b[0;34m=\u001b[0m\u001b[0;32mTrue\u001b[0m\u001b[0;34m,\u001b[0m \u001b[0mscaley\u001b[0m\u001b[0;34m=\u001b[0m\u001b[0;32mTrue\u001b[0m\u001b[0;34m,\u001b[0m \u001b[0mdata\u001b[0m\u001b[0;34m=\u001b[0m\u001b[0;32mNone\u001b[0m\u001b[0;34m,\u001b[0m \u001b[0;34m**\u001b[0m\u001b[0mkwargs\u001b[0m\u001b[0;34m)\u001b[0m\u001b[0;34m:\u001b[0m\u001b[0;34m\u001b[0m\u001b[0;34m\u001b[0m\u001b[0m\n\u001b[0;32m-> 2840\u001b[0;31m     return gca().plot(\n\u001b[0m\u001b[1;32m   2841\u001b[0m         \u001b[0;34m*\u001b[0m\u001b[0margs\u001b[0m\u001b[0;34m,\u001b[0m \u001b[0mscalex\u001b[0m\u001b[0;34m=\u001b[0m\u001b[0mscalex\u001b[0m\u001b[0;34m,\u001b[0m \u001b[0mscaley\u001b[0m\u001b[0;34m=\u001b[0m\u001b[0mscaley\u001b[0m\u001b[0;34m,\u001b[0m\u001b[0;34m\u001b[0m\u001b[0;34m\u001b[0m\u001b[0m\n\u001b[1;32m   2842\u001b[0m         **({\"data\": data} if data is not None else {}), **kwargs)\n",
      "\u001b[0;32m/usr/local/lib/python3.9/site-packages/matplotlib/axes/_axes.py\u001b[0m in \u001b[0;36mplot\u001b[0;34m(self, scalex, scaley, data, *args, **kwargs)\u001b[0m\n\u001b[1;32m   1741\u001b[0m         \"\"\"\n\u001b[1;32m   1742\u001b[0m         \u001b[0mkwargs\u001b[0m \u001b[0;34m=\u001b[0m \u001b[0mcbook\u001b[0m\u001b[0;34m.\u001b[0m\u001b[0mnormalize_kwargs\u001b[0m\u001b[0;34m(\u001b[0m\u001b[0mkwargs\u001b[0m\u001b[0;34m,\u001b[0m \u001b[0mmlines\u001b[0m\u001b[0;34m.\u001b[0m\u001b[0mLine2D\u001b[0m\u001b[0;34m)\u001b[0m\u001b[0;34m\u001b[0m\u001b[0;34m\u001b[0m\u001b[0m\n\u001b[0;32m-> 1743\u001b[0;31m         \u001b[0mlines\u001b[0m \u001b[0;34m=\u001b[0m \u001b[0;34m[\u001b[0m\u001b[0;34m*\u001b[0m\u001b[0mself\u001b[0m\u001b[0;34m.\u001b[0m\u001b[0m_get_lines\u001b[0m\u001b[0;34m(\u001b[0m\u001b[0;34m*\u001b[0m\u001b[0margs\u001b[0m\u001b[0;34m,\u001b[0m \u001b[0mdata\u001b[0m\u001b[0;34m=\u001b[0m\u001b[0mdata\u001b[0m\u001b[0;34m,\u001b[0m \u001b[0;34m**\u001b[0m\u001b[0mkwargs\u001b[0m\u001b[0;34m)\u001b[0m\u001b[0;34m]\u001b[0m\u001b[0;34m\u001b[0m\u001b[0;34m\u001b[0m\u001b[0m\n\u001b[0m\u001b[1;32m   1744\u001b[0m         \u001b[0;32mfor\u001b[0m \u001b[0mline\u001b[0m \u001b[0;32min\u001b[0m \u001b[0mlines\u001b[0m\u001b[0;34m:\u001b[0m\u001b[0;34m\u001b[0m\u001b[0;34m\u001b[0m\u001b[0m\n\u001b[1;32m   1745\u001b[0m             \u001b[0mself\u001b[0m\u001b[0;34m.\u001b[0m\u001b[0madd_line\u001b[0m\u001b[0;34m(\u001b[0m\u001b[0mline\u001b[0m\u001b[0;34m)\u001b[0m\u001b[0;34m\u001b[0m\u001b[0;34m\u001b[0m\u001b[0m\n",
      "\u001b[0;32m/usr/local/lib/python3.9/site-packages/matplotlib/axes/_base.py\u001b[0m in \u001b[0;36m__call__\u001b[0;34m(self, data, *args, **kwargs)\u001b[0m\n\u001b[1;32m    271\u001b[0m                 \u001b[0mthis\u001b[0m \u001b[0;34m+=\u001b[0m \u001b[0margs\u001b[0m\u001b[0;34m[\u001b[0m\u001b[0;36m0\u001b[0m\u001b[0;34m]\u001b[0m\u001b[0;34m,\u001b[0m\u001b[0;34m\u001b[0m\u001b[0;34m\u001b[0m\u001b[0m\n\u001b[1;32m    272\u001b[0m                 \u001b[0margs\u001b[0m \u001b[0;34m=\u001b[0m \u001b[0margs\u001b[0m\u001b[0;34m[\u001b[0m\u001b[0;36m1\u001b[0m\u001b[0;34m:\u001b[0m\u001b[0;34m]\u001b[0m\u001b[0;34m\u001b[0m\u001b[0;34m\u001b[0m\u001b[0m\n\u001b[0;32m--> 273\u001b[0;31m             \u001b[0;32myield\u001b[0m \u001b[0;32mfrom\u001b[0m \u001b[0mself\u001b[0m\u001b[0;34m.\u001b[0m\u001b[0m_plot_args\u001b[0m\u001b[0;34m(\u001b[0m\u001b[0mthis\u001b[0m\u001b[0;34m,\u001b[0m \u001b[0mkwargs\u001b[0m\u001b[0;34m)\u001b[0m\u001b[0;34m\u001b[0m\u001b[0;34m\u001b[0m\u001b[0m\n\u001b[0m\u001b[1;32m    274\u001b[0m \u001b[0;34m\u001b[0m\u001b[0m\n\u001b[1;32m    275\u001b[0m     \u001b[0;32mdef\u001b[0m \u001b[0mget_next_color\u001b[0m\u001b[0;34m(\u001b[0m\u001b[0mself\u001b[0m\u001b[0;34m)\u001b[0m\u001b[0;34m:\u001b[0m\u001b[0;34m\u001b[0m\u001b[0;34m\u001b[0m\u001b[0m\n",
      "\u001b[0;32m/usr/local/lib/python3.9/site-packages/matplotlib/axes/_base.py\u001b[0m in \u001b[0;36m_plot_args\u001b[0;34m(self, tup, kwargs)\u001b[0m\n\u001b[1;32m    397\u001b[0m \u001b[0;34m\u001b[0m\u001b[0m\n\u001b[1;32m    398\u001b[0m         \u001b[0;32mif\u001b[0m \u001b[0mx\u001b[0m\u001b[0;34m.\u001b[0m\u001b[0mshape\u001b[0m\u001b[0;34m[\u001b[0m\u001b[0;36m0\u001b[0m\u001b[0;34m]\u001b[0m \u001b[0;34m!=\u001b[0m \u001b[0my\u001b[0m\u001b[0;34m.\u001b[0m\u001b[0mshape\u001b[0m\u001b[0;34m[\u001b[0m\u001b[0;36m0\u001b[0m\u001b[0;34m]\u001b[0m\u001b[0;34m:\u001b[0m\u001b[0;34m\u001b[0m\u001b[0;34m\u001b[0m\u001b[0m\n\u001b[0;32m--> 399\u001b[0;31m             raise ValueError(f\"x and y must have same first dimension, but \"\n\u001b[0m\u001b[1;32m    400\u001b[0m                              f\"have shapes {x.shape} and {y.shape}\")\n\u001b[1;32m    401\u001b[0m         \u001b[0;32mif\u001b[0m \u001b[0mx\u001b[0m\u001b[0;34m.\u001b[0m\u001b[0mndim\u001b[0m \u001b[0;34m>\u001b[0m \u001b[0;36m2\u001b[0m \u001b[0;32mor\u001b[0m \u001b[0my\u001b[0m\u001b[0;34m.\u001b[0m\u001b[0mndim\u001b[0m \u001b[0;34m>\u001b[0m \u001b[0;36m2\u001b[0m\u001b[0;34m:\u001b[0m\u001b[0;34m\u001b[0m\u001b[0;34m\u001b[0m\u001b[0m\n",
      "\u001b[0;31mValueError\u001b[0m: x and y must have same first dimension, but have shapes (9,) and (27,)"
     ]
    },
    {
     "data": {
      "image/png": "[encoded data removed]",
      "text/plain": [
       "<Figure size 432x288 with 1 Axes>"
      ]
     },
     "metadata": {
      "needs_background": "light"
     },
     "output_type": "display_data"
    }
   ],
   "source": [
    "#TODO\n",
    "test_scores = mlp.cv_results_['mean_test_score']\n",
    "\n",
    "plt.title(\"Mean accuracy after 10-Fold Cross Validation with multiple param combinations\")\n",
    "plt.plot([\"logistic \\n constant\", \"logistic \\n invscaling\", \"logistic \\n adaptive\", \"relu \\n constant\", \"relu \\n invscaling\", \"relu\\n adaptive\", \"tanh\\n constant\", \"tanh\\n invscaling\", \"tanh\\n adaptive\"], test_scores)\n",
    "plt.xticks(rotation=50)\n",
    "plt.ylabel(\"Accuracy\")\n",
    "plt.show()"
   ]
  },
  {
   "cell_type": "code",
   "execution_count": 373,
   "metadata": {
    "colab": {
     "base_uri": "https://localhost:8080/"
    },
    "id": "QeRwdI0FBzxi",
    "outputId": "c83f2462-6ce1-41af-b093-3442aa531d7b"
   },
   "outputs": [],
   "source": [
    "#from sklearn.model_selection import cross_val_score\n",
    "\n",
    "\n",
    "#accuracy = clf.score(X_test_normalized, y_test) \n",
    "\n",
    "#print('Accuracy: {0:.2%}'.format(accuracy))\n",
    "\n",
    "# lbfgs\n",
    "# identity -> 90.72%\n",
    "# logistic -> 98.88%\n",
    "# tanh -> 99.68%\n",
    "# relu -> 62.08%\n",
    "\n",
    "\n",
    "# sgd\n",
    "# identity -> 90.48%\n",
    "# logistic -> 62.08%\n",
    "# tanh -> 98.24%\n",
    "# relu -> 62.08%\n",
    "\n",
    "# adam\n",
    "# identity -> 90.88%\n",
    "# logistic -> 98.48%\n",
    "# tanh -> 99.04%\n",
    "# relu -> 98.88%"
   ]
  },
  {
   "cell_type": "code",
   "execution_count": 391,
   "metadata": {
    "colab": {
     "base_uri": "https://localhost:8080/",
     "height": 279
    },
    "id": "YVKeIhlOCN9Q",
    "outputId": "d8a47643-6c1b-4e47-b7f6-da07f2ef6b30"
   },
   "outputs": [
    {
     "data": {
      "image/png": "[encoded data removed]",
      "text/plain": [
       "<Figure size 432x288 with 2 Axes>"
      ]
     },
     "metadata": {
      "needs_background": "light"
     },
     "output_type": "display_data"
    }
   ],
   "source": [
    "plot_confusion_matrix(mlp, X_test_normalized, y_test)  \n",
    "plt.show()"
   ]
  },
  {
   "cell_type": "code",
   "execution_count": null,
   "metadata": {},
   "outputs": [],
   "source": [
    "X = scaler.transform(data[features])\n",
    "Y = data[\"Risk\"]\n",
    "plot_learning_curve(mlp, X, Y)"
   ]
  },
  {
   "cell_type": "markdown",
   "metadata": {
    "id": "GYKHF_jWCqxx"
   },
   "source": [
    "## Export"
   ]
  },
  {
   "cell_type": "code",
   "execution_count": 395,
   "metadata": {
    "colab": {
     "base_uri": "https://localhost:8080/"
    },
    "id": "5UNgMCQ9Cr9A",
    "outputId": "eac77c62-e3ed-479b-b135-7484afecb21a"
   },
   "outputs": [
    {
     "data": {
      "text/plain": [
       "['../src/models/MLP_back.joblib']"
      ]
     },
     "execution_count": 395,
     "metadata": {},
     "output_type": "execute_result"
    }
   ],
   "source": [
    "dump(mlp, MODEL_OUTPUT_PATH + 'MLP_back.joblib') "
   ]
  },
  {
   "cell_type": "markdown",
   "metadata": {
    "id": "8RdkYgONC1M5"
   },
   "source": [
    "## Prediction"
   ]
  },
  {
   "cell_type": "code",
   "execution_count": 394,
   "metadata": {
    "colab": {
     "base_uri": "https://localhost:8080/"
    },
    "id": "_3ehYsrbC0ki",
    "outputId": "540ef808-ca55-4deb-a7fc-1ea63e16abca"
   },
   "outputs": [
    {
     "name": "stdout",
     "output_type": "stream",
     "text": [
      "Predicted RISK is: MEDIUM\n"
     ]
    }
   ],
   "source": [
    "predicted_risk = mlp.predict(scaler.transform([[1077113, 8, 29, 4947796, 57879, 1, 6, 0]]))[0]\n",
    "print(\"Predicted RISK is: \" + prediction_result_mapping[predicted_risk])"
   ]
  },
  {
   "cell_type": "markdown",
   "metadata": {},
   "source": [
    "# Benchmarking"
   ]
  },
  {
   "cell_type": "code",
   "execution_count": 93,
   "metadata": {},
   "outputs": [],
   "source": [
    "dataset_entries = [5000, 10000, 25000, 50000, 100000]\n",
    "dt_accuracy_list = []\n",
    "svm_accuracy_list = []\n",
    "knn_accuracy_list = []\n",
    "mlp_accuracy_list = []\n",
    "\n",
    "dt_training_times = []\n",
    "svm_training_times = []\n",
    "knn_training_times = []\n",
    "mlp_training_times = []"
   ]
  },
  {
   "cell_type": "code",
   "execution_count": 94,
   "metadata": {},
   "outputs": [],
   "source": [
    "for nr_of_entries in dataset_entries:\n",
    "    data = generate_data(nr_of_entries)\n",
    "    data = data.replace({'Employee Training': levels_mapping, 'Risk': levels_mapping, 'External Advisor': advisor_mapping})\n",
    "    \n",
    "    X_train, X_test, y_train, y_test = train_test_split(data[features].values, data[\"Risk\"].values, random_state=0)\n",
    "    \n",
    "    # Decision Tree\n",
    "    dtree_model = DecisionTreeClassifier()\n",
    "    start = time.time()\n",
    "    dtree_model.fit(X_train, y_train) \n",
    "    stop = time.time()\n",
    "    dt_training_times.append(stop - start)\n",
    "    dt_accuracy_list.append(dtree_model.score(X_test, y_test))\n",
    "                            \n",
    "    # Scaler\n",
    "    scaler = MinMaxScaler()\n",
    "    scaler.fit(X_train)\n",
    "    X_train_normalized = scaler.transform(X_train)\n",
    "    X_test_normalized = scaler.transform(X_test)\n",
    "    \n",
    "    # SVM\n",
    "    svm_model = SVC(kernel='poly')\n",
    "    start = time.time()\n",
    "    svm_model.fit(X_train_normalized, y_train)\n",
    "    stop = time.time()\n",
    "    svm_training_times.append(stop - start)\n",
    "    svm_accuracy_list.append(svm_model.score(X_test_normalized, y_test))\n",
    "    \n",
    "    # KNN\n",
    "    knn = KNeighborsClassifier(n_neighbors = 17)\n",
    "    start = time.time()\n",
    "    knn.fit(X_train_normalized, y_train) \n",
    "    stop = time.time()\n",
    "    knn_training_times.append(stop - start)\n",
    "    knn_accuracy_list.append(knn.score(X_test_normalized, y_test))\n",
    "    \n",
    "    # MLP\n",
    "    clf = MLPClassifier(activation='tanh', solver='lbfgs', alpha=1e-5, hidden_layer_sizes=(5, 2), max_iter=100000)\n",
    "    start = time.time()\n",
    "    clf.fit(X_train_normalized, y_train)\n",
    "    stop = time.time()\n",
    "    mlp_training_times.append(stop - start)\n",
    "    mlp_accuracy_list.append(clf.score(X_test_normalized, y_test))\n",
    "    "
   ]
  },
  {
   "cell_type": "code",
   "execution_count": 100,
   "metadata": {},
   "outputs": [
    {
     "name": "stdout",
     "output_type": "stream",
     "text": [
      "[5000, 10000, 25000, 50000, 100000]\n",
      "\n",
      " Accuracy:\n",
      "Decision Tree: [0.8784, 0.9048, 0.92896, 0.93928, 0.9508]\n",
      "[0.9664, 0.9772, 0.98528, 0.98728, 0.98984]\n",
      "[0.9168, 0.9332, 0.9496, 0.95544, 0.96436]\n",
      "[0.9888, 0.9972, 0.99824, 0.97256, 0.9992]\n",
      "\n",
      " Training Times:\n",
      "[0.010490179061889648, 0.0204160213470459, 0.05765199661254883, 0.12712311744689941, 0.3110668659210205]\n",
      "[0.06813311576843262, 0.19890880584716797, 0.8305602073669434, 3.1285979747772217, 12.188233137130737]\n",
      "[0.0017361640930175781, 0.004775047302246094, 0.0270688533782959, 0.054738759994506836, 0.365800142288208]\n",
      "[8.24178409576416, 11.813431978225708, 30.678292989730835, 13.996891021728516, 540.4573841094971]\n"
     ]
    }
   ],
   "source": [
    "print(dataset_entries)\n",
    "print(\"\\n Accuracy:\")\n",
    "print(\"Decision Tree: \" + str(dt_accuracy_list))\n",
    "print(svm_accuracy_list)\n",
    "print(knn_accuracy_list)\n",
    "print(mlp_accuracy_list)\n",
    "\n",
    "print(\"\\n Training Times:\")\n",
    "print(dt_training_times)\n",
    "print(svm_training_times)\n",
    "print(knn_training_times)\n",
    "print(mlp_training_times)"
   ]
  },
  {
   "cell_type": "code",
   "execution_count": null,
   "metadata": {},
   "outputs": [],
   "source": []
  },
  {
   "cell_type": "code",
   "execution_count": null,
   "metadata": {},
   "outputs": [],
   "source": []
  }
 ],
 "metadata": {
  "colab": {
   "collapsed_sections": [
    "CcxkNU9NnM8p",
    "tq--wueVRT2V",
    "h6Nun-zRkweH"
   ],
   "name": "MA_Erion_Sula.ipynb",
   "provenance": [],
   "toc_visible": true
  },
  "kernelspec": {
   "display_name": "Python 3",
   "language": "python",
   "name": "python3"
  }
 },
 "nbformat": 4,
 "nbformat_minor": 1
}
