{
 "cells": [
  {
   "cell_type": "code",
   "execution_count": 106,
   "metadata": {
    "id": "PpHjojtsm3el"
   },
   "outputs": [],
   "source": [
    "import os\n",
    "import random\n",
    "import pandas as pd\n",
    "import numpy\n",
    "from sklearn.model_selection import train_test_split\n",
    "from sklearn.metrics import plot_confusion_matrix, ConfusionMatrixDisplay\n",
    "import matplotlib.pyplot as plt\n",
    "from sklearn.tree import export_text\n",
    "from joblib import dump, load\n",
    "from tqdm import tqdm\n",
    "from wandb.sklearn import plot_learning_curve\n",
    "import time\n",
    "\n",
    "MODEL_OUTPUT_PATH = \"../src/models/\"\n",
    "SCALER_OUTPUT_PATH = \"../src/scaler/\""
   ]
  },
  {
   "cell_type": "markdown",
   "metadata": {
    "id": "zNZraghsm_y-"
   },
   "source": [
    "# Data Generation"
   ]
  },
  {
   "cell_type": "code",
   "execution_count": 107,
   "metadata": {
    "id": "-aiRIsuQnEz9"
   },
   "outputs": [],
   "source": [
    "columns = ['Invested Amount', 'Successful Attacks', 'Failed Attacks', 'Business Value', 'Number of Employees', 'Employee Training', 'Known Vulnerabilities', 'External Advisor', 'Risk']\n",
    "features = columns[:-1]\n",
    "LEVELS = [\"LOW\", \"MEDIUM\", \"HIGH\"]\n",
    "prediction_result_mapping = {0: \"LOW\", 1: \"MEDIUM\", 2: \"HIGH\"}"
   ]
  },
  {
   "cell_type": "code",
   "execution_count": 108,
   "metadata": {
    "id": "pcZiySYynFMr"
   },
   "outputs": [],
   "source": [
    "def generate_data(nr_entries = 1000, min_empl = 30, max_empl = 90000, min_nr_attacks = 0, nr_attacks = 50, \n",
    "                  avg_business_value = 5000000, std_business_value = 50000, max_invested_perc = 0.3, max_nr_vulnerabilities = 10):\n",
    "    df = pd.DataFrame(columns=columns)\n",
    "    for i in tqdm(range(0, nr_entries)):\n",
    "        nr_employees = random.randint(min_empl, max_empl)\n",
    "        employees_training = random.choice(LEVELS)\n",
    "        failed_attack = random.randrange(nr_attacks)\n",
    "        succ_attack = random.randrange(nr_attacks)\n",
    "        business_value = int(numpy.random.normal(loc=avg_business_value, scale=std_business_value))\n",
    "        invested_perc = random.uniform(0, max_invested_perc)\n",
    "        invested_amount = int(invested_perc * business_value)\n",
    "        known_vulnerabilities = random.randrange(max_nr_vulnerabilities)\n",
    "        external_adv = \"NO\" if (i % 2) == 0 else \"YES\"\n",
    "\n",
    "        # Risk is computed based on the other parameters and is then categorized using 'get_categorized_risk'\n",
    "        computed_risk = invested_perc - (succ_attack / nr_attacks) + (nr_employees / max_empl) * LEVELS.index(employees_training) - (known_vulnerabilities / max_nr_vulnerabilities) + (i % 2)\n",
    "        \n",
    "        df.loc[i] = [invested_amount, succ_attack, failed_attack, business_value, nr_employees, employees_training, known_vulnerabilities, external_adv, get_categorized_risk(computed_risk)]\n",
    "    return df\n",
    "\n",
    "def get_categorized_risk(weighted_risk, low_medium_boundary = 1.0, medium_high_boundary = 0.0):\n",
    "  if weighted_risk >= low_medium_boundary:\n",
    "      return \"LOW\"\n",
    "  elif weighted_risk >= medium_high_boundary and weighted_risk < low_medium_boundary:\n",
    "      return \"MEDIUM\"\n",
    "  else:\n",
    "      return \"HIGH\""
   ]
  },
  {
   "cell_type": "code",
   "execution_count": 170,
   "metadata": {
    "id": "rLn7TsxAnHvG"
   },
   "outputs": [
    {
     "name": "stderr",
     "output_type": "stream",
     "text": [
      "100%|██████████| 100000/100000 [23:38<00:00, 70.48it/s]\n"
     ]
    }
   ],
   "source": [
    "data = generate_data(nr_entries = 100000)"
   ]
  },
  {
   "cell_type": "code",
   "execution_count": 174,
   "metadata": {
    "colab": {
     "base_uri": "https://localhost:8080/"
    },
    "id": "joncs4RGRcM2",
    "outputId": "f503faa8-476c-4000-be3b-650e94611d5d"
   },
   "outputs": [
    {
     "data": {
      "text/html": [
       "<div>\n",
       "<style scoped>\n",
       "    .dataframe tbody tr th:only-of-type {\n",
       "        vertical-align: middle;\n",
       "    }\n",
       "\n",
       "    .dataframe tbody tr th {\n",
       "        vertical-align: top;\n",
       "    }\n",
       "\n",
       "    .dataframe thead th {\n",
       "        text-align: right;\n",
       "    }\n",
       "</style>\n",
       "<table border=\"1\" class=\"dataframe\">\n",
       "  <thead>\n",
       "    <tr style=\"text-align: right;\">\n",
       "      <th></th>\n",
       "      <th>Invested Amount</th>\n",
       "      <th>Successful Attacks</th>\n",
       "      <th>Failed Attacks</th>\n",
       "      <th>Business Value</th>\n",
       "      <th>Number of Employees</th>\n",
       "      <th>Employee Training</th>\n",
       "      <th>Known Vulnerabilities</th>\n",
       "      <th>External Advisor</th>\n",
       "      <th>Risk</th>\n",
       "    </tr>\n",
       "  </thead>\n",
       "  <tbody>\n",
       "    <tr>\n",
       "      <th>0</th>\n",
       "      <td>131223</td>\n",
       "      <td>33</td>\n",
       "      <td>44</td>\n",
       "      <td>4890813</td>\n",
       "      <td>73649</td>\n",
       "      <td>HIGH</td>\n",
       "      <td>0</td>\n",
       "      <td>NO</td>\n",
       "      <td>LOW</td>\n",
       "    </tr>\n",
       "    <tr>\n",
       "      <th>1</th>\n",
       "      <td>963097</td>\n",
       "      <td>42</td>\n",
       "      <td>34</td>\n",
       "      <td>5043580</td>\n",
       "      <td>8084</td>\n",
       "      <td>HIGH</td>\n",
       "      <td>5</td>\n",
       "      <td>YES</td>\n",
       "      <td>MEDIUM</td>\n",
       "    </tr>\n",
       "    <tr>\n",
       "      <th>2</th>\n",
       "      <td>1359039</td>\n",
       "      <td>38</td>\n",
       "      <td>28</td>\n",
       "      <td>5001398</td>\n",
       "      <td>4520</td>\n",
       "      <td>LOW</td>\n",
       "      <td>5</td>\n",
       "      <td>NO</td>\n",
       "      <td>HIGH</td>\n",
       "    </tr>\n",
       "    <tr>\n",
       "      <th>3</th>\n",
       "      <td>691611</td>\n",
       "      <td>13</td>\n",
       "      <td>49</td>\n",
       "      <td>4965270</td>\n",
       "      <td>72774</td>\n",
       "      <td>LOW</td>\n",
       "      <td>5</td>\n",
       "      <td>YES</td>\n",
       "      <td>MEDIUM</td>\n",
       "    </tr>\n",
       "    <tr>\n",
       "      <th>4</th>\n",
       "      <td>376388</td>\n",
       "      <td>38</td>\n",
       "      <td>17</td>\n",
       "      <td>4934618</td>\n",
       "      <td>68223</td>\n",
       "      <td>LOW</td>\n",
       "      <td>1</td>\n",
       "      <td>NO</td>\n",
       "      <td>HIGH</td>\n",
       "    </tr>\n",
       "  </tbody>\n",
       "</table>\n",
       "</div>"
      ],
      "text/plain": [
       "  Invested Amount Successful Attacks Failed Attacks Business Value  \\\n",
       "0          131223                 33             44        4890813   \n",
       "1          963097                 42             34        5043580   \n",
       "2         1359039                 38             28        5001398   \n",
       "3          691611                 13             49        4965270   \n",
       "4          376388                 38             17        4934618   \n",
       "\n",
       "  Number of Employees Employee Training Known Vulnerabilities  \\\n",
       "0               73649              HIGH                     0   \n",
       "1                8084              HIGH                     5   \n",
       "2                4520               LOW                     5   \n",
       "3               72774               LOW                     5   \n",
       "4               68223               LOW                     1   \n",
       "\n",
       "  External Advisor    Risk  \n",
       "0               NO     LOW  \n",
       "1              YES  MEDIUM  \n",
       "2               NO    HIGH  \n",
       "3              YES  MEDIUM  \n",
       "4               NO    HIGH  "
      ]
     },
     "execution_count": 174,
     "metadata": {},
     "output_type": "execute_result"
    }
   ],
   "source": [
    "data.head()"
   ]
  },
  {
   "cell_type": "code",
   "execution_count": 567,
   "metadata": {
    "colab": {
     "base_uri": "https://localhost:8080/"
    },
    "id": "o8JKzDQdRSbx",
    "outputId": "2ab31575-3681-44f1-b876-faea60f303a8"
   },
   "outputs": [
    {
     "data": {
      "text/html": [
       "<div>\n",
       "<style scoped>\n",
       "    .dataframe tbody tr th:only-of-type {\n",
       "        vertical-align: middle;\n",
       "    }\n",
       "\n",
       "    .dataframe tbody tr th {\n",
       "        vertical-align: top;\n",
       "    }\n",
       "\n",
       "    .dataframe thead th {\n",
       "        text-align: right;\n",
       "    }\n",
       "</style>\n",
       "<table border=\"1\" class=\"dataframe\">\n",
       "  <thead>\n",
       "    <tr style=\"text-align: right;\">\n",
       "      <th></th>\n",
       "      <th>Employee Training</th>\n",
       "      <th>External Advisor</th>\n",
       "      <th>Risk</th>\n",
       "    </tr>\n",
       "  </thead>\n",
       "  <tbody>\n",
       "    <tr>\n",
       "      <th>count</th>\n",
       "      <td>100000.000000</td>\n",
       "      <td>100000.000000</td>\n",
       "      <td>100000.000000</td>\n",
       "    </tr>\n",
       "    <tr>\n",
       "      <th>mean</th>\n",
       "      <td>0.998930</td>\n",
       "      <td>0.500000</td>\n",
       "      <td>1.245010</td>\n",
       "    </tr>\n",
       "    <tr>\n",
       "      <th>std</th>\n",
       "      <td>0.815019</td>\n",
       "      <td>0.500003</td>\n",
       "      <td>0.734184</td>\n",
       "    </tr>\n",
       "    <tr>\n",
       "      <th>min</th>\n",
       "      <td>0.000000</td>\n",
       "      <td>0.000000</td>\n",
       "      <td>0.000000</td>\n",
       "    </tr>\n",
       "    <tr>\n",
       "      <th>25%</th>\n",
       "      <td>0.000000</td>\n",
       "      <td>0.000000</td>\n",
       "      <td>1.000000</td>\n",
       "    </tr>\n",
       "    <tr>\n",
       "      <th>50%</th>\n",
       "      <td>1.000000</td>\n",
       "      <td>0.500000</td>\n",
       "      <td>1.000000</td>\n",
       "    </tr>\n",
       "    <tr>\n",
       "      <th>75%</th>\n",
       "      <td>2.000000</td>\n",
       "      <td>1.000000</td>\n",
       "      <td>2.000000</td>\n",
       "    </tr>\n",
       "    <tr>\n",
       "      <th>max</th>\n",
       "      <td>2.000000</td>\n",
       "      <td>1.000000</td>\n",
       "      <td>2.000000</td>\n",
       "    </tr>\n",
       "  </tbody>\n",
       "</table>\n",
       "</div>"
      ],
      "text/plain": [
       "       Employee Training  External Advisor           Risk\n",
       "count      100000.000000     100000.000000  100000.000000\n",
       "mean            0.998930          0.500000       1.245010\n",
       "std             0.815019          0.500003       0.734184\n",
       "min             0.000000          0.000000       0.000000\n",
       "25%             0.000000          0.000000       1.000000\n",
       "50%             1.000000          0.500000       1.000000\n",
       "75%             2.000000          1.000000       2.000000\n",
       "max             2.000000          1.000000       2.000000"
      ]
     },
     "execution_count": 567,
     "metadata": {},
     "output_type": "execute_result"
    }
   ],
   "source": [
    "data.describe()"
   ]
  },
  {
   "cell_type": "markdown",
   "metadata": {
    "id": "j5jzupOcf4YK"
   },
   "source": [
    "## Data Export as .csv"
   ]
  },
  {
   "cell_type": "code",
   "execution_count": 7,
   "metadata": {
    "id": "8gE5LaXovjIc"
   },
   "outputs": [],
   "source": [
    "data.to_csv('data.csv')"
   ]
  },
  {
   "cell_type": "markdown",
   "metadata": {
    "id": "pLNjIGy823fN"
   },
   "source": [
    "# Data Processing"
   ]
  },
  {
   "cell_type": "markdown",
   "metadata": {
    "id": "9N28npkjgT6A"
   },
   "source": [
    "## Categorization Step"
   ]
  },
  {
   "cell_type": "code",
   "execution_count": 177,
   "metadata": {
    "id": "GV0F9aKHTN9F"
   },
   "outputs": [
    {
     "name": "stdout",
     "output_type": "stream",
     "text": [
      "Categorization time: 0.13099288940429688s\n"
     ]
    }
   ],
   "source": [
    "start = time.time()\n",
    "\n",
    "levels_mapping = { 'LOW': 0, 'MEDIUM': 1, 'HIGH': 2 }\n",
    "advisor_mapping = { 'NO': 0, 'YES': 1 }\n",
    "\n",
    "data = data.replace({'Employee Training': levels_mapping, 'Risk': levels_mapping, 'External Advisor': advisor_mapping})\n",
    "\n",
    "stop = time.time()\n",
    "print(f\"Categorization time: {stop - start}s\")"
   ]
  },
  {
   "cell_type": "code",
   "execution_count": 178,
   "metadata": {
    "colab": {
     "base_uri": "https://localhost:8080/"
    },
    "id": "wVxuzRnAUGr3",
    "outputId": "805b70a0-6a54-4f9e-cacb-2fa2cfa15f43"
   },
   "outputs": [
    {
     "data": {
      "text/html": [
       "<div>\n",
       "<style scoped>\n",
       "    .dataframe tbody tr th:only-of-type {\n",
       "        vertical-align: middle;\n",
       "    }\n",
       "\n",
       "    .dataframe tbody tr th {\n",
       "        vertical-align: top;\n",
       "    }\n",
       "\n",
       "    .dataframe thead th {\n",
       "        text-align: right;\n",
       "    }\n",
       "</style>\n",
       "<table border=\"1\" class=\"dataframe\">\n",
       "  <thead>\n",
       "    <tr style=\"text-align: right;\">\n",
       "      <th></th>\n",
       "      <th>Invested Amount</th>\n",
       "      <th>Successful Attacks</th>\n",
       "      <th>Failed Attacks</th>\n",
       "      <th>Business Value</th>\n",
       "      <th>Number of Employees</th>\n",
       "      <th>Employee Training</th>\n",
       "      <th>Known Vulnerabilities</th>\n",
       "      <th>External Advisor</th>\n",
       "      <th>Risk</th>\n",
       "    </tr>\n",
       "  </thead>\n",
       "  <tbody>\n",
       "    <tr>\n",
       "      <th>0</th>\n",
       "      <td>131223</td>\n",
       "      <td>33</td>\n",
       "      <td>44</td>\n",
       "      <td>4890813</td>\n",
       "      <td>73649</td>\n",
       "      <td>2</td>\n",
       "      <td>0</td>\n",
       "      <td>0</td>\n",
       "      <td>0</td>\n",
       "    </tr>\n",
       "    <tr>\n",
       "      <th>1</th>\n",
       "      <td>963097</td>\n",
       "      <td>42</td>\n",
       "      <td>34</td>\n",
       "      <td>5043580</td>\n",
       "      <td>8084</td>\n",
       "      <td>2</td>\n",
       "      <td>5</td>\n",
       "      <td>1</td>\n",
       "      <td>1</td>\n",
       "    </tr>\n",
       "    <tr>\n",
       "      <th>2</th>\n",
       "      <td>1359039</td>\n",
       "      <td>38</td>\n",
       "      <td>28</td>\n",
       "      <td>5001398</td>\n",
       "      <td>4520</td>\n",
       "      <td>0</td>\n",
       "      <td>5</td>\n",
       "      <td>0</td>\n",
       "      <td>2</td>\n",
       "    </tr>\n",
       "    <tr>\n",
       "      <th>3</th>\n",
       "      <td>691611</td>\n",
       "      <td>13</td>\n",
       "      <td>49</td>\n",
       "      <td>4965270</td>\n",
       "      <td>72774</td>\n",
       "      <td>0</td>\n",
       "      <td>5</td>\n",
       "      <td>1</td>\n",
       "      <td>1</td>\n",
       "    </tr>\n",
       "    <tr>\n",
       "      <th>4</th>\n",
       "      <td>376388</td>\n",
       "      <td>38</td>\n",
       "      <td>17</td>\n",
       "      <td>4934618</td>\n",
       "      <td>68223</td>\n",
       "      <td>0</td>\n",
       "      <td>1</td>\n",
       "      <td>0</td>\n",
       "      <td>2</td>\n",
       "    </tr>\n",
       "  </tbody>\n",
       "</table>\n",
       "</div>"
      ],
      "text/plain": [
       "  Invested Amount Successful Attacks Failed Attacks Business Value  \\\n",
       "0          131223                 33             44        4890813   \n",
       "1          963097                 42             34        5043580   \n",
       "2         1359039                 38             28        5001398   \n",
       "3          691611                 13             49        4965270   \n",
       "4          376388                 38             17        4934618   \n",
       "\n",
       "  Number of Employees  Employee Training Known Vulnerabilities  \\\n",
       "0               73649                  2                     0   \n",
       "1                8084                  2                     5   \n",
       "2                4520                  0                     5   \n",
       "3               72774                  0                     5   \n",
       "4               68223                  0                     1   \n",
       "\n",
       "   External Advisor  Risk  \n",
       "0                 0     0  \n",
       "1                 1     1  \n",
       "2                 0     2  \n",
       "3                 1     1  \n",
       "4                 0     2  "
      ]
     },
     "execution_count": 178,
     "metadata": {},
     "output_type": "execute_result"
    }
   ],
   "source": [
    "data.head()"
   ]
  },
  {
   "cell_type": "markdown",
   "metadata": {
    "id": "XC3ojrafgOeX"
   },
   "source": [
    "## Normalization Step - using scaler"
   ]
  },
  {
   "cell_type": "code",
   "execution_count": 568,
   "metadata": {
    "colab": {
     "base_uri": "https://localhost:8080/"
    },
    "id": "7a32suNR26Bm",
    "outputId": "4a7e29e3-ea24-46a3-82c3-5c7143ba0b1c"
   },
   "outputs": [],
   "source": [
    "from sklearn.preprocessing import StandardScaler, MinMaxScaler\n",
    "\n",
    "# Used for Tensorflow model\n",
    "normalized_data = data[features].apply(lambda x: ( (x - x.min()) / (x.max() - x.min())))\n",
    "normalized_data.head()\n",
    "\n",
    "\n",
    "# Used for the scikit models\n",
    "#data = pd.read_csv(\"data.csv\")\n",
    "data.head()\n",
    "X_train, X_test, y_train, y_test = train_test_split(data[features].values, data[\"Risk\"].values, random_state=0)\n",
    "\n",
    "scaler = MinMaxScaler()\n",
    "scaler.fit(X_train)\n",
    "\n",
    "# Normalited Data\n",
    "X = data[features]\n",
    "Y = data[\"Risk\"]\n",
    "X_normalized = scaler.transform(data[features])\n",
    "\n",
    "\n",
    "# Normalized Splitted Data\n",
    "X_train_normalized = scaler.transform(X_train)\n",
    "X_test_normalized = scaler.transform(X_test)"
   ]
  },
  {
   "cell_type": "code",
   "execution_count": 569,
   "metadata": {},
   "outputs": [
    {
     "data": {
      "text/plain": [
       "['../src/scaler/MinMaxScaler.joblib']"
      ]
     },
     "execution_count": 569,
     "metadata": {},
     "output_type": "execute_result"
    }
   ],
   "source": [
    "dump(scaler, SCALER_OUTPUT_PATH + 'MinMaxScaler.joblib') "
   ]
  },
  {
   "cell_type": "markdown",
   "metadata": {
    "id": "CcxkNU9NnM8p"
   },
   "source": [
    "# Deep Neural Network Classifier"
   ]
  },
  {
   "cell_type": "code",
   "execution_count": 20,
   "metadata": {
    "colab": {
     "base_uri": "https://localhost:8080/"
    },
    "id": "utNWa3s01wAg",
    "outputId": "27426d75-0d08-4f46-d45f-e2ae45b31389"
   },
   "outputs": [
    {
     "name": "stdout",
     "output_type": "stream",
     "text": [
      "\u001b[31mERROR: Could not find a version that satisfies the requirement tensorflow\u001b[0m\r\n",
      "\u001b[31mERROR: No matching distribution found for tensorflow\u001b[0m\r\n"
     ]
    },
    {
     "ename": "ModuleNotFoundError",
     "evalue": "No module named 'tensorflow'",
     "output_type": "error",
     "traceback": [
      "\u001b[0;31m---------------------------------------------------------------------------\u001b[0m",
      "\u001b[0;31mModuleNotFoundError\u001b[0m                       Traceback (most recent call last)",
      "\u001b[0;32m<ipython-input-20-ae42ffdc9f90>\u001b[0m in \u001b[0;36m<module>\u001b[0;34m\u001b[0m\n\u001b[1;32m      1\u001b[0m \u001b[0mget_ipython\u001b[0m\u001b[0;34m(\u001b[0m\u001b[0;34m)\u001b[0m\u001b[0;34m.\u001b[0m\u001b[0msystem\u001b[0m\u001b[0;34m(\u001b[0m\u001b[0;34m'pip3 install tensorflow'\u001b[0m\u001b[0;34m)\u001b[0m\u001b[0;34m\u001b[0m\u001b[0;34m\u001b[0m\u001b[0m\n\u001b[0;32m----> 2\u001b[0;31m \u001b[0;32mimport\u001b[0m \u001b[0mtensorflow\u001b[0m \u001b[0;32mas\u001b[0m \u001b[0mtf\u001b[0m\u001b[0;34m\u001b[0m\u001b[0;34m\u001b[0m\u001b[0m\n\u001b[0m\u001b[1;32m      3\u001b[0m \u001b[0mprint\u001b[0m\u001b[0;34m(\u001b[0m\u001b[0mtf\u001b[0m\u001b[0;34m.\u001b[0m\u001b[0m__version__\u001b[0m\u001b[0;34m)\u001b[0m\u001b[0;34m\u001b[0m\u001b[0;34m\u001b[0m\u001b[0m\n",
      "\u001b[0;31mModuleNotFoundError\u001b[0m: No module named 'tensorflow'"
     ]
    }
   ],
   "source": [
    "!pip3 install tensorflow\n",
    "import tensorflow as tf\n",
    "print(tf.__version__)"
   ]
  },
  {
   "cell_type": "code",
   "execution_count": null,
   "metadata": {
    "id": "WffwogDxmSrE"
   },
   "outputs": [],
   "source": [
    "# Define the training inputs\n",
    "def get_train_inputs():\n",
    "    x = { feature_name: tf.constant(X_train, dtype=tf.float64)}\n",
    "    y = tf.constant(y_train, dtype=tf.int32)\n",
    "    return x, y\n",
    "\n",
    "# Define the test inputs\n",
    "def get_test_inputs():\n",
    "    x = { feature_name: tf.constant(X_test, dtype=tf.float64)}\n",
    "    y = tf.constant(y_test, dtype=tf.int32)\n",
    "    return x, y"
   ]
  },
  {
   "cell_type": "code",
   "execution_count": null,
   "metadata": {
    "id": "HlgrfGhqnJHs"
   },
   "outputs": [],
   "source": [
    "X_train, X_test, y_train, y_test = train_test_split(normalized_data[features].values, data[\"Risk\"].values, test_size=0.35)"
   ]
  },
  {
   "cell_type": "code",
   "execution_count": null,
   "metadata": {
    "id": "PqQffZ211V-r"
   },
   "outputs": [],
   "source": [
    "# Specify that all features have real-value data\n",
    "feature_name = \"risk_features\"\n",
    "feature_columns = [tf.feature_column.numeric_column(feature_name, \n",
    "                                                    shape=len(features))]"
   ]
  },
  {
   "cell_type": "code",
   "execution_count": null,
   "metadata": {
    "colab": {
     "base_uri": "https://localhost:8080/"
    },
    "id": "fM_UP3Ny7bH-",
    "outputId": "3fca8f04-3007-4865-8fd6-64a6d2484216"
   },
   "outputs": [
    {
     "name": "stdout",
     "output_type": "stream",
     "text": [
      "INFO:tensorflow:Using default config.\n",
      "WARNING:tensorflow:Using temporary folder as model directory: /tmp/tmpecea5k00\n",
      "INFO:tensorflow:Using config: {'_model_dir': '/tmp/tmpecea5k00', '_tf_random_seed': None, '_save_summary_steps': 100, '_save_checkpoints_steps': None, '_save_checkpoints_secs': 600, '_session_config': allow_soft_placement: true\n",
      "graph_options {\n",
      "  rewrite_options {\n",
      "    meta_optimizer_iterations: ONE\n",
      "  }\n",
      "}\n",
      ", '_keep_checkpoint_max': 5, '_keep_checkpoint_every_n_hours': 10000, '_log_step_count_steps': 100, '_train_distribute': None, '_device_fn': None, '_protocol': None, '_eval_distribute': None, '_experimental_distribute': None, '_experimental_max_worker_delay_secs': None, '_session_creation_timeout_secs': 7200, '_checkpoint_save_graph_def': True, '_service': None, '_cluster_spec': ClusterSpec({}), '_task_type': 'worker', '_task_id': 0, '_global_id_in_cluster': 0, '_master': '', '_evaluation_master': '', '_is_chief': True, '_num_ps_replicas': 0, '_num_worker_replicas': 1}\n"
     ]
    }
   ],
   "source": [
    "# Build 5 layer DNN with 512, 256, 128, 64, 32 units respectively.\n",
    "classifier = tf.estimator.DNNClassifier(feature_columns=feature_columns,\n",
    "                                            hidden_units=[10, 5, 3],\n",
    "                                            n_classes=3)"
   ]
  },
  {
   "cell_type": "markdown",
   "metadata": {
    "id": "iQEuHrLBer8f"
   },
   "source": [
    "## Train"
   ]
  },
  {
   "cell_type": "code",
   "execution_count": null,
   "metadata": {
    "colab": {
     "base_uri": "https://localhost:8080/"
    },
    "id": "FP9K2lTz77fu",
    "outputId": "cecedbac-b49b-4205-8364-6c39c9550510"
   },
   "outputs": [
    {
     "name": "stdout",
     "output_type": "stream",
     "text": [
      "WARNING:tensorflow:From /usr/local/lib/python3.6/dist-packages/tensorflow/python/training/training_util.py:236: Variable.initialized_value (from tensorflow.python.ops.variables) is deprecated and will be removed in a future version.\n",
      "Instructions for updating:\n",
      "Use Variable.read_value. Variables in 2.X are initialized automatically both in eager and graph (inside tf.defun) contexts.\n",
      "INFO:tensorflow:Calling model_fn.\n",
      "WARNING:tensorflow:From /usr/local/lib/python3.6/dist-packages/tensorflow/python/keras/optimizer_v2/adagrad.py:83: calling Constant.__init__ (from tensorflow.python.ops.init_ops) with dtype is deprecated and will be removed in a future version.\n",
      "Instructions for updating:\n",
      "Call initializer instance with the dtype argument instead of passing it to the constructor\n",
      "INFO:tensorflow:Done calling model_fn.\n",
      "INFO:tensorflow:Create CheckpointSaverHook.\n",
      "INFO:tensorflow:Graph was finalized.\n",
      "INFO:tensorflow:Running local_init_op.\n",
      "INFO:tensorflow:Done running local_init_op.\n",
      "INFO:tensorflow:Calling checkpoint listeners before saving checkpoint 0...\n",
      "INFO:tensorflow:Saving checkpoints for 0 into /tmp/tmpecea5k00/model.ckpt.\n",
      "INFO:tensorflow:Calling checkpoint listeners after saving checkpoint 0...\n",
      "INFO:tensorflow:loss = 1.1058244, step = 0\n",
      "INFO:tensorflow:global_step/sec: 7.23013\n",
      "INFO:tensorflow:loss = 0.9889312, step = 100 (13.836 sec)\n",
      "INFO:tensorflow:global_step/sec: 7.27287\n",
      "INFO:tensorflow:loss = 0.91795915, step = 200 (13.749 sec)\n",
      "INFO:tensorflow:global_step/sec: 7.26097\n",
      "INFO:tensorflow:loss = 0.87107724, step = 300 (13.772 sec)\n",
      "INFO:tensorflow:global_step/sec: 7.25907\n",
      "INFO:tensorflow:loss = 0.83665776, step = 400 (13.777 sec)\n",
      "INFO:tensorflow:global_step/sec: 7.27024\n",
      "INFO:tensorflow:loss = 0.80735725, step = 500 (13.751 sec)\n",
      "INFO:tensorflow:global_step/sec: 7.27454\n",
      "INFO:tensorflow:loss = 0.778485, step = 600 (13.746 sec)\n",
      "INFO:tensorflow:global_step/sec: 7.23832\n",
      "INFO:tensorflow:loss = 0.7475024, step = 700 (13.820 sec)\n",
      "INFO:tensorflow:global_step/sec: 7.2686\n",
      "INFO:tensorflow:loss = 0.7144911, step = 800 (13.757 sec)\n",
      "INFO:tensorflow:global_step/sec: 7.24744\n",
      "INFO:tensorflow:loss = 0.6800972, step = 900 (13.797 sec)\n",
      "INFO:tensorflow:global_step/sec: 7.25887\n",
      "INFO:tensorflow:loss = 0.6457419, step = 1000 (13.775 sec)\n",
      "INFO:tensorflow:global_step/sec: 7.2605\n",
      "INFO:tensorflow:loss = 0.61231065, step = 1100 (13.772 sec)\n",
      "INFO:tensorflow:global_step/sec: 7.2692\n",
      "INFO:tensorflow:loss = 0.58043045, step = 1200 (13.757 sec)\n",
      "INFO:tensorflow:global_step/sec: 7.26523\n",
      "INFO:tensorflow:loss = 0.55051476, step = 1300 (13.767 sec)\n",
      "INFO:tensorflow:global_step/sec: 7.21591\n",
      "INFO:tensorflow:loss = 0.5229, step = 1400 (13.854 sec)\n",
      "INFO:tensorflow:global_step/sec: 7.26619\n",
      "INFO:tensorflow:loss = 0.49697837, step = 1500 (13.767 sec)\n",
      "INFO:tensorflow:global_step/sec: 7.2482\n",
      "INFO:tensorflow:loss = 0.4735115, step = 1600 (13.792 sec)\n",
      "INFO:tensorflow:global_step/sec: 7.28314\n",
      "INFO:tensorflow:loss = 0.45226693, step = 1700 (13.730 sec)\n",
      "INFO:tensorflow:global_step/sec: 7.20278\n",
      "INFO:tensorflow:loss = 0.4328679, step = 1800 (13.889 sec)\n",
      "INFO:tensorflow:global_step/sec: 7.20237\n",
      "INFO:tensorflow:loss = 0.4149973, step = 1900 (13.882 sec)\n",
      "INFO:tensorflow:global_step/sec: 7.25819\n",
      "INFO:tensorflow:loss = 0.39854252, step = 2000 (13.774 sec)\n",
      "INFO:tensorflow:global_step/sec: 7.20303\n",
      "INFO:tensorflow:loss = 0.38339764, step = 2100 (13.885 sec)\n",
      "INFO:tensorflow:global_step/sec: 7.19415\n",
      "INFO:tensorflow:loss = 0.36946976, step = 2200 (13.900 sec)\n",
      "INFO:tensorflow:global_step/sec: 7.25743\n",
      "INFO:tensorflow:loss = 0.35664958, step = 2300 (13.776 sec)\n",
      "INFO:tensorflow:global_step/sec: 7.26965\n",
      "INFO:tensorflow:loss = 0.34484935, step = 2400 (13.759 sec)\n",
      "INFO:tensorflow:global_step/sec: 7.27364\n",
      "INFO:tensorflow:loss = 0.3339806, step = 2500 (13.746 sec)\n",
      "INFO:tensorflow:global_step/sec: 7.29431\n",
      "INFO:tensorflow:loss = 0.32396173, step = 2600 (13.714 sec)\n",
      "INFO:tensorflow:global_step/sec: 7.24152\n",
      "INFO:tensorflow:loss = 0.3146948, step = 2700 (13.809 sec)\n",
      "INFO:tensorflow:global_step/sec: 7.26987\n",
      "INFO:tensorflow:loss = 0.30612612, step = 2800 (13.752 sec)\n",
      "INFO:tensorflow:global_step/sec: 7.27596\n",
      "INFO:tensorflow:loss = 0.29820314, step = 2900 (13.746 sec)\n",
      "INFO:tensorflow:global_step/sec: 7.25942\n",
      "INFO:tensorflow:loss = 0.29084256, step = 3000 (13.773 sec)\n",
      "INFO:tensorflow:global_step/sec: 7.24033\n",
      "INFO:tensorflow:loss = 0.2839827, step = 3100 (13.811 sec)\n",
      "INFO:tensorflow:global_step/sec: 7.26295\n",
      "INFO:tensorflow:loss = 0.2775743, step = 3200 (13.770 sec)\n",
      "INFO:tensorflow:global_step/sec: 7.26628\n",
      "INFO:tensorflow:loss = 0.27157387, step = 3300 (13.765 sec)\n",
      "INFO:tensorflow:global_step/sec: 7.26614\n",
      "INFO:tensorflow:loss = 0.2659298, step = 3400 (13.759 sec)\n",
      "INFO:tensorflow:global_step/sec: 7.27502\n",
      "INFO:tensorflow:loss = 0.26060507, step = 3500 (13.747 sec)\n",
      "INFO:tensorflow:global_step/sec: 7.25958\n",
      "INFO:tensorflow:loss = 0.25556752, step = 3600 (13.775 sec)\n",
      "INFO:tensorflow:global_step/sec: 7.27596\n",
      "INFO:tensorflow:loss = 0.25078946, step = 3700 (13.742 sec)\n",
      "INFO:tensorflow:global_step/sec: 7.25818\n",
      "INFO:tensorflow:loss = 0.24623847, step = 3800 (13.783 sec)\n",
      "INFO:tensorflow:global_step/sec: 7.28277\n",
      "INFO:tensorflow:loss = 0.24189927, step = 3900 (13.726 sec)\n",
      "INFO:tensorflow:global_step/sec: 7.26232\n",
      "INFO:tensorflow:loss = 0.23776619, step = 4000 (13.769 sec)\n",
      "INFO:tensorflow:global_step/sec: 7.22442\n",
      "INFO:tensorflow:loss = 0.23381867, step = 4100 (13.842 sec)\n",
      "INFO:tensorflow:global_step/sec: 7.29595\n",
      "INFO:tensorflow:loss = 0.23002575, step = 4200 (13.706 sec)\n",
      "INFO:tensorflow:global_step/sec: 7.28115\n",
      "INFO:tensorflow:loss = 0.22636415, step = 4300 (13.738 sec)\n",
      "INFO:tensorflow:Calling checkpoint listeners before saving checkpoint 4352...\n",
      "INFO:tensorflow:Saving checkpoints for 4352 into /tmp/tmpecea5k00/model.ckpt.\n",
      "INFO:tensorflow:Calling checkpoint listeners after saving checkpoint 4352...\n",
      "INFO:tensorflow:global_step/sec: 7.2208\n",
      "INFO:tensorflow:loss = 0.22282931, step = 4400 (13.845 sec)\n",
      "INFO:tensorflow:global_step/sec: 7.23206\n",
      "INFO:tensorflow:loss = 0.21940716, step = 4500 (13.832 sec)\n",
      "INFO:tensorflow:global_step/sec: 7.29022\n",
      "INFO:tensorflow:loss = 0.21609415, step = 4600 (13.712 sec)\n",
      "INFO:tensorflow:global_step/sec: 7.26976\n",
      "INFO:tensorflow:loss = 0.21288589, step = 4700 (13.756 sec)\n",
      "INFO:tensorflow:global_step/sec: 7.23788\n",
      "INFO:tensorflow:loss = 0.20976889, step = 4800 (13.820 sec)\n",
      "INFO:tensorflow:global_step/sec: 7.22336\n",
      "INFO:tensorflow:loss = 0.20672624, step = 4900 (13.845 sec)\n",
      "INFO:tensorflow:Calling checkpoint listeners before saving checkpoint 5000...\n",
      "INFO:tensorflow:Saving checkpoints for 5000 into /tmp/tmpecea5k00/model.ckpt.\n",
      "INFO:tensorflow:Calling checkpoint listeners after saving checkpoint 5000...\n",
      "INFO:tensorflow:Loss for final step: 0.20377782.\n"
     ]
    },
    {
     "data": {
      "text/plain": [
       "<tensorflow_estimator.python.estimator.canned.dnn.DNNClassifierV2 at 0x7f4936414b38>"
      ]
     },
     "execution_count": 132,
     "metadata": {
      "tags": []
     },
     "output_type": "execute_result"
    }
   ],
   "source": [
    "classifier.train(input_fn=get_train_inputs, steps=5000)"
   ]
  },
  {
   "cell_type": "markdown",
   "metadata": {
    "id": "bY2DLr5kfa3C"
   },
   "source": [
    "## Evaluate"
   ]
  },
  {
   "cell_type": "code",
   "execution_count": null,
   "metadata": {
    "colab": {
     "base_uri": "https://localhost:8080/"
    },
    "id": "6kVeppcU9jLK",
    "outputId": "f6ce3bc9-fb1e-43c1-ac3e-8a41c16f3b1b"
   },
   "outputs": [
    {
     "name": "stdout",
     "output_type": "stream",
     "text": [
      "INFO:tensorflow:Calling model_fn.\n",
      "INFO:tensorflow:Done calling model_fn.\n",
      "INFO:tensorflow:Starting evaluation at 2021-02-13T22:52:24Z\n",
      "INFO:tensorflow:Graph was finalized.\n",
      "INFO:tensorflow:Restoring parameters from /tmp/tmpecea5k00/model.ckpt-5000\n",
      "INFO:tensorflow:Running local_init_op.\n",
      "INFO:tensorflow:Done running local_init_op.\n",
      "INFO:tensorflow:Evaluation [10/100]\n",
      "INFO:tensorflow:Evaluation [20/100]\n",
      "INFO:tensorflow:Evaluation [30/100]\n",
      "INFO:tensorflow:Evaluation [40/100]\n",
      "INFO:tensorflow:Evaluation [50/100]\n",
      "INFO:tensorflow:Evaluation [60/100]\n",
      "INFO:tensorflow:Evaluation [70/100]\n",
      "INFO:tensorflow:Evaluation [80/100]\n",
      "INFO:tensorflow:Evaluation [90/100]\n",
      "INFO:tensorflow:Evaluation [100/100]\n",
      "INFO:tensorflow:Inference Time : 2.64189s\n",
      "INFO:tensorflow:Finished evaluation at 2021-02-13-22:52:27\n",
      "INFO:tensorflow:Saving dict for global step 5000: accuracy = 0.92057145, average_loss = 0.22125426, global_step = 5000, loss = 0.22125421\n",
      "INFO:tensorflow:Saving 'checkpoint_path' summary for global step 5000: /tmp/tmpecea5k00/model.ckpt-5000\n",
      "Accuracy: 92.06%\n"
     ]
    }
   ],
   "source": [
    "accuracy_score = classifier.evaluate(input_fn=get_test_inputs, steps=100)[\"accuracy\"]\n",
    "\n",
    "print('Accuracy: {0:.2%}'.format(accuracy_score))"
   ]
  },
  {
   "cell_type": "markdown",
   "metadata": {
    "id": "03X_jnCXfhio"
   },
   "source": [
    "## Export"
   ]
  },
  {
   "cell_type": "code",
   "execution_count": null,
   "metadata": {
    "colab": {
     "base_uri": "https://localhost:8080/"
    },
    "id": "hTSSnDCFDMdV",
    "outputId": "c80c7039-4e4d-488b-ba13-56bdc1aa3aea"
   },
   "outputs": [
    {
     "name": "stdout",
     "output_type": "stream",
     "text": [
      "INFO:tensorflow:Calling model_fn.\n",
      "INFO:tensorflow:Done calling model_fn.\n",
      "WARNING:tensorflow:From /usr/local/lib/python3.6/dist-packages/tensorflow/python/saved_model/signature_def_utils_impl.py:145: build_tensor_info (from tensorflow.python.saved_model.utils_impl) is deprecated and will be removed in a future version.\n",
      "Instructions for updating:\n",
      "This function will only be available through the v1 compatibility library as tf.compat.v1.saved_model.utils.build_tensor_info or tf.compat.v1.saved_model.build_tensor_info.\n",
      "INFO:tensorflow:Signatures INCLUDED in export for Classify: ['serving_default', 'classification']\n",
      "INFO:tensorflow:Signatures INCLUDED in export for Regress: None\n",
      "INFO:tensorflow:Signatures INCLUDED in export for Predict: ['predict']\n",
      "INFO:tensorflow:Signatures INCLUDED in export for Train: None\n",
      "INFO:tensorflow:Signatures INCLUDED in export for Eval: None\n",
      "INFO:tensorflow:Restoring parameters from /tmp/tmpecea5k00/model.ckpt-5000\n",
      "INFO:tensorflow:Assets added to graph.\n",
      "INFO:tensorflow:No assets to write.\n",
      "INFO:tensorflow:SavedModel written to: ./model/export/temp-1613256747/saved_model.pb\n"
     ]
    },
    {
     "data": {
      "text/plain": [
       "b'./model/export/1613256747'"
      ]
     },
     "execution_count": 134,
     "metadata": {
      "tags": []
     },
     "output_type": "execute_result"
    }
   ],
   "source": [
    "feature_spec = {'risk_features': tf.io.FixedLenFeature(shape=len(features), dtype=tf.float32)}\n",
    "\n",
    "serving_fn = tf.estimator.export.build_parsing_serving_input_receiver_fn(feature_spec)\n",
    "\n",
    "classifier.export_saved_model(export_dir_base='./model/export', serving_input_receiver_fn=serving_fn)"
   ]
  },
  {
   "cell_type": "markdown",
   "metadata": {
    "id": "jT10f4c2Yjfy"
   },
   "source": [
    "## Prediction"
   ]
  },
  {
   "cell_type": "markdown",
   "metadata": {
    "id": "P95IBDnAflRx"
   },
   "source": [
    "### Data Preparation"
   ]
  },
  {
   "cell_type": "code",
   "execution_count": null,
   "metadata": {
    "colab": {
     "base_uri": "https://localhost:8080/"
    },
    "id": "s9o4gP77ziMy",
    "outputId": "d7eddc26-4f6b-490e-99c8-496f5ee11442"
   },
   "outputs": [
    {
     "data": {
      "text/html": [
       "<div>\n",
       "<style scoped>\n",
       "    .dataframe tbody tr th:only-of-type {\n",
       "        vertical-align: middle;\n",
       "    }\n",
       "\n",
       "    .dataframe tbody tr th {\n",
       "        vertical-align: top;\n",
       "    }\n",
       "\n",
       "    .dataframe thead th {\n",
       "        text-align: right;\n",
       "    }\n",
       "</style>\n",
       "<table border=\"1\" class=\"dataframe\">\n",
       "  <thead>\n",
       "    <tr style=\"text-align: right;\">\n",
       "      <th></th>\n",
       "      <th>Invested Amount</th>\n",
       "      <th>Successful Attacks</th>\n",
       "      <th>Failed Attacks</th>\n",
       "      <th>Business Value</th>\n",
       "      <th>Number of Employees</th>\n",
       "      <th>Employee Training</th>\n",
       "      <th>Known Vulnerabilities</th>\n",
       "      <th>External Advisor</th>\n",
       "    </tr>\n",
       "  </thead>\n",
       "  <tbody>\n",
       "    <tr>\n",
       "      <th>0</th>\n",
       "      <td>0.702544</td>\n",
       "      <td>0.163265</td>\n",
       "      <td>0.591837</td>\n",
       "      <td>0.361095</td>\n",
       "      <td>0.64324</td>\n",
       "      <td>0.5</td>\n",
       "      <td>0.666667</td>\n",
       "      <td>0.0</td>\n",
       "    </tr>\n",
       "  </tbody>\n",
       "</table>\n",
       "</div>"
      ],
      "text/plain": [
       "   Invested Amount  Successful Attacks  ...  Known Vulnerabilities  External Advisor\n",
       "0         0.702544            0.163265  ...               0.666667               0.0\n",
       "\n",
       "[1 rows x 8 columns]"
      ]
     },
     "execution_count": 135,
     "metadata": {
      "tags": []
     },
     "output_type": "execute_result"
    }
   ],
   "source": [
    "def get_data_for_prediction():\n",
    "  return { feature_name: tf.constant(normalized_prediction_df, dtype=tf.float64)}\n",
    "\n",
    "# Create DataFrame from data to be predicted\n",
    "prediction_df = pd.DataFrame([[1077113, 8, 29, 4947796, 57879, 1, 6, 0]], columns=features)\n",
    "\n",
    "# Normalize using the initial dataframe -> bring the data for the prediction to the same scale\n",
    "normalized_prediction_df = prediction_df[features]\n",
    "for feature in features:\n",
    "    normalized_prediction_df[feature] = normalized_prediction_df[feature].apply(lambda x: ( (x - data[feature].min()) / (data[feature].max() - data[feature].min())))\n",
    "\n",
    "normalized_prediction_df"
   ]
  },
  {
   "cell_type": "markdown",
   "metadata": {
    "id": "FsOdc3WTfrBu"
   },
   "source": [
    "### Result"
   ]
  },
  {
   "cell_type": "code",
   "execution_count": null,
   "metadata": {
    "colab": {
     "base_uri": "https://localhost:8080/"
    },
    "id": "CCdPZ1ymYni5",
    "outputId": "a6b5d8d2-ebb9-4625-ec06-04cfbca04d6a"
   },
   "outputs": [
    {
     "name": "stdout",
     "output_type": "stream",
     "text": [
      "WARNING:tensorflow:Input graph does not use tf.data.Dataset or contain a QueueRunner. That means predict yields forever. This is probably a mistake.\n",
      "INFO:tensorflow:Calling model_fn.\n",
      "INFO:tensorflow:Done calling model_fn.\n",
      "INFO:tensorflow:Graph was finalized.\n",
      "INFO:tensorflow:Restoring parameters from /tmp/tmpecea5k00/model.ckpt-5000\n",
      "INFO:tensorflow:Running local_init_op.\n",
      "INFO:tensorflow:Done running local_init_op.\n",
      "\n",
      "\n",
      "Predicted RISK is: MEDIUM\n"
     ]
    }
   ],
   "source": [
    "for pred in classifier.predict(input_fn=get_data_for_prediction):\n",
    "  print(\"\\n\")\n",
    "  print(\"Predicted RISK is: \" + prediction_result_mapping[pred['class_ids'][0]])\n",
    "  break"
   ]
  },
  {
   "cell_type": "markdown",
   "metadata": {
    "id": "WO5fIwT19COL"
   },
   "source": [
    "# Decision Tree Classifier"
   ]
  },
  {
   "cell_type": "code",
   "execution_count": 180,
   "metadata": {
    "id": "KgNfk7F1-uVE"
   },
   "outputs": [],
   "source": [
    "from sklearn.tree import DecisionTreeClassifier \n",
    "from sklearn.metrics import accuracy_score"
   ]
  },
  {
   "cell_type": "code",
   "execution_count": 418,
   "metadata": {
    "id": "lH6UCQ7YBKXy"
   },
   "outputs": [],
   "source": [
    "dtree = DecisionTreeClassifier()"
   ]
  },
  {
   "cell_type": "markdown",
   "metadata": {},
   "source": [
    "## Parameter Tuning (with K-Fold Cross Validation)"
   ]
  },
  {
   "cell_type": "code",
   "execution_count": 423,
   "metadata": {},
   "outputs": [],
   "source": [
    "# Define the parameter ranges that should be tested on the model\n",
    "dtree_params = {\n",
    "    'criterion': [\"gini\", \"entropy\"],\n",
    "    'max_depth': range(1, 10),\n",
    "    'min_samples_split': range(2, 10),\n",
    "    'min_samples_leaf': range(1, 10)\n",
    "}\n",
    "\n",
    "# Instanciate the Grid for parameter tuning\n",
    "dtree_grid = GridSearchCV(dtree, dtree_params, cv=10, scoring='accuracy', n_jobs=-1)\n",
    "\n",
    "dtree = dtree_grid.fit(X, Y)"
   ]
  },
  {
   "cell_type": "code",
   "execution_count": 435,
   "metadata": {},
   "outputs": [
    {
     "data": {
      "text/html": [
       "<div>\n",
       "<style scoped>\n",
       "    .dataframe tbody tr th:only-of-type {\n",
       "        vertical-align: middle;\n",
       "    }\n",
       "\n",
       "    .dataframe tbody tr th {\n",
       "        vertical-align: top;\n",
       "    }\n",
       "\n",
       "    .dataframe thead th {\n",
       "        text-align: right;\n",
       "    }\n",
       "</style>\n",
       "<table border=\"1\" class=\"dataframe\">\n",
       "  <thead>\n",
       "    <tr style=\"text-align: right;\">\n",
       "      <th></th>\n",
       "      <th>mean_fit_time</th>\n",
       "      <th>std_fit_time</th>\n",
       "      <th>mean_score_time</th>\n",
       "      <th>std_score_time</th>\n",
       "      <th>param_criterion</th>\n",
       "      <th>param_max_depth</th>\n",
       "      <th>param_min_samples_leaf</th>\n",
       "      <th>param_min_samples_split</th>\n",
       "      <th>params</th>\n",
       "      <th>split0_test_score</th>\n",
       "      <th>...</th>\n",
       "      <th>split3_test_score</th>\n",
       "      <th>split4_test_score</th>\n",
       "      <th>split5_test_score</th>\n",
       "      <th>split6_test_score</th>\n",
       "      <th>split7_test_score</th>\n",
       "      <th>split8_test_score</th>\n",
       "      <th>split9_test_score</th>\n",
       "      <th>mean_test_score</th>\n",
       "      <th>std_test_score</th>\n",
       "      <th>rank_test_score</th>\n",
       "    </tr>\n",
       "  </thead>\n",
       "  <tbody>\n",
       "    <tr>\n",
       "      <th>0</th>\n",
       "      <td>0.176280</td>\n",
       "      <td>0.009353</td>\n",
       "      <td>0.010483</td>\n",
       "      <td>0.001024</td>\n",
       "      <td>gini</td>\n",
       "      <td>1</td>\n",
       "      <td>1</td>\n",
       "      <td>2</td>\n",
       "      <td>{'criterion': 'gini', 'max_depth': 1, 'min_sam...</td>\n",
       "      <td>0.6187</td>\n",
       "      <td>...</td>\n",
       "      <td>0.6156</td>\n",
       "      <td>0.6177</td>\n",
       "      <td>0.6189</td>\n",
       "      <td>0.624</td>\n",
       "      <td>0.6239</td>\n",
       "      <td>0.6229</td>\n",
       "      <td>0.6193</td>\n",
       "      <td>0.62073</td>\n",
       "      <td>0.002921</td>\n",
       "      <td>1153</td>\n",
       "    </tr>\n",
       "    <tr>\n",
       "      <th>1</th>\n",
       "      <td>0.130157</td>\n",
       "      <td>0.016401</td>\n",
       "      <td>0.007532</td>\n",
       "      <td>0.001221</td>\n",
       "      <td>gini</td>\n",
       "      <td>1</td>\n",
       "      <td>1</td>\n",
       "      <td>3</td>\n",
       "      <td>{'criterion': 'gini', 'max_depth': 1, 'min_sam...</td>\n",
       "      <td>0.6187</td>\n",
       "      <td>...</td>\n",
       "      <td>0.6156</td>\n",
       "      <td>0.6177</td>\n",
       "      <td>0.6189</td>\n",
       "      <td>0.624</td>\n",
       "      <td>0.6239</td>\n",
       "      <td>0.6229</td>\n",
       "      <td>0.6193</td>\n",
       "      <td>0.62073</td>\n",
       "      <td>0.002921</td>\n",
       "      <td>1153</td>\n",
       "    </tr>\n",
       "    <tr>\n",
       "      <th>2</th>\n",
       "      <td>0.111443</td>\n",
       "      <td>0.003509</td>\n",
       "      <td>0.006871</td>\n",
       "      <td>0.000646</td>\n",
       "      <td>gini</td>\n",
       "      <td>1</td>\n",
       "      <td>1</td>\n",
       "      <td>4</td>\n",
       "      <td>{'criterion': 'gini', 'max_depth': 1, 'min_sam...</td>\n",
       "      <td>0.6187</td>\n",
       "      <td>...</td>\n",
       "      <td>0.6156</td>\n",
       "      <td>0.6177</td>\n",
       "      <td>0.6189</td>\n",
       "      <td>0.624</td>\n",
       "      <td>0.6239</td>\n",
       "      <td>0.6229</td>\n",
       "      <td>0.6193</td>\n",
       "      <td>0.62073</td>\n",
       "      <td>0.002921</td>\n",
       "      <td>1153</td>\n",
       "    </tr>\n",
       "    <tr>\n",
       "      <th>3</th>\n",
       "      <td>0.110553</td>\n",
       "      <td>0.005672</td>\n",
       "      <td>0.006785</td>\n",
       "      <td>0.000671</td>\n",
       "      <td>gini</td>\n",
       "      <td>1</td>\n",
       "      <td>1</td>\n",
       "      <td>5</td>\n",
       "      <td>{'criterion': 'gini', 'max_depth': 1, 'min_sam...</td>\n",
       "      <td>0.6187</td>\n",
       "      <td>...</td>\n",
       "      <td>0.6156</td>\n",
       "      <td>0.6177</td>\n",
       "      <td>0.6189</td>\n",
       "      <td>0.624</td>\n",
       "      <td>0.6239</td>\n",
       "      <td>0.6229</td>\n",
       "      <td>0.6193</td>\n",
       "      <td>0.62073</td>\n",
       "      <td>0.002921</td>\n",
       "      <td>1153</td>\n",
       "    </tr>\n",
       "    <tr>\n",
       "      <th>4</th>\n",
       "      <td>0.112597</td>\n",
       "      <td>0.004787</td>\n",
       "      <td>0.007221</td>\n",
       "      <td>0.000597</td>\n",
       "      <td>gini</td>\n",
       "      <td>1</td>\n",
       "      <td>1</td>\n",
       "      <td>6</td>\n",
       "      <td>{'criterion': 'gini', 'max_depth': 1, 'min_sam...</td>\n",
       "      <td>0.6187</td>\n",
       "      <td>...</td>\n",
       "      <td>0.6156</td>\n",
       "      <td>0.6177</td>\n",
       "      <td>0.6189</td>\n",
       "      <td>0.624</td>\n",
       "      <td>0.6239</td>\n",
       "      <td>0.6229</td>\n",
       "      <td>0.6193</td>\n",
       "      <td>0.62073</td>\n",
       "      <td>0.002921</td>\n",
       "      <td>1153</td>\n",
       "    </tr>\n",
       "  </tbody>\n",
       "</table>\n",
       "<p>5 rows × 22 columns</p>\n",
       "</div>"
      ],
      "text/plain": [
       "   mean_fit_time  std_fit_time  mean_score_time  std_score_time  \\\n",
       "0       0.176280      0.009353         0.010483        0.001024   \n",
       "1       0.130157      0.016401         0.007532        0.001221   \n",
       "2       0.111443      0.003509         0.006871        0.000646   \n",
       "3       0.110553      0.005672         0.006785        0.000671   \n",
       "4       0.112597      0.004787         0.007221        0.000597   \n",
       "\n",
       "  param_criterion param_max_depth param_min_samples_leaf  \\\n",
       "0            gini               1                      1   \n",
       "1            gini               1                      1   \n",
       "2            gini               1                      1   \n",
       "3            gini               1                      1   \n",
       "4            gini               1                      1   \n",
       "\n",
       "  param_min_samples_split                                             params  \\\n",
       "0                       2  {'criterion': 'gini', 'max_depth': 1, 'min_sam...   \n",
       "1                       3  {'criterion': 'gini', 'max_depth': 1, 'min_sam...   \n",
       "2                       4  {'criterion': 'gini', 'max_depth': 1, 'min_sam...   \n",
       "3                       5  {'criterion': 'gini', 'max_depth': 1, 'min_sam...   \n",
       "4                       6  {'criterion': 'gini', 'max_depth': 1, 'min_sam...   \n",
       "\n",
       "   split0_test_score  ...  split3_test_score  split4_test_score  \\\n",
       "0             0.6187  ...             0.6156             0.6177   \n",
       "1             0.6187  ...             0.6156             0.6177   \n",
       "2             0.6187  ...             0.6156             0.6177   \n",
       "3             0.6187  ...             0.6156             0.6177   \n",
       "4             0.6187  ...             0.6156             0.6177   \n",
       "\n",
       "   split5_test_score  split6_test_score  split7_test_score  split8_test_score  \\\n",
       "0             0.6189              0.624             0.6239             0.6229   \n",
       "1             0.6189              0.624             0.6239             0.6229   \n",
       "2             0.6189              0.624             0.6239             0.6229   \n",
       "3             0.6189              0.624             0.6239             0.6229   \n",
       "4             0.6189              0.624             0.6239             0.6229   \n",
       "\n",
       "   split9_test_score  mean_test_score  std_test_score  rank_test_score  \n",
       "0             0.6193          0.62073        0.002921             1153  \n",
       "1             0.6193          0.62073        0.002921             1153  \n",
       "2             0.6193          0.62073        0.002921             1153  \n",
       "3             0.6193          0.62073        0.002921             1153  \n",
       "4             0.6193          0.62073        0.002921             1153  \n",
       "\n",
       "[5 rows x 22 columns]"
      ]
     },
     "execution_count": 435,
     "metadata": {},
     "output_type": "execute_result"
    }
   ],
   "source": [
    "pd.DataFrame(dtree.cv_results_).head()"
   ]
  },
  {
   "cell_type": "code",
   "execution_count": 539,
   "metadata": {},
   "outputs": [
    {
     "name": "stdout",
     "output_type": "stream",
     "text": [
      "DecisionTreeClassifier(max_depth=9, min_samples_leaf=5, min_samples_split=5)\n",
      "{'criterion': 'gini', 'max_depth': 9, 'min_samples_leaf': 5, 'min_samples_split': 5}\n",
      "Best Accuracy: 93.15%\n"
     ]
    }
   ],
   "source": [
    "print(dtree.best_estimator_)\n",
    "print(dtree.best_params_)\n",
    "print('Best Accuracy: {0:.2%}'.format(dtree.best_score_))"
   ]
  },
  {
   "cell_type": "markdown",
   "metadata": {
    "id": "gLCndhSU-33o"
   },
   "source": [
    "## (Train - using Test-Train Split)"
   ]
  },
  {
   "cell_type": "code",
   "execution_count": null,
   "metadata": {
    "id": "sG9pTfVT-zl5"
   },
   "outputs": [],
   "source": [
    "#start = time.time()\n",
    "\n",
    "#dtree.fit(X_train, y_train) \n",
    "\n",
    "#stop = time.time()\n",
    "#print(f\"Training time for Decision Tree Classifier: {stop - start}s\")"
   ]
  },
  {
   "cell_type": "markdown",
   "metadata": {
    "id": "W6INnv4s-7Lr"
   },
   "source": [
    "## Evaluate"
   ]
  },
  {
   "cell_type": "code",
   "execution_count": 491,
   "metadata": {},
   "outputs": [
    {
     "data": {
      "image/png": "[encoded data removed]",
      "text/plain": [
       "<Figure size 432x288 with 1 Axes>"
      ]
     },
     "metadata": {
      "needs_background": "light"
     },
     "output_type": "display_data"
    }
   ],
   "source": [
    "test_scores = dtree.cv_results_['mean_test_score']\n",
    "\n",
    "plt.title(\"Mean accuracy after 10-Fold Cross Validation\")\n",
    "plt.plot(test_scores)\n",
    "plt.xlabel(\"Iteration\")\n",
    "plt.ylabel(\"Accuracy\")\n",
    "plt.show()"
   ]
  },
  {
   "cell_type": "code",
   "execution_count": 443,
   "metadata": {
    "colab": {
     "base_uri": "https://localhost:8080/"
    },
    "id": "BcEqOFL78lUB",
    "outputId": "7f6d1c18-8b6e-44e5-cddf-3a8ccb1ecb9e"
   },
   "outputs": [],
   "source": [
    "#accuracy = dtree.score(X_test, y_test) \n",
    "#print('Accuracy: {0:.2%}'.format(accuracy))"
   ]
  },
  {
   "cell_type": "code",
   "execution_count": 492,
   "metadata": {
    "colab": {
     "base_uri": "https://localhost:8080/",
     "height": 279
    },
    "id": "YiRDsZKLAvwK",
    "outputId": "2cef82a9-3bd5-4088-d725-cb2cb1ebcb8c"
   },
   "outputs": [
    {
     "data": {
      "image/png": "[encoded data removed]",
      "text/plain": [
       "<Figure size 432x288 with 2 Axes>"
      ]
     },
     "metadata": {
      "needs_background": "light"
     },
     "output_type": "display_data"
    }
   ],
   "source": [
    "plot_confusion_matrix(dtree, X_test, y_test)  \n",
    "plt.show()"
   ]
  },
  {
   "cell_type": "markdown",
   "metadata": {
    "id": "b2mHCI6cM_dY"
   },
   "source": [
    "## Export"
   ]
  },
  {
   "cell_type": "code",
   "execution_count": 544,
   "metadata": {
    "colab": {
     "base_uri": "https://localhost:8080/"
    },
    "id": "hL7D6-KZNDN1",
    "outputId": "65941a09-e0e6-4865-94f5-22c5a88fab81",
    "scrolled": true
   },
   "outputs": [
    {
     "data": {
      "text/plain": [
       "['../src/models/Tree_classifier.joblib']"
      ]
     },
     "execution_count": 544,
     "metadata": {},
     "output_type": "execute_result"
    }
   ],
   "source": [
    "#r = export_text(dtree, feature_names=features)\n",
    "#print(r)\n",
    "\n",
    "dump(dtree, MODEL_OUTPUT_PATH + 'Tree_classifier.joblib') "
   ]
  },
  {
   "cell_type": "markdown",
   "metadata": {
    "id": "v0K5xoX4Dq7c"
   },
   "source": [
    "## Prediction"
   ]
  },
  {
   "cell_type": "code",
   "execution_count": 571,
   "metadata": {
    "colab": {
     "base_uri": "https://localhost:8080/",
     "height": 80
    },
    "id": "Dg0Ruo5uDVyN",
    "outputId": "450f7695-d7e8-4394-86b6-f8f0bfa57d84"
   },
   "outputs": [
    {
     "data": {
      "text/html": [
       "<div>\n",
       "<style scoped>\n",
       "    .dataframe tbody tr th:only-of-type {\n",
       "        vertical-align: middle;\n",
       "    }\n",
       "\n",
       "    .dataframe tbody tr th {\n",
       "        vertical-align: top;\n",
       "    }\n",
       "\n",
       "    .dataframe thead th {\n",
       "        text-align: right;\n",
       "    }\n",
       "</style>\n",
       "<table border=\"1\" class=\"dataframe\">\n",
       "  <thead>\n",
       "    <tr style=\"text-align: right;\">\n",
       "      <th></th>\n",
       "      <th>Invested Amount</th>\n",
       "      <th>Successful Attacks</th>\n",
       "      <th>Failed Attacks</th>\n",
       "      <th>Business Value</th>\n",
       "      <th>Number of Employees</th>\n",
       "      <th>Employee Training</th>\n",
       "      <th>Known Vulnerabilities</th>\n",
       "      <th>External Advisor</th>\n",
       "    </tr>\n",
       "  </thead>\n",
       "  <tbody>\n",
       "    <tr>\n",
       "      <th>0</th>\n",
       "      <td>1077113</td>\n",
       "      <td>8</td>\n",
       "      <td>29</td>\n",
       "      <td>4947796</td>\n",
       "      <td>57879</td>\n",
       "      <td>1</td>\n",
       "      <td>6</td>\n",
       "      <td>0</td>\n",
       "    </tr>\n",
       "  </tbody>\n",
       "</table>\n",
       "</div>"
      ],
      "text/plain": [
       "   Invested Amount  Successful Attacks  Failed Attacks  Business Value  \\\n",
       "0          1077113                   8              29         4947796   \n",
       "\n",
       "   Number of Employees  Employee Training  Known Vulnerabilities  \\\n",
       "0                57879                  1                      6   \n",
       "\n",
       "   External Advisor  \n",
       "0                 0  "
      ]
     },
     "execution_count": 571,
     "metadata": {},
     "output_type": "execute_result"
    }
   ],
   "source": [
    "# Create DataFrame from data to be predicted\n",
    "prediction_df = pd.DataFrame([[1077113, 8, 29, 4947796, 57879, 1, 6, 0]], columns=features)\n",
    "prediction_df"
   ]
  },
  {
   "cell_type": "code",
   "execution_count": 572,
   "metadata": {
    "colab": {
     "base_uri": "https://localhost:8080/"
    },
    "id": "hEtL2WYM_LYf",
    "outputId": "2ffd7074-e93c-4e5e-b72b-6ef0ccdd1669"
   },
   "outputs": [
    {
     "name": "stdout",
     "output_type": "stream",
     "text": [
      "Predicted RISK is: HIGH\n"
     ]
    }
   ],
   "source": [
    "predicted_risk = dtree.predict(prediction_df)[0]\n",
    "print(\"Predicted RISK is: \" + prediction_result_mapping[predicted_risk])"
   ]
  },
  {
   "cell_type": "markdown",
   "metadata": {
    "id": "tq--wueVRT2V"
   },
   "source": [
    "# Support Vector Machine (SVM) classifier"
   ]
  },
  {
   "cell_type": "code",
   "execution_count": 460,
   "metadata": {
    "id": "Bw6TcEsVRvCS"
   },
   "outputs": [],
   "source": [
    "from sklearn.svm import LinearSVC, SVC "
   ]
  },
  {
   "cell_type": "code",
   "execution_count": null,
   "metadata": {},
   "outputs": [],
   "source": [
    "# Linear\n",
    "#svm_model = LinearSVC().fit(X_train, y_train)"
   ]
  },
  {
   "cell_type": "markdown",
   "metadata": {},
   "source": [
    "## Parameter Tuning (with K-Fold Cross Validation)"
   ]
  },
  {
   "cell_type": "code",
   "execution_count": 463,
   "metadata": {},
   "outputs": [],
   "source": [
    "# Define the parameter ranges that should be tested on the model\n",
    "svm_params = {\n",
    "    'kernel': [\"poly\", \"rbf\", \"sigmoid\"],\n",
    "    'gamma': [\"scale\", \"auto\"]\n",
    "}\n",
    "\n",
    "# Instanciate the Grid for parameter tuning\n",
    "svm_grid = GridSearchCV(SVC(), svm_params, cv=10, scoring='accuracy', n_jobs=-1)\n",
    "\n",
    "svm = svm_grid.fit(X_normalized, Y)"
   ]
  },
  {
   "cell_type": "code",
   "execution_count": 464,
   "metadata": {},
   "outputs": [
    {
     "data": {
      "text/html": [
       "<div>\n",
       "<style scoped>\n",
       "    .dataframe tbody tr th:only-of-type {\n",
       "        vertical-align: middle;\n",
       "    }\n",
       "\n",
       "    .dataframe tbody tr th {\n",
       "        vertical-align: top;\n",
       "    }\n",
       "\n",
       "    .dataframe thead th {\n",
       "        text-align: right;\n",
       "    }\n",
       "</style>\n",
       "<table border=\"1\" class=\"dataframe\">\n",
       "  <thead>\n",
       "    <tr style=\"text-align: right;\">\n",
       "      <th></th>\n",
       "      <th>mean_fit_time</th>\n",
       "      <th>std_fit_time</th>\n",
       "      <th>mean_score_time</th>\n",
       "      <th>std_score_time</th>\n",
       "      <th>param_gamma</th>\n",
       "      <th>param_kernel</th>\n",
       "      <th>params</th>\n",
       "      <th>split0_test_score</th>\n",
       "      <th>split1_test_score</th>\n",
       "      <th>split2_test_score</th>\n",
       "      <th>split3_test_score</th>\n",
       "      <th>split4_test_score</th>\n",
       "      <th>split5_test_score</th>\n",
       "      <th>split6_test_score</th>\n",
       "      <th>split7_test_score</th>\n",
       "      <th>split8_test_score</th>\n",
       "      <th>split9_test_score</th>\n",
       "      <th>mean_test_score</th>\n",
       "      <th>std_test_score</th>\n",
       "      <th>rank_test_score</th>\n",
       "    </tr>\n",
       "  </thead>\n",
       "  <tbody>\n",
       "    <tr>\n",
       "      <th>0</th>\n",
       "      <td>52.943281</td>\n",
       "      <td>1.728634</td>\n",
       "      <td>2.366005</td>\n",
       "      <td>0.091481</td>\n",
       "      <td>scale</td>\n",
       "      <td>poly</td>\n",
       "      <td>{'gamma': 'scale', 'kernel': 'poly'}</td>\n",
       "      <td>0.9896</td>\n",
       "      <td>0.9900</td>\n",
       "      <td>0.9899</td>\n",
       "      <td>0.9894</td>\n",
       "      <td>0.9912</td>\n",
       "      <td>0.9900</td>\n",
       "      <td>0.9880</td>\n",
       "      <td>0.9889</td>\n",
       "      <td>0.9912</td>\n",
       "      <td>0.9906</td>\n",
       "      <td>0.98988</td>\n",
       "      <td>0.000940</td>\n",
       "      <td>2</td>\n",
       "    </tr>\n",
       "    <tr>\n",
       "      <th>1</th>\n",
       "      <td>124.878120</td>\n",
       "      <td>9.293560</td>\n",
       "      <td>37.904295</td>\n",
       "      <td>0.735173</td>\n",
       "      <td>scale</td>\n",
       "      <td>rbf</td>\n",
       "      <td>{'gamma': 'scale', 'kernel': 'rbf'}</td>\n",
       "      <td>0.9934</td>\n",
       "      <td>0.9928</td>\n",
       "      <td>0.9933</td>\n",
       "      <td>0.9927</td>\n",
       "      <td>0.9932</td>\n",
       "      <td>0.9932</td>\n",
       "      <td>0.9916</td>\n",
       "      <td>0.9932</td>\n",
       "      <td>0.9935</td>\n",
       "      <td>0.9934</td>\n",
       "      <td>0.99303</td>\n",
       "      <td>0.000535</td>\n",
       "      <td>1</td>\n",
       "    </tr>\n",
       "    <tr>\n",
       "      <th>2</th>\n",
       "      <td>1281.997076</td>\n",
       "      <td>121.560741</td>\n",
       "      <td>63.322867</td>\n",
       "      <td>4.590150</td>\n",
       "      <td>scale</td>\n",
       "      <td>sigmoid</td>\n",
       "      <td>{'gamma': 'scale', 'kernel': 'sigmoid'}</td>\n",
       "      <td>0.4362</td>\n",
       "      <td>0.4392</td>\n",
       "      <td>0.4461</td>\n",
       "      <td>0.4343</td>\n",
       "      <td>0.4350</td>\n",
       "      <td>0.4337</td>\n",
       "      <td>0.4399</td>\n",
       "      <td>0.4351</td>\n",
       "      <td>0.4381</td>\n",
       "      <td>0.4953</td>\n",
       "      <td>0.44329</td>\n",
       "      <td>0.017683</td>\n",
       "      <td>6</td>\n",
       "    </tr>\n",
       "    <tr>\n",
       "      <th>3</th>\n",
       "      <td>265.997506</td>\n",
       "      <td>24.186359</td>\n",
       "      <td>17.793383</td>\n",
       "      <td>1.390799</td>\n",
       "      <td>auto</td>\n",
       "      <td>poly</td>\n",
       "      <td>{'gamma': 'auto', 'kernel': 'poly'}</td>\n",
       "      <td>0.9584</td>\n",
       "      <td>0.9625</td>\n",
       "      <td>0.9622</td>\n",
       "      <td>0.9573</td>\n",
       "      <td>0.9588</td>\n",
       "      <td>0.9595</td>\n",
       "      <td>0.9600</td>\n",
       "      <td>0.9600</td>\n",
       "      <td>0.9593</td>\n",
       "      <td>0.9564</td>\n",
       "      <td>0.95944</td>\n",
       "      <td>0.001815</td>\n",
       "      <td>4</td>\n",
       "    </tr>\n",
       "    <tr>\n",
       "      <th>4</th>\n",
       "      <td>193.573353</td>\n",
       "      <td>5.234524</td>\n",
       "      <td>47.856752</td>\n",
       "      <td>4.721587</td>\n",
       "      <td>auto</td>\n",
       "      <td>rbf</td>\n",
       "      <td>{'gamma': 'auto', 'kernel': 'rbf'}</td>\n",
       "      <td>0.9796</td>\n",
       "      <td>0.9825</td>\n",
       "      <td>0.9857</td>\n",
       "      <td>0.9819</td>\n",
       "      <td>0.9801</td>\n",
       "      <td>0.9827</td>\n",
       "      <td>0.9811</td>\n",
       "      <td>0.9821</td>\n",
       "      <td>0.9818</td>\n",
       "      <td>0.9798</td>\n",
       "      <td>0.98173</td>\n",
       "      <td>0.001696</td>\n",
       "      <td>3</td>\n",
       "    </tr>\n",
       "  </tbody>\n",
       "</table>\n",
       "</div>"
      ],
      "text/plain": [
       "   mean_fit_time  std_fit_time  mean_score_time  std_score_time param_gamma  \\\n",
       "0      52.943281      1.728634         2.366005        0.091481       scale   \n",
       "1     124.878120      9.293560        37.904295        0.735173       scale   \n",
       "2    1281.997076    121.560741        63.322867        4.590150       scale   \n",
       "3     265.997506     24.186359        17.793383        1.390799        auto   \n",
       "4     193.573353      5.234524        47.856752        4.721587        auto   \n",
       "\n",
       "  param_kernel                                   params  split0_test_score  \\\n",
       "0         poly     {'gamma': 'scale', 'kernel': 'poly'}             0.9896   \n",
       "1          rbf      {'gamma': 'scale', 'kernel': 'rbf'}             0.9934   \n",
       "2      sigmoid  {'gamma': 'scale', 'kernel': 'sigmoid'}             0.4362   \n",
       "3         poly      {'gamma': 'auto', 'kernel': 'poly'}             0.9584   \n",
       "4          rbf       {'gamma': 'auto', 'kernel': 'rbf'}             0.9796   \n",
       "\n",
       "   split1_test_score  split2_test_score  split3_test_score  split4_test_score  \\\n",
       "0             0.9900             0.9899             0.9894             0.9912   \n",
       "1             0.9928             0.9933             0.9927             0.9932   \n",
       "2             0.4392             0.4461             0.4343             0.4350   \n",
       "3             0.9625             0.9622             0.9573             0.9588   \n",
       "4             0.9825             0.9857             0.9819             0.9801   \n",
       "\n",
       "   split5_test_score  split6_test_score  split7_test_score  split8_test_score  \\\n",
       "0             0.9900             0.9880             0.9889             0.9912   \n",
       "1             0.9932             0.9916             0.9932             0.9935   \n",
       "2             0.4337             0.4399             0.4351             0.4381   \n",
       "3             0.9595             0.9600             0.9600             0.9593   \n",
       "4             0.9827             0.9811             0.9821             0.9818   \n",
       "\n",
       "   split9_test_score  mean_test_score  std_test_score  rank_test_score  \n",
       "0             0.9906          0.98988        0.000940                2  \n",
       "1             0.9934          0.99303        0.000535                1  \n",
       "2             0.4953          0.44329        0.017683                6  \n",
       "3             0.9564          0.95944        0.001815                4  \n",
       "4             0.9798          0.98173        0.001696                3  "
      ]
     },
     "execution_count": 464,
     "metadata": {},
     "output_type": "execute_result"
    }
   ],
   "source": [
    "pd.DataFrame(svm.cv_results_).head()"
   ]
  },
  {
   "cell_type": "code",
   "execution_count": 547,
   "metadata": {},
   "outputs": [
    {
     "name": "stdout",
     "output_type": "stream",
     "text": [
      "SVC()\n",
      "{'gamma': 'scale', 'kernel': 'rbf'}\n",
      "Best Accuracy: 99.30%\n"
     ]
    }
   ],
   "source": [
    "print(svm.best_estimator_)\n",
    "print(svm.best_params_)\n",
    "print('Best Accuracy: {0:.2%}'.format(svm.best_score_))"
   ]
  },
  {
   "cell_type": "markdown",
   "metadata": {
    "id": "M27Qv-vxR-PC"
   },
   "source": [
    "## (Train - using Test-Train Split)"
   ]
  },
  {
   "cell_type": "code",
   "execution_count": 452,
   "metadata": {
    "id": "xZvj-RR8R3p4"
   },
   "outputs": [],
   "source": [
    "# Linear\n",
    "#svm_model = LinearSVC().fit(X_train, y_train)\n",
    "\n",
    "#start = time.time()\n",
    "\n",
    "#svm.fit(X_train_normalized, y_train)\n",
    "\n",
    "#stop = time.time()\n",
    "#print(f\"Training time for polynomial SVM: {stop - start}s\")"
   ]
  },
  {
   "cell_type": "markdown",
   "metadata": {
    "id": "MzgoC2twSGou"
   },
   "source": [
    "## Evaluate"
   ]
  },
  {
   "cell_type": "code",
   "execution_count": 548,
   "metadata": {},
   "outputs": [
    {
     "data": {
      "image/png": "[encoded data removed]",
      "text/plain": [
       "<Figure size 432x288 with 1 Axes>"
      ]
     },
     "metadata": {
      "needs_background": "light"
     },
     "output_type": "display_data"
    }
   ],
   "source": [
    "test_scores = svm.cv_results_['mean_test_score']\n",
    "\n",
    "plt.title(\"Mean accuracy after 10-Fold Cross Validation\")\n",
    "plt.plot(test_scores)\n",
    "plt.xlabel(\"Iteration\")\n",
    "plt.ylabel(\"Accuracy\")\n",
    "plt.show()"
   ]
  },
  {
   "cell_type": "code",
   "execution_count": null,
   "metadata": {
    "colab": {
     "base_uri": "https://localhost:8080/"
    },
    "id": "SHvrY_WTSO9j",
    "outputId": "2b5f6949-3590-4738-9bc5-7c2cde47fc32"
   },
   "outputs": [],
   "source": [
    "#accuracy = svm_model.score(X_test_normalized, y_test) \n",
    "\n",
    "#print('Accuracy: {0:.2%}'.format(accuracy))"
   ]
  },
  {
   "cell_type": "code",
   "execution_count": 468,
   "metadata": {
    "colab": {
     "base_uri": "https://localhost:8080/",
     "height": 279
    },
    "id": "inO0fhE8StyF",
    "outputId": "50419daf-6978-45a8-9c8f-f669917fa251"
   },
   "outputs": [
    {
     "data": {
      "image/png": "[encoded data removed]",
      "text/plain": [
       "<Figure size 432x288 with 2 Axes>"
      ]
     },
     "metadata": {
      "needs_background": "light"
     },
     "output_type": "display_data"
    }
   ],
   "source": [
    "plot_confusion_matrix(svm, X_test_normalized, y_test)  \n",
    "plt.show()"
   ]
  },
  {
   "cell_type": "markdown",
   "metadata": {
    "id": "AyWsyFoGv92H"
   },
   "source": [
    "## Export"
   ]
  },
  {
   "cell_type": "code",
   "execution_count": 549,
   "metadata": {
    "colab": {
     "base_uri": "https://localhost:8080/"
    },
    "id": "vWwDHaMxwANd",
    "outputId": "927eff1d-1e84-42b5-f195-5af4593eae54"
   },
   "outputs": [
    {
     "data": {
      "text/plain": [
       "['../src/models/SVM_classifier.joblib']"
      ]
     },
     "execution_count": 549,
     "metadata": {},
     "output_type": "execute_result"
    }
   ],
   "source": [
    "dump(svm, MODEL_OUTPUT_PATH + 'SVM_classifier.joblib') "
   ]
  },
  {
   "cell_type": "markdown",
   "metadata": {
    "id": "TsL5MGI2Scsk"
   },
   "source": [
    "## Prediction"
   ]
  },
  {
   "cell_type": "code",
   "execution_count": 550,
   "metadata": {
    "colab": {
     "base_uri": "https://localhost:8080/"
    },
    "id": "lgzVe198aOe3",
    "outputId": "145d728f-ff21-4fbd-ed67-fc0c15ecc5f3"
   },
   "outputs": [
    {
     "name": "stdout",
     "output_type": "stream",
     "text": [
      "Predicted RISK is: MEDIUM\n"
     ]
    }
   ],
   "source": [
    "predicted_risk = svm.predict(scaler.transform([[1077113, 8, 29, 4947796, 57879, 1, 6, 0]]))[0]\n",
    "print(\"Predicted RISK is: \" + prediction_result_mapping[predicted_risk])"
   ]
  },
  {
   "cell_type": "markdown",
   "metadata": {
    "id": "h6Nun-zRkweH"
   },
   "source": [
    "# K-nearest Neighbours Classifier"
   ]
  },
  {
   "cell_type": "code",
   "execution_count": 202,
   "metadata": {
    "id": "g419boPkk11J"
   },
   "outputs": [],
   "source": [
    "from sklearn.neighbors import KNeighborsClassifier\n",
    "from sklearn.model_selection import GridSearchCV"
   ]
  },
  {
   "cell_type": "code",
   "execution_count": 275,
   "metadata": {},
   "outputs": [],
   "source": [
    "knn = KNeighborsClassifier()"
   ]
  },
  {
   "cell_type": "markdown",
   "metadata": {},
   "source": [
    "## Parameter Tuning (with K-Fold Cross Validation)"
   ]
  },
  {
   "cell_type": "code",
   "execution_count": 277,
   "metadata": {},
   "outputs": [],
   "source": [
    "# Define the parameter ranges that should be tested on the model\n",
    "knn_params = {\n",
    "    'n_neighbors': range(1, 30),\n",
    "    'weights': weights_options\n",
    "}\n",
    "\n",
    "# Instanciate the Grid for parameter tuning\n",
    "knn_grid = GridSearchCV(knn, knn_params, cv=10, scoring='accuracy', n_jobs=-1)\n",
    "\n",
    "knn = knn_grid.fit(X_normalized, Y)"
   ]
  },
  {
   "cell_type": "code",
   "execution_count": 474,
   "metadata": {},
   "outputs": [
    {
     "data": {
      "text/html": [
       "<div>\n",
       "<style scoped>\n",
       "    .dataframe tbody tr th:only-of-type {\n",
       "        vertical-align: middle;\n",
       "    }\n",
       "\n",
       "    .dataframe tbody tr th {\n",
       "        vertical-align: top;\n",
       "    }\n",
       "\n",
       "    .dataframe thead th {\n",
       "        text-align: right;\n",
       "    }\n",
       "</style>\n",
       "<table border=\"1\" class=\"dataframe\">\n",
       "  <thead>\n",
       "    <tr style=\"text-align: right;\">\n",
       "      <th></th>\n",
       "      <th>mean_fit_time</th>\n",
       "      <th>std_fit_time</th>\n",
       "      <th>mean_score_time</th>\n",
       "      <th>std_score_time</th>\n",
       "      <th>param_n_neighbors</th>\n",
       "      <th>param_weights</th>\n",
       "      <th>params</th>\n",
       "      <th>split0_test_score</th>\n",
       "      <th>split1_test_score</th>\n",
       "      <th>split2_test_score</th>\n",
       "      <th>split3_test_score</th>\n",
       "      <th>split4_test_score</th>\n",
       "      <th>split5_test_score</th>\n",
       "      <th>split6_test_score</th>\n",
       "      <th>split7_test_score</th>\n",
       "      <th>split8_test_score</th>\n",
       "      <th>split9_test_score</th>\n",
       "      <th>mean_test_score</th>\n",
       "      <th>std_test_score</th>\n",
       "      <th>rank_test_score</th>\n",
       "    </tr>\n",
       "  </thead>\n",
       "  <tbody>\n",
       "    <tr>\n",
       "      <th>0</th>\n",
       "      <td>4.576065</td>\n",
       "      <td>0.200660</td>\n",
       "      <td>2.837404</td>\n",
       "      <td>0.107389</td>\n",
       "      <td>1</td>\n",
       "      <td>uniform</td>\n",
       "      <td>{'n_neighbors': 1, 'weights': 'uniform'}</td>\n",
       "      <td>0.9384</td>\n",
       "      <td>0.9414</td>\n",
       "      <td>0.9389</td>\n",
       "      <td>0.9416</td>\n",
       "      <td>0.9379</td>\n",
       "      <td>0.9450</td>\n",
       "      <td>0.9373</td>\n",
       "      <td>0.9391</td>\n",
       "      <td>0.9403</td>\n",
       "      <td>0.9363</td>\n",
       "      <td>0.93962</td>\n",
       "      <td>0.002411</td>\n",
       "      <td>55</td>\n",
       "    </tr>\n",
       "    <tr>\n",
       "      <th>1</th>\n",
       "      <td>4.286621</td>\n",
       "      <td>0.287884</td>\n",
       "      <td>1.759838</td>\n",
       "      <td>0.091029</td>\n",
       "      <td>1</td>\n",
       "      <td>distance</td>\n",
       "      <td>{'n_neighbors': 1, 'weights': 'distance'}</td>\n",
       "      <td>0.9384</td>\n",
       "      <td>0.9414</td>\n",
       "      <td>0.9389</td>\n",
       "      <td>0.9416</td>\n",
       "      <td>0.9379</td>\n",
       "      <td>0.9450</td>\n",
       "      <td>0.9373</td>\n",
       "      <td>0.9391</td>\n",
       "      <td>0.9403</td>\n",
       "      <td>0.9363</td>\n",
       "      <td>0.93962</td>\n",
       "      <td>0.002411</td>\n",
       "      <td>55</td>\n",
       "    </tr>\n",
       "    <tr>\n",
       "      <th>2</th>\n",
       "      <td>3.885283</td>\n",
       "      <td>0.275575</td>\n",
       "      <td>3.210705</td>\n",
       "      <td>0.243916</td>\n",
       "      <td>2</td>\n",
       "      <td>uniform</td>\n",
       "      <td>{'n_neighbors': 2, 'weights': 'uniform'}</td>\n",
       "      <td>0.9314</td>\n",
       "      <td>0.9355</td>\n",
       "      <td>0.9354</td>\n",
       "      <td>0.9341</td>\n",
       "      <td>0.9362</td>\n",
       "      <td>0.9402</td>\n",
       "      <td>0.9360</td>\n",
       "      <td>0.9328</td>\n",
       "      <td>0.9334</td>\n",
       "      <td>0.9301</td>\n",
       "      <td>0.93451</td>\n",
       "      <td>0.002696</td>\n",
       "      <td>58</td>\n",
       "    </tr>\n",
       "    <tr>\n",
       "      <th>3</th>\n",
       "      <td>3.641499</td>\n",
       "      <td>0.210027</td>\n",
       "      <td>2.134075</td>\n",
       "      <td>0.166986</td>\n",
       "      <td>2</td>\n",
       "      <td>distance</td>\n",
       "      <td>{'n_neighbors': 2, 'weights': 'distance'}</td>\n",
       "      <td>0.9384</td>\n",
       "      <td>0.9414</td>\n",
       "      <td>0.9389</td>\n",
       "      <td>0.9416</td>\n",
       "      <td>0.9379</td>\n",
       "      <td>0.9450</td>\n",
       "      <td>0.9373</td>\n",
       "      <td>0.9391</td>\n",
       "      <td>0.9403</td>\n",
       "      <td>0.9363</td>\n",
       "      <td>0.93962</td>\n",
       "      <td>0.002411</td>\n",
       "      <td>55</td>\n",
       "    </tr>\n",
       "    <tr>\n",
       "      <th>4</th>\n",
       "      <td>3.473574</td>\n",
       "      <td>0.388592</td>\n",
       "      <td>3.195176</td>\n",
       "      <td>0.047070</td>\n",
       "      <td>3</td>\n",
       "      <td>uniform</td>\n",
       "      <td>{'n_neighbors': 3, 'weights': 'uniform'}</td>\n",
       "      <td>0.9492</td>\n",
       "      <td>0.9541</td>\n",
       "      <td>0.9512</td>\n",
       "      <td>0.9490</td>\n",
       "      <td>0.9494</td>\n",
       "      <td>0.9556</td>\n",
       "      <td>0.9503</td>\n",
       "      <td>0.9486</td>\n",
       "      <td>0.9523</td>\n",
       "      <td>0.9465</td>\n",
       "      <td>0.95062</td>\n",
       "      <td>0.002595</td>\n",
       "      <td>53</td>\n",
       "    </tr>\n",
       "  </tbody>\n",
       "</table>\n",
       "</div>"
      ],
      "text/plain": [
       "   mean_fit_time  std_fit_time  mean_score_time  std_score_time  \\\n",
       "0       4.576065      0.200660         2.837404        0.107389   \n",
       "1       4.286621      0.287884         1.759838        0.091029   \n",
       "2       3.885283      0.275575         3.210705        0.243916   \n",
       "3       3.641499      0.210027         2.134075        0.166986   \n",
       "4       3.473574      0.388592         3.195176        0.047070   \n",
       "\n",
       "  param_n_neighbors param_weights                                     params  \\\n",
       "0                 1       uniform   {'n_neighbors': 1, 'weights': 'uniform'}   \n",
       "1                 1      distance  {'n_neighbors': 1, 'weights': 'distance'}   \n",
       "2                 2       uniform   {'n_neighbors': 2, 'weights': 'uniform'}   \n",
       "3                 2      distance  {'n_neighbors': 2, 'weights': 'distance'}   \n",
       "4                 3       uniform   {'n_neighbors': 3, 'weights': 'uniform'}   \n",
       "\n",
       "   split0_test_score  split1_test_score  split2_test_score  split3_test_score  \\\n",
       "0             0.9384             0.9414             0.9389             0.9416   \n",
       "1             0.9384             0.9414             0.9389             0.9416   \n",
       "2             0.9314             0.9355             0.9354             0.9341   \n",
       "3             0.9384             0.9414             0.9389             0.9416   \n",
       "4             0.9492             0.9541             0.9512             0.9490   \n",
       "\n",
       "   split4_test_score  split5_test_score  split6_test_score  split7_test_score  \\\n",
       "0             0.9379             0.9450             0.9373             0.9391   \n",
       "1             0.9379             0.9450             0.9373             0.9391   \n",
       "2             0.9362             0.9402             0.9360             0.9328   \n",
       "3             0.9379             0.9450             0.9373             0.9391   \n",
       "4             0.9494             0.9556             0.9503             0.9486   \n",
       "\n",
       "   split8_test_score  split9_test_score  mean_test_score  std_test_score  \\\n",
       "0             0.9403             0.9363          0.93962        0.002411   \n",
       "1             0.9403             0.9363          0.93962        0.002411   \n",
       "2             0.9334             0.9301          0.93451        0.002696   \n",
       "3             0.9403             0.9363          0.93962        0.002411   \n",
       "4             0.9523             0.9465          0.95062        0.002595   \n",
       "\n",
       "   rank_test_score  \n",
       "0               55  \n",
       "1               55  \n",
       "2               58  \n",
       "3               55  \n",
       "4               53  "
      ]
     },
     "execution_count": 474,
     "metadata": {},
     "output_type": "execute_result"
    }
   ],
   "source": [
    "pd.DataFrame(knn.cv_results_).head()"
   ]
  },
  {
   "cell_type": "code",
   "execution_count": 558,
   "metadata": {},
   "outputs": [
    {
     "name": "stdout",
     "output_type": "stream",
     "text": [
      "KNeighborsClassifier(n_neighbors=28, weights='distance')\n",
      "Best Accuracy: 96.59%\n"
     ]
    }
   ],
   "source": [
    "print(knn.best_estimator_)\n",
    "print('Best Accuracy: {0:.2%}'.format(knn.best_score_))"
   ]
  },
  {
   "cell_type": "markdown",
   "metadata": {
    "id": "80VauLEYk-Ab"
   },
   "source": [
    "## (Train - using Test-Train Split)"
   ]
  },
  {
   "cell_type": "code",
   "execution_count": 130,
   "metadata": {
    "id": "kMYIfIEMk_Rr"
   },
   "outputs": [
    {
     "name": "stdout",
     "output_type": "stream",
     "text": [
      "Training time KNN Classifier: 0.0075609683990478516s\n"
     ]
    }
   ],
   "source": [
    "#start = time.time()\n",
    "\n",
    "#knn.fit(X_train_normalized, y_train) \n",
    "\n",
    "#stop = time.time()\n",
    "#print(f\"Training time KNN Classifier: {stop - start}s\")"
   ]
  },
  {
   "cell_type": "markdown",
   "metadata": {
    "id": "ury_lL8glFBP"
   },
   "source": [
    "## Evaluate"
   ]
  },
  {
   "cell_type": "code",
   "execution_count": 485,
   "metadata": {},
   "outputs": [
    {
     "data": {
      "image/png": "[encoded data removed]",
      "text/plain": [
       "<Figure size 432x288 with 1 Axes>"
      ]
     },
     "metadata": {
      "needs_background": "light"
     },
     "output_type": "display_data"
    }
   ],
   "source": [
    "test_scores_weight_uniform = [ x for ind, x in enumerate(knn.cv_results_['mean_test_score']) if ind % 2 == 0]\n",
    "test_scores_weight_distance = [ x for ind, x in enumerate(knn.cv_results_['mean_test_score']) if ind % 2 == 1]\n",
    "\n",
    "\n",
    "plt.title(\"Mean accuracy after 10-Fold Cross Validation\")\n",
    "plt.plot(test_scores_weight_uniform, label='weight=uniform')\n",
    "plt.plot(test_scores_weight_distance, label='weight=distance')\n",
    "plt.axvline(x=28, label='Best Estimator (N=28 & weight=distance)', color='r')\n",
    "plt.xlabel(\"N\")\n",
    "plt.ylabel(\"Accuracy\")\n",
    "plt.legend(loc='best')\n",
    "plt.show()"
   ]
  },
  {
   "cell_type": "code",
   "execution_count": 317,
   "metadata": {
    "colab": {
     "base_uri": "https://localhost:8080/"
    },
    "id": "g3wV1N50lGlb",
    "outputId": "917f1fd2-356d-4874-cc71-1a9918a15012"
   },
   "outputs": [],
   "source": [
    "#accuracy = knn.score(X_test_normalized, y_test) \n",
    "#print('Accuracy: {0:.2%}'.format(accuracy))"
   ]
  },
  {
   "cell_type": "code",
   "execution_count": 475,
   "metadata": {
    "colab": {
     "base_uri": "https://localhost:8080/",
     "height": 279
    },
    "id": "xdsPnneFlK4I",
    "outputId": "ad63944e-9657-461b-cd70-0169b2c5ed78"
   },
   "outputs": [
    {
     "data": {
      "image/png": "[encoded data removed]",
      "text/plain": [
       "<Figure size 432x288 with 2 Axes>"
      ]
     },
     "metadata": {
      "needs_background": "light"
     },
     "output_type": "display_data"
    }
   ],
   "source": [
    "plot_confusion_matrix(knn, X_test_normalized, y_test)  \n",
    "plt.show()"
   ]
  },
  {
   "cell_type": "markdown",
   "metadata": {
    "id": "DXBlr3WdwMCg"
   },
   "source": [
    "## Export"
   ]
  },
  {
   "cell_type": "code",
   "execution_count": 559,
   "metadata": {
    "colab": {
     "base_uri": "https://localhost:8080/"
    },
    "id": "8expQdoewNvq",
    "outputId": "627ccd8b-9e35-4015-b660-dd44b53e2150"
   },
   "outputs": [
    {
     "data": {
      "text/plain": [
       "['../src/models/KNN_classifier.joblib']"
      ]
     },
     "execution_count": 559,
     "metadata": {},
     "output_type": "execute_result"
    }
   ],
   "source": [
    "dump(knn, MODEL_OUTPUT_PATH + 'KNN_classifier.joblib') "
   ]
  },
  {
   "cell_type": "markdown",
   "metadata": {
    "id": "TASducYTs27s"
   },
   "source": [
    "## Prediction"
   ]
  },
  {
   "cell_type": "code",
   "execution_count": 561,
   "metadata": {
    "colab": {
     "base_uri": "https://localhost:8080/"
    },
    "id": "WtQjtAOcs-ID",
    "outputId": "3316441d-2200-4f6d-d45b-a57f9e7d0716"
   },
   "outputs": [
    {
     "name": "stdout",
     "output_type": "stream",
     "text": [
      "Predicted RISK is: MEDIUM\n"
     ]
    }
   ],
   "source": [
    "predicted_risk = knn.predict(scaler.transform([[1077113, 8, 29, 4947796, 57879, 1, 6, 0]]))[0]\n",
    "print(\"Predicted RISK is: \" + prediction_result_mapping[predicted_risk])"
   ]
  },
  {
   "cell_type": "markdown",
   "metadata": {
    "id": "t6WO67S-A9il"
   },
   "source": [
    "# Multilayer Perceptron (MLP) using Backpropagation"
   ]
  },
  {
   "cell_type": "code",
   "execution_count": 324,
   "metadata": {
    "id": "0xlIU84RBKX-"
   },
   "outputs": [],
   "source": [
    "from sklearn.neural_network import MLPClassifier"
   ]
  },
  {
   "cell_type": "code",
   "execution_count": 415,
   "metadata": {
    "id": "14ShmPsoBTfm"
   },
   "outputs": [],
   "source": [
    "#clf = MLPClassifier(activation='tanh', solver='adam', alpha=1e-5, hidden_layer_sizes=(5, 2), max_iter=10000)\n",
    "\n",
    "mlp = MLPClassifier()"
   ]
  },
  {
   "cell_type": "markdown",
   "metadata": {},
   "source": [
    "## Parameter Tuning (with K-Fold Cross Validation)"
   ]
  },
  {
   "cell_type": "code",
   "execution_count": 479,
   "metadata": {},
   "outputs": [
    {
     "name": "stderr",
     "output_type": "stream",
     "text": [
      "/usr/local/lib/python3.9/site-packages/joblib/externals/loky/process_executor.py:688: UserWarning: A worker stopped while some jobs were given to the executor. This can be caused by a too short worker timeout or by a memory leak.\n",
      "  warnings.warn(\n"
     ]
    }
   ],
   "source": [
    "mlp_params={\n",
    "'learning_rate': [\"constant\", \"invscaling\", \"adaptive\"],\n",
    "'hidden_layer_sizes': [(5, 2)],\n",
    "'solver': [\"lbfgs\", \"sgd\", \"adam\"],\n",
    "'activation': [\"logistic\", \"relu\", \"tanh\"]\n",
    "}\n",
    "\n",
    "# Instanciate the Grid for parameter tuning\n",
    "mlp_grid = GridSearchCV(mlp, mlp_params, cv=10, scoring='accuracy', n_jobs=-1)\n",
    "\n",
    "mlp = mlp_grid.fit(X_normalized, Y)"
   ]
  },
  {
   "cell_type": "code",
   "execution_count": 480,
   "metadata": {},
   "outputs": [
    {
     "data": {
      "text/html": [
       "<div>\n",
       "<style scoped>\n",
       "    .dataframe tbody tr th:only-of-type {\n",
       "        vertical-align: middle;\n",
       "    }\n",
       "\n",
       "    .dataframe tbody tr th {\n",
       "        vertical-align: top;\n",
       "    }\n",
       "\n",
       "    .dataframe thead th {\n",
       "        text-align: right;\n",
       "    }\n",
       "</style>\n",
       "<table border=\"1\" class=\"dataframe\">\n",
       "  <thead>\n",
       "    <tr style=\"text-align: right;\">\n",
       "      <th></th>\n",
       "      <th>mean_fit_time</th>\n",
       "      <th>std_fit_time</th>\n",
       "      <th>mean_score_time</th>\n",
       "      <th>std_score_time</th>\n",
       "      <th>param_activation</th>\n",
       "      <th>param_hidden_layer_sizes</th>\n",
       "      <th>param_learning_rate</th>\n",
       "      <th>param_solver</th>\n",
       "      <th>params</th>\n",
       "      <th>split0_test_score</th>\n",
       "      <th>...</th>\n",
       "      <th>split3_test_score</th>\n",
       "      <th>split4_test_score</th>\n",
       "      <th>split5_test_score</th>\n",
       "      <th>split6_test_score</th>\n",
       "      <th>split7_test_score</th>\n",
       "      <th>split8_test_score</th>\n",
       "      <th>split9_test_score</th>\n",
       "      <th>mean_test_score</th>\n",
       "      <th>std_test_score</th>\n",
       "      <th>rank_test_score</th>\n",
       "    </tr>\n",
       "  </thead>\n",
       "  <tbody>\n",
       "    <tr>\n",
       "      <th>0</th>\n",
       "      <td>21.796513</td>\n",
       "      <td>0.876787</td>\n",
       "      <td>0.008325</td>\n",
       "      <td>0.002060</td>\n",
       "      <td>logistic</td>\n",
       "      <td>(5, 2)</td>\n",
       "      <td>constant</td>\n",
       "      <td>lbfgs</td>\n",
       "      <td>{'activation': 'logistic', 'hidden_layer_sizes...</td>\n",
       "      <td>0.9690</td>\n",
       "      <td>...</td>\n",
       "      <td>0.9803</td>\n",
       "      <td>0.9859</td>\n",
       "      <td>0.9569</td>\n",
       "      <td>0.9765</td>\n",
       "      <td>0.9711</td>\n",
       "      <td>0.9908</td>\n",
       "      <td>0.9886</td>\n",
       "      <td>0.97736</td>\n",
       "      <td>0.009860</td>\n",
       "      <td>10</td>\n",
       "    </tr>\n",
       "    <tr>\n",
       "      <th>1</th>\n",
       "      <td>91.187916</td>\n",
       "      <td>56.324796</td>\n",
       "      <td>0.011908</td>\n",
       "      <td>0.007034</td>\n",
       "      <td>logistic</td>\n",
       "      <td>(5, 2)</td>\n",
       "      <td>constant</td>\n",
       "      <td>sgd</td>\n",
       "      <td>{'activation': 'logistic', 'hidden_layer_sizes...</td>\n",
       "      <td>0.9192</td>\n",
       "      <td>...</td>\n",
       "      <td>0.4220</td>\n",
       "      <td>0.9129</td>\n",
       "      <td>0.4220</td>\n",
       "      <td>0.9319</td>\n",
       "      <td>0.9201</td>\n",
       "      <td>0.9260</td>\n",
       "      <td>0.9112</td>\n",
       "      <td>0.76970</td>\n",
       "      <td>0.227711</td>\n",
       "      <td>24</td>\n",
       "    </tr>\n",
       "    <tr>\n",
       "      <th>2</th>\n",
       "      <td>162.128083</td>\n",
       "      <td>10.688248</td>\n",
       "      <td>0.009408</td>\n",
       "      <td>0.001534</td>\n",
       "      <td>logistic</td>\n",
       "      <td>(5, 2)</td>\n",
       "      <td>constant</td>\n",
       "      <td>adam</td>\n",
       "      <td>{'activation': 'logistic', 'hidden_layer_sizes...</td>\n",
       "      <td>0.9938</td>\n",
       "      <td>...</td>\n",
       "      <td>0.9927</td>\n",
       "      <td>0.9895</td>\n",
       "      <td>0.9939</td>\n",
       "      <td>0.9930</td>\n",
       "      <td>0.9874</td>\n",
       "      <td>0.9917</td>\n",
       "      <td>0.9902</td>\n",
       "      <td>0.99135</td>\n",
       "      <td>0.002096</td>\n",
       "      <td>6</td>\n",
       "    </tr>\n",
       "    <tr>\n",
       "      <th>3</th>\n",
       "      <td>24.802940</td>\n",
       "      <td>1.595358</td>\n",
       "      <td>0.013447</td>\n",
       "      <td>0.004777</td>\n",
       "      <td>logistic</td>\n",
       "      <td>(5, 2)</td>\n",
       "      <td>invscaling</td>\n",
       "      <td>lbfgs</td>\n",
       "      <td>{'activation': 'logistic', 'hidden_layer_sizes...</td>\n",
       "      <td>0.9370</td>\n",
       "      <td>...</td>\n",
       "      <td>0.7415</td>\n",
       "      <td>0.9706</td>\n",
       "      <td>0.9894</td>\n",
       "      <td>0.9755</td>\n",
       "      <td>0.9329</td>\n",
       "      <td>0.9892</td>\n",
       "      <td>0.9661</td>\n",
       "      <td>0.94475</td>\n",
       "      <td>0.070582</td>\n",
       "      <td>15</td>\n",
       "    </tr>\n",
       "    <tr>\n",
       "      <th>4</th>\n",
       "      <td>10.700285</td>\n",
       "      <td>1.010883</td>\n",
       "      <td>0.010274</td>\n",
       "      <td>0.001859</td>\n",
       "      <td>logistic</td>\n",
       "      <td>(5, 2)</td>\n",
       "      <td>invscaling</td>\n",
       "      <td>sgd</td>\n",
       "      <td>{'activation': 'logistic', 'hidden_layer_sizes...</td>\n",
       "      <td>0.4220</td>\n",
       "      <td>...</td>\n",
       "      <td>0.4220</td>\n",
       "      <td>0.4220</td>\n",
       "      <td>0.4220</td>\n",
       "      <td>0.4220</td>\n",
       "      <td>0.4818</td>\n",
       "      <td>0.4221</td>\n",
       "      <td>0.4221</td>\n",
       "      <td>0.42559</td>\n",
       "      <td>0.020070</td>\n",
       "      <td>27</td>\n",
       "    </tr>\n",
       "    <tr>\n",
       "      <th>5</th>\n",
       "      <td>201.449060</td>\n",
       "      <td>2.457440</td>\n",
       "      <td>0.010298</td>\n",
       "      <td>0.002026</td>\n",
       "      <td>logistic</td>\n",
       "      <td>(5, 2)</td>\n",
       "      <td>invscaling</td>\n",
       "      <td>adam</td>\n",
       "      <td>{'activation': 'logistic', 'hidden_layer_sizes...</td>\n",
       "      <td>0.9938</td>\n",
       "      <td>...</td>\n",
       "      <td>0.9921</td>\n",
       "      <td>0.9929</td>\n",
       "      <td>0.9923</td>\n",
       "      <td>0.9905</td>\n",
       "      <td>0.9931</td>\n",
       "      <td>0.9932</td>\n",
       "      <td>0.9902</td>\n",
       "      <td>0.99164</td>\n",
       "      <td>0.002585</td>\n",
       "      <td>5</td>\n",
       "    </tr>\n",
       "    <tr>\n",
       "      <th>6</th>\n",
       "      <td>35.533453</td>\n",
       "      <td>4.701298</td>\n",
       "      <td>0.021519</td>\n",
       "      <td>0.009386</td>\n",
       "      <td>logistic</td>\n",
       "      <td>(5, 2)</td>\n",
       "      <td>adaptive</td>\n",
       "      <td>lbfgs</td>\n",
       "      <td>{'activation': 'logistic', 'hidden_layer_sizes...</td>\n",
       "      <td>0.9604</td>\n",
       "      <td>...</td>\n",
       "      <td>0.9612</td>\n",
       "      <td>0.9435</td>\n",
       "      <td>0.9305</td>\n",
       "      <td>0.9453</td>\n",
       "      <td>0.9394</td>\n",
       "      <td>0.9653</td>\n",
       "      <td>0.9411</td>\n",
       "      <td>0.94791</td>\n",
       "      <td>0.010588</td>\n",
       "      <td>14</td>\n",
       "    </tr>\n",
       "    <tr>\n",
       "      <th>7</th>\n",
       "      <td>129.347504</td>\n",
       "      <td>38.167406</td>\n",
       "      <td>0.008875</td>\n",
       "      <td>0.002455</td>\n",
       "      <td>logistic</td>\n",
       "      <td>(5, 2)</td>\n",
       "      <td>adaptive</td>\n",
       "      <td>sgd</td>\n",
       "      <td>{'activation': 'logistic', 'hidden_layer_sizes...</td>\n",
       "      <td>0.4220</td>\n",
       "      <td>...</td>\n",
       "      <td>0.9108</td>\n",
       "      <td>0.9279</td>\n",
       "      <td>0.9262</td>\n",
       "      <td>0.9330</td>\n",
       "      <td>0.9170</td>\n",
       "      <td>0.9224</td>\n",
       "      <td>0.4221</td>\n",
       "      <td>0.82237</td>\n",
       "      <td>0.200247</td>\n",
       "      <td>22</td>\n",
       "    </tr>\n",
       "    <tr>\n",
       "      <th>8</th>\n",
       "      <td>151.088902</td>\n",
       "      <td>5.031639</td>\n",
       "      <td>0.012119</td>\n",
       "      <td>0.006947</td>\n",
       "      <td>logistic</td>\n",
       "      <td>(5, 2)</td>\n",
       "      <td>adaptive</td>\n",
       "      <td>adam</td>\n",
       "      <td>{'activation': 'logistic', 'hidden_layer_sizes...</td>\n",
       "      <td>0.9916</td>\n",
       "      <td>...</td>\n",
       "      <td>0.9931</td>\n",
       "      <td>0.9919</td>\n",
       "      <td>0.9936</td>\n",
       "      <td>0.9436</td>\n",
       "      <td>0.9916</td>\n",
       "      <td>0.9941</td>\n",
       "      <td>0.9900</td>\n",
       "      <td>0.98728</td>\n",
       "      <td>0.014604</td>\n",
       "      <td>8</td>\n",
       "    </tr>\n",
       "    <tr>\n",
       "      <th>9</th>\n",
       "      <td>19.676918</td>\n",
       "      <td>6.878609</td>\n",
       "      <td>0.010583</td>\n",
       "      <td>0.003360</td>\n",
       "      <td>relu</td>\n",
       "      <td>(5, 2)</td>\n",
       "      <td>constant</td>\n",
       "      <td>lbfgs</td>\n",
       "      <td>{'activation': 'relu', 'hidden_layer_sizes': (...</td>\n",
       "      <td>0.4220</td>\n",
       "      <td>...</td>\n",
       "      <td>0.9194</td>\n",
       "      <td>0.9926</td>\n",
       "      <td>0.9666</td>\n",
       "      <td>0.9981</td>\n",
       "      <td>0.9269</td>\n",
       "      <td>0.9410</td>\n",
       "      <td>0.9352</td>\n",
       "      <td>0.90847</td>\n",
       "      <td>0.164680</td>\n",
       "      <td>18</td>\n",
       "    </tr>\n",
       "    <tr>\n",
       "      <th>10</th>\n",
       "      <td>123.055192</td>\n",
       "      <td>59.890073</td>\n",
       "      <td>0.008614</td>\n",
       "      <td>0.002355</td>\n",
       "      <td>relu</td>\n",
       "      <td>(5, 2)</td>\n",
       "      <td>constant</td>\n",
       "      <td>sgd</td>\n",
       "      <td>{'activation': 'relu', 'hidden_layer_sizes': (...</td>\n",
       "      <td>0.9426</td>\n",
       "      <td>...</td>\n",
       "      <td>0.4220</td>\n",
       "      <td>0.9687</td>\n",
       "      <td>0.9948</td>\n",
       "      <td>0.9958</td>\n",
       "      <td>0.8819</td>\n",
       "      <td>0.9940</td>\n",
       "      <td>0.9352</td>\n",
       "      <td>0.84977</td>\n",
       "      <td>0.216448</td>\n",
       "      <td>21</td>\n",
       "    </tr>\n",
       "    <tr>\n",
       "      <th>11</th>\n",
       "      <td>112.675857</td>\n",
       "      <td>45.557602</td>\n",
       "      <td>0.009583</td>\n",
       "      <td>0.005121</td>\n",
       "      <td>relu</td>\n",
       "      <td>(5, 2)</td>\n",
       "      <td>constant</td>\n",
       "      <td>adam</td>\n",
       "      <td>{'activation': 'relu', 'hidden_layer_sizes': (...</td>\n",
       "      <td>0.9596</td>\n",
       "      <td>...</td>\n",
       "      <td>0.9406</td>\n",
       "      <td>0.9508</td>\n",
       "      <td>0.9719</td>\n",
       "      <td>0.9964</td>\n",
       "      <td>0.9373</td>\n",
       "      <td>0.9967</td>\n",
       "      <td>0.9957</td>\n",
       "      <td>0.91648</td>\n",
       "      <td>0.166346</td>\n",
       "      <td>17</td>\n",
       "    </tr>\n",
       "    <tr>\n",
       "      <th>12</th>\n",
       "      <td>16.071314</td>\n",
       "      <td>10.075447</td>\n",
       "      <td>0.009645</td>\n",
       "      <td>0.003167</td>\n",
       "      <td>relu</td>\n",
       "      <td>(5, 2)</td>\n",
       "      <td>invscaling</td>\n",
       "      <td>lbfgs</td>\n",
       "      <td>{'activation': 'relu', 'hidden_layer_sizes': (...</td>\n",
       "      <td>0.9686</td>\n",
       "      <td>...</td>\n",
       "      <td>0.9284</td>\n",
       "      <td>0.4220</td>\n",
       "      <td>0.4220</td>\n",
       "      <td>0.9440</td>\n",
       "      <td>0.4221</td>\n",
       "      <td>0.9972</td>\n",
       "      <td>0.9398</td>\n",
       "      <td>0.79761</td>\n",
       "      <td>0.246625</td>\n",
       "      <td>23</td>\n",
       "    </tr>\n",
       "    <tr>\n",
       "      <th>13</th>\n",
       "      <td>25.126060</td>\n",
       "      <td>12.954409</td>\n",
       "      <td>0.009462</td>\n",
       "      <td>0.002629</td>\n",
       "      <td>relu</td>\n",
       "      <td>(5, 2)</td>\n",
       "      <td>invscaling</td>\n",
       "      <td>sgd</td>\n",
       "      <td>{'activation': 'relu', 'hidden_layer_sizes': (...</td>\n",
       "      <td>0.4009</td>\n",
       "      <td>...</td>\n",
       "      <td>0.5750</td>\n",
       "      <td>0.5785</td>\n",
       "      <td>0.4220</td>\n",
       "      <td>0.6833</td>\n",
       "      <td>0.6028</td>\n",
       "      <td>0.5164</td>\n",
       "      <td>0.5193</td>\n",
       "      <td>0.55575</td>\n",
       "      <td>0.087392</td>\n",
       "      <td>26</td>\n",
       "    </tr>\n",
       "    <tr>\n",
       "      <th>14</th>\n",
       "      <td>118.569770</td>\n",
       "      <td>59.857439</td>\n",
       "      <td>0.009998</td>\n",
       "      <td>0.004494</td>\n",
       "      <td>relu</td>\n",
       "      <td>(5, 2)</td>\n",
       "      <td>invscaling</td>\n",
       "      <td>adam</td>\n",
       "      <td>{'activation': 'relu', 'hidden_layer_sizes': (...</td>\n",
       "      <td>0.9980</td>\n",
       "      <td>...</td>\n",
       "      <td>0.9941</td>\n",
       "      <td>0.9728</td>\n",
       "      <td>0.9747</td>\n",
       "      <td>0.8843</td>\n",
       "      <td>0.4221</td>\n",
       "      <td>0.4221</td>\n",
       "      <td>0.9846</td>\n",
       "      <td>0.86478</td>\n",
       "      <td>0.223640</td>\n",
       "      <td>19</td>\n",
       "    </tr>\n",
       "    <tr>\n",
       "      <th>15</th>\n",
       "      <td>16.640057</td>\n",
       "      <td>8.030559</td>\n",
       "      <td>0.008032</td>\n",
       "      <td>0.001936</td>\n",
       "      <td>relu</td>\n",
       "      <td>(5, 2)</td>\n",
       "      <td>adaptive</td>\n",
       "      <td>lbfgs</td>\n",
       "      <td>{'activation': 'relu', 'hidden_layer_sizes': (...</td>\n",
       "      <td>0.4220</td>\n",
       "      <td>...</td>\n",
       "      <td>0.9419</td>\n",
       "      <td>0.4220</td>\n",
       "      <td>0.9574</td>\n",
       "      <td>0.9562</td>\n",
       "      <td>0.9985</td>\n",
       "      <td>0.9433</td>\n",
       "      <td>0.9715</td>\n",
       "      <td>0.85045</td>\n",
       "      <td>0.214837</td>\n",
       "      <td>20</td>\n",
       "    </tr>\n",
       "    <tr>\n",
       "      <th>16</th>\n",
       "      <td>129.943542</td>\n",
       "      <td>26.979425</td>\n",
       "      <td>0.008289</td>\n",
       "      <td>0.002484</td>\n",
       "      <td>relu</td>\n",
       "      <td>(5, 2)</td>\n",
       "      <td>adaptive</td>\n",
       "      <td>sgd</td>\n",
       "      <td>{'activation': 'relu', 'hidden_layer_sizes': (...</td>\n",
       "      <td>0.9968</td>\n",
       "      <td>...</td>\n",
       "      <td>0.9406</td>\n",
       "      <td>0.4216</td>\n",
       "      <td>0.9516</td>\n",
       "      <td>0.9793</td>\n",
       "      <td>0.9383</td>\n",
       "      <td>0.9940</td>\n",
       "      <td>0.9913</td>\n",
       "      <td>0.91704</td>\n",
       "      <td>0.166627</td>\n",
       "      <td>16</td>\n",
       "    </tr>\n",
       "    <tr>\n",
       "      <th>17</th>\n",
       "      <td>144.873552</td>\n",
       "      <td>35.186428</td>\n",
       "      <td>0.012703</td>\n",
       "      <td>0.004048</td>\n",
       "      <td>relu</td>\n",
       "      <td>(5, 2)</td>\n",
       "      <td>adaptive</td>\n",
       "      <td>adam</td>\n",
       "      <td>{'activation': 'relu', 'hidden_layer_sizes': (...</td>\n",
       "      <td>0.9403</td>\n",
       "      <td>...</td>\n",
       "      <td>0.9486</td>\n",
       "      <td>0.9610</td>\n",
       "      <td>0.9987</td>\n",
       "      <td>0.9970</td>\n",
       "      <td>0.9401</td>\n",
       "      <td>0.9980</td>\n",
       "      <td>0.9716</td>\n",
       "      <td>0.97440</td>\n",
       "      <td>0.023777</td>\n",
       "      <td>11</td>\n",
       "    </tr>\n",
       "    <tr>\n",
       "      <th>18</th>\n",
       "      <td>27.546717</td>\n",
       "      <td>4.217361</td>\n",
       "      <td>0.012171</td>\n",
       "      <td>0.002549</td>\n",
       "      <td>tanh</td>\n",
       "      <td>(5, 2)</td>\n",
       "      <td>constant</td>\n",
       "      <td>lbfgs</td>\n",
       "      <td>{'activation': 'tanh', 'hidden_layer_sizes': (...</td>\n",
       "      <td>0.9890</td>\n",
       "      <td>...</td>\n",
       "      <td>0.9926</td>\n",
       "      <td>0.9919</td>\n",
       "      <td>0.9955</td>\n",
       "      <td>0.9181</td>\n",
       "      <td>0.9963</td>\n",
       "      <td>0.9055</td>\n",
       "      <td>0.9674</td>\n",
       "      <td>0.97029</td>\n",
       "      <td>0.031222</td>\n",
       "      <td>13</td>\n",
       "    </tr>\n",
       "    <tr>\n",
       "      <th>19</th>\n",
       "      <td>157.651267</td>\n",
       "      <td>3.290155</td>\n",
       "      <td>0.009832</td>\n",
       "      <td>0.002457</td>\n",
       "      <td>tanh</td>\n",
       "      <td>(5, 2)</td>\n",
       "      <td>constant</td>\n",
       "      <td>sgd</td>\n",
       "      <td>{'activation': 'tanh', 'hidden_layer_sizes': (...</td>\n",
       "      <td>0.9907</td>\n",
       "      <td>...</td>\n",
       "      <td>0.9930</td>\n",
       "      <td>0.9937</td>\n",
       "      <td>0.9925</td>\n",
       "      <td>0.9919</td>\n",
       "      <td>0.9920</td>\n",
       "      <td>0.9933</td>\n",
       "      <td>0.9937</td>\n",
       "      <td>0.99252</td>\n",
       "      <td>0.001136</td>\n",
       "      <td>4</td>\n",
       "    </tr>\n",
       "    <tr>\n",
       "      <th>20</th>\n",
       "      <td>144.201160</td>\n",
       "      <td>14.545586</td>\n",
       "      <td>0.010922</td>\n",
       "      <td>0.004399</td>\n",
       "      <td>tanh</td>\n",
       "      <td>(5, 2)</td>\n",
       "      <td>constant</td>\n",
       "      <td>adam</td>\n",
       "      <td>{'activation': 'tanh', 'hidden_layer_sizes': (...</td>\n",
       "      <td>0.9965</td>\n",
       "      <td>...</td>\n",
       "      <td>0.9957</td>\n",
       "      <td>0.9918</td>\n",
       "      <td>0.9969</td>\n",
       "      <td>0.9962</td>\n",
       "      <td>0.9969</td>\n",
       "      <td>0.9968</td>\n",
       "      <td>0.9945</td>\n",
       "      <td>0.99568</td>\n",
       "      <td>0.001471</td>\n",
       "      <td>1</td>\n",
       "    </tr>\n",
       "    <tr>\n",
       "      <th>21</th>\n",
       "      <td>27.511580</td>\n",
       "      <td>3.748766</td>\n",
       "      <td>0.011597</td>\n",
       "      <td>0.003206</td>\n",
       "      <td>tanh</td>\n",
       "      <td>(5, 2)</td>\n",
       "      <td>invscaling</td>\n",
       "      <td>lbfgs</td>\n",
       "      <td>{'activation': 'tanh', 'hidden_layer_sizes': (...</td>\n",
       "      <td>0.9892</td>\n",
       "      <td>...</td>\n",
       "      <td>0.9864</td>\n",
       "      <td>0.9336</td>\n",
       "      <td>0.9935</td>\n",
       "      <td>0.9450</td>\n",
       "      <td>0.9398</td>\n",
       "      <td>0.9943</td>\n",
       "      <td>0.9868</td>\n",
       "      <td>0.97145</td>\n",
       "      <td>0.023486</td>\n",
       "      <td>12</td>\n",
       "    </tr>\n",
       "    <tr>\n",
       "      <th>22</th>\n",
       "      <td>22.529653</td>\n",
       "      <td>12.222327</td>\n",
       "      <td>0.008120</td>\n",
       "      <td>0.001152</td>\n",
       "      <td>tanh</td>\n",
       "      <td>(5, 2)</td>\n",
       "      <td>invscaling</td>\n",
       "      <td>sgd</td>\n",
       "      <td>{'activation': 'tanh', 'hidden_layer_sizes': (...</td>\n",
       "      <td>0.6819</td>\n",
       "      <td>...</td>\n",
       "      <td>0.6395</td>\n",
       "      <td>0.5811</td>\n",
       "      <td>0.6341</td>\n",
       "      <td>0.4538</td>\n",
       "      <td>0.3135</td>\n",
       "      <td>0.4376</td>\n",
       "      <td>0.6443</td>\n",
       "      <td>0.55846</td>\n",
       "      <td>0.113080</td>\n",
       "      <td>25</td>\n",
       "    </tr>\n",
       "    <tr>\n",
       "      <th>23</th>\n",
       "      <td>104.387354</td>\n",
       "      <td>16.561888</td>\n",
       "      <td>0.008509</td>\n",
       "      <td>0.001486</td>\n",
       "      <td>tanh</td>\n",
       "      <td>(5, 2)</td>\n",
       "      <td>invscaling</td>\n",
       "      <td>adam</td>\n",
       "      <td>{'activation': 'tanh', 'hidden_layer_sizes': (...</td>\n",
       "      <td>0.9945</td>\n",
       "      <td>...</td>\n",
       "      <td>0.9950</td>\n",
       "      <td>0.9949</td>\n",
       "      <td>0.9939</td>\n",
       "      <td>0.9925</td>\n",
       "      <td>0.9959</td>\n",
       "      <td>0.9957</td>\n",
       "      <td>0.9928</td>\n",
       "      <td>0.99437</td>\n",
       "      <td>0.001089</td>\n",
       "      <td>3</td>\n",
       "    </tr>\n",
       "    <tr>\n",
       "      <th>24</th>\n",
       "      <td>22.033768</td>\n",
       "      <td>0.931502</td>\n",
       "      <td>0.010460</td>\n",
       "      <td>0.003086</td>\n",
       "      <td>tanh</td>\n",
       "      <td>(5, 2)</td>\n",
       "      <td>adaptive</td>\n",
       "      <td>lbfgs</td>\n",
       "      <td>{'activation': 'tanh', 'hidden_layer_sizes': (...</td>\n",
       "      <td>0.9944</td>\n",
       "      <td>...</td>\n",
       "      <td>0.9742</td>\n",
       "      <td>0.9828</td>\n",
       "      <td>0.9914</td>\n",
       "      <td>0.9912</td>\n",
       "      <td>0.9266</td>\n",
       "      <td>0.9889</td>\n",
       "      <td>0.9912</td>\n",
       "      <td>0.98108</td>\n",
       "      <td>0.018984</td>\n",
       "      <td>9</td>\n",
       "    </tr>\n",
       "    <tr>\n",
       "      <th>25</th>\n",
       "      <td>112.157177</td>\n",
       "      <td>0.498149</td>\n",
       "      <td>0.007182</td>\n",
       "      <td>0.000406</td>\n",
       "      <td>tanh</td>\n",
       "      <td>(5, 2)</td>\n",
       "      <td>adaptive</td>\n",
       "      <td>sgd</td>\n",
       "      <td>{'activation': 'tanh', 'hidden_layer_sizes': (...</td>\n",
       "      <td>0.9914</td>\n",
       "      <td>...</td>\n",
       "      <td>0.9889</td>\n",
       "      <td>0.9909</td>\n",
       "      <td>0.9929</td>\n",
       "      <td>0.9918</td>\n",
       "      <td>0.9915</td>\n",
       "      <td>0.9928</td>\n",
       "      <td>0.9927</td>\n",
       "      <td>0.99130</td>\n",
       "      <td>0.002398</td>\n",
       "      <td>7</td>\n",
       "    </tr>\n",
       "    <tr>\n",
       "      <th>26</th>\n",
       "      <td>86.495048</td>\n",
       "      <td>6.357981</td>\n",
       "      <td>0.005811</td>\n",
       "      <td>0.001103</td>\n",
       "      <td>tanh</td>\n",
       "      <td>(5, 2)</td>\n",
       "      <td>adaptive</td>\n",
       "      <td>adam</td>\n",
       "      <td>{'activation': 'tanh', 'hidden_layer_sizes': (...</td>\n",
       "      <td>0.9961</td>\n",
       "      <td>...</td>\n",
       "      <td>0.9939</td>\n",
       "      <td>0.9954</td>\n",
       "      <td>0.9955</td>\n",
       "      <td>0.9945</td>\n",
       "      <td>0.9962</td>\n",
       "      <td>0.9938</td>\n",
       "      <td>0.9875</td>\n",
       "      <td>0.99445</td>\n",
       "      <td>0.002469</td>\n",
       "      <td>2</td>\n",
       "    </tr>\n",
       "  </tbody>\n",
       "</table>\n",
       "<p>27 rows × 22 columns</p>\n",
       "</div>"
      ],
      "text/plain": [
       "    mean_fit_time  std_fit_time  mean_score_time  std_score_time  \\\n",
       "0       21.796513      0.876787         0.008325        0.002060   \n",
       "1       91.187916     56.324796         0.011908        0.007034   \n",
       "2      162.128083     10.688248         0.009408        0.001534   \n",
       "3       24.802940      1.595358         0.013447        0.004777   \n",
       "4       10.700285      1.010883         0.010274        0.001859   \n",
       "5      201.449060      2.457440         0.010298        0.002026   \n",
       "6       35.533453      4.701298         0.021519        0.009386   \n",
       "7      129.347504     38.167406         0.008875        0.002455   \n",
       "8      151.088902      5.031639         0.012119        0.006947   \n",
       "9       19.676918      6.878609         0.010583        0.003360   \n",
       "10     123.055192     59.890073         0.008614        0.002355   \n",
       "11     112.675857     45.557602         0.009583        0.005121   \n",
       "12      16.071314     10.075447         0.009645        0.003167   \n",
       "13      25.126060     12.954409         0.009462        0.002629   \n",
       "14     118.569770     59.857439         0.009998        0.004494   \n",
       "15      16.640057      8.030559         0.008032        0.001936   \n",
       "16     129.943542     26.979425         0.008289        0.002484   \n",
       "17     144.873552     35.186428         0.012703        0.004048   \n",
       "18      27.546717      4.217361         0.012171        0.002549   \n",
       "19     157.651267      3.290155         0.009832        0.002457   \n",
       "20     144.201160     14.545586         0.010922        0.004399   \n",
       "21      27.511580      3.748766         0.011597        0.003206   \n",
       "22      22.529653     12.222327         0.008120        0.001152   \n",
       "23     104.387354     16.561888         0.008509        0.001486   \n",
       "24      22.033768      0.931502         0.010460        0.003086   \n",
       "25     112.157177      0.498149         0.007182        0.000406   \n",
       "26      86.495048      6.357981         0.005811        0.001103   \n",
       "\n",
       "   param_activation param_hidden_layer_sizes param_learning_rate param_solver  \\\n",
       "0          logistic                   (5, 2)            constant        lbfgs   \n",
       "1          logistic                   (5, 2)            constant          sgd   \n",
       "2          logistic                   (5, 2)            constant         adam   \n",
       "3          logistic                   (5, 2)          invscaling        lbfgs   \n",
       "4          logistic                   (5, 2)          invscaling          sgd   \n",
       "5          logistic                   (5, 2)          invscaling         adam   \n",
       "6          logistic                   (5, 2)            adaptive        lbfgs   \n",
       "7          logistic                   (5, 2)            adaptive          sgd   \n",
       "8          logistic                   (5, 2)            adaptive         adam   \n",
       "9              relu                   (5, 2)            constant        lbfgs   \n",
       "10             relu                   (5, 2)            constant          sgd   \n",
       "11             relu                   (5, 2)            constant         adam   \n",
       "12             relu                   (5, 2)          invscaling        lbfgs   \n",
       "13             relu                   (5, 2)          invscaling          sgd   \n",
       "14             relu                   (5, 2)          invscaling         adam   \n",
       "15             relu                   (5, 2)            adaptive        lbfgs   \n",
       "16             relu                   (5, 2)            adaptive          sgd   \n",
       "17             relu                   (5, 2)            adaptive         adam   \n",
       "18             tanh                   (5, 2)            constant        lbfgs   \n",
       "19             tanh                   (5, 2)            constant          sgd   \n",
       "20             tanh                   (5, 2)            constant         adam   \n",
       "21             tanh                   (5, 2)          invscaling        lbfgs   \n",
       "22             tanh                   (5, 2)          invscaling          sgd   \n",
       "23             tanh                   (5, 2)          invscaling         adam   \n",
       "24             tanh                   (5, 2)            adaptive        lbfgs   \n",
       "25             tanh                   (5, 2)            adaptive          sgd   \n",
       "26             tanh                   (5, 2)            adaptive         adam   \n",
       "\n",
       "                                               params  split0_test_score  ...  \\\n",
       "0   {'activation': 'logistic', 'hidden_layer_sizes...             0.9690  ...   \n",
       "1   {'activation': 'logistic', 'hidden_layer_sizes...             0.9192  ...   \n",
       "2   {'activation': 'logistic', 'hidden_layer_sizes...             0.9938  ...   \n",
       "3   {'activation': 'logistic', 'hidden_layer_sizes...             0.9370  ...   \n",
       "4   {'activation': 'logistic', 'hidden_layer_sizes...             0.4220  ...   \n",
       "5   {'activation': 'logistic', 'hidden_layer_sizes...             0.9938  ...   \n",
       "6   {'activation': 'logistic', 'hidden_layer_sizes...             0.9604  ...   \n",
       "7   {'activation': 'logistic', 'hidden_layer_sizes...             0.4220  ...   \n",
       "8   {'activation': 'logistic', 'hidden_layer_sizes...             0.9916  ...   \n",
       "9   {'activation': 'relu', 'hidden_layer_sizes': (...             0.4220  ...   \n",
       "10  {'activation': 'relu', 'hidden_layer_sizes': (...             0.9426  ...   \n",
       "11  {'activation': 'relu', 'hidden_layer_sizes': (...             0.9596  ...   \n",
       "12  {'activation': 'relu', 'hidden_layer_sizes': (...             0.9686  ...   \n",
       "13  {'activation': 'relu', 'hidden_layer_sizes': (...             0.4009  ...   \n",
       "14  {'activation': 'relu', 'hidden_layer_sizes': (...             0.9980  ...   \n",
       "15  {'activation': 'relu', 'hidden_layer_sizes': (...             0.4220  ...   \n",
       "16  {'activation': 'relu', 'hidden_layer_sizes': (...             0.9968  ...   \n",
       "17  {'activation': 'relu', 'hidden_layer_sizes': (...             0.9403  ...   \n",
       "18  {'activation': 'tanh', 'hidden_layer_sizes': (...             0.9890  ...   \n",
       "19  {'activation': 'tanh', 'hidden_layer_sizes': (...             0.9907  ...   \n",
       "20  {'activation': 'tanh', 'hidden_layer_sizes': (...             0.9965  ...   \n",
       "21  {'activation': 'tanh', 'hidden_layer_sizes': (...             0.9892  ...   \n",
       "22  {'activation': 'tanh', 'hidden_layer_sizes': (...             0.6819  ...   \n",
       "23  {'activation': 'tanh', 'hidden_layer_sizes': (...             0.9945  ...   \n",
       "24  {'activation': 'tanh', 'hidden_layer_sizes': (...             0.9944  ...   \n",
       "25  {'activation': 'tanh', 'hidden_layer_sizes': (...             0.9914  ...   \n",
       "26  {'activation': 'tanh', 'hidden_layer_sizes': (...             0.9961  ...   \n",
       "\n",
       "    split3_test_score  split4_test_score  split5_test_score  \\\n",
       "0              0.9803             0.9859             0.9569   \n",
       "1              0.4220             0.9129             0.4220   \n",
       "2              0.9927             0.9895             0.9939   \n",
       "3              0.7415             0.9706             0.9894   \n",
       "4              0.4220             0.4220             0.4220   \n",
       "5              0.9921             0.9929             0.9923   \n",
       "6              0.9612             0.9435             0.9305   \n",
       "7              0.9108             0.9279             0.9262   \n",
       "8              0.9931             0.9919             0.9936   \n",
       "9              0.9194             0.9926             0.9666   \n",
       "10             0.4220             0.9687             0.9948   \n",
       "11             0.9406             0.9508             0.9719   \n",
       "12             0.9284             0.4220             0.4220   \n",
       "13             0.5750             0.5785             0.4220   \n",
       "14             0.9941             0.9728             0.9747   \n",
       "15             0.9419             0.4220             0.9574   \n",
       "16             0.9406             0.4216             0.9516   \n",
       "17             0.9486             0.9610             0.9987   \n",
       "18             0.9926             0.9919             0.9955   \n",
       "19             0.9930             0.9937             0.9925   \n",
       "20             0.9957             0.9918             0.9969   \n",
       "21             0.9864             0.9336             0.9935   \n",
       "22             0.6395             0.5811             0.6341   \n",
       "23             0.9950             0.9949             0.9939   \n",
       "24             0.9742             0.9828             0.9914   \n",
       "25             0.9889             0.9909             0.9929   \n",
       "26             0.9939             0.9954             0.9955   \n",
       "\n",
       "    split6_test_score  split7_test_score  split8_test_score  \\\n",
       "0              0.9765             0.9711             0.9908   \n",
       "1              0.9319             0.9201             0.9260   \n",
       "2              0.9930             0.9874             0.9917   \n",
       "3              0.9755             0.9329             0.9892   \n",
       "4              0.4220             0.4818             0.4221   \n",
       "5              0.9905             0.9931             0.9932   \n",
       "6              0.9453             0.9394             0.9653   \n",
       "7              0.9330             0.9170             0.9224   \n",
       "8              0.9436             0.9916             0.9941   \n",
       "9              0.9981             0.9269             0.9410   \n",
       "10             0.9958             0.8819             0.9940   \n",
       "11             0.9964             0.9373             0.9967   \n",
       "12             0.9440             0.4221             0.9972   \n",
       "13             0.6833             0.6028             0.5164   \n",
       "14             0.8843             0.4221             0.4221   \n",
       "15             0.9562             0.9985             0.9433   \n",
       "16             0.9793             0.9383             0.9940   \n",
       "17             0.9970             0.9401             0.9980   \n",
       "18             0.9181             0.9963             0.9055   \n",
       "19             0.9919             0.9920             0.9933   \n",
       "20             0.9962             0.9969             0.9968   \n",
       "21             0.9450             0.9398             0.9943   \n",
       "22             0.4538             0.3135             0.4376   \n",
       "23             0.9925             0.9959             0.9957   \n",
       "24             0.9912             0.9266             0.9889   \n",
       "25             0.9918             0.9915             0.9928   \n",
       "26             0.9945             0.9962             0.9938   \n",
       "\n",
       "    split9_test_score  mean_test_score  std_test_score  rank_test_score  \n",
       "0              0.9886          0.97736        0.009860               10  \n",
       "1              0.9112          0.76970        0.227711               24  \n",
       "2              0.9902          0.99135        0.002096                6  \n",
       "3              0.9661          0.94475        0.070582               15  \n",
       "4              0.4221          0.42559        0.020070               27  \n",
       "5              0.9902          0.99164        0.002585                5  \n",
       "6              0.9411          0.94791        0.010588               14  \n",
       "7              0.4221          0.82237        0.200247               22  \n",
       "8              0.9900          0.98728        0.014604                8  \n",
       "9              0.9352          0.90847        0.164680               18  \n",
       "10             0.9352          0.84977        0.216448               21  \n",
       "11             0.9957          0.91648        0.166346               17  \n",
       "12             0.9398          0.79761        0.246625               23  \n",
       "13             0.5193          0.55575        0.087392               26  \n",
       "14             0.9846          0.86478        0.223640               19  \n",
       "15             0.9715          0.85045        0.214837               20  \n",
       "16             0.9913          0.91704        0.166627               16  \n",
       "17             0.9716          0.97440        0.023777               11  \n",
       "18             0.9674          0.97029        0.031222               13  \n",
       "19             0.9937          0.99252        0.001136                4  \n",
       "20             0.9945          0.99568        0.001471                1  \n",
       "21             0.9868          0.97145        0.023486               12  \n",
       "22             0.6443          0.55846        0.113080               25  \n",
       "23             0.9928          0.99437        0.001089                3  \n",
       "24             0.9912          0.98108        0.018984                9  \n",
       "25             0.9927          0.99130        0.002398                7  \n",
       "26             0.9875          0.99445        0.002469                2  \n",
       "\n",
       "[27 rows x 22 columns]"
      ]
     },
     "execution_count": 480,
     "metadata": {},
     "output_type": "execute_result"
    }
   ],
   "source": [
    "mlp_result = pd.DataFrame(mlp.cv_results_)\n",
    "\n",
    "mlp_result"
   ]
  },
  {
   "cell_type": "code",
   "execution_count": 481,
   "metadata": {},
   "outputs": [
    {
     "name": "stdout",
     "output_type": "stream",
     "text": [
      "MLPClassifier(activation='tanh', hidden_layer_sizes=(5, 2))\n",
      "Best Accuracy: 99.57%\n"
     ]
    }
   ],
   "source": [
    "print(mlp.best_estimator_)\n",
    "print('Best Accuracy: {0:.2%}'.format(mlp.best_score_))"
   ]
  },
  {
   "cell_type": "markdown",
   "metadata": {
    "id": "heNQGEc9BJGk"
   },
   "source": [
    "## (Train - Using Test-Train Split)"
   ]
  },
  {
   "cell_type": "code",
   "execution_count": 322,
   "metadata": {
    "colab": {
     "base_uri": "https://localhost:8080/"
    },
    "id": "nhSBolqVBe5s",
    "outputId": "667264a9-0ff5-47c6-942b-e729d472cf79"
   },
   "outputs": [],
   "source": [
    "#start = time.time()\n",
    "\n",
    "#mlp.fit(X_train_normalized, y_train)\n",
    "\n",
    "#stop = time.time()\n",
    "#print(f\"Training time MLP Classifier: {stop - start}s\")"
   ]
  },
  {
   "cell_type": "markdown",
   "metadata": {
    "id": "pk-oY6mqBx6u"
   },
   "source": [
    "## Evaluate"
   ]
  },
  {
   "cell_type": "code",
   "execution_count": 482,
   "metadata": {},
   "outputs": [
    {
     "data": {
      "image/png": "[encoded data removed]",
      "text/plain": [
       "<Figure size 432x288 with 1 Axes>"
      ]
     },
     "metadata": {
      "needs_background": "light"
     },
     "output_type": "display_data"
    }
   ],
   "source": [
    "test_scores = mlp.cv_results_['mean_test_score']\n",
    "\n",
    "plt.title(\"Mean accuracy after 10-Fold Cross Validation with multiple param combinations\")\n",
    "plt.plot(test_scores)\n",
    "plt.ylabel(\"Accuracy\")\n",
    "plt.show()"
   ]
  },
  {
   "cell_type": "code",
   "execution_count": 373,
   "metadata": {
    "colab": {
     "base_uri": "https://localhost:8080/"
    },
    "id": "QeRwdI0FBzxi",
    "outputId": "c83f2462-6ce1-41af-b093-3442aa531d7b"
   },
   "outputs": [],
   "source": [
    "#from sklearn.model_selection import cross_val_score\n",
    "\n",
    "\n",
    "#accuracy = clf.score(X_test_normalized, y_test) \n",
    "\n",
    "#print('Accuracy: {0:.2%}'.format(accuracy))\n",
    "\n",
    "# lbfgs\n",
    "# identity -> 90.72%\n",
    "# logistic -> 98.88%\n",
    "# tanh -> 99.68%\n",
    "# relu -> 62.08%\n",
    "\n",
    "\n",
    "# sgd\n",
    "# identity -> 90.48%\n",
    "# logistic -> 62.08%\n",
    "# tanh -> 98.24%\n",
    "# relu -> 62.08%\n",
    "\n",
    "# adam\n",
    "# identity -> 90.88%\n",
    "# logistic -> 98.48%\n",
    "# tanh -> 99.04%\n",
    "# relu -> 98.88%"
   ]
  },
  {
   "cell_type": "code",
   "execution_count": null,
   "metadata": {
    "colab": {
     "base_uri": "https://localhost:8080/",
     "height": 279
    },
    "id": "YVKeIhlOCN9Q",
    "outputId": "d8a47643-6c1b-4e47-b7f6-da07f2ef6b30"
   },
   "outputs": [],
   "source": [
    "plot_confusion_matrix(mlp, X_test_normalized, y_test)  \n",
    "plt.show()"
   ]
  },
  {
   "cell_type": "code",
   "execution_count": 484,
   "metadata": {},
   "outputs": [
    {
     "name": "stderr",
     "output_type": "stream",
     "text": [
      "/usr/local/lib/python3.9/site-packages/sklearn/neural_network/_multilayer_perceptron.py:500: ConvergenceWarning: lbfgs failed to converge (status=1):\n",
      "STOP: TOTAL NO. of ITERATIONS REACHED LIMIT.\n",
      "\n",
      "Increase the number of iterations (max_iter) or scale the data as shown in:\n",
      "    https://scikit-learn.org/stable/modules/preprocessing.html\n",
      "  self.n_iter_ = _check_optimize_result(\"lbfgs\", opt_res, self.max_iter)\n",
      "/usr/local/lib/python3.9/site-packages/sklearn/neural_network/_multilayer_perceptron.py:614: ConvergenceWarning: Stochastic Optimizer: Maximum iterations (200) reached and the optimization hasn't converged yet.\n",
      "  warnings.warn(\n",
      "/usr/local/lib/python3.9/site-packages/sklearn/neural_network/_multilayer_perceptron.py:614: ConvergenceWarning: Stochastic Optimizer: Maximum iterations (200) reached and the optimization hasn't converged yet.\n",
      "  warnings.warn(\n"
     ]
    },
    {
     "ename": "KeyboardInterrupt",
     "evalue": "",
     "output_type": "error",
     "traceback": [
      "\u001b[0;31m---------------------------------------------------------------------------\u001b[0m",
      "\u001b[0;31mKeyboardInterrupt\u001b[0m                         Traceback (most recent call last)",
      "\u001b[0;32m<ipython-input-484-a215807316e9>\u001b[0m in \u001b[0;36m<module>\u001b[0;34m\u001b[0m\n\u001b[1;32m      1\u001b[0m \u001b[0mX\u001b[0m \u001b[0;34m=\u001b[0m \u001b[0mscaler\u001b[0m\u001b[0;34m.\u001b[0m\u001b[0mtransform\u001b[0m\u001b[0;34m(\u001b[0m\u001b[0mdata\u001b[0m\u001b[0;34m[\u001b[0m\u001b[0mfeatures\u001b[0m\u001b[0;34m]\u001b[0m\u001b[0;34m)\u001b[0m\u001b[0;34m\u001b[0m\u001b[0;34m\u001b[0m\u001b[0m\n\u001b[1;32m      2\u001b[0m \u001b[0mY\u001b[0m \u001b[0;34m=\u001b[0m \u001b[0mdata\u001b[0m\u001b[0;34m[\u001b[0m\u001b[0;34m\"Risk\"\u001b[0m\u001b[0;34m]\u001b[0m\u001b[0;34m\u001b[0m\u001b[0;34m\u001b[0m\u001b[0m\n\u001b[0;32m----> 3\u001b[0;31m \u001b[0mplot_learning_curve\u001b[0m\u001b[0;34m(\u001b[0m\u001b[0mmlp\u001b[0m\u001b[0;34m,\u001b[0m \u001b[0mX\u001b[0m\u001b[0;34m,\u001b[0m \u001b[0mY\u001b[0m\u001b[0;34m)\u001b[0m\u001b[0;34m\u001b[0m\u001b[0;34m\u001b[0m\u001b[0m\n\u001b[0m",
      "\u001b[0;32m/usr/local/lib/python3.9/site-packages/wandb/sklearn/__init__.py\u001b[0m in \u001b[0;36mplot_learning_curve\u001b[0;34m(model, X, y, cv, shuffle, random_state, train_sizes, n_jobs, scoring)\u001b[0m\n\u001b[1;32m    383\u001b[0m     wandb.log(\n\u001b[1;32m    384\u001b[0m         {\n\u001b[0;32m--> 385\u001b[0;31m             \"learning_curve\": learning_curve(\n\u001b[0m\u001b[1;32m    386\u001b[0m                 \u001b[0mmodel\u001b[0m\u001b[0;34m,\u001b[0m \u001b[0mX\u001b[0m\u001b[0;34m,\u001b[0m \u001b[0my\u001b[0m\u001b[0;34m,\u001b[0m \u001b[0mcv\u001b[0m\u001b[0;34m,\u001b[0m \u001b[0mshuffle\u001b[0m\u001b[0;34m,\u001b[0m \u001b[0mrandom_state\u001b[0m\u001b[0;34m,\u001b[0m \u001b[0mtrain_sizes\u001b[0m\u001b[0;34m,\u001b[0m \u001b[0mn_jobs\u001b[0m\u001b[0;34m,\u001b[0m \u001b[0mscoring\u001b[0m\u001b[0;34m\u001b[0m\u001b[0;34m\u001b[0m\u001b[0m\n\u001b[1;32m    387\u001b[0m             )\n",
      "\u001b[0;32m/usr/local/lib/python3.9/site-packages/wandb/sklearn/__init__.py\u001b[0m in \u001b[0;36mlearning_curve\u001b[0;34m(model, X, y, cv, shuffle, random_state, train_sizes, n_jobs, scoring)\u001b[0m\n\u001b[1;32m    317\u001b[0m     \u001b[0;32mif\u001b[0m \u001b[0mtest_missing\u001b[0m\u001b[0;34m(\u001b[0m\u001b[0mmodel\u001b[0m\u001b[0;34m=\u001b[0m\u001b[0mmodel\u001b[0m\u001b[0;34m,\u001b[0m \u001b[0mX\u001b[0m\u001b[0;34m=\u001b[0m\u001b[0mX\u001b[0m\u001b[0;34m,\u001b[0m \u001b[0my\u001b[0m\u001b[0;34m=\u001b[0m\u001b[0my\u001b[0m\u001b[0;34m)\u001b[0m \u001b[0;32mand\u001b[0m \u001b[0mtest_types\u001b[0m\u001b[0;34m(\u001b[0m\u001b[0mmodel\u001b[0m\u001b[0;34m=\u001b[0m\u001b[0mmodel\u001b[0m\u001b[0;34m,\u001b[0m \u001b[0mX\u001b[0m\u001b[0;34m=\u001b[0m\u001b[0mX\u001b[0m\u001b[0;34m,\u001b[0m \u001b[0my\u001b[0m\u001b[0;34m=\u001b[0m\u001b[0my\u001b[0m\u001b[0;34m)\u001b[0m\u001b[0;34m:\u001b[0m\u001b[0;34m\u001b[0m\u001b[0;34m\u001b[0m\u001b[0m\n\u001b[1;32m    318\u001b[0m         \u001b[0my\u001b[0m \u001b[0;34m=\u001b[0m \u001b[0mnp\u001b[0m\u001b[0;34m.\u001b[0m\u001b[0masarray\u001b[0m\u001b[0;34m(\u001b[0m\u001b[0my\u001b[0m\u001b[0;34m)\u001b[0m\u001b[0;34m\u001b[0m\u001b[0;34m\u001b[0m\u001b[0m\n\u001b[0;32m--> 319\u001b[0;31m         train_sizes, train_scores, test_scores = model_selection.learning_curve(\n\u001b[0m\u001b[1;32m    320\u001b[0m             \u001b[0mmodel\u001b[0m\u001b[0;34m,\u001b[0m\u001b[0;34m\u001b[0m\u001b[0;34m\u001b[0m\u001b[0m\n\u001b[1;32m    321\u001b[0m             \u001b[0mX\u001b[0m\u001b[0;34m,\u001b[0m\u001b[0;34m\u001b[0m\u001b[0;34m\u001b[0m\u001b[0m\n",
      "\u001b[0;32m/usr/local/lib/python3.9/site-packages/sklearn/utils/validation.py\u001b[0m in \u001b[0;36minner_f\u001b[0;34m(*args, **kwargs)\u001b[0m\n\u001b[1;32m     61\u001b[0m             \u001b[0mextra_args\u001b[0m \u001b[0;34m=\u001b[0m \u001b[0mlen\u001b[0m\u001b[0;34m(\u001b[0m\u001b[0margs\u001b[0m\u001b[0;34m)\u001b[0m \u001b[0;34m-\u001b[0m \u001b[0mlen\u001b[0m\u001b[0;34m(\u001b[0m\u001b[0mall_args\u001b[0m\u001b[0;34m)\u001b[0m\u001b[0;34m\u001b[0m\u001b[0;34m\u001b[0m\u001b[0m\n\u001b[1;32m     62\u001b[0m             \u001b[0;32mif\u001b[0m \u001b[0mextra_args\u001b[0m \u001b[0;34m<=\u001b[0m \u001b[0;36m0\u001b[0m\u001b[0;34m:\u001b[0m\u001b[0;34m\u001b[0m\u001b[0;34m\u001b[0m\u001b[0m\n\u001b[0;32m---> 63\u001b[0;31m                 \u001b[0;32mreturn\u001b[0m \u001b[0mf\u001b[0m\u001b[0;34m(\u001b[0m\u001b[0;34m*\u001b[0m\u001b[0margs\u001b[0m\u001b[0;34m,\u001b[0m \u001b[0;34m**\u001b[0m\u001b[0mkwargs\u001b[0m\u001b[0;34m)\u001b[0m\u001b[0;34m\u001b[0m\u001b[0;34m\u001b[0m\u001b[0m\n\u001b[0m\u001b[1;32m     64\u001b[0m \u001b[0;34m\u001b[0m\u001b[0m\n\u001b[1;32m     65\u001b[0m             \u001b[0;31m# extra_args > 0\u001b[0m\u001b[0;34m\u001b[0m\u001b[0;34m\u001b[0m\u001b[0;34m\u001b[0m\u001b[0m\n",
      "\u001b[0;32m/usr/local/lib/python3.9/site-packages/sklearn/model_selection/_validation.py\u001b[0m in \u001b[0;36mlearning_curve\u001b[0;34m(estimator, X, y, groups, train_sizes, cv, scoring, exploit_incremental_learning, n_jobs, pre_dispatch, verbose, shuffle, random_state, error_score, return_times, fit_params)\u001b[0m\n\u001b[1;32m   1394\u001b[0m                 \u001b[0mtrain_test_proportions\u001b[0m\u001b[0;34m.\u001b[0m\u001b[0mappend\u001b[0m\u001b[0;34m(\u001b[0m\u001b[0;34m(\u001b[0m\u001b[0mtrain\u001b[0m\u001b[0;34m[\u001b[0m\u001b[0;34m:\u001b[0m\u001b[0mn_train_samples\u001b[0m\u001b[0;34m]\u001b[0m\u001b[0;34m,\u001b[0m \u001b[0mtest\u001b[0m\u001b[0;34m)\u001b[0m\u001b[0;34m)\u001b[0m\u001b[0;34m\u001b[0m\u001b[0;34m\u001b[0m\u001b[0m\n\u001b[1;32m   1395\u001b[0m \u001b[0;34m\u001b[0m\u001b[0m\n\u001b[0;32m-> 1396\u001b[0;31m         results = parallel(delayed(_fit_and_score)(\n\u001b[0m\u001b[1;32m   1397\u001b[0m             \u001b[0mclone\u001b[0m\u001b[0;34m(\u001b[0m\u001b[0mestimator\u001b[0m\u001b[0;34m)\u001b[0m\u001b[0;34m,\u001b[0m \u001b[0mX\u001b[0m\u001b[0;34m,\u001b[0m \u001b[0my\u001b[0m\u001b[0;34m,\u001b[0m \u001b[0mscorer\u001b[0m\u001b[0;34m,\u001b[0m \u001b[0mtrain\u001b[0m\u001b[0;34m,\u001b[0m \u001b[0mtest\u001b[0m\u001b[0;34m,\u001b[0m \u001b[0mverbose\u001b[0m\u001b[0;34m,\u001b[0m\u001b[0;34m\u001b[0m\u001b[0;34m\u001b[0m\u001b[0m\n\u001b[1;32m   1398\u001b[0m             \u001b[0mparameters\u001b[0m\u001b[0;34m=\u001b[0m\u001b[0;32mNone\u001b[0m\u001b[0;34m,\u001b[0m \u001b[0mfit_params\u001b[0m\u001b[0;34m=\u001b[0m\u001b[0mfit_params\u001b[0m\u001b[0;34m,\u001b[0m \u001b[0mreturn_train_score\u001b[0m\u001b[0;34m=\u001b[0m\u001b[0;32mTrue\u001b[0m\u001b[0;34m,\u001b[0m\u001b[0;34m\u001b[0m\u001b[0;34m\u001b[0m\u001b[0m\n",
      "\u001b[0;32m/usr/local/lib/python3.9/site-packages/joblib/parallel.py\u001b[0m in \u001b[0;36m__call__\u001b[0;34m(self, iterable)\u001b[0m\n\u001b[1;32m   1042\u001b[0m                 \u001b[0mself\u001b[0m\u001b[0;34m.\u001b[0m\u001b[0m_iterating\u001b[0m \u001b[0;34m=\u001b[0m \u001b[0mself\u001b[0m\u001b[0;34m.\u001b[0m\u001b[0m_original_iterator\u001b[0m \u001b[0;32mis\u001b[0m \u001b[0;32mnot\u001b[0m \u001b[0;32mNone\u001b[0m\u001b[0;34m\u001b[0m\u001b[0;34m\u001b[0m\u001b[0m\n\u001b[1;32m   1043\u001b[0m \u001b[0;34m\u001b[0m\u001b[0m\n\u001b[0;32m-> 1044\u001b[0;31m             \u001b[0;32mwhile\u001b[0m \u001b[0mself\u001b[0m\u001b[0;34m.\u001b[0m\u001b[0mdispatch_one_batch\u001b[0m\u001b[0;34m(\u001b[0m\u001b[0miterator\u001b[0m\u001b[0;34m)\u001b[0m\u001b[0;34m:\u001b[0m\u001b[0;34m\u001b[0m\u001b[0;34m\u001b[0m\u001b[0m\n\u001b[0m\u001b[1;32m   1045\u001b[0m                 \u001b[0;32mpass\u001b[0m\u001b[0;34m\u001b[0m\u001b[0;34m\u001b[0m\u001b[0m\n\u001b[1;32m   1046\u001b[0m \u001b[0;34m\u001b[0m\u001b[0m\n",
      "\u001b[0;32m/usr/local/lib/python3.9/site-packages/joblib/parallel.py\u001b[0m in \u001b[0;36mdispatch_one_batch\u001b[0;34m(self, iterator)\u001b[0m\n\u001b[1;32m    857\u001b[0m                 \u001b[0;32mreturn\u001b[0m \u001b[0;32mFalse\u001b[0m\u001b[0;34m\u001b[0m\u001b[0;34m\u001b[0m\u001b[0m\n\u001b[1;32m    858\u001b[0m             \u001b[0;32melse\u001b[0m\u001b[0;34m:\u001b[0m\u001b[0;34m\u001b[0m\u001b[0;34m\u001b[0m\u001b[0m\n\u001b[0;32m--> 859\u001b[0;31m                 \u001b[0mself\u001b[0m\u001b[0;34m.\u001b[0m\u001b[0m_dispatch\u001b[0m\u001b[0;34m(\u001b[0m\u001b[0mtasks\u001b[0m\u001b[0;34m)\u001b[0m\u001b[0;34m\u001b[0m\u001b[0;34m\u001b[0m\u001b[0m\n\u001b[0m\u001b[1;32m    860\u001b[0m                 \u001b[0;32mreturn\u001b[0m \u001b[0;32mTrue\u001b[0m\u001b[0;34m\u001b[0m\u001b[0;34m\u001b[0m\u001b[0m\n\u001b[1;32m    861\u001b[0m \u001b[0;34m\u001b[0m\u001b[0m\n",
      "\u001b[0;32m/usr/local/lib/python3.9/site-packages/joblib/parallel.py\u001b[0m in \u001b[0;36m_dispatch\u001b[0;34m(self, batch)\u001b[0m\n\u001b[1;32m    775\u001b[0m         \u001b[0;32mwith\u001b[0m \u001b[0mself\u001b[0m\u001b[0;34m.\u001b[0m\u001b[0m_lock\u001b[0m\u001b[0;34m:\u001b[0m\u001b[0;34m\u001b[0m\u001b[0;34m\u001b[0m\u001b[0m\n\u001b[1;32m    776\u001b[0m             \u001b[0mjob_idx\u001b[0m \u001b[0;34m=\u001b[0m \u001b[0mlen\u001b[0m\u001b[0;34m(\u001b[0m\u001b[0mself\u001b[0m\u001b[0;34m.\u001b[0m\u001b[0m_jobs\u001b[0m\u001b[0;34m)\u001b[0m\u001b[0;34m\u001b[0m\u001b[0;34m\u001b[0m\u001b[0m\n\u001b[0;32m--> 777\u001b[0;31m             \u001b[0mjob\u001b[0m \u001b[0;34m=\u001b[0m \u001b[0mself\u001b[0m\u001b[0;34m.\u001b[0m\u001b[0m_backend\u001b[0m\u001b[0;34m.\u001b[0m\u001b[0mapply_async\u001b[0m\u001b[0;34m(\u001b[0m\u001b[0mbatch\u001b[0m\u001b[0;34m,\u001b[0m \u001b[0mcallback\u001b[0m\u001b[0;34m=\u001b[0m\u001b[0mcb\u001b[0m\u001b[0;34m)\u001b[0m\u001b[0;34m\u001b[0m\u001b[0;34m\u001b[0m\u001b[0m\n\u001b[0m\u001b[1;32m    778\u001b[0m             \u001b[0;31m# A job can complete so quickly than its callback is\u001b[0m\u001b[0;34m\u001b[0m\u001b[0;34m\u001b[0m\u001b[0;34m\u001b[0m\u001b[0m\n\u001b[1;32m    779\u001b[0m             \u001b[0;31m# called before we get here, causing self._jobs to\u001b[0m\u001b[0;34m\u001b[0m\u001b[0;34m\u001b[0m\u001b[0;34m\u001b[0m\u001b[0m\n",
      "\u001b[0;32m/usr/local/lib/python3.9/site-packages/joblib/_parallel_backends.py\u001b[0m in \u001b[0;36mapply_async\u001b[0;34m(self, func, callback)\u001b[0m\n\u001b[1;32m    206\u001b[0m     \u001b[0;32mdef\u001b[0m \u001b[0mapply_async\u001b[0m\u001b[0;34m(\u001b[0m\u001b[0mself\u001b[0m\u001b[0;34m,\u001b[0m \u001b[0mfunc\u001b[0m\u001b[0;34m,\u001b[0m \u001b[0mcallback\u001b[0m\u001b[0;34m=\u001b[0m\u001b[0;32mNone\u001b[0m\u001b[0;34m)\u001b[0m\u001b[0;34m:\u001b[0m\u001b[0;34m\u001b[0m\u001b[0;34m\u001b[0m\u001b[0m\n\u001b[1;32m    207\u001b[0m         \u001b[0;34m\"\"\"Schedule a func to be run\"\"\"\u001b[0m\u001b[0;34m\u001b[0m\u001b[0;34m\u001b[0m\u001b[0m\n\u001b[0;32m--> 208\u001b[0;31m         \u001b[0mresult\u001b[0m \u001b[0;34m=\u001b[0m \u001b[0mImmediateResult\u001b[0m\u001b[0;34m(\u001b[0m\u001b[0mfunc\u001b[0m\u001b[0;34m)\u001b[0m\u001b[0;34m\u001b[0m\u001b[0;34m\u001b[0m\u001b[0m\n\u001b[0m\u001b[1;32m    209\u001b[0m         \u001b[0;32mif\u001b[0m \u001b[0mcallback\u001b[0m\u001b[0;34m:\u001b[0m\u001b[0;34m\u001b[0m\u001b[0;34m\u001b[0m\u001b[0m\n\u001b[1;32m    210\u001b[0m             \u001b[0mcallback\u001b[0m\u001b[0;34m(\u001b[0m\u001b[0mresult\u001b[0m\u001b[0;34m)\u001b[0m\u001b[0;34m\u001b[0m\u001b[0;34m\u001b[0m\u001b[0m\n",
      "\u001b[0;32m/usr/local/lib/python3.9/site-packages/joblib/_parallel_backends.py\u001b[0m in \u001b[0;36m__init__\u001b[0;34m(self, batch)\u001b[0m\n\u001b[1;32m    570\u001b[0m         \u001b[0;31m# Don't delay the application, to avoid keeping the input\u001b[0m\u001b[0;34m\u001b[0m\u001b[0;34m\u001b[0m\u001b[0;34m\u001b[0m\u001b[0m\n\u001b[1;32m    571\u001b[0m         \u001b[0;31m# arguments in memory\u001b[0m\u001b[0;34m\u001b[0m\u001b[0;34m\u001b[0m\u001b[0;34m\u001b[0m\u001b[0m\n\u001b[0;32m--> 572\u001b[0;31m         \u001b[0mself\u001b[0m\u001b[0;34m.\u001b[0m\u001b[0mresults\u001b[0m \u001b[0;34m=\u001b[0m \u001b[0mbatch\u001b[0m\u001b[0;34m(\u001b[0m\u001b[0;34m)\u001b[0m\u001b[0;34m\u001b[0m\u001b[0;34m\u001b[0m\u001b[0m\n\u001b[0m\u001b[1;32m    573\u001b[0m \u001b[0;34m\u001b[0m\u001b[0m\n\u001b[1;32m    574\u001b[0m     \u001b[0;32mdef\u001b[0m \u001b[0mget\u001b[0m\u001b[0;34m(\u001b[0m\u001b[0mself\u001b[0m\u001b[0;34m)\u001b[0m\u001b[0;34m:\u001b[0m\u001b[0;34m\u001b[0m\u001b[0;34m\u001b[0m\u001b[0m\n",
      "\u001b[0;32m/usr/local/lib/python3.9/site-packages/joblib/parallel.py\u001b[0m in \u001b[0;36m__call__\u001b[0;34m(self)\u001b[0m\n\u001b[1;32m    260\u001b[0m         \u001b[0;31m# change the default number of processes to -1\u001b[0m\u001b[0;34m\u001b[0m\u001b[0;34m\u001b[0m\u001b[0;34m\u001b[0m\u001b[0m\n\u001b[1;32m    261\u001b[0m         \u001b[0;32mwith\u001b[0m \u001b[0mparallel_backend\u001b[0m\u001b[0;34m(\u001b[0m\u001b[0mself\u001b[0m\u001b[0;34m.\u001b[0m\u001b[0m_backend\u001b[0m\u001b[0;34m,\u001b[0m \u001b[0mn_jobs\u001b[0m\u001b[0;34m=\u001b[0m\u001b[0mself\u001b[0m\u001b[0;34m.\u001b[0m\u001b[0m_n_jobs\u001b[0m\u001b[0;34m)\u001b[0m\u001b[0;34m:\u001b[0m\u001b[0;34m\u001b[0m\u001b[0;34m\u001b[0m\u001b[0m\n\u001b[0;32m--> 262\u001b[0;31m             return [func(*args, **kwargs)\n\u001b[0m\u001b[1;32m    263\u001b[0m                     for func, args, kwargs in self.items]\n\u001b[1;32m    264\u001b[0m \u001b[0;34m\u001b[0m\u001b[0m\n",
      "\u001b[0;32m/usr/local/lib/python3.9/site-packages/joblib/parallel.py\u001b[0m in \u001b[0;36m<listcomp>\u001b[0;34m(.0)\u001b[0m\n\u001b[1;32m    260\u001b[0m         \u001b[0;31m# change the default number of processes to -1\u001b[0m\u001b[0;34m\u001b[0m\u001b[0;34m\u001b[0m\u001b[0;34m\u001b[0m\u001b[0m\n\u001b[1;32m    261\u001b[0m         \u001b[0;32mwith\u001b[0m \u001b[0mparallel_backend\u001b[0m\u001b[0;34m(\u001b[0m\u001b[0mself\u001b[0m\u001b[0;34m.\u001b[0m\u001b[0m_backend\u001b[0m\u001b[0;34m,\u001b[0m \u001b[0mn_jobs\u001b[0m\u001b[0;34m=\u001b[0m\u001b[0mself\u001b[0m\u001b[0;34m.\u001b[0m\u001b[0m_n_jobs\u001b[0m\u001b[0;34m)\u001b[0m\u001b[0;34m:\u001b[0m\u001b[0;34m\u001b[0m\u001b[0;34m\u001b[0m\u001b[0m\n\u001b[0;32m--> 262\u001b[0;31m             return [func(*args, **kwargs)\n\u001b[0m\u001b[1;32m    263\u001b[0m                     for func, args, kwargs in self.items]\n\u001b[1;32m    264\u001b[0m \u001b[0;34m\u001b[0m\u001b[0m\n",
      "\u001b[0;32m/usr/local/lib/python3.9/site-packages/sklearn/utils/fixes.py\u001b[0m in \u001b[0;36m__call__\u001b[0;34m(self, *args, **kwargs)\u001b[0m\n\u001b[1;32m    220\u001b[0m     \u001b[0;32mdef\u001b[0m \u001b[0m__call__\u001b[0m\u001b[0;34m(\u001b[0m\u001b[0mself\u001b[0m\u001b[0;34m,\u001b[0m \u001b[0;34m*\u001b[0m\u001b[0margs\u001b[0m\u001b[0;34m,\u001b[0m \u001b[0;34m**\u001b[0m\u001b[0mkwargs\u001b[0m\u001b[0;34m)\u001b[0m\u001b[0;34m:\u001b[0m\u001b[0;34m\u001b[0m\u001b[0;34m\u001b[0m\u001b[0m\n\u001b[1;32m    221\u001b[0m         \u001b[0;32mwith\u001b[0m \u001b[0mconfig_context\u001b[0m\u001b[0;34m(\u001b[0m\u001b[0;34m**\u001b[0m\u001b[0mself\u001b[0m\u001b[0;34m.\u001b[0m\u001b[0mconfig\u001b[0m\u001b[0;34m)\u001b[0m\u001b[0;34m:\u001b[0m\u001b[0;34m\u001b[0m\u001b[0;34m\u001b[0m\u001b[0m\n\u001b[0;32m--> 222\u001b[0;31m             \u001b[0;32mreturn\u001b[0m \u001b[0mself\u001b[0m\u001b[0;34m.\u001b[0m\u001b[0mfunction\u001b[0m\u001b[0;34m(\u001b[0m\u001b[0;34m*\u001b[0m\u001b[0margs\u001b[0m\u001b[0;34m,\u001b[0m \u001b[0;34m**\u001b[0m\u001b[0mkwargs\u001b[0m\u001b[0;34m)\u001b[0m\u001b[0;34m\u001b[0m\u001b[0;34m\u001b[0m\u001b[0m\n\u001b[0m",
      "\u001b[0;32m/usr/local/lib/python3.9/site-packages/sklearn/model_selection/_validation.py\u001b[0m in \u001b[0;36m_fit_and_score\u001b[0;34m(estimator, X, y, scorer, train, test, verbose, parameters, fit_params, return_train_score, return_parameters, return_n_test_samples, return_times, return_estimator, split_progress, candidate_progress, error_score)\u001b[0m\n\u001b[1;32m    591\u001b[0m             \u001b[0mestimator\u001b[0m\u001b[0;34m.\u001b[0m\u001b[0mfit\u001b[0m\u001b[0;34m(\u001b[0m\u001b[0mX_train\u001b[0m\u001b[0;34m,\u001b[0m \u001b[0;34m**\u001b[0m\u001b[0mfit_params\u001b[0m\u001b[0;34m)\u001b[0m\u001b[0;34m\u001b[0m\u001b[0;34m\u001b[0m\u001b[0m\n\u001b[1;32m    592\u001b[0m         \u001b[0;32melse\u001b[0m\u001b[0;34m:\u001b[0m\u001b[0;34m\u001b[0m\u001b[0;34m\u001b[0m\u001b[0m\n\u001b[0;32m--> 593\u001b[0;31m             \u001b[0mestimator\u001b[0m\u001b[0;34m.\u001b[0m\u001b[0mfit\u001b[0m\u001b[0;34m(\u001b[0m\u001b[0mX_train\u001b[0m\u001b[0;34m,\u001b[0m \u001b[0my_train\u001b[0m\u001b[0;34m,\u001b[0m \u001b[0;34m**\u001b[0m\u001b[0mfit_params\u001b[0m\u001b[0;34m)\u001b[0m\u001b[0;34m\u001b[0m\u001b[0;34m\u001b[0m\u001b[0m\n\u001b[0m\u001b[1;32m    594\u001b[0m \u001b[0;34m\u001b[0m\u001b[0m\n\u001b[1;32m    595\u001b[0m     \u001b[0;32mexcept\u001b[0m \u001b[0mException\u001b[0m \u001b[0;32mas\u001b[0m \u001b[0me\u001b[0m\u001b[0;34m:\u001b[0m\u001b[0;34m\u001b[0m\u001b[0;34m\u001b[0m\u001b[0m\n",
      "\u001b[0;32m/usr/local/lib/python3.9/site-packages/sklearn/utils/validation.py\u001b[0m in \u001b[0;36minner_f\u001b[0;34m(*args, **kwargs)\u001b[0m\n\u001b[1;32m     61\u001b[0m             \u001b[0mextra_args\u001b[0m \u001b[0;34m=\u001b[0m \u001b[0mlen\u001b[0m\u001b[0;34m(\u001b[0m\u001b[0margs\u001b[0m\u001b[0;34m)\u001b[0m \u001b[0;34m-\u001b[0m \u001b[0mlen\u001b[0m\u001b[0;34m(\u001b[0m\u001b[0mall_args\u001b[0m\u001b[0;34m)\u001b[0m\u001b[0;34m\u001b[0m\u001b[0;34m\u001b[0m\u001b[0m\n\u001b[1;32m     62\u001b[0m             \u001b[0;32mif\u001b[0m \u001b[0mextra_args\u001b[0m \u001b[0;34m<=\u001b[0m \u001b[0;36m0\u001b[0m\u001b[0;34m:\u001b[0m\u001b[0;34m\u001b[0m\u001b[0;34m\u001b[0m\u001b[0m\n\u001b[0;32m---> 63\u001b[0;31m                 \u001b[0;32mreturn\u001b[0m \u001b[0mf\u001b[0m\u001b[0;34m(\u001b[0m\u001b[0;34m*\u001b[0m\u001b[0margs\u001b[0m\u001b[0;34m,\u001b[0m \u001b[0;34m**\u001b[0m\u001b[0mkwargs\u001b[0m\u001b[0;34m)\u001b[0m\u001b[0;34m\u001b[0m\u001b[0;34m\u001b[0m\u001b[0m\n\u001b[0m\u001b[1;32m     64\u001b[0m \u001b[0;34m\u001b[0m\u001b[0m\n\u001b[1;32m     65\u001b[0m             \u001b[0;31m# extra_args > 0\u001b[0m\u001b[0;34m\u001b[0m\u001b[0;34m\u001b[0m\u001b[0;34m\u001b[0m\u001b[0m\n",
      "\u001b[0;32m/usr/local/lib/python3.9/site-packages/sklearn/model_selection/_search.py\u001b[0m in \u001b[0;36mfit\u001b[0;34m(self, X, y, groups, **fit_params)\u001b[0m\n\u001b[1;32m    839\u001b[0m                 \u001b[0;32mreturn\u001b[0m \u001b[0mresults\u001b[0m\u001b[0;34m\u001b[0m\u001b[0;34m\u001b[0m\u001b[0m\n\u001b[1;32m    840\u001b[0m \u001b[0;34m\u001b[0m\u001b[0m\n\u001b[0;32m--> 841\u001b[0;31m             \u001b[0mself\u001b[0m\u001b[0;34m.\u001b[0m\u001b[0m_run_search\u001b[0m\u001b[0;34m(\u001b[0m\u001b[0mevaluate_candidates\u001b[0m\u001b[0;34m)\u001b[0m\u001b[0;34m\u001b[0m\u001b[0;34m\u001b[0m\u001b[0m\n\u001b[0m\u001b[1;32m    842\u001b[0m \u001b[0;34m\u001b[0m\u001b[0m\n\u001b[1;32m    843\u001b[0m             \u001b[0;31m# multimetric is determined here because in the case of a callable\u001b[0m\u001b[0;34m\u001b[0m\u001b[0;34m\u001b[0m\u001b[0;34m\u001b[0m\u001b[0m\n",
      "\u001b[0;32m/usr/local/lib/python3.9/site-packages/sklearn/model_selection/_search.py\u001b[0m in \u001b[0;36m_run_search\u001b[0;34m(self, evaluate_candidates)\u001b[0m\n\u001b[1;32m   1286\u001b[0m     \u001b[0;32mdef\u001b[0m \u001b[0m_run_search\u001b[0m\u001b[0;34m(\u001b[0m\u001b[0mself\u001b[0m\u001b[0;34m,\u001b[0m \u001b[0mevaluate_candidates\u001b[0m\u001b[0;34m)\u001b[0m\u001b[0;34m:\u001b[0m\u001b[0;34m\u001b[0m\u001b[0;34m\u001b[0m\u001b[0m\n\u001b[1;32m   1287\u001b[0m         \u001b[0;34m\"\"\"Search all candidates in param_grid\"\"\"\u001b[0m\u001b[0;34m\u001b[0m\u001b[0;34m\u001b[0m\u001b[0m\n\u001b[0;32m-> 1288\u001b[0;31m         \u001b[0mevaluate_candidates\u001b[0m\u001b[0;34m(\u001b[0m\u001b[0mParameterGrid\u001b[0m\u001b[0;34m(\u001b[0m\u001b[0mself\u001b[0m\u001b[0;34m.\u001b[0m\u001b[0mparam_grid\u001b[0m\u001b[0;34m)\u001b[0m\u001b[0;34m)\u001b[0m\u001b[0;34m\u001b[0m\u001b[0;34m\u001b[0m\u001b[0m\n\u001b[0m\u001b[1;32m   1289\u001b[0m \u001b[0;34m\u001b[0m\u001b[0m\n\u001b[1;32m   1290\u001b[0m \u001b[0;34m\u001b[0m\u001b[0m\n",
      "\u001b[0;32m/usr/local/lib/python3.9/site-packages/sklearn/model_selection/_search.py\u001b[0m in \u001b[0;36mevaluate_candidates\u001b[0;34m(candidate_params, cv, more_results)\u001b[0m\n\u001b[1;32m    793\u001b[0m                               n_splits, n_candidates, n_candidates * n_splits))\n\u001b[1;32m    794\u001b[0m \u001b[0;34m\u001b[0m\u001b[0m\n\u001b[0;32m--> 795\u001b[0;31m                 out = parallel(delayed(_fit_and_score)(clone(base_estimator),\n\u001b[0m\u001b[1;32m    796\u001b[0m                                                        \u001b[0mX\u001b[0m\u001b[0;34m,\u001b[0m \u001b[0my\u001b[0m\u001b[0;34m,\u001b[0m\u001b[0;34m\u001b[0m\u001b[0;34m\u001b[0m\u001b[0m\n\u001b[1;32m    797\u001b[0m                                                        \u001b[0mtrain\u001b[0m\u001b[0;34m=\u001b[0m\u001b[0mtrain\u001b[0m\u001b[0;34m,\u001b[0m \u001b[0mtest\u001b[0m\u001b[0;34m=\u001b[0m\u001b[0mtest\u001b[0m\u001b[0;34m,\u001b[0m\u001b[0;34m\u001b[0m\u001b[0;34m\u001b[0m\u001b[0m\n",
      "\u001b[0;32m/usr/local/lib/python3.9/site-packages/joblib/parallel.py\u001b[0m in \u001b[0;36m__call__\u001b[0;34m(self, iterable)\u001b[0m\n\u001b[1;32m   1052\u001b[0m \u001b[0;34m\u001b[0m\u001b[0m\n\u001b[1;32m   1053\u001b[0m             \u001b[0;32mwith\u001b[0m \u001b[0mself\u001b[0m\u001b[0;34m.\u001b[0m\u001b[0m_backend\u001b[0m\u001b[0;34m.\u001b[0m\u001b[0mretrieval_context\u001b[0m\u001b[0;34m(\u001b[0m\u001b[0;34m)\u001b[0m\u001b[0;34m:\u001b[0m\u001b[0;34m\u001b[0m\u001b[0;34m\u001b[0m\u001b[0m\n\u001b[0;32m-> 1054\u001b[0;31m                 \u001b[0mself\u001b[0m\u001b[0;34m.\u001b[0m\u001b[0mretrieve\u001b[0m\u001b[0;34m(\u001b[0m\u001b[0;34m)\u001b[0m\u001b[0;34m\u001b[0m\u001b[0;34m\u001b[0m\u001b[0m\n\u001b[0m\u001b[1;32m   1055\u001b[0m             \u001b[0;31m# Make sure that we get a last message telling us we are done\u001b[0m\u001b[0;34m\u001b[0m\u001b[0;34m\u001b[0m\u001b[0;34m\u001b[0m\u001b[0m\n\u001b[1;32m   1056\u001b[0m             \u001b[0melapsed_time\u001b[0m \u001b[0;34m=\u001b[0m \u001b[0mtime\u001b[0m\u001b[0;34m.\u001b[0m\u001b[0mtime\u001b[0m\u001b[0;34m(\u001b[0m\u001b[0;34m)\u001b[0m \u001b[0;34m-\u001b[0m \u001b[0mself\u001b[0m\u001b[0;34m.\u001b[0m\u001b[0m_start_time\u001b[0m\u001b[0;34m\u001b[0m\u001b[0;34m\u001b[0m\u001b[0m\n",
      "\u001b[0;32m/usr/local/lib/python3.9/site-packages/joblib/parallel.py\u001b[0m in \u001b[0;36mretrieve\u001b[0;34m(self)\u001b[0m\n\u001b[1;32m    931\u001b[0m             \u001b[0;32mtry\u001b[0m\u001b[0;34m:\u001b[0m\u001b[0;34m\u001b[0m\u001b[0;34m\u001b[0m\u001b[0m\n\u001b[1;32m    932\u001b[0m                 \u001b[0;32mif\u001b[0m \u001b[0mgetattr\u001b[0m\u001b[0;34m(\u001b[0m\u001b[0mself\u001b[0m\u001b[0;34m.\u001b[0m\u001b[0m_backend\u001b[0m\u001b[0;34m,\u001b[0m \u001b[0;34m'supports_timeout'\u001b[0m\u001b[0;34m,\u001b[0m \u001b[0;32mFalse\u001b[0m\u001b[0;34m)\u001b[0m\u001b[0;34m:\u001b[0m\u001b[0;34m\u001b[0m\u001b[0;34m\u001b[0m\u001b[0m\n\u001b[0;32m--> 933\u001b[0;31m                     \u001b[0mself\u001b[0m\u001b[0;34m.\u001b[0m\u001b[0m_output\u001b[0m\u001b[0;34m.\u001b[0m\u001b[0mextend\u001b[0m\u001b[0;34m(\u001b[0m\u001b[0mjob\u001b[0m\u001b[0;34m.\u001b[0m\u001b[0mget\u001b[0m\u001b[0;34m(\u001b[0m\u001b[0mtimeout\u001b[0m\u001b[0;34m=\u001b[0m\u001b[0mself\u001b[0m\u001b[0;34m.\u001b[0m\u001b[0mtimeout\u001b[0m\u001b[0;34m)\u001b[0m\u001b[0;34m)\u001b[0m\u001b[0;34m\u001b[0m\u001b[0;34m\u001b[0m\u001b[0m\n\u001b[0m\u001b[1;32m    934\u001b[0m                 \u001b[0;32melse\u001b[0m\u001b[0;34m:\u001b[0m\u001b[0;34m\u001b[0m\u001b[0;34m\u001b[0m\u001b[0m\n\u001b[1;32m    935\u001b[0m                     \u001b[0mself\u001b[0m\u001b[0;34m.\u001b[0m\u001b[0m_output\u001b[0m\u001b[0;34m.\u001b[0m\u001b[0mextend\u001b[0m\u001b[0;34m(\u001b[0m\u001b[0mjob\u001b[0m\u001b[0;34m.\u001b[0m\u001b[0mget\u001b[0m\u001b[0;34m(\u001b[0m\u001b[0;34m)\u001b[0m\u001b[0;34m)\u001b[0m\u001b[0;34m\u001b[0m\u001b[0;34m\u001b[0m\u001b[0m\n",
      "\u001b[0;32m/usr/local/lib/python3.9/site-packages/joblib/_parallel_backends.py\u001b[0m in \u001b[0;36mwrap_future_result\u001b[0;34m(future, timeout)\u001b[0m\n\u001b[1;32m    540\u001b[0m         AsyncResults.get from multiprocessing.\"\"\"\n\u001b[1;32m    541\u001b[0m         \u001b[0;32mtry\u001b[0m\u001b[0;34m:\u001b[0m\u001b[0;34m\u001b[0m\u001b[0;34m\u001b[0m\u001b[0m\n\u001b[0;32m--> 542\u001b[0;31m             \u001b[0;32mreturn\u001b[0m \u001b[0mfuture\u001b[0m\u001b[0;34m.\u001b[0m\u001b[0mresult\u001b[0m\u001b[0;34m(\u001b[0m\u001b[0mtimeout\u001b[0m\u001b[0;34m=\u001b[0m\u001b[0mtimeout\u001b[0m\u001b[0;34m)\u001b[0m\u001b[0;34m\u001b[0m\u001b[0;34m\u001b[0m\u001b[0m\n\u001b[0m\u001b[1;32m    543\u001b[0m         \u001b[0;32mexcept\u001b[0m \u001b[0mCfTimeoutError\u001b[0m \u001b[0;32mas\u001b[0m \u001b[0me\u001b[0m\u001b[0;34m:\u001b[0m\u001b[0;34m\u001b[0m\u001b[0;34m\u001b[0m\u001b[0m\n\u001b[1;32m    544\u001b[0m             \u001b[0;32mraise\u001b[0m \u001b[0mTimeoutError\u001b[0m \u001b[0;32mfrom\u001b[0m \u001b[0me\u001b[0m\u001b[0;34m\u001b[0m\u001b[0;34m\u001b[0m\u001b[0m\n",
      "\u001b[0;32m/usr/local/Cellar/python@3.9/3.9.1_4/Frameworks/Python.framework/Versions/3.9/lib/python3.9/concurrent/futures/_base.py\u001b[0m in \u001b[0;36mresult\u001b[0;34m(self, timeout)\u001b[0m\n\u001b[1;32m    433\u001b[0m                 \u001b[0;32mreturn\u001b[0m \u001b[0mself\u001b[0m\u001b[0;34m.\u001b[0m\u001b[0m__get_result\u001b[0m\u001b[0;34m(\u001b[0m\u001b[0;34m)\u001b[0m\u001b[0;34m\u001b[0m\u001b[0;34m\u001b[0m\u001b[0m\n\u001b[1;32m    434\u001b[0m \u001b[0;34m\u001b[0m\u001b[0m\n\u001b[0;32m--> 435\u001b[0;31m             \u001b[0mself\u001b[0m\u001b[0;34m.\u001b[0m\u001b[0m_condition\u001b[0m\u001b[0;34m.\u001b[0m\u001b[0mwait\u001b[0m\u001b[0;34m(\u001b[0m\u001b[0mtimeout\u001b[0m\u001b[0;34m)\u001b[0m\u001b[0;34m\u001b[0m\u001b[0;34m\u001b[0m\u001b[0m\n\u001b[0m\u001b[1;32m    436\u001b[0m \u001b[0;34m\u001b[0m\u001b[0m\n\u001b[1;32m    437\u001b[0m             \u001b[0;32mif\u001b[0m \u001b[0mself\u001b[0m\u001b[0;34m.\u001b[0m\u001b[0m_state\u001b[0m \u001b[0;32min\u001b[0m \u001b[0;34m[\u001b[0m\u001b[0mCANCELLED\u001b[0m\u001b[0;34m,\u001b[0m \u001b[0mCANCELLED_AND_NOTIFIED\u001b[0m\u001b[0;34m]\u001b[0m\u001b[0;34m:\u001b[0m\u001b[0;34m\u001b[0m\u001b[0;34m\u001b[0m\u001b[0m\n",
      "\u001b[0;32m/usr/local/Cellar/python@3.9/3.9.1_4/Frameworks/Python.framework/Versions/3.9/lib/python3.9/threading.py\u001b[0m in \u001b[0;36mwait\u001b[0;34m(self, timeout)\u001b[0m\n\u001b[1;32m    310\u001b[0m         \u001b[0;32mtry\u001b[0m\u001b[0;34m:\u001b[0m    \u001b[0;31m# restore state no matter what (e.g., KeyboardInterrupt)\u001b[0m\u001b[0;34m\u001b[0m\u001b[0;34m\u001b[0m\u001b[0m\n\u001b[1;32m    311\u001b[0m             \u001b[0;32mif\u001b[0m \u001b[0mtimeout\u001b[0m \u001b[0;32mis\u001b[0m \u001b[0;32mNone\u001b[0m\u001b[0;34m:\u001b[0m\u001b[0;34m\u001b[0m\u001b[0;34m\u001b[0m\u001b[0m\n\u001b[0;32m--> 312\u001b[0;31m                 \u001b[0mwaiter\u001b[0m\u001b[0;34m.\u001b[0m\u001b[0macquire\u001b[0m\u001b[0;34m(\u001b[0m\u001b[0;34m)\u001b[0m\u001b[0;34m\u001b[0m\u001b[0;34m\u001b[0m\u001b[0m\n\u001b[0m\u001b[1;32m    313\u001b[0m                 \u001b[0mgotit\u001b[0m \u001b[0;34m=\u001b[0m \u001b[0;32mTrue\u001b[0m\u001b[0;34m\u001b[0m\u001b[0;34m\u001b[0m\u001b[0m\n\u001b[1;32m    314\u001b[0m             \u001b[0;32melse\u001b[0m\u001b[0;34m:\u001b[0m\u001b[0;34m\u001b[0m\u001b[0;34m\u001b[0m\u001b[0m\n",
      "\u001b[0;31mKeyboardInterrupt\u001b[0m: "
     ]
    }
   ],
   "source": [
    "X = scaler.transform(data[features])\n",
    "Y = data[\"Risk\"]\n",
    "plot_learning_curve(mlp, X, Y)"
   ]
  },
  {
   "cell_type": "markdown",
   "metadata": {
    "id": "GYKHF_jWCqxx"
   },
   "source": [
    "## Export"
   ]
  },
  {
   "cell_type": "code",
   "execution_count": 563,
   "metadata": {
    "colab": {
     "base_uri": "https://localhost:8080/"
    },
    "id": "5UNgMCQ9Cr9A",
    "outputId": "eac77c62-e3ed-479b-b135-7484afecb21a"
   },
   "outputs": [
    {
     "data": {
      "text/plain": [
       "['../src/models/MLP_classifier.joblib']"
      ]
     },
     "execution_count": 563,
     "metadata": {},
     "output_type": "execute_result"
    }
   ],
   "source": [
    "dump(mlp, MODEL_OUTPUT_PATH + 'MLP_classifier.joblib') "
   ]
  },
  {
   "cell_type": "markdown",
   "metadata": {
    "id": "8RdkYgONC1M5"
   },
   "source": [
    "## Prediction"
   ]
  },
  {
   "cell_type": "code",
   "execution_count": 564,
   "metadata": {
    "colab": {
     "base_uri": "https://localhost:8080/"
    },
    "id": "_3ehYsrbC0ki",
    "outputId": "540ef808-ca55-4deb-a7fc-1ea63e16abca"
   },
   "outputs": [
    {
     "name": "stdout",
     "output_type": "stream",
     "text": [
      "Predicted RISK is: MEDIUM\n"
     ]
    }
   ],
   "source": [
    "predicted_risk = mlp.predict(scaler.transform([[1077113, 8, 29, 4947796, 57879, 1, 6, 0]]))[0]\n",
    "print(\"Predicted RISK is: \" + prediction_result_mapping[predicted_risk])"
   ]
  },
  {
   "cell_type": "markdown",
   "metadata": {},
   "source": [
    "# Benchmarking"
   ]
  },
  {
   "cell_type": "code",
   "execution_count": 93,
   "metadata": {},
   "outputs": [],
   "source": [
    "dataset_entries = [5000, 10000, 25000, 50000, 100000]\n",
    "dt_accuracy_list = []\n",
    "svm_accuracy_list = []\n",
    "knn_accuracy_list = []\n",
    "mlp_accuracy_list = []\n",
    "\n",
    "dt_training_times = []\n",
    "svm_training_times = []\n",
    "knn_training_times = []\n",
    "mlp_training_times = []"
   ]
  },
  {
   "cell_type": "code",
   "execution_count": 94,
   "metadata": {},
   "outputs": [],
   "source": [
    "for nr_of_entries in dataset_entries:\n",
    "    data = generate_data(nr_of_entries)\n",
    "    data = data.replace({'Employee Training': levels_mapping, 'Risk': levels_mapping, 'External Advisor': advisor_mapping})\n",
    "    \n",
    "    X_train, X_test, y_train, y_test = train_test_split(data[features].values, data[\"Risk\"].values, random_state=0)\n",
    "    \n",
    "    # Decision Tree\n",
    "    dtree_model = DecisionTreeClassifier()\n",
    "    start = time.time()\n",
    "    dtree_model.fit(X_train, y_train) \n",
    "    stop = time.time()\n",
    "    dt_training_times.append(stop - start)\n",
    "    dt_accuracy_list.append(dtree_model.score(X_test, y_test))\n",
    "                            \n",
    "    # Scaler\n",
    "    scaler = MinMaxScaler()\n",
    "    scaler.fit(X_train)\n",
    "    X_train_normalized = scaler.transform(X_train)\n",
    "    X_test_normalized = scaler.transform(X_test)\n",
    "    \n",
    "    # SVM\n",
    "    svm_model = SVC(kernel='poly')\n",
    "    start = time.time()\n",
    "    svm_model.fit(X_train_normalized, y_train)\n",
    "    stop = time.time()\n",
    "    svm_training_times.append(stop - start)\n",
    "    svm_accuracy_list.append(svm_model.score(X_test_normalized, y_test))\n",
    "    \n",
    "    # KNN\n",
    "    knn = KNeighborsClassifier(n_neighbors = 17)\n",
    "    start = time.time()\n",
    "    knn.fit(X_train_normalized, y_train) \n",
    "    stop = time.time()\n",
    "    knn_training_times.append(stop - start)\n",
    "    knn_accuracy_list.append(knn.score(X_test_normalized, y_test))\n",
    "    \n",
    "    # MLP\n",
    "    clf = MLPClassifier(activation='tanh', solver='lbfgs', alpha=1e-5, hidden_layer_sizes=(5, 2), max_iter=100000)\n",
    "    start = time.time()\n",
    "    clf.fit(X_train_normalized, y_train)\n",
    "    stop = time.time()\n",
    "    mlp_training_times.append(stop - start)\n",
    "    mlp_accuracy_list.append(clf.score(X_test_normalized, y_test))\n",
    "    "
   ]
  },
  {
   "cell_type": "code",
   "execution_count": 100,
   "metadata": {},
   "outputs": [
    {
     "name": "stdout",
     "output_type": "stream",
     "text": [
      "[5000, 10000, 25000, 50000, 100000]\n",
      "\n",
      " Accuracy:\n",
      "Decision Tree: [0.8784, 0.9048, 0.92896, 0.93928, 0.9508]\n",
      "[0.9664, 0.9772, 0.98528, 0.98728, 0.98984]\n",
      "[0.9168, 0.9332, 0.9496, 0.95544, 0.96436]\n",
      "[0.9888, 0.9972, 0.99824, 0.97256, 0.9992]\n",
      "\n",
      " Training Times:\n",
      "[0.010490179061889648, 0.0204160213470459, 0.05765199661254883, 0.12712311744689941, 0.3110668659210205]\n",
      "[0.06813311576843262, 0.19890880584716797, 0.8305602073669434, 3.1285979747772217, 12.188233137130737]\n",
      "[0.0017361640930175781, 0.004775047302246094, 0.0270688533782959, 0.054738759994506836, 0.365800142288208]\n",
      "[8.24178409576416, 11.813431978225708, 30.678292989730835, 13.996891021728516, 540.4573841094971]\n"
     ]
    }
   ],
   "source": [
    "print(dataset_entries)\n",
    "print(\"\\n Accuracy:\")\n",
    "print(\"Decision Tree: \" + str(dt_accuracy_list))\n",
    "print(svm_accuracy_list)\n",
    "print(knn_accuracy_list)\n",
    "print(mlp_accuracy_list)\n",
    "\n",
    "print(\"\\n Training Times:\")\n",
    "print(dt_training_times)\n",
    "print(svm_training_times)\n",
    "print(knn_training_times)\n",
    "print(mlp_training_times)"
   ]
  },
  {
   "cell_type": "code",
   "execution_count": null,
   "metadata": {},
   "outputs": [],
   "source": []
  },
  {
   "cell_type": "code",
   "execution_count": null,
   "metadata": {},
   "outputs": [],
   "source": []
  }
 ],
 "metadata": {
  "colab": {
   "collapsed_sections": [
    "CcxkNU9NnM8p",
    "tq--wueVRT2V",
    "h6Nun-zRkweH"
   ],
   "name": "MA_Erion_Sula.ipynb",
   "provenance": [],
   "toc_visible": true
  },
  "kernelspec": {
   "display_name": "Python 3",
   "language": "python",
   "name": "python3"
  }
 },
 "nbformat": 4,
 "nbformat_minor": 1
}
