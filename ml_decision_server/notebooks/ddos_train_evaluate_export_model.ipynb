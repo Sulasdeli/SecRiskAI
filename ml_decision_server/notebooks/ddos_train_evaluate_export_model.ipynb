{
 "cells": [
  {
   "cell_type": "code",
   "execution_count": 4,
   "id": "collected-roman",
   "metadata": {},
   "outputs": [],
   "source": [
    "import os\n",
    "import random\n",
    "import pandas as pd\n",
    "import numpy\n",
    "from sklearn.model_selection import train_test_split\n",
    "from sklearn.metrics import plot_confusion_matrix, ConfusionMatrixDisplay\n",
    "import matplotlib.pyplot as plt\n",
    "from sklearn.tree import export_text\n",
    "from joblib import dump, load\n",
    "from tqdm import tqdm\n",
    "from wandb.sklearn import plot_learning_curve\n",
    "from sklearn.model_selection import GridSearchCV\n",
    "import time\n",
    "\n",
    "MODEL_OUTPUT_PATH = \"../src/models/\"\n",
    "SCALER_OUTPUT_PATH = \"../src/scaler/\""
   ]
  },
  {
   "cell_type": "markdown",
   "id": "noticed-narrow",
   "metadata": {},
   "source": [
    "# Distributed Denial-of-Service Risk Prediction"
   ]
  },
  {
   "cell_type": "markdown",
   "id": "productive-creator",
   "metadata": {},
   "source": [
    "# Data Generation"
   ]
  },
  {
   "cell_type": "code",
   "execution_count": 138,
   "id": "nuclear-draft",
   "metadata": {},
   "outputs": [],
   "source": [
    "columns = ['Industry', 'Region', 'Invested Amount', 'Successful Attacks', 'Failed Attacks', 'Business Value', 'Known Vulnerabilities', 'External Advisor', 'Risk']\n",
    "features = ddos_columns[:-1]\n",
    "INDUSTRIES = ['AUTOMOTIVE', 'HEALTHCARE', 'ECOMMERCE', 'TELECOM', 'FINANCIAL SERVICES', 'EDUCATION', 'OTHER']\n",
    "REGIONS = ['EUROPE', 'NORTH AMERICA', 'SOUTH AMERICA', 'AFRICA', 'ASIA']\n",
    "INDUSTRY_TO_RISK = {\n",
    "    'AUTOMOTIVE': 0.2,\n",
    "    'HEALTHCARE': 0.8,\n",
    "    'ECOMMERCE': 0.6,\n",
    "    'TELECOM': 0.75,\n",
    "    'FINANCIAL SERVICES': 1,\n",
    "    'EDUCATION': 0.3,\n",
    "    'OTHER': 0.5\n",
    "}\n",
    "\n",
    "REGION_TO_RISK = {\n",
    "    'EUROPE': 0.8,\n",
    "    'NORTH AMERICA': 1,\n",
    "    'SOUTH AMERICA': 1,\n",
    "    'AFRICA': 0.2,\n",
    "    'ASIA': 0.5\n",
    "}\n",
    "\n",
    "ADVISOR = ['YES', 'NO']\n",
    "LEVELS = ['LOW', 'MEDIUM', 'HIGH']"
   ]
  },
  {
   "cell_type": "code",
   "execution_count": 117,
   "id": "fundamental-threat",
   "metadata": {},
   "outputs": [],
   "source": [
    "def generate_data(nr_entries = 1000, min_nr_attacks = 0, nr_attacks = 50, \n",
    "                  avg_business_value = 5000000, std_business_value = 50000, max_invested_perc = 0.3, max_nr_vulnerabilities = 10):\n",
    "    df = pd.DataFrame(columns=ddos_columns)\n",
    "    for i in tqdm(range(0, nr_entries)):\n",
    "        \n",
    "        region = random.choice(REGIONS)\n",
    "        industry = random.choice(INDUSTRIES)\n",
    "        failed_attack = random.randrange(nr_attacks)\n",
    "        succ_attack = random.randrange(nr_attacks)\n",
    "        \n",
    "        business_value = int(numpy.random.normal(loc=avg_business_value, scale=std_business_value))\n",
    "        invested_perc = random.uniform(0, max_invested_perc)\n",
    "        invested_amount = int(invested_perc * business_value)\n",
    "        \n",
    "        known_vulnerabilities = random.randrange(max_nr_vulnerabilities)\n",
    "        external_adv = random.choice(ADVISOR)\n",
    "\n",
    "        # Risk is computed based on the other parameters and is then categorized using 'get_categorized_risk'\n",
    "        computed_risk = (succ_attack / nr_attacks) + (known_vulnerabilities / max_nr_vulnerabilities) + INDUSTRY_TO_RISK[industry] + REGION_TO_RISK[region] - (invested_perc / max_invested_perc) - ADVISOR.index(external_adv)\n",
    "        df.loc[i] = [industry, region, invested_amount, succ_attack, failed_attack, business_value, known_vulnerabilities, external_adv, get_categorized_risk(computed_risk)]\n",
    "    return df\n",
    "\n",
    "def get_categorized_risk(weighted_risk, low_medium_boundary = 1.0, medium_high_boundary = 2.0):\n",
    "  if weighted_risk >= medium_high_boundary:\n",
    "      return \"HIGH\"\n",
    "  elif weighted_risk >= low_medium_boundary and weighted_risk < medium_high_boundary:\n",
    "      return \"MEDIUM\"\n",
    "  else:\n",
    "      return \"LOW\""
   ]
  },
  {
   "cell_type": "code",
   "execution_count": 125,
   "id": "unavailable-thompson",
   "metadata": {},
   "outputs": [
    {
     "name": "stderr",
     "output_type": "stream",
     "text": [
      "100%|██████████| 10000/10000 [00:21<00:00, 467.52it/s]\n"
     ]
    }
   ],
   "source": [
    "data = generate_data(nr_entries = 10000)"
   ]
  },
  {
   "cell_type": "code",
   "execution_count": 132,
   "id": "expected-soundtrack",
   "metadata": {},
   "outputs": [
    {
     "data": {
      "text/html": [
       "<div>\n",
       "<style scoped>\n",
       "    .dataframe tbody tr th:only-of-type {\n",
       "        vertical-align: middle;\n",
       "    }\n",
       "\n",
       "    .dataframe tbody tr th {\n",
       "        vertical-align: top;\n",
       "    }\n",
       "\n",
       "    .dataframe thead th {\n",
       "        text-align: right;\n",
       "    }\n",
       "</style>\n",
       "<table border=\"1\" class=\"dataframe\">\n",
       "  <thead>\n",
       "    <tr style=\"text-align: right;\">\n",
       "      <th></th>\n",
       "      <th>Industry</th>\n",
       "      <th>Region</th>\n",
       "      <th>Invested Amount</th>\n",
       "      <th>Successful Attacks</th>\n",
       "      <th>Failed Attacks</th>\n",
       "      <th>Business Value</th>\n",
       "      <th>Known Vulnerabilities</th>\n",
       "      <th>External Advisor</th>\n",
       "      <th>Risk</th>\n",
       "    </tr>\n",
       "  </thead>\n",
       "  <tbody>\n",
       "    <tr>\n",
       "      <th>0</th>\n",
       "      <td>FINANCIAL SERVICES</td>\n",
       "      <td>NORTH AMERICA</td>\n",
       "      <td>1335499</td>\n",
       "      <td>36</td>\n",
       "      <td>9</td>\n",
       "      <td>5043962</td>\n",
       "      <td>3</td>\n",
       "      <td>NO</td>\n",
       "      <td>MEDIUM</td>\n",
       "    </tr>\n",
       "    <tr>\n",
       "      <th>1</th>\n",
       "      <td>AUTOMOTIVE</td>\n",
       "      <td>SOUTH AMERICA</td>\n",
       "      <td>897682</td>\n",
       "      <td>25</td>\n",
       "      <td>30</td>\n",
       "      <td>5010350</td>\n",
       "      <td>3</td>\n",
       "      <td>YES</td>\n",
       "      <td>MEDIUM</td>\n",
       "    </tr>\n",
       "    <tr>\n",
       "      <th>2</th>\n",
       "      <td>OTHER</td>\n",
       "      <td>NORTH AMERICA</td>\n",
       "      <td>705482</td>\n",
       "      <td>8</td>\n",
       "      <td>12</td>\n",
       "      <td>5060170</td>\n",
       "      <td>9</td>\n",
       "      <td>YES</td>\n",
       "      <td>HIGH</td>\n",
       "    </tr>\n",
       "    <tr>\n",
       "      <th>3</th>\n",
       "      <td>TELECOM</td>\n",
       "      <td>ASIA</td>\n",
       "      <td>1220247</td>\n",
       "      <td>38</td>\n",
       "      <td>24</td>\n",
       "      <td>4953331</td>\n",
       "      <td>3</td>\n",
       "      <td>YES</td>\n",
       "      <td>MEDIUM</td>\n",
       "    </tr>\n",
       "    <tr>\n",
       "      <th>4</th>\n",
       "      <td>OTHER</td>\n",
       "      <td>AFRICA</td>\n",
       "      <td>1216607</td>\n",
       "      <td>49</td>\n",
       "      <td>38</td>\n",
       "      <td>4948951</td>\n",
       "      <td>2</td>\n",
       "      <td>YES</td>\n",
       "      <td>MEDIUM</td>\n",
       "    </tr>\n",
       "  </tbody>\n",
       "</table>\n",
       "</div>"
      ],
      "text/plain": [
       "             Industry         Region Invested Amount Successful Attacks  \\\n",
       "0  FINANCIAL SERVICES  NORTH AMERICA         1335499                 36   \n",
       "1          AUTOMOTIVE  SOUTH AMERICA          897682                 25   \n",
       "2               OTHER  NORTH AMERICA          705482                  8   \n",
       "3             TELECOM           ASIA         1220247                 38   \n",
       "4               OTHER         AFRICA         1216607                 49   \n",
       "\n",
       "  Failed Attacks Business Value Known Vulnerabilities External Advisor    Risk  \n",
       "0              9        5043962                     3               NO  MEDIUM  \n",
       "1             30        5010350                     3              YES  MEDIUM  \n",
       "2             12        5060170                     9              YES    HIGH  \n",
       "3             24        4953331                     3              YES  MEDIUM  \n",
       "4             38        4948951                     2              YES  MEDIUM  "
      ]
     },
     "execution_count": 132,
     "metadata": {},
     "output_type": "execute_result"
    }
   ],
   "source": [
    "data.head()"
   ]
  },
  {
   "cell_type": "code",
   "execution_count": 127,
   "id": "occasional-stevens",
   "metadata": {},
   "outputs": [
    {
     "data": {
      "text/html": [
       "<div>\n",
       "<style scoped>\n",
       "    .dataframe tbody tr th:only-of-type {\n",
       "        vertical-align: middle;\n",
       "    }\n",
       "\n",
       "    .dataframe tbody tr th {\n",
       "        vertical-align: top;\n",
       "    }\n",
       "\n",
       "    .dataframe thead th {\n",
       "        text-align: right;\n",
       "    }\n",
       "</style>\n",
       "<table border=\"1\" class=\"dataframe\">\n",
       "  <thead>\n",
       "    <tr style=\"text-align: right;\">\n",
       "      <th></th>\n",
       "      <th>Industry</th>\n",
       "      <th>Region</th>\n",
       "      <th>Invested Amount</th>\n",
       "      <th>Successful Attacks</th>\n",
       "      <th>Failed Attacks</th>\n",
       "      <th>Business Value</th>\n",
       "      <th>Known Vulnerabilities</th>\n",
       "      <th>External Advisor</th>\n",
       "      <th>Risk</th>\n",
       "    </tr>\n",
       "  </thead>\n",
       "  <tbody>\n",
       "    <tr>\n",
       "      <th>count</th>\n",
       "      <td>10000</td>\n",
       "      <td>10000</td>\n",
       "      <td>10000</td>\n",
       "      <td>10000</td>\n",
       "      <td>10000</td>\n",
       "      <td>10000</td>\n",
       "      <td>10000</td>\n",
       "      <td>10000</td>\n",
       "      <td>10000</td>\n",
       "    </tr>\n",
       "    <tr>\n",
       "      <th>unique</th>\n",
       "      <td>7</td>\n",
       "      <td>5</td>\n",
       "      <td>9967</td>\n",
       "      <td>50</td>\n",
       "      <td>50</td>\n",
       "      <td>9720</td>\n",
       "      <td>10</td>\n",
       "      <td>2</td>\n",
       "      <td>3</td>\n",
       "    </tr>\n",
       "    <tr>\n",
       "      <th>top</th>\n",
       "      <td>EDUCATION</td>\n",
       "      <td>SOUTH AMERICA</td>\n",
       "      <td>634831</td>\n",
       "      <td>25</td>\n",
       "      <td>30</td>\n",
       "      <td>4947654</td>\n",
       "      <td>9</td>\n",
       "      <td>NO</td>\n",
       "      <td>MEDIUM</td>\n",
       "    </tr>\n",
       "    <tr>\n",
       "      <th>freq</th>\n",
       "      <td>1459</td>\n",
       "      <td>2033</td>\n",
       "      <td>2</td>\n",
       "      <td>242</td>\n",
       "      <td>234</td>\n",
       "      <td>3</td>\n",
       "      <td>1050</td>\n",
       "      <td>5075</td>\n",
       "      <td>4222</td>\n",
       "    </tr>\n",
       "  </tbody>\n",
       "</table>\n",
       "</div>"
      ],
      "text/plain": [
       "         Industry         Region  Invested Amount  Successful Attacks  \\\n",
       "count       10000          10000            10000               10000   \n",
       "unique          7              5             9967                  50   \n",
       "top     EDUCATION  SOUTH AMERICA           634831                  25   \n",
       "freq         1459           2033                2                 242   \n",
       "\n",
       "        Failed Attacks  Business Value  Known Vulnerabilities  \\\n",
       "count            10000           10000                  10000   \n",
       "unique              50            9720                     10   \n",
       "top                 30         4947654                      9   \n",
       "freq               234               3                   1050   \n",
       "\n",
       "       External Advisor    Risk  \n",
       "count             10000   10000  \n",
       "unique                2       3  \n",
       "top                  NO  MEDIUM  \n",
       "freq               5075    4222  "
      ]
     },
     "execution_count": 127,
     "metadata": {},
     "output_type": "execute_result"
    }
   ],
   "source": [
    "data.describe()"
   ]
  },
  {
   "cell_type": "markdown",
   "id": "supreme-thomas",
   "metadata": {},
   "source": [
    "### Data Export as .csv"
   ]
  },
  {
   "cell_type": "code",
   "execution_count": 128,
   "id": "solar-healing",
   "metadata": {},
   "outputs": [],
   "source": [
    "data.to_csv('ddos_data.csv')"
   ]
  },
  {
   "cell_type": "markdown",
   "id": "liquid-capture",
   "metadata": {},
   "source": [
    "## Data Processing"
   ]
  },
  {
   "cell_type": "markdown",
   "id": "excess-pattern",
   "metadata": {},
   "source": [
    "### Categorization Step"
   ]
  },
  {
   "cell_type": "code",
   "execution_count": 134,
   "id": "color-assignment",
   "metadata": {},
   "outputs": [
    {
     "name": "stdout",
     "output_type": "stream",
     "text": [
      "Categorization time: 0.006540775299072266s\n"
     ]
    }
   ],
   "source": [
    "start = time.time()\n",
    "\n",
    "levels_mapping = { 'LOW': 0, 'MEDIUM': 1, 'HIGH': 2 }\n",
    "advisor_mapping = { 'NO': 0, 'YES': 1 }\n",
    "industry_mapping = {\n",
    "    'AUTOMOTIVE': 0,\n",
    "    'HEALTHCARE': 1,\n",
    "    'ECOMMERCE': 2,\n",
    "    'TELECOM': 3,\n",
    "    'FINANCIAL SERVICES': 4,\n",
    "    'EDUCATION': 5,\n",
    "    'OTHER': 6\n",
    "}\n",
    "\n",
    "region_mapping = {\n",
    "    'EUROPE': 0,\n",
    "    'NORTH AMERICA': 1,\n",
    "    'SOUTH AMERICA': 2,\n",
    "    'AFRICA': 3,\n",
    "    'ASIA': 4\n",
    "}\n",
    "\n",
    "\n",
    "data = data.replace({'Employee Training': levels_mapping, 'Risk': levels_mapping, 'External Advisor': advisor_mapping, 'Industry': industry_mapping, 'Region': region_mapping})\n",
    "\n",
    "stop = time.time()\n",
    "print(f\"Categorization time: {stop - start}s\")"
   ]
  },
  {
   "cell_type": "code",
   "execution_count": 137,
   "id": "employed-marks",
   "metadata": {},
   "outputs": [
    {
     "data": {
      "text/html": [
       "<div>\n",
       "<style scoped>\n",
       "    .dataframe tbody tr th:only-of-type {\n",
       "        vertical-align: middle;\n",
       "    }\n",
       "\n",
       "    .dataframe tbody tr th {\n",
       "        vertical-align: top;\n",
       "    }\n",
       "\n",
       "    .dataframe thead th {\n",
       "        text-align: right;\n",
       "    }\n",
       "</style>\n",
       "<table border=\"1\" class=\"dataframe\">\n",
       "  <thead>\n",
       "    <tr style=\"text-align: right;\">\n",
       "      <th></th>\n",
       "      <th>Industry</th>\n",
       "      <th>Region</th>\n",
       "      <th>Invested Amount</th>\n",
       "      <th>Successful Attacks</th>\n",
       "      <th>Failed Attacks</th>\n",
       "      <th>Business Value</th>\n",
       "      <th>Known Vulnerabilities</th>\n",
       "      <th>External Advisor</th>\n",
       "      <th>Risk</th>\n",
       "    </tr>\n",
       "  </thead>\n",
       "  <tbody>\n",
       "    <tr>\n",
       "      <th>0</th>\n",
       "      <td>4</td>\n",
       "      <td>1</td>\n",
       "      <td>1335499</td>\n",
       "      <td>36</td>\n",
       "      <td>9</td>\n",
       "      <td>5043962</td>\n",
       "      <td>3</td>\n",
       "      <td>0</td>\n",
       "      <td>1</td>\n",
       "    </tr>\n",
       "    <tr>\n",
       "      <th>1</th>\n",
       "      <td>0</td>\n",
       "      <td>2</td>\n",
       "      <td>897682</td>\n",
       "      <td>25</td>\n",
       "      <td>30</td>\n",
       "      <td>5010350</td>\n",
       "      <td>3</td>\n",
       "      <td>1</td>\n",
       "      <td>1</td>\n",
       "    </tr>\n",
       "    <tr>\n",
       "      <th>2</th>\n",
       "      <td>6</td>\n",
       "      <td>1</td>\n",
       "      <td>705482</td>\n",
       "      <td>8</td>\n",
       "      <td>12</td>\n",
       "      <td>5060170</td>\n",
       "      <td>9</td>\n",
       "      <td>1</td>\n",
       "      <td>2</td>\n",
       "    </tr>\n",
       "    <tr>\n",
       "      <th>3</th>\n",
       "      <td>3</td>\n",
       "      <td>4</td>\n",
       "      <td>1220247</td>\n",
       "      <td>38</td>\n",
       "      <td>24</td>\n",
       "      <td>4953331</td>\n",
       "      <td>3</td>\n",
       "      <td>1</td>\n",
       "      <td>1</td>\n",
       "    </tr>\n",
       "    <tr>\n",
       "      <th>4</th>\n",
       "      <td>6</td>\n",
       "      <td>3</td>\n",
       "      <td>1216607</td>\n",
       "      <td>49</td>\n",
       "      <td>38</td>\n",
       "      <td>4948951</td>\n",
       "      <td>2</td>\n",
       "      <td>1</td>\n",
       "      <td>1</td>\n",
       "    </tr>\n",
       "  </tbody>\n",
       "</table>\n",
       "</div>"
      ],
      "text/plain": [
       "   Industry  Region Invested Amount Successful Attacks Failed Attacks  \\\n",
       "0         4       1         1335499                 36              9   \n",
       "1         0       2          897682                 25             30   \n",
       "2         6       1          705482                  8             12   \n",
       "3         3       4         1220247                 38             24   \n",
       "4         6       3         1216607                 49             38   \n",
       "\n",
       "  Business Value Known Vulnerabilities  External Advisor  Risk  \n",
       "0        5043962                     3                 0     1  \n",
       "1        5010350                     3                 1     1  \n",
       "2        5060170                     9                 1     2  \n",
       "3        4953331                     3                 1     1  \n",
       "4        4948951                     2                 1     1  "
      ]
     },
     "execution_count": 137,
     "metadata": {},
     "output_type": "execute_result"
    }
   ],
   "source": [
    "data.head()"
   ]
  },
  {
   "cell_type": "markdown",
   "id": "rough-criticism",
   "metadata": {},
   "source": [
    "### Normalization Step - using scaler"
   ]
  },
  {
   "cell_type": "code",
   "execution_count": 139,
   "id": "regulated-president",
   "metadata": {},
   "outputs": [],
   "source": [
    "from sklearn.preprocessing import StandardScaler, MinMaxScaler\n",
    "\n",
    "# Used for the scikit models\n",
    "#data = pd.read_csv(\"ddos_data.csv\")\n",
    "data.head()\n",
    "X_train, X_test, y_train, y_test = train_test_split(data[features].values, data[\"Risk\"].values, random_state=0)\n",
    "\n",
    "scaler = MinMaxScaler()\n",
    "scaler.fit(X_train)\n",
    "\n",
    "# Normalized Data\n",
    "X = data[features]\n",
    "Y = data[\"Risk\"]\n",
    "X_normalized = scaler.transform(data[features])\n",
    "\n",
    "\n",
    "# Normalized Splitted Data\n",
    "X_train_normalized = scaler.transform(X_train)\n",
    "X_test_normalized = scaler.transform(X_test)"
   ]
  },
  {
   "cell_type": "code",
   "execution_count": 140,
   "id": "pursuant-belarus",
   "metadata": {},
   "outputs": [
    {
     "data": {
      "text/plain": [
       "['../src/scaler/MinMaxScaler_ddos.joblib']"
      ]
     },
     "execution_count": 140,
     "metadata": {},
     "output_type": "execute_result"
    }
   ],
   "source": [
    "dump(scaler, SCALER_OUTPUT_PATH + 'MinMaxScaler_ddos.joblib') "
   ]
  },
  {
   "cell_type": "code",
   "execution_count": 142,
   "id": "formal-brand",
   "metadata": {},
   "outputs": [
    {
     "data": {
      "text/plain": [
       "array([1.66666667e-01, 2.50000000e-01, 6.47020117e-07, 2.04081633e-02,\n",
       "       2.04081633e-02, 2.55117660e-06, 1.11111111e-01, 1.00000000e+00])"
      ]
     },
     "execution_count": 142,
     "metadata": {},
     "output_type": "execute_result"
    }
   ],
   "source": [
    "scaler.scale_"
   ]
  },
  {
   "cell_type": "markdown",
   "id": "generic-crown",
   "metadata": {},
   "source": [
    "# Multilayer Perceptron (MLP) using Backpropagation"
   ]
  },
  {
   "cell_type": "code",
   "execution_count": 154,
   "id": "entertaining-economics",
   "metadata": {},
   "outputs": [],
   "source": [
    "from sklearn.neural_network import MLPClassifier"
   ]
  },
  {
   "cell_type": "code",
   "execution_count": 169,
   "id": "pressing-pendant",
   "metadata": {},
   "outputs": [],
   "source": [
    "mlp = MLPClassifier(max_iter=100000)"
   ]
  },
  {
   "cell_type": "code",
   "execution_count": 170,
   "id": "million-pickup",
   "metadata": {},
   "outputs": [],
   "source": [
    "mlp_params={\n",
    "'learning_rate': [\"constant\", \"invscaling\", \"adaptive\"],\n",
    "'hidden_layer_sizes': [(5, 2)],\n",
    "'solver': [\"lbfgs\", \"sgd\", \"adam\"],\n",
    "'activation': [\"logistic\", \"relu\", \"tanh\"]\n",
    "}\n",
    "\n",
    "# Instanciate the Grid for parameter tuning\n",
    "mlp_grid = GridSearchCV(mlp, mlp_params, cv=10, scoring='accuracy', n_jobs=-1)\n",
    "\n",
    "mlp = mlp_grid.fit(X_normalized, Y)"
   ]
  },
  {
   "cell_type": "code",
   "execution_count": 171,
   "id": "electrical-system",
   "metadata": {},
   "outputs": [
    {
     "name": "stdout",
     "output_type": "stream",
     "text": [
      "MLPClassifier(activation='logistic', hidden_layer_sizes=(5, 2), max_iter=100000,\n",
      "              solver='lbfgs')\n",
      "{'activation': 'logistic', 'hidden_layer_sizes': (5, 2), 'learning_rate': 'constant', 'solver': 'lbfgs'}\n",
      "Best Accuracy: 90.03%\n"
     ]
    }
   ],
   "source": [
    "print(mlp.best_estimator_)\n",
    "print(mlp.best_params_)\n",
    "print('Best Accuracy: {0:.2%}'.format(mlp.best_score_))"
   ]
  },
  {
   "cell_type": "markdown",
   "id": "optional-florist",
   "metadata": {},
   "source": [
    "## Prediction"
   ]
  },
  {
   "cell_type": "code",
   "execution_count": 175,
   "id": "electoral-ghana",
   "metadata": {},
   "outputs": [
    {
     "name": "stdout",
     "output_type": "stream",
     "text": [
      "Predicted RISK is: LOW\n"
     ]
    }
   ],
   "source": [
    "prediction_result_mapping = {0: 'LOW', 1: 'MEDIUM', 2: 'HIGH'}\n",
    "\n",
    "predicted_risk = mlp.predict(scaler.transform([[4, 0, 57879, 1, 6, 4947796, 0, 0]]))[0]\n",
    "print(\"Predicted RISK is: \" + prediction_result_mapping[predicted_risk])"
   ]
  },
  {
   "cell_type": "markdown",
   "id": "specialized-sphere",
   "metadata": {},
   "source": [
    "## Export"
   ]
  },
  {
   "cell_type": "code",
   "execution_count": 176,
   "id": "allied-capitol",
   "metadata": {},
   "outputs": [
    {
     "data": {
      "text/plain": [
       "['../src/models/MLP_ddos_classifier.joblib']"
      ]
     },
     "execution_count": 176,
     "metadata": {},
     "output_type": "execute_result"
    }
   ],
   "source": [
    "dump(mlp, MODEL_OUTPUT_PATH + 'MLP_ddos_classifier.joblib') "
   ]
  }
 ],
 "metadata": {
  "kernelspec": {
   "display_name": "Python 3",
   "language": "python",
   "name": "python3"
  },
  "language_info": {
   "codemirror_mode": {
    "name": "ipython",
    "version": 3
   },
   "file_extension": ".py",
   "mimetype": "text/x-python",
   "name": "python",
   "nbconvert_exporter": "python",
   "pygments_lexer": "ipython3",
   "version": "3.9.2"
  }
 },
 "nbformat": 4,
 "nbformat_minor": 5
}
