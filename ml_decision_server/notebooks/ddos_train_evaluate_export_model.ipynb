{
 "cells": [
  {
   "cell_type": "code",
   "execution_count": 1,
   "id": "collected-roman",
   "metadata": {},
   "outputs": [],
   "source": [
    "import os\n",
    "import random\n",
    "import pandas as pd\n",
    "import numpy\n",
    "from sklearn.model_selection import train_test_split\n",
    "from sklearn.metrics import plot_confusion_matrix, ConfusionMatrixDisplay\n",
    "import matplotlib.pyplot as plt\n",
    "from sklearn.tree import export_text\n",
    "from joblib import dump, load\n",
    "from tqdm import tqdm\n",
    "from wandb.sklearn import plot_learning_curve\n",
    "from sklearn.model_selection import GridSearchCV\n",
    "import time\n",
    "\n",
    "MODEL_OUTPUT_PATH = \"../src/models/\"\n",
    "SCALER_OUTPUT_PATH = \"../src/scaler/\""
   ]
  },
  {
   "cell_type": "markdown",
   "id": "noticed-narrow",
   "metadata": {},
   "source": [
    "# Distributed Denial-of-Service Risk Prediction"
   ]
  },
  {
   "cell_type": "markdown",
   "id": "productive-creator",
   "metadata": {},
   "source": [
    "# Data Generation"
   ]
  },
  {
   "cell_type": "code",
   "execution_count": 3,
   "id": "nuclear-draft",
   "metadata": {},
   "outputs": [],
   "source": [
    "columns = ['Industry', 'Region', 'Invested Amount', 'Successful Attacks', 'Failed Attacks', 'Business Value', 'Known Vulnerabilities', 'External Advisor', 'Risk']\n",
    "features = columns[:-1]\n",
    "INDUSTRIES = ['AUTOMOTIVE', 'HEALTHCARE', 'ECOMMERCE', 'TELECOM', 'FINANCIAL SERVICES', 'EDUCATION', 'OTHER']\n",
    "REGIONS = ['EUROPE', 'NORTH AMERICA', 'SOUTH AMERICA', 'AFRICA', 'ASIA']\n",
    "INDUSTRY_TO_RISK = {\n",
    "    'AUTOMOTIVE': 0.2,\n",
    "    'HEALTHCARE': 0.8,\n",
    "    'ECOMMERCE': 0.6,\n",
    "    'TELECOM': 0.75,\n",
    "    'FINANCIAL SERVICES': 1,\n",
    "    'EDUCATION': 0.3,\n",
    "    'OTHER': 0.5\n",
    "}\n",
    "\n",
    "REGION_TO_RISK = {\n",
    "    'EUROPE': 0.8,\n",
    "    'NORTH AMERICA': 1,\n",
    "    'SOUTH AMERICA': 1,\n",
    "    'AFRICA': 0.2,\n",
    "    'ASIA': 0.5\n",
    "}\n",
    "\n",
    "ADVISOR = ['YES', 'NO']\n",
    "LEVELS = ['LOW', 'MEDIUM', 'HIGH']"
   ]
  },
  {
   "cell_type": "code",
   "execution_count": 19,
   "id": "fundamental-threat",
   "metadata": {},
   "outputs": [],
   "source": [
    "def generate_data(nr_entries = 1000, min_nr_attacks = 0, nr_attacks = 50, \n",
    "                  avg_business_value = 5000000, std_business_value = 50000, max_invested_perc = 0.3, max_nr_vulnerabilities = 10):\n",
    "    df = pd.DataFrame(columns=columns)\n",
    "    for i in tqdm(range(0, nr_entries)):\n",
    "        \n",
    "        region = random.choice(REGIONS)\n",
    "        industry = random.choice(INDUSTRIES)\n",
    "        failed_attack = random.randrange(nr_attacks)\n",
    "        succ_attack = random.randrange(nr_attacks)\n",
    "        \n",
    "        business_value = int(numpy.random.normal(loc=avg_business_value, scale=std_business_value))\n",
    "        invested_perc = random.uniform(0, max_invested_perc)\n",
    "        invested_amount = int(invested_perc * business_value)\n",
    "        \n",
    "        known_vulnerabilities = random.randrange(max_nr_vulnerabilities)\n",
    "        external_adv = random.choice(ADVISOR)\n",
    "\n",
    "        # Risk is computed based on the other parameters and is then categorized using 'get_categorized_risk'\n",
    "        computed_risk = (succ_attack / nr_attacks) + (known_vulnerabilities / max_nr_vulnerabilities) + INDUSTRY_TO_RISK[industry] + REGION_TO_RISK[region] - (invested_perc / max_invested_perc) - ADVISOR.index(external_adv)\n",
    "        df.loc[i] = [industry, region, invested_amount, succ_attack, failed_attack, business_value, known_vulnerabilities, external_adv, get_categorized_risk(computed_risk)]\n",
    "    return df\n",
    "\n",
    "def get_categorized_risk(weighted_risk, low_medium_boundary = 1.0, medium_high_boundary = 2.0):\n",
    "  if weighted_risk >= medium_high_boundary:\n",
    "      return \"HIGH\"\n",
    "  elif weighted_risk >= low_medium_boundary and weighted_risk < medium_high_boundary:\n",
    "      return \"MEDIUM\"\n",
    "  else:\n",
    "      return \"LOW\""
   ]
  },
  {
   "cell_type": "code",
   "execution_count": 20,
   "id": "unavailable-thompson",
   "metadata": {},
   "outputs": [
    {
     "name": "stderr",
     "output_type": "stream",
     "text": [
      "100%|██████████| 100000/100000 [11:56<00:00, 139.56it/s]\n"
     ]
    }
   ],
   "source": [
    "data = generate_data(nr_entries = 100000)\n",
    "#data = pd.read_csv('./ddos_data.csv')\n",
    "#data.pop('Unnamed: 0')"
   ]
  },
  {
   "cell_type": "code",
   "execution_count": 23,
   "id": "expected-soundtrack",
   "metadata": {},
   "outputs": [
    {
     "data": {
      "text/html": [
       "<div>\n",
       "<style scoped>\n",
       "    .dataframe tbody tr th:only-of-type {\n",
       "        vertical-align: middle;\n",
       "    }\n",
       "\n",
       "    .dataframe tbody tr th {\n",
       "        vertical-align: top;\n",
       "    }\n",
       "\n",
       "    .dataframe thead th {\n",
       "        text-align: right;\n",
       "    }\n",
       "</style>\n",
       "<table border=\"1\" class=\"dataframe\">\n",
       "  <thead>\n",
       "    <tr style=\"text-align: right;\">\n",
       "      <th></th>\n",
       "      <th>Industry</th>\n",
       "      <th>Region</th>\n",
       "      <th>Invested Amount</th>\n",
       "      <th>Successful Attacks</th>\n",
       "      <th>Failed Attacks</th>\n",
       "      <th>Business Value</th>\n",
       "      <th>Known Vulnerabilities</th>\n",
       "      <th>External Advisor</th>\n",
       "      <th>Risk</th>\n",
       "    </tr>\n",
       "  </thead>\n",
       "  <tbody>\n",
       "    <tr>\n",
       "      <th>0</th>\n",
       "      <td>OTHER</td>\n",
       "      <td>EUROPE</td>\n",
       "      <td>352962</td>\n",
       "      <td>36</td>\n",
       "      <td>11</td>\n",
       "      <td>4981229</td>\n",
       "      <td>5</td>\n",
       "      <td>NO</td>\n",
       "      <td>MEDIUM</td>\n",
       "    </tr>\n",
       "    <tr>\n",
       "      <th>1</th>\n",
       "      <td>ECOMMERCE</td>\n",
       "      <td>NORTH AMERICA</td>\n",
       "      <td>644025</td>\n",
       "      <td>17</td>\n",
       "      <td>39</td>\n",
       "      <td>4974608</td>\n",
       "      <td>6</td>\n",
       "      <td>NO</td>\n",
       "      <td>MEDIUM</td>\n",
       "    </tr>\n",
       "    <tr>\n",
       "      <th>2</th>\n",
       "      <td>EDUCATION</td>\n",
       "      <td>NORTH AMERICA</td>\n",
       "      <td>195600</td>\n",
       "      <td>11</td>\n",
       "      <td>36</td>\n",
       "      <td>4935406</td>\n",
       "      <td>1</td>\n",
       "      <td>YES</td>\n",
       "      <td>MEDIUM</td>\n",
       "    </tr>\n",
       "    <tr>\n",
       "      <th>3</th>\n",
       "      <td>FINANCIAL SERVICES</td>\n",
       "      <td>ASIA</td>\n",
       "      <td>888788</td>\n",
       "      <td>28</td>\n",
       "      <td>18</td>\n",
       "      <td>5040050</td>\n",
       "      <td>6</td>\n",
       "      <td>YES</td>\n",
       "      <td>HIGH</td>\n",
       "    </tr>\n",
       "    <tr>\n",
       "      <th>4</th>\n",
       "      <td>OTHER</td>\n",
       "      <td>SOUTH AMERICA</td>\n",
       "      <td>1371310</td>\n",
       "      <td>40</td>\n",
       "      <td>33</td>\n",
       "      <td>4987948</td>\n",
       "      <td>0</td>\n",
       "      <td>NO</td>\n",
       "      <td>LOW</td>\n",
       "    </tr>\n",
       "  </tbody>\n",
       "</table>\n",
       "</div>"
      ],
      "text/plain": [
       "             Industry         Region Invested Amount Successful Attacks  \\\n",
       "0               OTHER         EUROPE          352962                 36   \n",
       "1           ECOMMERCE  NORTH AMERICA          644025                 17   \n",
       "2           EDUCATION  NORTH AMERICA          195600                 11   \n",
       "3  FINANCIAL SERVICES           ASIA          888788                 28   \n",
       "4               OTHER  SOUTH AMERICA         1371310                 40   \n",
       "\n",
       "  Failed Attacks Business Value Known Vulnerabilities External Advisor    Risk  \n",
       "0             11        4981229                     5               NO  MEDIUM  \n",
       "1             39        4974608                     6               NO  MEDIUM  \n",
       "2             36        4935406                     1              YES  MEDIUM  \n",
       "3             18        5040050                     6              YES    HIGH  \n",
       "4             33        4987948                     0               NO     LOW  "
      ]
     },
     "execution_count": 23,
     "metadata": {},
     "output_type": "execute_result"
    }
   ],
   "source": [
    "data.head()"
   ]
  },
  {
   "cell_type": "code",
   "execution_count": 25,
   "id": "occasional-stevens",
   "metadata": {},
   "outputs": [
    {
     "data": {
      "text/plain": [
       "100000"
      ]
     },
     "execution_count": 25,
     "metadata": {},
     "output_type": "execute_result"
    }
   ],
   "source": [
    "data.describe()"
   ]
  },
  {
   "cell_type": "markdown",
   "id": "supreme-thomas",
   "metadata": {},
   "source": [
    "### Data Export as .csv"
   ]
  },
  {
   "cell_type": "code",
   "execution_count": 26,
   "id": "solar-healing",
   "metadata": {},
   "outputs": [],
   "source": [
    "data.to_csv('ddos_data.csv')"
   ]
  },
  {
   "cell_type": "markdown",
   "id": "liquid-capture",
   "metadata": {},
   "source": [
    "## Data Processing"
   ]
  },
  {
   "cell_type": "markdown",
   "id": "excess-pattern",
   "metadata": {},
   "source": [
    "### Categorization Step"
   ]
  },
  {
   "cell_type": "code",
   "execution_count": 27,
   "id": "color-assignment",
   "metadata": {},
   "outputs": [
    {
     "name": "stdout",
     "output_type": "stream",
     "text": [
      "Categorization time: 0.16359829902648926s\n"
     ]
    }
   ],
   "source": [
    "start = time.time()\n",
    "\n",
    "levels_mapping = { 'LOW': 0, 'MEDIUM': 1, 'HIGH': 2 }\n",
    "advisor_mapping = { 'NO': 0, 'YES': 1 }\n",
    "industry_mapping = {\n",
    "    'AUTOMOTIVE': 0,\n",
    "    'HEALTHCARE': 1,\n",
    "    'ECOMMERCE': 2,\n",
    "    'TELECOM': 3,\n",
    "    'FINANCIAL SERVICES': 4,\n",
    "    'EDUCATION': 5,\n",
    "    'OTHER': 6\n",
    "}\n",
    "\n",
    "region_mapping = {\n",
    "    'EUROPE': 0,\n",
    "    'NORTH AMERICA': 1,\n",
    "    'SOUTH AMERICA': 2,\n",
    "    'AFRICA': 3,\n",
    "    'ASIA': 4\n",
    "}\n",
    "\n",
    "data = data.replace({'Employee Training': levels_mapping, 'Risk': levels_mapping, 'External Advisor': advisor_mapping, 'Industry': industry_mapping, 'Region': region_mapping})\n",
    "\n",
    "stop = time.time()\n",
    "print(f\"Categorization time: {stop - start}s\")"
   ]
  },
  {
   "cell_type": "code",
   "execution_count": 28,
   "id": "employed-marks",
   "metadata": {},
   "outputs": [
    {
     "data": {
      "text/html": [
       "<div>\n",
       "<style scoped>\n",
       "    .dataframe tbody tr th:only-of-type {\n",
       "        vertical-align: middle;\n",
       "    }\n",
       "\n",
       "    .dataframe tbody tr th {\n",
       "        vertical-align: top;\n",
       "    }\n",
       "\n",
       "    .dataframe thead th {\n",
       "        text-align: right;\n",
       "    }\n",
       "</style>\n",
       "<table border=\"1\" class=\"dataframe\">\n",
       "  <thead>\n",
       "    <tr style=\"text-align: right;\">\n",
       "      <th></th>\n",
       "      <th>Industry</th>\n",
       "      <th>Region</th>\n",
       "      <th>Invested Amount</th>\n",
       "      <th>Successful Attacks</th>\n",
       "      <th>Failed Attacks</th>\n",
       "      <th>Business Value</th>\n",
       "      <th>Known Vulnerabilities</th>\n",
       "      <th>External Advisor</th>\n",
       "      <th>Risk</th>\n",
       "    </tr>\n",
       "  </thead>\n",
       "  <tbody>\n",
       "    <tr>\n",
       "      <th>0</th>\n",
       "      <td>6</td>\n",
       "      <td>0</td>\n",
       "      <td>352962</td>\n",
       "      <td>36</td>\n",
       "      <td>11</td>\n",
       "      <td>4981229</td>\n",
       "      <td>5</td>\n",
       "      <td>0</td>\n",
       "      <td>1</td>\n",
       "    </tr>\n",
       "    <tr>\n",
       "      <th>1</th>\n",
       "      <td>2</td>\n",
       "      <td>1</td>\n",
       "      <td>644025</td>\n",
       "      <td>17</td>\n",
       "      <td>39</td>\n",
       "      <td>4974608</td>\n",
       "      <td>6</td>\n",
       "      <td>0</td>\n",
       "      <td>1</td>\n",
       "    </tr>\n",
       "    <tr>\n",
       "      <th>2</th>\n",
       "      <td>5</td>\n",
       "      <td>1</td>\n",
       "      <td>195600</td>\n",
       "      <td>11</td>\n",
       "      <td>36</td>\n",
       "      <td>4935406</td>\n",
       "      <td>1</td>\n",
       "      <td>1</td>\n",
       "      <td>1</td>\n",
       "    </tr>\n",
       "    <tr>\n",
       "      <th>3</th>\n",
       "      <td>4</td>\n",
       "      <td>4</td>\n",
       "      <td>888788</td>\n",
       "      <td>28</td>\n",
       "      <td>18</td>\n",
       "      <td>5040050</td>\n",
       "      <td>6</td>\n",
       "      <td>1</td>\n",
       "      <td>2</td>\n",
       "    </tr>\n",
       "    <tr>\n",
       "      <th>4</th>\n",
       "      <td>6</td>\n",
       "      <td>2</td>\n",
       "      <td>1371310</td>\n",
       "      <td>40</td>\n",
       "      <td>33</td>\n",
       "      <td>4987948</td>\n",
       "      <td>0</td>\n",
       "      <td>0</td>\n",
       "      <td>0</td>\n",
       "    </tr>\n",
       "  </tbody>\n",
       "</table>\n",
       "</div>"
      ],
      "text/plain": [
       "   Industry  Region Invested Amount Successful Attacks Failed Attacks  \\\n",
       "0         6       0          352962                 36             11   \n",
       "1         2       1          644025                 17             39   \n",
       "2         5       1          195600                 11             36   \n",
       "3         4       4          888788                 28             18   \n",
       "4         6       2         1371310                 40             33   \n",
       "\n",
       "  Business Value Known Vulnerabilities  External Advisor  Risk  \n",
       "0        4981229                     5                 0     1  \n",
       "1        4974608                     6                 0     1  \n",
       "2        4935406                     1                 1     1  \n",
       "3        5040050                     6                 1     2  \n",
       "4        4987948                     0                 0     0  "
      ]
     },
     "execution_count": 28,
     "metadata": {},
     "output_type": "execute_result"
    }
   ],
   "source": [
    "data.head()"
   ]
  },
  {
   "cell_type": "markdown",
   "id": "rough-criticism",
   "metadata": {},
   "source": [
    "### Normalization Step - using scaler"
   ]
  },
  {
   "cell_type": "code",
   "execution_count": 29,
   "id": "regulated-president",
   "metadata": {},
   "outputs": [],
   "source": [
    "from sklearn.preprocessing import StandardScaler, MinMaxScaler\n",
    "\n",
    "# Used for the scikit models\n",
    "X_train, X_test, y_train, y_test = train_test_split(data[features].values, data[\"Risk\"].values, test_size=0.2)\n",
    "\n",
    "scaler = MinMaxScaler()\n",
    "scaler.fit(X_train)\n",
    "\n",
    "# Normalized Data\n",
    "X = data[features]\n",
    "Y = data[\"Risk\"]\n",
    "X_normalized = scaler.transform(data[features])\n",
    "\n",
    "\n",
    "# Normalized Splitted Data\n",
    "X_train_normalized = scaler.transform(X_train)\n",
    "X_test_normalized = scaler.transform(X_test)"
   ]
  },
  {
   "cell_type": "code",
   "execution_count": 30,
   "id": "pursuant-belarus",
   "metadata": {},
   "outputs": [
    {
     "data": {
      "text/plain": [
       "['../src/scaler/MinMaxScaler_ddos.joblib']"
      ]
     },
     "execution_count": 30,
     "metadata": {},
     "output_type": "execute_result"
    }
   ],
   "source": [
    "dump(scaler, SCALER_OUTPUT_PATH + 'MinMaxScaler_ddos.joblib') "
   ]
  },
  {
   "cell_type": "code",
   "execution_count": 31,
   "id": "formal-brand",
   "metadata": {},
   "outputs": [
    {
     "data": {
      "text/plain": [
       "array([1.66666667e-01, 2.50000000e-01, 6.51706526e-07, 2.04081633e-02,\n",
       "       2.04081633e-02, 2.20272565e-06, 1.11111111e-01, 1.00000000e+00])"
      ]
     },
     "execution_count": 31,
     "metadata": {},
     "output_type": "execute_result"
    }
   ],
   "source": [
    "scaler.scale_"
   ]
  },
  {
   "cell_type": "markdown",
   "id": "generic-crown",
   "metadata": {},
   "source": [
    "# Multilayer Perceptron (MLP) using Backpropagation"
   ]
  },
  {
   "cell_type": "code",
   "execution_count": 32,
   "id": "entertaining-economics",
   "metadata": {},
   "outputs": [],
   "source": [
    "from sklearn.neural_network import MLPClassifier"
   ]
  },
  {
   "cell_type": "code",
   "execution_count": 33,
   "id": "pressing-pendant",
   "metadata": {},
   "outputs": [],
   "source": [
    "mlp = MLPClassifier()"
   ]
  },
  {
   "cell_type": "code",
   "execution_count": 34,
   "id": "million-pickup",
   "metadata": {},
   "outputs": [
    {
     "name": "stderr",
     "output_type": "stream",
     "text": [
      "/usr/local/lib/python3.9/site-packages/joblib/externals/loky/process_executor.py:688: UserWarning: A worker stopped while some jobs were given to the executor. This can be caused by a too short worker timeout or by a memory leak.\n",
      "  warnings.warn(\n",
      "/usr/local/lib/python3.9/site-packages/sklearn/neural_network/_multilayer_perceptron.py:614: ConvergenceWarning: Stochastic Optimizer: Maximum iterations (200) reached and the optimization hasn't converged yet.\n",
      "  warnings.warn(\n"
     ]
    }
   ],
   "source": [
    "mlp_params={\n",
    "'learning_rate': [\"constant\", \"invscaling\", \"adaptive\"],\n",
    "'hidden_layer_sizes': [(5, 5)],\n",
    "'solver': [\"lbfgs\", \"sgd\", \"adam\"],\n",
    "'activation': [\"logistic\", \"relu\", \"tanh\"]\n",
    "}\n",
    "\n",
    "# Instanciate the Grid for parameter tuning\n",
    "mlp_grid = GridSearchCV(mlp, mlp_params, cv=5, scoring='accuracy', n_jobs=-1)\n",
    "\n",
    "mlp = mlp_grid.fit(X_train_normalized, y_train)"
   ]
  },
  {
   "cell_type": "code",
   "execution_count": 35,
   "id": "electrical-system",
   "metadata": {},
   "outputs": [
    {
     "name": "stdout",
     "output_type": "stream",
     "text": [
      "MLPClassifier(activation='tanh', hidden_layer_sizes=(5, 5),\n",
      "              learning_rate='invscaling')\n",
      "{'activation': 'tanh', 'hidden_layer_sizes': (5, 5), 'learning_rate': 'invscaling', 'solver': 'adam'}\n",
      "Best Accuracy: 89.21%\n"
     ]
    }
   ],
   "source": [
    "print(mlp.best_estimator_)\n",
    "print(mlp.best_params_)\n",
    "print('Best Accuracy: {0:.2%}'.format(mlp.best_score_))"
   ]
  },
  {
   "cell_type": "markdown",
   "id": "optional-florist",
   "metadata": {},
   "source": [
    "## Prediction"
   ]
  },
  {
   "cell_type": "code",
   "execution_count": 36,
   "id": "electoral-ghana",
   "metadata": {},
   "outputs": [
    {
     "name": "stdout",
     "output_type": "stream",
     "text": [
      "Predicted RISK is: LOW\n"
     ]
    }
   ],
   "source": [
    "prediction_result_mapping = {0: 'LOW', 1: 'MEDIUM', 2: 'HIGH'}\n",
    "\n",
    "predicted_risk = mlp.predict(scaler.transform([[4, 0, 57879, 1, 6, 4947796, 0, 0]]))[0]\n",
    "print(\"Predicted RISK is: \" + prediction_result_mapping[predicted_risk])"
   ]
  },
  {
   "cell_type": "markdown",
   "id": "veterinary-symposium",
   "metadata": {},
   "source": [
    "## Evaluate"
   ]
  },
  {
   "cell_type": "code",
   "execution_count": 37,
   "id": "civic-offense",
   "metadata": {},
   "outputs": [
    {
     "data": {
      "image/png": "[encoded data removed]",
      "text/plain": [
       "<Figure size 432x288 with 1 Axes>"
      ]
     },
     "metadata": {
      "needs_background": "light"
     },
     "output_type": "display_data"
    }
   ],
   "source": [
    "test_scores = mlp.cv_results_['mean_test_score']\n",
    "\n",
    "plt.title(\"Mean accuracy after 10-Fold Cross Validation with multiple param combinations\")\n",
    "plt.plot(test_scores)\n",
    "plt.ylabel(\"Accuracy\")\n",
    "plt.show()"
   ]
  },
  {
   "cell_type": "code",
   "execution_count": 38,
   "id": "dried-assistant",
   "metadata": {},
   "outputs": [
    {
     "name": "stdout",
     "output_type": "stream",
     "text": [
      "Accuracy: 90.59%\n"
     ]
    }
   ],
   "source": [
    "accuracy = mlp.score(X_test_normalized, y_test) \n",
    "print('Accuracy: {0:.2%}'.format(accuracy))"
   ]
  },
  {
   "cell_type": "code",
   "execution_count": 39,
   "id": "diverse-catering",
   "metadata": {},
   "outputs": [
    {
     "data": {
      "image/png": "[encoded data removed]",
      "text/plain": [
       "<Figure size 432x288 with 2 Axes>"
      ]
     },
     "metadata": {
      "needs_background": "light"
     },
     "output_type": "display_data"
    }
   ],
   "source": [
    "plot_confusion_matrix(mlp, X_test_normalized, y_test)  \n",
    "plt.show()"
   ]
  },
  {
   "cell_type": "markdown",
   "id": "twelve-teddy",
   "metadata": {},
   "source": [
    "## Export"
   ]
  },
  {
   "cell_type": "code",
   "execution_count": null,
   "id": "nominated-wales",
   "metadata": {},
   "outputs": [],
   "source": [
    "dump(mlp, MODEL_OUTPUT_PATH + 'MLP_ddos_classifier.joblib') "
   ]
  }
 ],
 "metadata": {
  "kernelspec": {
   "display_name": "Python 3",
   "language": "python",
   "name": "python3"
  },
  "language_info": {
   "codemirror_mode": {
    "name": "ipython",
    "version": 3
   },
   "file_extension": ".py",
   "mimetype": "text/x-python",
   "name": "python",
   "nbconvert_exporter": "python",
   "pygments_lexer": "ipython3",
   "version": "3.9.2"
  }
 },
 "nbformat": 4,
 "nbformat_minor": 5
}
