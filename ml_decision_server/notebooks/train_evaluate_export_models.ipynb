{
 "cells": [
  {
   "cell_type": "code",
   "execution_count": 1,
   "metadata": {
    "id": "PpHjojtsm3el"
   },
   "outputs": [],
   "source": [
    "import os\n",
    "import random\n",
    "import pandas as pd\n",
    "import numpy\n",
    "from sklearn.model_selection import train_test_split\n",
    "from sklearn.metrics import plot_confusion_matrix, ConfusionMatrixDisplay\n",
    "import matplotlib.pyplot as plt\n",
    "from sklearn.tree import export_text\n",
    "from joblib import dump, load\n",
    "from tqdm import tqdm\n",
    "from wandb.sklearn import plot_learning_curve\n",
    "from sklearn.model_selection import GridSearchCV\n",
    "import time\n",
    "\n",
    "MODEL_OUTPUT_PATH = \"../src/models/\"\n",
    "SCALER_OUTPUT_PATH = \"../src/scaler/\""
   ]
  },
  {
   "cell_type": "markdown",
   "metadata": {
    "id": "zNZraghsm_y-"
   },
   "source": [
    "# Data Generation"
   ]
  },
  {
   "cell_type": "markdown",
   "metadata": {},
   "source": [
    "## Data Generation for Overall Cyberrisk Prediction"
   ]
  },
  {
   "cell_type": "code",
   "execution_count": 3,
   "metadata": {
    "id": "-aiRIsuQnEz9"
   },
   "outputs": [],
   "source": [
    "columns = ['Invested Amount', 'Successful Attacks', 'Failed Attacks', 'Business Value', 'Number of Employees', 'Employee Training', 'Known Vulnerabilities', 'External Advisor', 'Risk']\n",
    "features = columns[:-1]\n",
    "LEVELS = ['LOW', 'MEDIUM', 'HIGH']\n",
    "ADVISOR = ['YES', 'NO']\n",
    "prediction_result_mapping = {0: 'LOW', 1: 'MEDIUM', 2: 'HIGH'}"
   ]
  },
  {
   "cell_type": "code",
   "execution_count": 4,
   "metadata": {
    "id": "pcZiySYynFMr"
   },
   "outputs": [],
   "source": [
    "def generate_data(nr_entries = 1000, min_empl = 30, max_empl = 10000, min_nr_attacks = 0, nr_attacks = 50, \n",
    "                  avg_business_value = 5000000, std_business_value = 50000, max_invested_perc = 0.3, max_nr_vulnerabilities = 10):\n",
    "    df = pd.DataFrame(columns=columns)\n",
    "    for i in tqdm(range(0, nr_entries)):\n",
    "        nr_employees = random.randint(min_empl, max_empl)\n",
    "        employees_training = random.choice(LEVELS)\n",
    "        \n",
    "        failed_attack = random.randrange(nr_attacks)\n",
    "        succ_attack = random.randrange(nr_attacks)\n",
    "        \n",
    "        business_value = int(numpy.random.normal(loc=avg_business_value, scale=std_business_value))\n",
    "        invested_perc = random.uniform(0, max_invested_perc)\n",
    "        invested_amount = int(invested_perc * business_value)\n",
    "        \n",
    "        known_vulnerabilities = random.randrange(max_nr_vulnerabilities)\n",
    "        external_adv = random.choice(ADVISOR)\n",
    "\n",
    "        # Risk is computed based on the other parameters and is then categorized using 'get_categorized_risk'\n",
    "        computed_risk = invested_perc - (succ_attack / nr_attacks) + (nr_employees / max_empl) * LEVELS.index(employees_training) - (known_vulnerabilities / max_nr_vulnerabilities) + ADVISOR.index(external_adv)\n",
    "                \n",
    "        df.loc[i] = [invested_amount, succ_attack, failed_attack, business_value, nr_employees, employees_training, known_vulnerabilities, external_adv, get_categorized_risk(computed_risk)]\n",
    "    return df\n",
    "\n",
    "def get_categorized_risk(weighted_risk, low_medium_boundary = 1.0, medium_high_boundary = 0.0):\n",
    "  if weighted_risk >= low_medium_boundary:\n",
    "      return \"LOW\"\n",
    "  elif weighted_risk >= medium_high_boundary and weighted_risk < low_medium_boundary:\n",
    "      return \"MEDIUM\"\n",
    "  else:\n",
    "      return \"HIGH\""
   ]
  },
  {
   "cell_type": "code",
   "execution_count": 5,
   "metadata": {
    "id": "rLn7TsxAnHvG"
   },
   "outputs": [
    {
     "name": "stderr",
     "output_type": "stream",
     "text": [
      "100%|██████████| 10000/10000 [00:23<00:00, 430.68it/s]\n"
     ]
    }
   ],
   "source": [
    "data = generate_data(nr_entries = 10000)"
   ]
  },
  {
   "cell_type": "code",
   "execution_count": 6,
   "metadata": {
    "colab": {
     "base_uri": "https://localhost:8080/"
    },
    "id": "joncs4RGRcM2",
    "outputId": "f503faa8-476c-4000-be3b-650e94611d5d"
   },
   "outputs": [
    {
     "data": {
      "text/html": [
       "<div>\n",
       "<style scoped>\n",
       "    .dataframe tbody tr th:only-of-type {\n",
       "        vertical-align: middle;\n",
       "    }\n",
       "\n",
       "    .dataframe tbody tr th {\n",
       "        vertical-align: top;\n",
       "    }\n",
       "\n",
       "    .dataframe thead th {\n",
       "        text-align: right;\n",
       "    }\n",
       "</style>\n",
       "<table border=\"1\" class=\"dataframe\">\n",
       "  <thead>\n",
       "    <tr style=\"text-align: right;\">\n",
       "      <th></th>\n",
       "      <th>Invested Amount</th>\n",
       "      <th>Successful Attacks</th>\n",
       "      <th>Failed Attacks</th>\n",
       "      <th>Business Value</th>\n",
       "      <th>Number of Employees</th>\n",
       "      <th>Employee Training</th>\n",
       "      <th>Known Vulnerabilities</th>\n",
       "      <th>External Advisor</th>\n",
       "      <th>Risk</th>\n",
       "    </tr>\n",
       "  </thead>\n",
       "  <tbody>\n",
       "    <tr>\n",
       "      <th>0</th>\n",
       "      <td>1067287</td>\n",
       "      <td>9</td>\n",
       "      <td>49</td>\n",
       "      <td>4971591</td>\n",
       "      <td>4451</td>\n",
       "      <td>MEDIUM</td>\n",
       "      <td>9</td>\n",
       "      <td>NO</td>\n",
       "      <td>MEDIUM</td>\n",
       "    </tr>\n",
       "    <tr>\n",
       "      <th>1</th>\n",
       "      <td>1460537</td>\n",
       "      <td>13</td>\n",
       "      <td>6</td>\n",
       "      <td>4994050</td>\n",
       "      <td>9533</td>\n",
       "      <td>MEDIUM</td>\n",
       "      <td>9</td>\n",
       "      <td>YES</td>\n",
       "      <td>MEDIUM</td>\n",
       "    </tr>\n",
       "    <tr>\n",
       "      <th>2</th>\n",
       "      <td>483205</td>\n",
       "      <td>4</td>\n",
       "      <td>35</td>\n",
       "      <td>4939448</td>\n",
       "      <td>1587</td>\n",
       "      <td>LOW</td>\n",
       "      <td>6</td>\n",
       "      <td>YES</td>\n",
       "      <td>HIGH</td>\n",
       "    </tr>\n",
       "    <tr>\n",
       "      <th>3</th>\n",
       "      <td>287311</td>\n",
       "      <td>11</td>\n",
       "      <td>25</td>\n",
       "      <td>5070857</td>\n",
       "      <td>1303</td>\n",
       "      <td>MEDIUM</td>\n",
       "      <td>9</td>\n",
       "      <td>YES</td>\n",
       "      <td>HIGH</td>\n",
       "    </tr>\n",
       "    <tr>\n",
       "      <th>4</th>\n",
       "      <td>414970</td>\n",
       "      <td>8</td>\n",
       "      <td>24</td>\n",
       "      <td>5036223</td>\n",
       "      <td>6257</td>\n",
       "      <td>LOW</td>\n",
       "      <td>7</td>\n",
       "      <td>YES</td>\n",
       "      <td>HIGH</td>\n",
       "    </tr>\n",
       "  </tbody>\n",
       "</table>\n",
       "</div>"
      ],
      "text/plain": [
       "  Invested Amount Successful Attacks Failed Attacks Business Value  \\\n",
       "0         1067287                  9             49        4971591   \n",
       "1         1460537                 13              6        4994050   \n",
       "2          483205                  4             35        4939448   \n",
       "3          287311                 11             25        5070857   \n",
       "4          414970                  8             24        5036223   \n",
       "\n",
       "  Number of Employees Employee Training Known Vulnerabilities  \\\n",
       "0                4451            MEDIUM                     9   \n",
       "1                9533            MEDIUM                     9   \n",
       "2                1587               LOW                     6   \n",
       "3                1303            MEDIUM                     9   \n",
       "4                6257               LOW                     7   \n",
       "\n",
       "  External Advisor    Risk  \n",
       "0               NO  MEDIUM  \n",
       "1              YES  MEDIUM  \n",
       "2              YES    HIGH  \n",
       "3              YES    HIGH  \n",
       "4              YES    HIGH  "
      ]
     },
     "execution_count": 6,
     "metadata": {},
     "output_type": "execute_result"
    }
   ],
   "source": [
    "data.head()"
   ]
  },
  {
   "cell_type": "code",
   "execution_count": 7,
   "metadata": {
    "colab": {
     "base_uri": "https://localhost:8080/"
    },
    "id": "o8JKzDQdRSbx",
    "outputId": "2ab31575-3681-44f1-b876-faea60f303a8"
   },
   "outputs": [
    {
     "data": {
      "text/html": [
       "<div>\n",
       "<style scoped>\n",
       "    .dataframe tbody tr th:only-of-type {\n",
       "        vertical-align: middle;\n",
       "    }\n",
       "\n",
       "    .dataframe tbody tr th {\n",
       "        vertical-align: top;\n",
       "    }\n",
       "\n",
       "    .dataframe thead th {\n",
       "        text-align: right;\n",
       "    }\n",
       "</style>\n",
       "<table border=\"1\" class=\"dataframe\">\n",
       "  <thead>\n",
       "    <tr style=\"text-align: right;\">\n",
       "      <th></th>\n",
       "      <th>Invested Amount</th>\n",
       "      <th>Successful Attacks</th>\n",
       "      <th>Failed Attacks</th>\n",
       "      <th>Business Value</th>\n",
       "      <th>Number of Employees</th>\n",
       "      <th>Employee Training</th>\n",
       "      <th>Known Vulnerabilities</th>\n",
       "      <th>External Advisor</th>\n",
       "      <th>Risk</th>\n",
       "    </tr>\n",
       "  </thead>\n",
       "  <tbody>\n",
       "    <tr>\n",
       "      <th>count</th>\n",
       "      <td>10000</td>\n",
       "      <td>10000</td>\n",
       "      <td>10000</td>\n",
       "      <td>10000</td>\n",
       "      <td>10000</td>\n",
       "      <td>10000</td>\n",
       "      <td>10000</td>\n",
       "      <td>10000</td>\n",
       "      <td>10000</td>\n",
       "    </tr>\n",
       "    <tr>\n",
       "      <th>unique</th>\n",
       "      <td>9973</td>\n",
       "      <td>50</td>\n",
       "      <td>50</td>\n",
       "      <td>9728</td>\n",
       "      <td>6317</td>\n",
       "      <td>3</td>\n",
       "      <td>10</td>\n",
       "      <td>2</td>\n",
       "      <td>3</td>\n",
       "    </tr>\n",
       "    <tr>\n",
       "      <th>top</th>\n",
       "      <td>744327</td>\n",
       "      <td>37</td>\n",
       "      <td>18</td>\n",
       "      <td>4976350</td>\n",
       "      <td>2908</td>\n",
       "      <td>HIGH</td>\n",
       "      <td>6</td>\n",
       "      <td>YES</td>\n",
       "      <td>HIGH</td>\n",
       "    </tr>\n",
       "    <tr>\n",
       "      <th>freq</th>\n",
       "      <td>2</td>\n",
       "      <td>231</td>\n",
       "      <td>257</td>\n",
       "      <td>3</td>\n",
       "      <td>6</td>\n",
       "      <td>3374</td>\n",
       "      <td>1050</td>\n",
       "      <td>5097</td>\n",
       "      <td>4252</td>\n",
       "    </tr>\n",
       "  </tbody>\n",
       "</table>\n",
       "</div>"
      ],
      "text/plain": [
       "        Invested Amount  Successful Attacks  Failed Attacks  Business Value  \\\n",
       "count             10000               10000           10000           10000   \n",
       "unique             9973                  50              50            9728   \n",
       "top              744327                  37              18         4976350   \n",
       "freq                  2                 231             257               3   \n",
       "\n",
       "        Number of Employees Employee Training  Known Vulnerabilities  \\\n",
       "count                 10000             10000                  10000   \n",
       "unique                 6317                 3                     10   \n",
       "top                    2908              HIGH                      6   \n",
       "freq                      6              3374                   1050   \n",
       "\n",
       "       External Advisor   Risk  \n",
       "count             10000  10000  \n",
       "unique                2      3  \n",
       "top                 YES   HIGH  \n",
       "freq               5097   4252  "
      ]
     },
     "execution_count": 7,
     "metadata": {},
     "output_type": "execute_result"
    }
   ],
   "source": [
    "data.describe()"
   ]
  },
  {
   "cell_type": "markdown",
   "metadata": {},
   "source": [
    "## Data Generation for DDoS RiskPrediction"
   ]
  },
  {
   "cell_type": "code",
   "execution_count": null,
   "metadata": {},
   "outputs": [],
   "source": []
  },
  {
   "cell_type": "markdown",
   "metadata": {
    "id": "j5jzupOcf4YK"
   },
   "source": [
    "## Data Export as .csv"
   ]
  },
  {
   "cell_type": "code",
   "execution_count": 57,
   "metadata": {
    "id": "8gE5LaXovjIc"
   },
   "outputs": [],
   "source": [
    "data.to_csv('data.csv')"
   ]
  },
  {
   "cell_type": "markdown",
   "metadata": {
    "id": "pLNjIGy823fN"
   },
   "source": [
    "# Data Processing"
   ]
  },
  {
   "cell_type": "markdown",
   "metadata": {
    "id": "9N28npkjgT6A"
   },
   "source": [
    "## Categorization Step"
   ]
  },
  {
   "cell_type": "code",
   "execution_count": 8,
   "metadata": {
    "id": "GV0F9aKHTN9F"
   },
   "outputs": [
    {
     "name": "stdout",
     "output_type": "stream",
     "text": [
      "Categorization time: 0.02112722396850586s\n"
     ]
    }
   ],
   "source": [
    "start = time.time()\n",
    "\n",
    "levels_mapping = { 'LOW': 0, 'MEDIUM': 1, 'HIGH': 2 }\n",
    "advisor_mapping = { 'NO': 0, 'YES': 1 }\n",
    "\n",
    "data = data.replace({'Employee Training': levels_mapping, 'Risk': levels_mapping, 'External Advisor': advisor_mapping})\n",
    "\n",
    "stop = time.time()\n",
    "print(f\"Categorization time: {stop - start}s\")"
   ]
  },
  {
   "cell_type": "code",
   "execution_count": 10,
   "metadata": {
    "colab": {
     "base_uri": "https://localhost:8080/"
    },
    "id": "wVxuzRnAUGr3",
    "outputId": "805b70a0-6a54-4f9e-cacb-2fa2cfa15f43"
   },
   "outputs": [
    {
     "data": {
      "text/html": [
       "<div>\n",
       "<style scoped>\n",
       "    .dataframe tbody tr th:only-of-type {\n",
       "        vertical-align: middle;\n",
       "    }\n",
       "\n",
       "    .dataframe tbody tr th {\n",
       "        vertical-align: top;\n",
       "    }\n",
       "\n",
       "    .dataframe thead th {\n",
       "        text-align: right;\n",
       "    }\n",
       "</style>\n",
       "<table border=\"1\" class=\"dataframe\">\n",
       "  <thead>\n",
       "    <tr style=\"text-align: right;\">\n",
       "      <th></th>\n",
       "      <th>Invested Amount</th>\n",
       "      <th>Successful Attacks</th>\n",
       "      <th>Failed Attacks</th>\n",
       "      <th>Business Value</th>\n",
       "      <th>Number of Employees</th>\n",
       "      <th>Employee Training</th>\n",
       "      <th>Known Vulnerabilities</th>\n",
       "      <th>External Advisor</th>\n",
       "      <th>Risk</th>\n",
       "    </tr>\n",
       "  </thead>\n",
       "  <tbody>\n",
       "    <tr>\n",
       "      <th>0</th>\n",
       "      <td>1067287</td>\n",
       "      <td>9</td>\n",
       "      <td>49</td>\n",
       "      <td>4971591</td>\n",
       "      <td>4451</td>\n",
       "      <td>1</td>\n",
       "      <td>9</td>\n",
       "      <td>0</td>\n",
       "      <td>1</td>\n",
       "    </tr>\n",
       "    <tr>\n",
       "      <th>1</th>\n",
       "      <td>1460537</td>\n",
       "      <td>13</td>\n",
       "      <td>6</td>\n",
       "      <td>4994050</td>\n",
       "      <td>9533</td>\n",
       "      <td>1</td>\n",
       "      <td>9</td>\n",
       "      <td>1</td>\n",
       "      <td>1</td>\n",
       "    </tr>\n",
       "    <tr>\n",
       "      <th>2</th>\n",
       "      <td>483205</td>\n",
       "      <td>4</td>\n",
       "      <td>35</td>\n",
       "      <td>4939448</td>\n",
       "      <td>1587</td>\n",
       "      <td>0</td>\n",
       "      <td>6</td>\n",
       "      <td>1</td>\n",
       "      <td>2</td>\n",
       "    </tr>\n",
       "    <tr>\n",
       "      <th>3</th>\n",
       "      <td>287311</td>\n",
       "      <td>11</td>\n",
       "      <td>25</td>\n",
       "      <td>5070857</td>\n",
       "      <td>1303</td>\n",
       "      <td>1</td>\n",
       "      <td>9</td>\n",
       "      <td>1</td>\n",
       "      <td>2</td>\n",
       "    </tr>\n",
       "    <tr>\n",
       "      <th>4</th>\n",
       "      <td>414970</td>\n",
       "      <td>8</td>\n",
       "      <td>24</td>\n",
       "      <td>5036223</td>\n",
       "      <td>6257</td>\n",
       "      <td>0</td>\n",
       "      <td>7</td>\n",
       "      <td>1</td>\n",
       "      <td>2</td>\n",
       "    </tr>\n",
       "  </tbody>\n",
       "</table>\n",
       "</div>"
      ],
      "text/plain": [
       "  Invested Amount Successful Attacks Failed Attacks Business Value  \\\n",
       "0         1067287                  9             49        4971591   \n",
       "1         1460537                 13              6        4994050   \n",
       "2          483205                  4             35        4939448   \n",
       "3          287311                 11             25        5070857   \n",
       "4          414970                  8             24        5036223   \n",
       "\n",
       "  Number of Employees  Employee Training Known Vulnerabilities  \\\n",
       "0                4451                  1                     9   \n",
       "1                9533                  1                     9   \n",
       "2                1587                  0                     6   \n",
       "3                1303                  1                     9   \n",
       "4                6257                  0                     7   \n",
       "\n",
       "   External Advisor  Risk  \n",
       "0                 0     1  \n",
       "1                 1     1  \n",
       "2                 1     2  \n",
       "3                 1     2  \n",
       "4                 1     2  "
      ]
     },
     "execution_count": 10,
     "metadata": {},
     "output_type": "execute_result"
    }
   ],
   "source": [
    "data.head()"
   ]
  },
  {
   "cell_type": "markdown",
   "metadata": {
    "id": "XC3ojrafgOeX"
   },
   "source": [
    "## Normalization Step - using scaler"
   ]
  },
  {
   "cell_type": "code",
   "execution_count": 11,
   "metadata": {
    "colab": {
     "base_uri": "https://localhost:8080/"
    },
    "id": "7a32suNR26Bm",
    "outputId": "4a7e29e3-ea24-46a3-82c3-5c7143ba0b1c"
   },
   "outputs": [],
   "source": [
    "from sklearn.preprocessing import StandardScaler, MinMaxScaler\n",
    "\n",
    "# Used for Tensorflow model\n",
    "normalized_data = data[features].apply(lambda x: ( (x - x.min()) / (x.max() - x.min())))\n",
    "normalized_data.head()\n",
    "\n",
    "\n",
    "# Used for the scikit models\n",
    "#data = pd.read_csv(\"data.csv\")\n",
    "data.head()\n",
    "X_train, X_test, y_train, y_test = train_test_split(data[features].values, data[\"Risk\"].values, random_state=0)\n",
    "\n",
    "scaler = MinMaxScaler()\n",
    "scaler.fit(X_train)\n",
    "\n",
    "# Normalited Data\n",
    "X = data[features]\n",
    "Y = data[\"Risk\"]\n",
    "X_normalized = scaler.transform(data[features])\n",
    "\n",
    "\n",
    "# Normalized Splitted Data\n",
    "X_train_normalized = scaler.transform(X_train)\n",
    "X_test_normalized = scaler.transform(X_test)"
   ]
  },
  {
   "cell_type": "code",
   "execution_count": 569,
   "metadata": {},
   "outputs": [
    {
     "data": {
      "text/plain": [
       "['../src/scaler/MinMaxScaler.joblib']"
      ]
     },
     "execution_count": 569,
     "metadata": {},
     "output_type": "execute_result"
    }
   ],
   "source": [
    "dump(scaler, SCALER_OUTPUT_PATH + 'MinMaxScaler.joblib') "
   ]
  },
  {
   "cell_type": "code",
   "execution_count": 12,
   "metadata": {},
   "outputs": [
    {
     "data": {
      "text/plain": [
       "array([6.54834677e-07, 2.04081633e-02, 2.04081633e-02, 2.53483497e-06,\n",
       "       1.00341160e-04, 5.00000000e-01, 1.11111111e-01, 1.00000000e+00])"
      ]
     },
     "execution_count": 12,
     "metadata": {},
     "output_type": "execute_result"
    }
   ],
   "source": [
    "scaler.scale_"
   ]
  },
  {
   "cell_type": "markdown",
   "metadata": {
    "id": "WO5fIwT19COL"
   },
   "source": [
    "# Decision Tree Classifier"
   ]
  },
  {
   "cell_type": "code",
   "execution_count": 13,
   "metadata": {
    "id": "KgNfk7F1-uVE"
   },
   "outputs": [],
   "source": [
    "from sklearn.tree import DecisionTreeClassifier \n",
    "from sklearn.metrics import accuracy_score"
   ]
  },
  {
   "cell_type": "code",
   "execution_count": 131,
   "metadata": {
    "id": "lH6UCQ7YBKXy"
   },
   "outputs": [],
   "source": [
    "dtree = DecisionTreeClassifier()"
   ]
  },
  {
   "cell_type": "markdown",
   "metadata": {},
   "source": [
    "## Parameter Tuning (with K-Fold Cross Validation)"
   ]
  },
  {
   "cell_type": "code",
   "execution_count": 132,
   "metadata": {},
   "outputs": [],
   "source": [
    "# Define the parameter ranges that should be tested on the model\n",
    "dtree_params = {\n",
    "    'criterion': [\"gini\", \"entropy\"],\n",
    "    'max_depth': range(1, 10),\n",
    "    'min_samples_split': range(2, 10),\n",
    "    'min_samples_leaf': range(1, 10)\n",
    "}\n",
    "\n",
    "# Instanciate the Grid for parameter tuning\n",
    "dtree_grid = GridSearchCV(dtree, dtree_params, cv=10, scoring='accuracy', n_jobs=-1)\n",
    "\n",
    "dtree = dtree_grid.fit(X, Y)"
   ]
  },
  {
   "cell_type": "code",
   "execution_count": 133,
   "metadata": {},
   "outputs": [
    {
     "data": {
      "text/html": [
       "<div>\n",
       "<style scoped>\n",
       "    .dataframe tbody tr th:only-of-type {\n",
       "        vertical-align: middle;\n",
       "    }\n",
       "\n",
       "    .dataframe tbody tr th {\n",
       "        vertical-align: top;\n",
       "    }\n",
       "\n",
       "    .dataframe thead th {\n",
       "        text-align: right;\n",
       "    }\n",
       "</style>\n",
       "<table border=\"1\" class=\"dataframe\">\n",
       "  <thead>\n",
       "    <tr style=\"text-align: right;\">\n",
       "      <th></th>\n",
       "      <th>mean_fit_time</th>\n",
       "      <th>std_fit_time</th>\n",
       "      <th>mean_score_time</th>\n",
       "      <th>std_score_time</th>\n",
       "      <th>param_criterion</th>\n",
       "      <th>param_max_depth</th>\n",
       "      <th>param_min_samples_leaf</th>\n",
       "      <th>param_min_samples_split</th>\n",
       "      <th>params</th>\n",
       "      <th>split0_test_score</th>\n",
       "      <th>...</th>\n",
       "      <th>split3_test_score</th>\n",
       "      <th>split4_test_score</th>\n",
       "      <th>split5_test_score</th>\n",
       "      <th>split6_test_score</th>\n",
       "      <th>split7_test_score</th>\n",
       "      <th>split8_test_score</th>\n",
       "      <th>split9_test_score</th>\n",
       "      <th>mean_test_score</th>\n",
       "      <th>std_test_score</th>\n",
       "      <th>rank_test_score</th>\n",
       "    </tr>\n",
       "  </thead>\n",
       "  <tbody>\n",
       "    <tr>\n",
       "      <th>0</th>\n",
       "      <td>0.014150</td>\n",
       "      <td>0.004591</td>\n",
       "      <td>0.002624</td>\n",
       "      <td>0.001492</td>\n",
       "      <td>gini</td>\n",
       "      <td>1</td>\n",
       "      <td>1</td>\n",
       "      <td>2</td>\n",
       "      <td>{'criterion': 'gini', 'max_depth': 1, 'min_sam...</td>\n",
       "      <td>0.63</td>\n",
       "      <td>...</td>\n",
       "      <td>0.605</td>\n",
       "      <td>0.617</td>\n",
       "      <td>0.613</td>\n",
       "      <td>0.596</td>\n",
       "      <td>0.611</td>\n",
       "      <td>0.597</td>\n",
       "      <td>0.638</td>\n",
       "      <td>0.6128</td>\n",
       "      <td>0.013037</td>\n",
       "      <td>1153</td>\n",
       "    </tr>\n",
       "    <tr>\n",
       "      <th>1</th>\n",
       "      <td>0.009757</td>\n",
       "      <td>0.001130</td>\n",
       "      <td>0.001666</td>\n",
       "      <td>0.000322</td>\n",
       "      <td>gini</td>\n",
       "      <td>1</td>\n",
       "      <td>1</td>\n",
       "      <td>3</td>\n",
       "      <td>{'criterion': 'gini', 'max_depth': 1, 'min_sam...</td>\n",
       "      <td>0.63</td>\n",
       "      <td>...</td>\n",
       "      <td>0.605</td>\n",
       "      <td>0.617</td>\n",
       "      <td>0.613</td>\n",
       "      <td>0.596</td>\n",
       "      <td>0.611</td>\n",
       "      <td>0.597</td>\n",
       "      <td>0.638</td>\n",
       "      <td>0.6128</td>\n",
       "      <td>0.013037</td>\n",
       "      <td>1153</td>\n",
       "    </tr>\n",
       "    <tr>\n",
       "      <th>2</th>\n",
       "      <td>0.009308</td>\n",
       "      <td>0.000785</td>\n",
       "      <td>0.001738</td>\n",
       "      <td>0.000585</td>\n",
       "      <td>gini</td>\n",
       "      <td>1</td>\n",
       "      <td>1</td>\n",
       "      <td>4</td>\n",
       "      <td>{'criterion': 'gini', 'max_depth': 1, 'min_sam...</td>\n",
       "      <td>0.63</td>\n",
       "      <td>...</td>\n",
       "      <td>0.605</td>\n",
       "      <td>0.617</td>\n",
       "      <td>0.613</td>\n",
       "      <td>0.596</td>\n",
       "      <td>0.611</td>\n",
       "      <td>0.597</td>\n",
       "      <td>0.638</td>\n",
       "      <td>0.6128</td>\n",
       "      <td>0.013037</td>\n",
       "      <td>1153</td>\n",
       "    </tr>\n",
       "    <tr>\n",
       "      <th>3</th>\n",
       "      <td>0.011211</td>\n",
       "      <td>0.002240</td>\n",
       "      <td>0.003114</td>\n",
       "      <td>0.003118</td>\n",
       "      <td>gini</td>\n",
       "      <td>1</td>\n",
       "      <td>1</td>\n",
       "      <td>5</td>\n",
       "      <td>{'criterion': 'gini', 'max_depth': 1, 'min_sam...</td>\n",
       "      <td>0.63</td>\n",
       "      <td>...</td>\n",
       "      <td>0.605</td>\n",
       "      <td>0.617</td>\n",
       "      <td>0.613</td>\n",
       "      <td>0.596</td>\n",
       "      <td>0.611</td>\n",
       "      <td>0.597</td>\n",
       "      <td>0.638</td>\n",
       "      <td>0.6128</td>\n",
       "      <td>0.013037</td>\n",
       "      <td>1153</td>\n",
       "    </tr>\n",
       "    <tr>\n",
       "      <th>4</th>\n",
       "      <td>0.009523</td>\n",
       "      <td>0.000793</td>\n",
       "      <td>0.002174</td>\n",
       "      <td>0.000969</td>\n",
       "      <td>gini</td>\n",
       "      <td>1</td>\n",
       "      <td>1</td>\n",
       "      <td>6</td>\n",
       "      <td>{'criterion': 'gini', 'max_depth': 1, 'min_sam...</td>\n",
       "      <td>0.63</td>\n",
       "      <td>...</td>\n",
       "      <td>0.605</td>\n",
       "      <td>0.617</td>\n",
       "      <td>0.613</td>\n",
       "      <td>0.596</td>\n",
       "      <td>0.611</td>\n",
       "      <td>0.597</td>\n",
       "      <td>0.638</td>\n",
       "      <td>0.6128</td>\n",
       "      <td>0.013037</td>\n",
       "      <td>1153</td>\n",
       "    </tr>\n",
       "  </tbody>\n",
       "</table>\n",
       "<p>5 rows × 22 columns</p>\n",
       "</div>"
      ],
      "text/plain": [
       "   mean_fit_time  std_fit_time  mean_score_time  std_score_time  \\\n",
       "0       0.014150      0.004591         0.002624        0.001492   \n",
       "1       0.009757      0.001130         0.001666        0.000322   \n",
       "2       0.009308      0.000785         0.001738        0.000585   \n",
       "3       0.011211      0.002240         0.003114        0.003118   \n",
       "4       0.009523      0.000793         0.002174        0.000969   \n",
       "\n",
       "  param_criterion param_max_depth param_min_samples_leaf  \\\n",
       "0            gini               1                      1   \n",
       "1            gini               1                      1   \n",
       "2            gini               1                      1   \n",
       "3            gini               1                      1   \n",
       "4            gini               1                      1   \n",
       "\n",
       "  param_min_samples_split                                             params  \\\n",
       "0                       2  {'criterion': 'gini', 'max_depth': 1, 'min_sam...   \n",
       "1                       3  {'criterion': 'gini', 'max_depth': 1, 'min_sam...   \n",
       "2                       4  {'criterion': 'gini', 'max_depth': 1, 'min_sam...   \n",
       "3                       5  {'criterion': 'gini', 'max_depth': 1, 'min_sam...   \n",
       "4                       6  {'criterion': 'gini', 'max_depth': 1, 'min_sam...   \n",
       "\n",
       "   split0_test_score  ...  split3_test_score  split4_test_score  \\\n",
       "0               0.63  ...              0.605              0.617   \n",
       "1               0.63  ...              0.605              0.617   \n",
       "2               0.63  ...              0.605              0.617   \n",
       "3               0.63  ...              0.605              0.617   \n",
       "4               0.63  ...              0.605              0.617   \n",
       "\n",
       "   split5_test_score  split6_test_score  split7_test_score  split8_test_score  \\\n",
       "0              0.613              0.596              0.611              0.597   \n",
       "1              0.613              0.596              0.611              0.597   \n",
       "2              0.613              0.596              0.611              0.597   \n",
       "3              0.613              0.596              0.611              0.597   \n",
       "4              0.613              0.596              0.611              0.597   \n",
       "\n",
       "   split9_test_score  mean_test_score  std_test_score  rank_test_score  \n",
       "0              0.638           0.6128        0.013037             1153  \n",
       "1              0.638           0.6128        0.013037             1153  \n",
       "2              0.638           0.6128        0.013037             1153  \n",
       "3              0.638           0.6128        0.013037             1153  \n",
       "4              0.638           0.6128        0.013037             1153  \n",
       "\n",
       "[5 rows x 22 columns]"
      ]
     },
     "execution_count": 133,
     "metadata": {},
     "output_type": "execute_result"
    }
   ],
   "source": [
    "pd.DataFrame(dtree.cv_results_).head()"
   ]
  },
  {
   "cell_type": "code",
   "execution_count": 134,
   "metadata": {},
   "outputs": [
    {
     "name": "stdout",
     "output_type": "stream",
     "text": [
      "DecisionTreeClassifier(criterion='entropy', max_depth=9, min_samples_leaf=4,\n",
      "                       min_samples_split=3)\n",
      "{'criterion': 'entropy', 'max_depth': 9, 'min_samples_leaf': 4, 'min_samples_split': 3}\n",
      "Best Accuracy: 91.38%\n"
     ]
    }
   ],
   "source": [
    "print(dtree.best_estimator_)\n",
    "print(dtree.best_params_)\n",
    "print('Best Accuracy: {0:.2%}'.format(dtree.best_score_))"
   ]
  },
  {
   "cell_type": "markdown",
   "metadata": {
    "id": "gLCndhSU-33o"
   },
   "source": [
    "## (Train - using Test-Train Split)"
   ]
  },
  {
   "cell_type": "code",
   "execution_count": null,
   "metadata": {
    "id": "sG9pTfVT-zl5"
   },
   "outputs": [],
   "source": [
    "#start = time.time()\n",
    "\n",
    "#dtree.fit(X_train, y_train) \n",
    "\n",
    "#stop = time.time()\n",
    "#print(f\"Training time for Decision Tree Classifier: {stop - start}s\")"
   ]
  },
  {
   "cell_type": "markdown",
   "metadata": {
    "id": "W6INnv4s-7Lr"
   },
   "source": [
    "## Evaluate"
   ]
  },
  {
   "cell_type": "code",
   "execution_count": 138,
   "metadata": {},
   "outputs": [
    {
     "data": {
      "image/png": "[encoded data removed]",
      "text/plain": [
       "<Figure size 432x288 with 1 Axes>"
      ]
     },
     "metadata": {
      "needs_background": "light"
     },
     "output_type": "display_data"
    }
   ],
   "source": [
    "test_scores = dtree.cv_results_['mean_test_score']\n",
    "\n",
    "plt.title(\"Mean accuracy after 10-Fold Cross Validation\")\n",
    "plt.plot(test_scores)\n",
    "plt.xlabel(\"Iteration\")\n",
    "plt.ylabel(\"Accuracy\")\n",
    "plt.show()"
   ]
  },
  {
   "cell_type": "code",
   "execution_count": 68,
   "metadata": {
    "colab": {
     "base_uri": "https://localhost:8080/"
    },
    "id": "BcEqOFL78lUB",
    "outputId": "7f6d1c18-8b6e-44e5-cddf-3a8ccb1ecb9e"
   },
   "outputs": [],
   "source": [
    "#accuracy = dtree.score(X_test, y_test) \n",
    "#print('Accuracy: {0:.2%}'.format(accuracy))"
   ]
  },
  {
   "cell_type": "code",
   "execution_count": 136,
   "metadata": {
    "colab": {
     "base_uri": "https://localhost:8080/",
     "height": 279
    },
    "id": "YiRDsZKLAvwK",
    "outputId": "2cef82a9-3bd5-4088-d725-cb2cb1ebcb8c"
   },
   "outputs": [
    {
     "data": {
      "image/png": "[encoded data removed]",
      "text/plain": [
       "<Figure size 432x288 with 2 Axes>"
      ]
     },
     "metadata": {
      "needs_background": "light"
     },
     "output_type": "display_data"
    }
   ],
   "source": [
    "plot_confusion_matrix(dtree, X_test, y_test)  \n",
    "plt.show()"
   ]
  },
  {
   "cell_type": "markdown",
   "metadata": {
    "id": "b2mHCI6cM_dY"
   },
   "source": [
    "## Export"
   ]
  },
  {
   "cell_type": "code",
   "execution_count": 139,
   "metadata": {
    "colab": {
     "base_uri": "https://localhost:8080/"
    },
    "id": "hL7D6-KZNDN1",
    "outputId": "65941a09-e0e6-4865-94f5-22c5a88fab81",
    "scrolled": true
   },
   "outputs": [
    {
     "name": "stdout",
     "output_type": "stream",
     "text": [
      "|--- External Advisor <= 0.50\n",
      "|   |--- Employee Training <= 0.50\n",
      "|   |   |--- Successful Attacks <= 21.50\n",
      "|   |   |   |--- Known Vulnerabilities <= 6.50\n",
      "|   |   |   |   |--- Known Vulnerabilities <= 1.50\n",
      "|   |   |   |   |   |--- Successful Attacks <= 10.50\n",
      "|   |   |   |   |   |   |--- Invested Amount <= 678281.50\n",
      "|   |   |   |   |   |   |   |--- Known Vulnerabilities <= 0.50\n",
      "|   |   |   |   |   |   |   |   |--- Successful Attacks <= 3.50\n",
      "|   |   |   |   |   |   |   |   |   |--- class: 0\n",
      "|   |   |   |   |   |   |   |   |--- Successful Attacks >  3.50\n",
      "|   |   |   |   |   |   |   |   |   |--- class: 1\n",
      "|   |   |   |   |   |   |   |--- Known Vulnerabilities >  0.50\n",
      "|   |   |   |   |   |   |   |   |--- class: 1\n",
      "|   |   |   |   |   |   |--- Invested Amount >  678281.50\n",
      "|   |   |   |   |   |   |   |--- Successful Attacks <= 6.50\n",
      "|   |   |   |   |   |   |   |   |--- class: 0\n",
      "|   |   |   |   |   |   |   |--- Successful Attacks >  6.50\n",
      "|   |   |   |   |   |   |   |   |--- Known Vulnerabilities <= 0.50\n",
      "|   |   |   |   |   |   |   |   |   |--- class: 0\n",
      "|   |   |   |   |   |   |   |   |--- Known Vulnerabilities >  0.50\n",
      "|   |   |   |   |   |   |   |   |   |--- class: 1\n",
      "|   |   |   |   |   |--- Successful Attacks >  10.50\n",
      "|   |   |   |   |   |   |--- Failed Attacks <= 47.50\n",
      "|   |   |   |   |   |   |   |--- class: 1\n",
      "|   |   |   |   |   |   |--- Failed Attacks >  47.50\n",
      "|   |   |   |   |   |   |   |--- class: 1\n",
      "|   |   |   |   |--- Known Vulnerabilities >  1.50\n",
      "|   |   |   |   |   |--- Successful Attacks <= 2.50\n",
      "|   |   |   |   |   |   |--- Invested Amount <= 1133687.00\n",
      "|   |   |   |   |   |   |   |--- class: 1\n",
      "|   |   |   |   |   |   |--- Invested Amount >  1133687.00\n",
      "|   |   |   |   |   |   |   |--- Known Vulnerabilities <= 3.50\n",
      "|   |   |   |   |   |   |   |   |--- class: 0\n",
      "|   |   |   |   |   |   |   |--- Known Vulnerabilities >  3.50\n",
      "|   |   |   |   |   |   |   |   |--- class: 1\n",
      "|   |   |   |   |   |--- Successful Attacks >  2.50\n",
      "|   |   |   |   |   |   |--- class: 1\n",
      "|   |   |   |--- Known Vulnerabilities >  6.50\n",
      "|   |   |   |   |--- Successful Attacks <= 10.50\n",
      "|   |   |   |   |   |--- Invested Amount <= 271094.50\n",
      "|   |   |   |   |   |   |--- Successful Attacks <= 6.50\n",
      "|   |   |   |   |   |   |   |--- class: 1\n",
      "|   |   |   |   |   |   |--- Successful Attacks >  6.50\n",
      "|   |   |   |   |   |   |   |--- Failed Attacks <= 30.50\n",
      "|   |   |   |   |   |   |   |   |--- class: 1\n",
      "|   |   |   |   |   |   |   |--- Failed Attacks >  30.50\n",
      "|   |   |   |   |   |   |   |   |--- class: 1\n",
      "|   |   |   |   |   |--- Invested Amount >  271094.50\n",
      "|   |   |   |   |   |   |--- class: 1\n",
      "|   |   |   |   |--- Successful Attacks >  10.50\n",
      "|   |   |   |   |   |--- Invested Amount <= 637381.00\n",
      "|   |   |   |   |   |   |--- Known Vulnerabilities <= 7.50\n",
      "|   |   |   |   |   |   |   |--- Successful Attacks <= 16.50\n",
      "|   |   |   |   |   |   |   |   |--- class: 1\n",
      "|   |   |   |   |   |   |   |--- Successful Attacks >  16.50\n",
      "|   |   |   |   |   |   |   |   |--- class: 2\n",
      "|   |   |   |   |   |   |--- Known Vulnerabilities >  7.50\n",
      "|   |   |   |   |   |   |   |--- Known Vulnerabilities <= 8.50\n",
      "|   |   |   |   |   |   |   |   |--- Successful Attacks <= 15.50\n",
      "|   |   |   |   |   |   |   |   |   |--- class: 1\n",
      "|   |   |   |   |   |   |   |   |--- Successful Attacks >  15.50\n",
      "|   |   |   |   |   |   |   |   |   |--- class: 2\n",
      "|   |   |   |   |   |   |   |--- Known Vulnerabilities >  8.50\n",
      "|   |   |   |   |   |   |   |   |--- class: 2\n",
      "|   |   |   |   |   |--- Invested Amount >  637381.00\n",
      "|   |   |   |   |   |   |--- Known Vulnerabilities <= 8.50\n",
      "|   |   |   |   |   |   |   |--- Successful Attacks <= 19.00\n",
      "|   |   |   |   |   |   |   |   |--- class: 1\n",
      "|   |   |   |   |   |   |   |--- Successful Attacks >  19.00\n",
      "|   |   |   |   |   |   |   |   |--- class: 1\n",
      "|   |   |   |   |   |   |--- Known Vulnerabilities >  8.50\n",
      "|   |   |   |   |   |   |   |--- Successful Attacks <= 15.50\n",
      "|   |   |   |   |   |   |   |   |--- Business Value <= 4980046.00\n",
      "|   |   |   |   |   |   |   |   |   |--- class: 1\n",
      "|   |   |   |   |   |   |   |   |--- Business Value >  4980046.00\n",
      "|   |   |   |   |   |   |   |   |   |--- class: 1\n",
      "|   |   |   |   |   |   |   |--- Successful Attacks >  15.50\n",
      "|   |   |   |   |   |   |   |   |--- Number of Employees <= 5404.50\n",
      "|   |   |   |   |   |   |   |   |   |--- class: 2\n",
      "|   |   |   |   |   |   |   |   |--- Number of Employees >  5404.50\n",
      "|   |   |   |   |   |   |   |   |   |--- class: 2\n",
      "|   |   |--- Successful Attacks >  21.50\n",
      "|   |   |   |--- Known Vulnerabilities <= 4.50\n",
      "|   |   |   |   |--- Successful Attacks <= 39.50\n",
      "|   |   |   |   |   |--- Known Vulnerabilities <= 3.50\n",
      "|   |   |   |   |   |   |--- class: 1\n",
      "|   |   |   |   |   |--- Known Vulnerabilities >  3.50\n",
      "|   |   |   |   |   |   |--- Invested Amount <= 541895.50\n",
      "|   |   |   |   |   |   |   |--- Successful Attacks <= 33.00\n",
      "|   |   |   |   |   |   |   |   |--- class: 1\n",
      "|   |   |   |   |   |   |   |--- Successful Attacks >  33.00\n",
      "|   |   |   |   |   |   |   |   |--- class: 2\n",
      "|   |   |   |   |   |   |--- Invested Amount >  541895.50\n",
      "|   |   |   |   |   |   |   |--- class: 1\n",
      "|   |   |   |   |--- Successful Attacks >  39.50\n",
      "|   |   |   |   |   |--- Known Vulnerabilities <= 1.50\n",
      "|   |   |   |   |   |   |--- Invested Amount <= 79966.00\n",
      "|   |   |   |   |   |   |   |--- class: 2\n",
      "|   |   |   |   |   |   |--- Invested Amount >  79966.00\n",
      "|   |   |   |   |   |   |   |--- class: 1\n",
      "|   |   |   |   |   |--- Known Vulnerabilities >  1.50\n",
      "|   |   |   |   |   |   |--- Invested Amount <= 516855.00\n",
      "|   |   |   |   |   |   |   |--- Successful Attacks <= 41.50\n",
      "|   |   |   |   |   |   |   |   |--- class: 2\n",
      "|   |   |   |   |   |   |   |--- Successful Attacks >  41.50\n",
      "|   |   |   |   |   |   |   |   |--- class: 2\n",
      "|   |   |   |   |   |   |--- Invested Amount >  516855.00\n",
      "|   |   |   |   |   |   |   |--- Known Vulnerabilities <= 2.50\n",
      "|   |   |   |   |   |   |   |   |--- Failed Attacks <= 12.00\n",
      "|   |   |   |   |   |   |   |   |   |--- class: 1\n",
      "|   |   |   |   |   |   |   |   |--- Failed Attacks >  12.00\n",
      "|   |   |   |   |   |   |   |   |   |--- class: 1\n",
      "|   |   |   |   |   |   |   |--- Known Vulnerabilities >  2.50\n",
      "|   |   |   |   |   |   |   |   |--- Invested Amount <= 1313521.00\n",
      "|   |   |   |   |   |   |   |   |   |--- class: 2\n",
      "|   |   |   |   |   |   |   |   |--- Invested Amount >  1313521.00\n",
      "|   |   |   |   |   |   |   |   |   |--- class: 1\n",
      "|   |   |   |--- Known Vulnerabilities >  4.50\n",
      "|   |   |   |   |--- Successful Attacks <= 30.50\n",
      "|   |   |   |   |   |--- Known Vulnerabilities <= 6.50\n",
      "|   |   |   |   |   |   |--- Invested Amount <= 516365.00\n",
      "|   |   |   |   |   |   |   |--- Known Vulnerabilities <= 5.50\n",
      "|   |   |   |   |   |   |   |   |--- class: 1\n",
      "|   |   |   |   |   |   |   |--- Known Vulnerabilities >  5.50\n",
      "|   |   |   |   |   |   |   |   |--- Number of Employees <= 3443.00\n",
      "|   |   |   |   |   |   |   |   |   |--- class: 2\n",
      "|   |   |   |   |   |   |   |   |--- Number of Employees >  3443.00\n",
      "|   |   |   |   |   |   |   |   |   |--- class: 2\n",
      "|   |   |   |   |   |   |--- Invested Amount >  516365.00\n",
      "|   |   |   |   |   |   |   |--- Number of Employees <= 8088.00\n",
      "|   |   |   |   |   |   |   |   |--- class: 1\n",
      "|   |   |   |   |   |   |   |--- Number of Employees >  8088.00\n",
      "|   |   |   |   |   |   |   |   |--- Successful Attacks <= 26.50\n",
      "|   |   |   |   |   |   |   |   |   |--- class: 1\n",
      "|   |   |   |   |   |   |   |   |--- Successful Attacks >  26.50\n",
      "|   |   |   |   |   |   |   |   |   |--- class: 1\n",
      "|   |   |   |   |   |--- Known Vulnerabilities >  6.50\n",
      "|   |   |   |   |   |   |--- Invested Amount <= 1020824.00\n",
      "|   |   |   |   |   |   |   |--- class: 2\n",
      "|   |   |   |   |   |   |--- Invested Amount >  1020824.00\n",
      "|   |   |   |   |   |   |   |--- Known Vulnerabilities <= 7.50\n",
      "|   |   |   |   |   |   |   |   |--- Number of Employees <= 5851.50\n",
      "|   |   |   |   |   |   |   |   |   |--- class: 1\n",
      "|   |   |   |   |   |   |   |   |--- Number of Employees >  5851.50\n",
      "|   |   |   |   |   |   |   |   |   |--- class: 1\n",
      "|   |   |   |   |   |   |   |--- Known Vulnerabilities >  7.50\n",
      "|   |   |   |   |   |   |   |   |--- Successful Attacks <= 22.50\n",
      "|   |   |   |   |   |   |   |   |   |--- class: 1\n",
      "|   |   |   |   |   |   |   |   |--- Successful Attacks >  22.50\n",
      "|   |   |   |   |   |   |   |   |   |--- class: 2\n",
      "|   |   |   |   |--- Successful Attacks >  30.50\n",
      "|   |   |   |   |   |--- Invested Amount <= 1195149.00\n",
      "|   |   |   |   |   |   |--- Successful Attacks <= 34.50\n",
      "|   |   |   |   |   |   |   |--- Known Vulnerabilities <= 5.50\n",
      "|   |   |   |   |   |   |   |   |--- class: 2\n",
      "|   |   |   |   |   |   |   |--- Known Vulnerabilities >  5.50\n",
      "|   |   |   |   |   |   |   |   |--- class: 2\n",
      "|   |   |   |   |   |   |--- Successful Attacks >  34.50\n",
      "|   |   |   |   |   |   |   |--- class: 2\n",
      "|   |   |   |   |   |--- Invested Amount >  1195149.00\n",
      "|   |   |   |   |   |   |--- Known Vulnerabilities <= 6.50\n",
      "|   |   |   |   |   |   |   |--- Successful Attacks <= 38.50\n",
      "|   |   |   |   |   |   |   |   |--- Business Value <= 4997106.00\n",
      "|   |   |   |   |   |   |   |   |   |--- class: 1\n",
      "|   |   |   |   |   |   |   |   |--- Business Value >  4997106.00\n",
      "|   |   |   |   |   |   |   |   |   |--- class: 1\n",
      "|   |   |   |   |   |   |   |--- Successful Attacks >  38.50\n",
      "|   |   |   |   |   |   |   |   |--- class: 2\n",
      "|   |   |   |   |   |   |--- Known Vulnerabilities >  6.50\n",
      "|   |   |   |   |   |   |   |--- class: 2\n",
      "|   |--- Employee Training >  0.50\n",
      "|   |   |--- Number of Employees <= 4249.00\n",
      "|   |   |   |--- Known Vulnerabilities <= 3.50\n",
      "|   |   |   |   |--- Successful Attacks <= 20.50\n",
      "|   |   |   |   |   |--- Number of Employees <= 1064.50\n",
      "|   |   |   |   |   |   |--- Successful Attacks <= 10.50\n",
      "|   |   |   |   |   |   |   |--- Invested Amount <= 1038411.50\n",
      "|   |   |   |   |   |   |   |   |--- Successful Attacks <= 4.00\n",
      "|   |   |   |   |   |   |   |   |   |--- class: 0\n",
      "|   |   |   |   |   |   |   |   |--- Successful Attacks >  4.00\n",
      "|   |   |   |   |   |   |   |   |   |--- class: 1\n",
      "|   |   |   |   |   |   |   |--- Invested Amount >  1038411.50\n",
      "|   |   |   |   |   |   |   |   |--- class: 0\n",
      "|   |   |   |   |   |   |--- Successful Attacks >  10.50\n",
      "|   |   |   |   |   |   |   |--- Number of Employees <= 928.00\n",
      "|   |   |   |   |   |   |   |   |--- class: 1\n",
      "|   |   |   |   |   |   |   |--- Number of Employees >  928.00\n",
      "|   |   |   |   |   |   |   |   |--- class: 1\n",
      "|   |   |   |   |   |--- Number of Employees >  1064.50\n",
      "|   |   |   |   |   |   |--- Known Vulnerabilities <= 1.50\n",
      "|   |   |   |   |   |   |   |--- Successful Attacks <= 13.50\n",
      "|   |   |   |   |   |   |   |   |--- class: 0\n",
      "|   |   |   |   |   |   |   |--- Successful Attacks >  13.50\n",
      "|   |   |   |   |   |   |   |   |--- Employee Training <= 1.50\n",
      "|   |   |   |   |   |   |   |   |   |--- class: 0\n",
      "|   |   |   |   |   |   |   |   |--- Employee Training >  1.50\n",
      "|   |   |   |   |   |   |   |   |   |--- class: 0\n",
      "|   |   |   |   |   |   |--- Known Vulnerabilities >  1.50\n",
      "|   |   |   |   |   |   |   |--- Successful Attacks <= 8.50\n",
      "|   |   |   |   |   |   |   |   |--- Known Vulnerabilities <= 2.50\n",
      "|   |   |   |   |   |   |   |   |   |--- class: 0\n",
      "|   |   |   |   |   |   |   |   |--- Known Vulnerabilities >  2.50\n",
      "|   |   |   |   |   |   |   |   |   |--- class: 0\n",
      "|   |   |   |   |   |   |   |--- Successful Attacks >  8.50\n",
      "|   |   |   |   |   |   |   |   |--- Employee Training <= 1.50\n",
      "|   |   |   |   |   |   |   |   |   |--- class: 1\n",
      "|   |   |   |   |   |   |   |   |--- Employee Training >  1.50\n",
      "|   |   |   |   |   |   |   |   |   |--- class: 0\n",
      "|   |   |   |   |--- Successful Attacks >  20.50\n",
      "|   |   |   |   |   |--- Number of Employees <= 2854.50\n",
      "|   |   |   |   |   |   |--- Successful Attacks <= 30.50\n",
      "|   |   |   |   |   |   |   |--- Number of Employees <= 1873.00\n",
      "|   |   |   |   |   |   |   |   |--- Invested Amount <= 1413663.50\n",
      "|   |   |   |   |   |   |   |   |   |--- class: 1\n",
      "|   |   |   |   |   |   |   |   |--- Invested Amount >  1413663.50\n",
      "|   |   |   |   |   |   |   |   |   |--- class: 1\n",
      "|   |   |   |   |   |   |   |--- Number of Employees >  1873.00\n",
      "|   |   |   |   |   |   |   |   |--- Invested Amount <= 1087309.00\n",
      "|   |   |   |   |   |   |   |   |   |--- class: 1\n",
      "|   |   |   |   |   |   |   |   |--- Invested Amount >  1087309.00\n",
      "|   |   |   |   |   |   |   |   |   |--- class: 0\n",
      "|   |   |   |   |   |   |--- Successful Attacks >  30.50\n",
      "|   |   |   |   |   |   |   |--- Invested Amount <= 538191.50\n",
      "|   |   |   |   |   |   |   |   |--- Failed Attacks <= 10.50\n",
      "|   |   |   |   |   |   |   |   |   |--- class: 1\n",
      "|   |   |   |   |   |   |   |   |--- Failed Attacks >  10.50\n",
      "|   |   |   |   |   |   |   |   |   |--- class: 1\n",
      "|   |   |   |   |   |   |   |--- Invested Amount >  538191.50\n",
      "|   |   |   |   |   |   |   |   |--- class: 1\n",
      "|   |   |   |   |   |--- Number of Employees >  2854.50\n",
      "|   |   |   |   |   |   |--- Successful Attacks <= 32.50\n",
      "|   |   |   |   |   |   |   |--- Employee Training <= 1.50\n",
      "|   |   |   |   |   |   |   |   |--- Invested Amount <= 950597.50\n",
      "|   |   |   |   |   |   |   |   |   |--- class: 1\n",
      "|   |   |   |   |   |   |   |   |--- Invested Amount >  950597.50\n",
      "|   |   |   |   |   |   |   |   |   |--- class: 0\n",
      "|   |   |   |   |   |   |   |--- Employee Training >  1.50\n",
      "|   |   |   |   |   |   |   |   |--- Invested Amount <= 242777.00\n",
      "|   |   |   |   |   |   |   |   |   |--- class: 1\n",
      "|   |   |   |   |   |   |   |   |--- Invested Amount >  242777.00\n",
      "|   |   |   |   |   |   |   |   |   |--- class: 0\n",
      "|   |   |   |   |   |   |--- Successful Attacks >  32.50\n",
      "|   |   |   |   |   |   |   |--- Invested Amount <= 1033905.00\n",
      "|   |   |   |   |   |   |   |   |--- Number of Employees <= 3279.00\n",
      "|   |   |   |   |   |   |   |   |   |--- class: 1\n",
      "|   |   |   |   |   |   |   |   |--- Number of Employees >  3279.00\n",
      "|   |   |   |   |   |   |   |   |   |--- class: 1\n",
      "|   |   |   |   |   |   |   |--- Invested Amount >  1033905.00\n",
      "|   |   |   |   |   |   |   |   |--- Business Value <= 4970260.50\n",
      "|   |   |   |   |   |   |   |   |   |--- class: 0\n",
      "|   |   |   |   |   |   |   |   |--- Business Value >  4970260.50\n",
      "|   |   |   |   |   |   |   |   |   |--- class: 1\n",
      "|   |   |   |--- Known Vulnerabilities >  3.50\n",
      "|   |   |   |   |--- Successful Attacks <= 23.50\n",
      "|   |   |   |   |   |--- Number of Employees <= 2576.50\n",
      "|   |   |   |   |   |   |--- Known Vulnerabilities <= 7.50\n",
      "|   |   |   |   |   |   |   |--- class: 1\n",
      "|   |   |   |   |   |   |--- Known Vulnerabilities >  7.50\n",
      "|   |   |   |   |   |   |   |--- Number of Employees <= 988.50\n",
      "|   |   |   |   |   |   |   |   |--- Successful Attacks <= 16.50\n",
      "|   |   |   |   |   |   |   |   |   |--- class: 1\n",
      "|   |   |   |   |   |   |   |   |--- Successful Attacks >  16.50\n",
      "|   |   |   |   |   |   |   |   |   |--- class: 2\n",
      "|   |   |   |   |   |   |   |--- Number of Employees >  988.50\n",
      "|   |   |   |   |   |   |   |   |--- class: 1\n",
      "|   |   |   |   |   |--- Number of Employees >  2576.50\n",
      "|   |   |   |   |   |   |--- Employee Training <= 1.50\n",
      "|   |   |   |   |   |   |   |--- Successful Attacks <= 4.50\n",
      "|   |   |   |   |   |   |   |   |--- Known Vulnerabilities <= 6.00\n",
      "|   |   |   |   |   |   |   |   |   |--- class: 0\n",
      "|   |   |   |   |   |   |   |   |--- Known Vulnerabilities >  6.00\n",
      "|   |   |   |   |   |   |   |   |   |--- class: 1\n",
      "|   |   |   |   |   |   |   |--- Successful Attacks >  4.50\n",
      "|   |   |   |   |   |   |   |   |--- class: 1\n",
      "|   |   |   |   |   |   |--- Employee Training >  1.50\n",
      "|   |   |   |   |   |   |   |--- Known Vulnerabilities <= 5.50\n",
      "|   |   |   |   |   |   |   |   |--- Invested Amount <= 499865.00\n",
      "|   |   |   |   |   |   |   |   |   |--- class: 1\n",
      "|   |   |   |   |   |   |   |   |--- Invested Amount >  499865.00\n",
      "|   |   |   |   |   |   |   |   |   |--- class: 0\n",
      "|   |   |   |   |   |   |   |--- Known Vulnerabilities >  5.50\n",
      "|   |   |   |   |   |   |   |   |--- Number of Employees <= 3883.00\n",
      "|   |   |   |   |   |   |   |   |   |--- class: 1\n",
      "|   |   |   |   |   |   |   |   |--- Number of Employees >  3883.00\n",
      "|   |   |   |   |   |   |   |   |   |--- class: 0\n",
      "|   |   |   |   |--- Successful Attacks >  23.50\n",
      "|   |   |   |   |   |--- Number of Employees <= 1073.00\n",
      "|   |   |   |   |   |   |--- Known Vulnerabilities <= 5.50\n",
      "|   |   |   |   |   |   |   |--- Successful Attacks <= 36.50\n",
      "|   |   |   |   |   |   |   |   |--- class: 1\n",
      "|   |   |   |   |   |   |   |--- Successful Attacks >  36.50\n",
      "|   |   |   |   |   |   |   |   |--- Invested Amount <= 1179894.50\n",
      "|   |   |   |   |   |   |   |   |   |--- class: 2\n",
      "|   |   |   |   |   |   |   |   |--- Invested Amount >  1179894.50\n",
      "|   |   |   |   |   |   |   |   |   |--- class: 1\n",
      "|   |   |   |   |   |   |--- Known Vulnerabilities >  5.50\n",
      "|   |   |   |   |   |   |   |--- Successful Attacks <= 27.50\n",
      "|   |   |   |   |   |   |   |   |--- Number of Employees <= 494.00\n",
      "|   |   |   |   |   |   |   |   |   |--- class: 2\n",
      "|   |   |   |   |   |   |   |   |--- Number of Employees >  494.00\n",
      "|   |   |   |   |   |   |   |   |   |--- class: 1\n",
      "|   |   |   |   |   |   |   |--- Successful Attacks >  27.50\n",
      "|   |   |   |   |   |   |   |   |--- class: 2\n",
      "|   |   |   |   |   |--- Number of Employees >  1073.00\n",
      "|   |   |   |   |   |   |--- Known Vulnerabilities <= 6.50\n",
      "|   |   |   |   |   |   |   |--- Successful Attacks <= 40.50\n",
      "|   |   |   |   |   |   |   |   |--- Business Value <= 4951217.00\n",
      "|   |   |   |   |   |   |   |   |   |--- class: 1\n",
      "|   |   |   |   |   |   |   |   |--- Business Value >  4951217.00\n",
      "|   |   |   |   |   |   |   |   |   |--- class: 1\n",
      "|   |   |   |   |   |   |   |--- Successful Attacks >  40.50\n",
      "|   |   |   |   |   |   |   |   |--- Employee Training <= 1.50\n",
      "|   |   |   |   |   |   |   |   |   |--- class: 1\n",
      "|   |   |   |   |   |   |   |   |--- Employee Training >  1.50\n",
      "|   |   |   |   |   |   |   |   |   |--- class: 1\n",
      "|   |   |   |   |   |   |--- Known Vulnerabilities >  6.50\n",
      "|   |   |   |   |   |   |   |--- Employee Training <= 1.50\n",
      "|   |   |   |   |   |   |   |   |--- Successful Attacks <= 36.50\n",
      "|   |   |   |   |   |   |   |   |   |--- class: 1\n",
      "|   |   |   |   |   |   |   |   |--- Successful Attacks >  36.50\n",
      "|   |   |   |   |   |   |   |   |   |--- class: 2\n",
      "|   |   |   |   |   |   |   |--- Employee Training >  1.50\n",
      "|   |   |   |   |   |   |   |   |--- Number of Employees <= 2236.00\n",
      "|   |   |   |   |   |   |   |   |   |--- class: 2\n",
      "|   |   |   |   |   |   |   |   |--- Number of Employees >  2236.00\n",
      "|   |   |   |   |   |   |   |   |   |--- class: 1\n",
      "|   |   |--- Number of Employees >  4249.00\n",
      "|   |   |   |--- Employee Training <= 1.50\n",
      "|   |   |   |   |--- Known Vulnerabilities <= 5.50\n",
      "|   |   |   |   |   |--- Successful Attacks <= 19.50\n",
      "|   |   |   |   |   |   |--- Number of Employees <= 5543.00\n",
      "|   |   |   |   |   |   |   |--- Known Vulnerabilities <= 3.50\n",
      "|   |   |   |   |   |   |   |   |--- Successful Attacks <= 17.50\n",
      "|   |   |   |   |   |   |   |   |   |--- class: 0\n",
      "|   |   |   |   |   |   |   |   |--- Successful Attacks >  17.50\n",
      "|   |   |   |   |   |   |   |   |   |--- class: 0\n",
      "|   |   |   |   |   |   |   |--- Known Vulnerabilities >  3.50\n",
      "|   |   |   |   |   |   |   |   |--- Invested Amount <= 1082741.00\n",
      "|   |   |   |   |   |   |   |   |   |--- class: 1\n",
      "|   |   |   |   |   |   |   |   |--- Invested Amount >  1082741.00\n",
      "|   |   |   |   |   |   |   |   |   |--- class: 0\n",
      "|   |   |   |   |   |   |--- Number of Employees >  5543.00\n",
      "|   |   |   |   |   |   |   |--- Business Value <= 5083607.00\n",
      "|   |   |   |   |   |   |   |   |--- class: 0\n",
      "|   |   |   |   |   |   |   |--- Business Value >  5083607.00\n",
      "|   |   |   |   |   |   |   |   |--- Business Value <= 5098750.00\n",
      "|   |   |   |   |   |   |   |   |   |--- class: 0\n",
      "|   |   |   |   |   |   |   |   |--- Business Value >  5098750.00\n",
      "|   |   |   |   |   |   |   |   |   |--- class: 0\n",
      "|   |   |   |   |   |--- Successful Attacks >  19.50\n",
      "|   |   |   |   |   |   |--- Number of Employees <= 7252.00\n",
      "|   |   |   |   |   |   |   |--- Successful Attacks <= 28.50\n",
      "|   |   |   |   |   |   |   |   |--- Known Vulnerabilities <= 3.50\n",
      "|   |   |   |   |   |   |   |   |   |--- class: 0\n",
      "|   |   |   |   |   |   |   |   |--- Known Vulnerabilities >  3.50\n",
      "|   |   |   |   |   |   |   |   |   |--- class: 1\n",
      "|   |   |   |   |   |   |   |--- Successful Attacks >  28.50\n",
      "|   |   |   |   |   |   |   |   |--- Invested Amount <= 1203551.50\n",
      "|   |   |   |   |   |   |   |   |   |--- class: 1\n",
      "|   |   |   |   |   |   |   |   |--- Invested Amount >  1203551.50\n",
      "|   |   |   |   |   |   |   |   |   |--- class: 1\n",
      "|   |   |   |   |   |   |--- Number of Employees >  7252.00\n",
      "|   |   |   |   |   |   |   |--- Known Vulnerabilities <= 3.50\n",
      "|   |   |   |   |   |   |   |   |--- Successful Attacks <= 29.50\n",
      "|   |   |   |   |   |   |   |   |   |--- class: 0\n",
      "|   |   |   |   |   |   |   |   |--- Successful Attacks >  29.50\n",
      "|   |   |   |   |   |   |   |   |   |--- class: 0\n",
      "|   |   |   |   |   |   |   |--- Known Vulnerabilities >  3.50\n",
      "|   |   |   |   |   |   |   |   |--- Successful Attacks <= 31.50\n",
      "|   |   |   |   |   |   |   |   |   |--- class: 0\n",
      "|   |   |   |   |   |   |   |   |--- Successful Attacks >  31.50\n",
      "|   |   |   |   |   |   |   |   |   |--- class: 1\n",
      "|   |   |   |   |--- Known Vulnerabilities >  5.50\n",
      "|   |   |   |   |   |--- Successful Attacks <= 12.50\n",
      "|   |   |   |   |   |   |--- Number of Employees <= 7161.50\n",
      "|   |   |   |   |   |   |   |--- Invested Amount <= 821946.50\n",
      "|   |   |   |   |   |   |   |   |--- Successful Attacks <= 1.50\n",
      "|   |   |   |   |   |   |   |   |   |--- class: 1\n",
      "|   |   |   |   |   |   |   |   |--- Successful Attacks >  1.50\n",
      "|   |   |   |   |   |   |   |   |   |--- class: 1\n",
      "|   |   |   |   |   |   |   |--- Invested Amount >  821946.50\n",
      "|   |   |   |   |   |   |   |   |--- Known Vulnerabilities <= 6.50\n",
      "|   |   |   |   |   |   |   |   |   |--- class: 0\n",
      "|   |   |   |   |   |   |   |   |--- Known Vulnerabilities >  6.50\n",
      "|   |   |   |   |   |   |   |   |   |--- class: 1\n",
      "|   |   |   |   |   |   |--- Number of Employees >  7161.50\n",
      "|   |   |   |   |   |   |   |--- Known Vulnerabilities <= 8.50\n",
      "|   |   |   |   |   |   |   |   |--- Invested Amount <= 332387.50\n",
      "|   |   |   |   |   |   |   |   |   |--- class: 0\n",
      "|   |   |   |   |   |   |   |   |--- Invested Amount >  332387.50\n",
      "|   |   |   |   |   |   |   |   |   |--- class: 0\n",
      "|   |   |   |   |   |   |   |--- Known Vulnerabilities >  8.50\n",
      "|   |   |   |   |   |   |   |   |--- Failed Attacks <= 19.50\n",
      "|   |   |   |   |   |   |   |   |   |--- class: 0\n",
      "|   |   |   |   |   |   |   |   |--- Failed Attacks >  19.50\n",
      "|   |   |   |   |   |   |   |   |   |--- class: 1\n",
      "|   |   |   |   |   |--- Successful Attacks >  12.50\n",
      "|   |   |   |   |   |   |--- Successful Attacks <= 37.50\n",
      "|   |   |   |   |   |   |   |--- Successful Attacks <= 21.50\n",
      "|   |   |   |   |   |   |   |   |--- Known Vulnerabilities <= 7.50\n",
      "|   |   |   |   |   |   |   |   |   |--- class: 1\n",
      "|   |   |   |   |   |   |   |   |--- Known Vulnerabilities >  7.50\n",
      "|   |   |   |   |   |   |   |   |   |--- class: 1\n",
      "|   |   |   |   |   |   |   |--- Successful Attacks >  21.50\n",
      "|   |   |   |   |   |   |   |   |--- class: 1\n",
      "|   |   |   |   |   |   |--- Successful Attacks >  37.50\n",
      "|   |   |   |   |   |   |   |--- Number of Employees <= 6194.50\n",
      "|   |   |   |   |   |   |   |   |--- Known Vulnerabilities <= 7.50\n",
      "|   |   |   |   |   |   |   |   |   |--- class: 1\n",
      "|   |   |   |   |   |   |   |   |--- Known Vulnerabilities >  7.50\n",
      "|   |   |   |   |   |   |   |   |   |--- class: 2\n",
      "|   |   |   |   |   |   |   |--- Number of Employees >  6194.50\n",
      "|   |   |   |   |   |   |   |   |--- Invested Amount <= 541753.50\n",
      "|   |   |   |   |   |   |   |   |   |--- class: 1\n",
      "|   |   |   |   |   |   |   |   |--- Invested Amount >  541753.50\n",
      "|   |   |   |   |   |   |   |   |   |--- class: 1\n",
      "|   |   |   |--- Employee Training >  1.50\n",
      "|   |   |   |   |--- Number of Employees <= 6696.50\n",
      "|   |   |   |   |   |--- Successful Attacks <= 25.50\n",
      "|   |   |   |   |   |   |--- Known Vulnerabilities <= 7.50\n",
      "|   |   |   |   |   |   |   |--- Business Value <= 5079981.50\n",
      "|   |   |   |   |   |   |   |   |--- class: 0\n",
      "|   |   |   |   |   |   |   |--- Business Value >  5079981.50\n",
      "|   |   |   |   |   |   |   |   |--- Number of Employees <= 4855.00\n",
      "|   |   |   |   |   |   |   |   |   |--- class: 0\n",
      "|   |   |   |   |   |   |   |   |--- Number of Employees >  4855.00\n",
      "|   |   |   |   |   |   |   |   |   |--- class: 0\n",
      "|   |   |   |   |   |   |--- Known Vulnerabilities >  7.50\n",
      "|   |   |   |   |   |   |   |--- Number of Employees <= 4750.00\n",
      "|   |   |   |   |   |   |   |   |--- Successful Attacks <= 15.00\n",
      "|   |   |   |   |   |   |   |   |   |--- class: 1\n",
      "|   |   |   |   |   |   |   |   |--- Successful Attacks >  15.00\n",
      "|   |   |   |   |   |   |   |   |   |--- class: 1\n",
      "|   |   |   |   |   |   |   |--- Number of Employees >  4750.00\n",
      "|   |   |   |   |   |   |   |   |--- Successful Attacks <= 21.50\n",
      "|   |   |   |   |   |   |   |   |   |--- class: 0\n",
      "|   |   |   |   |   |   |   |   |--- Successful Attacks >  21.50\n",
      "|   |   |   |   |   |   |   |   |   |--- class: 0\n",
      "|   |   |   |   |   |--- Successful Attacks >  25.50\n",
      "|   |   |   |   |   |   |--- Known Vulnerabilities <= 3.50\n",
      "|   |   |   |   |   |   |   |--- Number of Employees <= 4558.00\n",
      "|   |   |   |   |   |   |   |   |--- Known Vulnerabilities <= 0.50\n",
      "|   |   |   |   |   |   |   |   |   |--- class: 0\n",
      "|   |   |   |   |   |   |   |   |--- Known Vulnerabilities >  0.50\n",
      "|   |   |   |   |   |   |   |   |   |--- class: 1\n",
      "|   |   |   |   |   |   |   |--- Number of Employees >  4558.00\n",
      "|   |   |   |   |   |   |   |   |--- Business Value <= 4908145.00\n",
      "|   |   |   |   |   |   |   |   |   |--- class: 0\n",
      "|   |   |   |   |   |   |   |   |--- Business Value >  4908145.00\n",
      "|   |   |   |   |   |   |   |   |   |--- class: 0\n",
      "|   |   |   |   |   |   |--- Known Vulnerabilities >  3.50\n",
      "|   |   |   |   |   |   |   |--- Successful Attacks <= 45.50\n",
      "|   |   |   |   |   |   |   |   |--- Known Vulnerabilities <= 5.50\n",
      "|   |   |   |   |   |   |   |   |   |--- class: 0\n",
      "|   |   |   |   |   |   |   |   |--- Known Vulnerabilities >  5.50\n",
      "|   |   |   |   |   |   |   |   |   |--- class: 1\n",
      "|   |   |   |   |   |   |   |--- Successful Attacks >  45.50\n",
      "|   |   |   |   |   |   |   |   |--- class: 1\n",
      "|   |   |   |   |--- Number of Employees >  6696.50\n",
      "|   |   |   |   |   |--- Successful Attacks <= 35.50\n",
      "|   |   |   |   |   |   |--- class: 0\n",
      "|   |   |   |   |   |--- Successful Attacks >  35.50\n",
      "|   |   |   |   |   |   |--- Known Vulnerabilities <= 6.50\n",
      "|   |   |   |   |   |   |   |--- class: 0\n",
      "|   |   |   |   |   |   |--- Known Vulnerabilities >  6.50\n",
      "|   |   |   |   |   |   |   |--- Number of Employees <= 8194.00\n",
      "|   |   |   |   |   |   |   |   |--- Successful Attacks <= 44.00\n",
      "|   |   |   |   |   |   |   |   |   |--- class: 0\n",
      "|   |   |   |   |   |   |   |   |--- Successful Attacks >  44.00\n",
      "|   |   |   |   |   |   |   |   |   |--- class: 1\n",
      "|   |   |   |   |   |   |   |--- Number of Employees >  8194.00\n",
      "|   |   |   |   |   |   |   |   |--- class: 0\n",
      "|--- External Advisor >  0.50\n",
      "|   |--- Employee Training <= 0.50\n",
      "|   |   |--- Known Vulnerabilities <= 1.50\n",
      "|   |   |   |--- Successful Attacks <= 10.50\n",
      "|   |   |   |   |--- Invested Amount <= 877282.00\n",
      "|   |   |   |   |   |--- Successful Attacks <= 3.50\n",
      "|   |   |   |   |   |   |--- Known Vulnerabilities <= 0.50\n",
      "|   |   |   |   |   |   |   |--- class: 1\n",
      "|   |   |   |   |   |   |--- Known Vulnerabilities >  0.50\n",
      "|   |   |   |   |   |   |   |--- class: 2\n",
      "|   |   |   |   |   |--- Successful Attacks >  3.50\n",
      "|   |   |   |   |   |   |--- Invested Amount <= 768087.50\n",
      "|   |   |   |   |   |   |   |--- class: 2\n",
      "|   |   |   |   |   |   |--- Invested Amount >  768087.50\n",
      "|   |   |   |   |   |   |   |--- class: 2\n",
      "|   |   |   |   |--- Invested Amount >  877282.00\n",
      "|   |   |   |   |   |--- Known Vulnerabilities <= 0.50\n",
      "|   |   |   |   |   |   |--- class: 1\n",
      "|   |   |   |   |   |--- Known Vulnerabilities >  0.50\n",
      "|   |   |   |   |   |   |--- Invested Amount <= 1257397.50\n",
      "|   |   |   |   |   |   |   |--- class: 2\n",
      "|   |   |   |   |   |   |--- Invested Amount >  1257397.50\n",
      "|   |   |   |   |   |   |   |--- class: 1\n",
      "|   |   |   |--- Successful Attacks >  10.50\n",
      "|   |   |   |   |--- Failed Attacks <= 2.50\n",
      "|   |   |   |   |   |--- Successful Attacks <= 35.00\n",
      "|   |   |   |   |   |   |--- class: 2\n",
      "|   |   |   |   |   |--- Successful Attacks >  35.00\n",
      "|   |   |   |   |   |   |--- class: 2\n",
      "|   |   |   |   |--- Failed Attacks >  2.50\n",
      "|   |   |   |   |   |--- class: 2\n",
      "|   |   |--- Known Vulnerabilities >  1.50\n",
      "|   |   |   |--- Invested Amount <= 1457806.00\n",
      "|   |   |   |   |--- class: 2\n",
      "|   |   |   |--- Invested Amount >  1457806.00\n",
      "|   |   |   |   |--- Failed Attacks <= 46.50\n",
      "|   |   |   |   |   |--- class: 2\n",
      "|   |   |   |   |--- Failed Attacks >  46.50\n",
      "|   |   |   |   |   |--- class: 2\n",
      "|   |--- Employee Training >  0.50\n",
      "|   |   |--- Number of Employees <= 5528.00\n",
      "|   |   |   |--- Successful Attacks <= 22.50\n",
      "|   |   |   |   |--- Known Vulnerabilities <= 4.50\n",
      "|   |   |   |   |   |--- Number of Employees <= 2280.50\n",
      "|   |   |   |   |   |   |--- Known Vulnerabilities <= 2.50\n",
      "|   |   |   |   |   |   |   |--- Successful Attacks <= 13.50\n",
      "|   |   |   |   |   |   |   |   |--- Invested Amount <= 1040263.50\n",
      "|   |   |   |   |   |   |   |   |   |--- class: 1\n",
      "|   |   |   |   |   |   |   |   |--- Invested Amount >  1040263.50\n",
      "|   |   |   |   |   |   |   |   |   |--- class: 1\n",
      "|   |   |   |   |   |   |   |--- Successful Attacks >  13.50\n",
      "|   |   |   |   |   |   |   |   |--- Known Vulnerabilities <= 0.50\n",
      "|   |   |   |   |   |   |   |   |   |--- class: 1\n",
      "|   |   |   |   |   |   |   |   |--- Known Vulnerabilities >  0.50\n",
      "|   |   |   |   |   |   |   |   |   |--- class: 2\n",
      "|   |   |   |   |   |   |--- Known Vulnerabilities >  2.50\n",
      "|   |   |   |   |   |   |   |--- Successful Attacks <= 5.50\n",
      "|   |   |   |   |   |   |   |   |--- Failed Attacks <= 14.50\n",
      "|   |   |   |   |   |   |   |   |   |--- class: 1\n",
      "|   |   |   |   |   |   |   |   |--- Failed Attacks >  14.50\n",
      "|   |   |   |   |   |   |   |   |   |--- class: 2\n",
      "|   |   |   |   |   |   |   |--- Successful Attacks >  5.50\n",
      "|   |   |   |   |   |   |   |   |--- class: 2\n",
      "|   |   |   |   |   |--- Number of Employees >  2280.50\n",
      "|   |   |   |   |   |   |--- Employee Training <= 1.50\n",
      "|   |   |   |   |   |   |   |--- Successful Attacks <= 15.50\n",
      "|   |   |   |   |   |   |   |   |--- Known Vulnerabilities <= 2.50\n",
      "|   |   |   |   |   |   |   |   |   |--- class: 1\n",
      "|   |   |   |   |   |   |   |   |--- Known Vulnerabilities >  2.50\n",
      "|   |   |   |   |   |   |   |   |   |--- class: 1\n",
      "|   |   |   |   |   |   |   |--- Successful Attacks >  15.50\n",
      "|   |   |   |   |   |   |   |   |--- Known Vulnerabilities <= 0.50\n",
      "|   |   |   |   |   |   |   |   |   |--- class: 1\n",
      "|   |   |   |   |   |   |   |   |--- Known Vulnerabilities >  0.50\n",
      "|   |   |   |   |   |   |   |   |   |--- class: 2\n",
      "|   |   |   |   |   |   |--- Employee Training >  1.50\n",
      "|   |   |   |   |   |   |   |--- Number of Employees <= 2672.00\n",
      "|   |   |   |   |   |   |   |   |--- Successful Attacks <= 9.50\n",
      "|   |   |   |   |   |   |   |   |   |--- class: 1\n",
      "|   |   |   |   |   |   |   |   |--- Successful Attacks >  9.50\n",
      "|   |   |   |   |   |   |   |   |   |--- class: 2\n",
      "|   |   |   |   |   |   |   |--- Number of Employees >  2672.00\n",
      "|   |   |   |   |   |   |   |   |--- Successful Attacks <= 4.50\n",
      "|   |   |   |   |   |   |   |   |   |--- class: 1\n",
      "|   |   |   |   |   |   |   |   |--- Successful Attacks >  4.50\n",
      "|   |   |   |   |   |   |   |   |   |--- class: 1\n",
      "|   |   |   |   |--- Known Vulnerabilities >  4.50\n",
      "|   |   |   |   |   |--- Number of Employees <= 2625.50\n",
      "|   |   |   |   |   |   |--- Invested Amount <= 1361784.50\n",
      "|   |   |   |   |   |   |   |--- class: 2\n",
      "|   |   |   |   |   |   |--- Invested Amount >  1361784.50\n",
      "|   |   |   |   |   |   |   |--- Invested Amount <= 1373867.50\n",
      "|   |   |   |   |   |   |   |   |--- class: 2\n",
      "|   |   |   |   |   |   |   |--- Invested Amount >  1373867.50\n",
      "|   |   |   |   |   |   |   |   |--- class: 2\n",
      "|   |   |   |   |   |--- Number of Employees >  2625.50\n",
      "|   |   |   |   |   |   |--- Employee Training <= 1.50\n",
      "|   |   |   |   |   |   |   |--- Successful Attacks <= 6.50\n",
      "|   |   |   |   |   |   |   |   |--- Known Vulnerabilities <= 6.50\n",
      "|   |   |   |   |   |   |   |   |   |--- class: 1\n",
      "|   |   |   |   |   |   |   |   |--- Known Vulnerabilities >  6.50\n",
      "|   |   |   |   |   |   |   |   |   |--- class: 2\n",
      "|   |   |   |   |   |   |   |--- Successful Attacks >  6.50\n",
      "|   |   |   |   |   |   |   |   |--- class: 2\n",
      "|   |   |   |   |   |   |--- Employee Training >  1.50\n",
      "|   |   |   |   |   |   |   |--- Number of Employees <= 4361.50\n",
      "|   |   |   |   |   |   |   |   |--- Successful Attacks <= 3.50\n",
      "|   |   |   |   |   |   |   |   |   |--- class: 1\n",
      "|   |   |   |   |   |   |   |   |--- Successful Attacks >  3.50\n",
      "|   |   |   |   |   |   |   |   |   |--- class: 2\n",
      "|   |   |   |   |   |   |   |--- Number of Employees >  4361.50\n",
      "|   |   |   |   |   |   |   |   |--- Known Vulnerabilities <= 8.50\n",
      "|   |   |   |   |   |   |   |   |   |--- class: 1\n",
      "|   |   |   |   |   |   |   |   |--- Known Vulnerabilities >  8.50\n",
      "|   |   |   |   |   |   |   |   |   |--- class: 1\n",
      "|   |   |   |--- Successful Attacks >  22.50\n",
      "|   |   |   |   |--- Employee Training <= 1.50\n",
      "|   |   |   |   |   |--- Invested Amount <= 1376392.00\n",
      "|   |   |   |   |   |   |--- Successful Attacks <= 23.50\n",
      "|   |   |   |   |   |   |   |--- Number of Employees <= 4197.50\n",
      "|   |   |   |   |   |   |   |   |--- class: 2\n",
      "|   |   |   |   |   |   |   |--- Number of Employees >  4197.50\n",
      "|   |   |   |   |   |   |   |   |--- class: 2\n",
      "|   |   |   |   |   |   |--- Successful Attacks >  23.50\n",
      "|   |   |   |   |   |   |   |--- class: 2\n",
      "|   |   |   |   |   |--- Invested Amount >  1376392.00\n",
      "|   |   |   |   |   |   |--- Known Vulnerabilities <= 1.50\n",
      "|   |   |   |   |   |   |   |--- class: 1\n",
      "|   |   |   |   |   |   |--- Known Vulnerabilities >  1.50\n",
      "|   |   |   |   |   |   |   |--- class: 2\n",
      "|   |   |   |   |--- Employee Training >  1.50\n",
      "|   |   |   |   |   |--- Number of Employees <= 2539.00\n",
      "|   |   |   |   |   |   |--- Known Vulnerabilities <= 1.50\n",
      "|   |   |   |   |   |   |   |--- Number of Employees <= 2069.00\n",
      "|   |   |   |   |   |   |   |   |--- class: 2\n",
      "|   |   |   |   |   |   |   |--- Number of Employees >  2069.00\n",
      "|   |   |   |   |   |   |   |   |--- Business Value <= 5012812.00\n",
      "|   |   |   |   |   |   |   |   |   |--- class: 1\n",
      "|   |   |   |   |   |   |   |   |--- Business Value >  5012812.00\n",
      "|   |   |   |   |   |   |   |   |   |--- class: 2\n",
      "|   |   |   |   |   |   |--- Known Vulnerabilities >  1.50\n",
      "|   |   |   |   |   |   |   |--- class: 2\n",
      "|   |   |   |   |   |--- Number of Employees >  2539.00\n",
      "|   |   |   |   |   |   |--- Known Vulnerabilities <= 3.50\n",
      "|   |   |   |   |   |   |   |--- Successful Attacks <= 47.50\n",
      "|   |   |   |   |   |   |   |   |--- Number of Employees <= 3301.50\n",
      "|   |   |   |   |   |   |   |   |   |--- class: 2\n",
      "|   |   |   |   |   |   |   |   |--- Number of Employees >  3301.50\n",
      "|   |   |   |   |   |   |   |   |   |--- class: 1\n",
      "|   |   |   |   |   |   |   |--- Successful Attacks >  47.50\n",
      "|   |   |   |   |   |   |   |   |--- class: 2\n",
      "|   |   |   |   |   |   |--- Known Vulnerabilities >  3.50\n",
      "|   |   |   |   |   |   |   |--- Number of Employees <= 4293.50\n",
      "|   |   |   |   |   |   |   |   |--- class: 2\n",
      "|   |   |   |   |   |   |   |--- Number of Employees >  4293.50\n",
      "|   |   |   |   |   |   |   |   |--- Known Vulnerabilities <= 6.50\n",
      "|   |   |   |   |   |   |   |   |   |--- class: 2\n",
      "|   |   |   |   |   |   |   |   |--- Known Vulnerabilities >  6.50\n",
      "|   |   |   |   |   |   |   |   |   |--- class: 2\n",
      "|   |   |--- Number of Employees >  5528.00\n",
      "|   |   |   |--- Employee Training <= 1.50\n",
      "|   |   |   |   |--- Successful Attacks <= 25.50\n",
      "|   |   |   |   |   |--- Known Vulnerabilities <= 5.50\n",
      "|   |   |   |   |   |   |--- Invested Amount <= 588031.00\n",
      "|   |   |   |   |   |   |   |--- Number of Employees <= 6762.50\n",
      "|   |   |   |   |   |   |   |   |--- Known Vulnerabilities <= 2.50\n",
      "|   |   |   |   |   |   |   |   |   |--- class: 1\n",
      "|   |   |   |   |   |   |   |   |--- Known Vulnerabilities >  2.50\n",
      "|   |   |   |   |   |   |   |   |   |--- class: 2\n",
      "|   |   |   |   |   |   |   |--- Number of Employees >  6762.50\n",
      "|   |   |   |   |   |   |   |   |--- Known Vulnerabilities <= 4.50\n",
      "|   |   |   |   |   |   |   |   |   |--- class: 1\n",
      "|   |   |   |   |   |   |   |   |--- Known Vulnerabilities >  4.50\n",
      "|   |   |   |   |   |   |   |   |   |--- class: 1\n",
      "|   |   |   |   |   |   |--- Invested Amount >  588031.00\n",
      "|   |   |   |   |   |   |   |--- Known Vulnerabilities <= 0.50\n",
      "|   |   |   |   |   |   |   |   |--- Number of Employees <= 8550.50\n",
      "|   |   |   |   |   |   |   |   |   |--- class: 1\n",
      "|   |   |   |   |   |   |   |   |--- Number of Employees >  8550.50\n",
      "|   |   |   |   |   |   |   |   |   |--- class: 0\n",
      "|   |   |   |   |   |   |   |--- Known Vulnerabilities >  0.50\n",
      "|   |   |   |   |   |   |   |   |--- Successful Attacks <= 24.50\n",
      "|   |   |   |   |   |   |   |   |   |--- class: 1\n",
      "|   |   |   |   |   |   |   |   |--- Successful Attacks >  24.50\n",
      "|   |   |   |   |   |   |   |   |   |--- class: 1\n",
      "|   |   |   |   |   |--- Known Vulnerabilities >  5.50\n",
      "|   |   |   |   |   |   |--- Successful Attacks <= 9.50\n",
      "|   |   |   |   |   |   |   |--- Number of Employees <= 7611.00\n",
      "|   |   |   |   |   |   |   |   |--- Successful Attacks <= 3.50\n",
      "|   |   |   |   |   |   |   |   |   |--- class: 1\n",
      "|   |   |   |   |   |   |   |   |--- Successful Attacks >  3.50\n",
      "|   |   |   |   |   |   |   |   |   |--- class: 2\n",
      "|   |   |   |   |   |   |   |--- Number of Employees >  7611.00\n",
      "|   |   |   |   |   |   |   |   |--- Invested Amount <= 715102.50\n",
      "|   |   |   |   |   |   |   |   |   |--- class: 1\n",
      "|   |   |   |   |   |   |   |   |--- Invested Amount >  715102.50\n",
      "|   |   |   |   |   |   |   |   |   |--- class: 1\n",
      "|   |   |   |   |   |   |--- Successful Attacks >  9.50\n",
      "|   |   |   |   |   |   |   |--- Number of Employees <= 8176.50\n",
      "|   |   |   |   |   |   |   |   |--- class: 2\n",
      "|   |   |   |   |   |   |   |--- Number of Employees >  8176.50\n",
      "|   |   |   |   |   |   |   |   |--- Business Value <= 5052695.50\n",
      "|   |   |   |   |   |   |   |   |   |--- class: 2\n",
      "|   |   |   |   |   |   |   |   |--- Business Value >  5052695.50\n",
      "|   |   |   |   |   |   |   |   |   |--- class: 1\n",
      "|   |   |   |   |--- Successful Attacks >  25.50\n",
      "|   |   |   |   |   |--- Known Vulnerabilities <= 3.50\n",
      "|   |   |   |   |   |   |--- Number of Employees <= 8271.00\n",
      "|   |   |   |   |   |   |   |--- Successful Attacks <= 36.50\n",
      "|   |   |   |   |   |   |   |   |--- Invested Amount <= 762475.00\n",
      "|   |   |   |   |   |   |   |   |   |--- class: 2\n",
      "|   |   |   |   |   |   |   |   |--- Invested Amount >  762475.00\n",
      "|   |   |   |   |   |   |   |   |   |--- class: 1\n",
      "|   |   |   |   |   |   |   |--- Successful Attacks >  36.50\n",
      "|   |   |   |   |   |   |   |   |--- Known Vulnerabilities <= 1.50\n",
      "|   |   |   |   |   |   |   |   |   |--- class: 2\n",
      "|   |   |   |   |   |   |   |   |--- Known Vulnerabilities >  1.50\n",
      "|   |   |   |   |   |   |   |   |   |--- class: 2\n",
      "|   |   |   |   |   |   |--- Number of Employees >  8271.00\n",
      "|   |   |   |   |   |   |   |--- Invested Amount <= 342404.00\n",
      "|   |   |   |   |   |   |   |   |--- Known Vulnerabilities <= 2.50\n",
      "|   |   |   |   |   |   |   |   |   |--- class: 1\n",
      "|   |   |   |   |   |   |   |   |--- Known Vulnerabilities >  2.50\n",
      "|   |   |   |   |   |   |   |   |   |--- class: 2\n",
      "|   |   |   |   |   |   |   |--- Invested Amount >  342404.00\n",
      "|   |   |   |   |   |   |   |   |--- Business Value <= 4927674.50\n",
      "|   |   |   |   |   |   |   |   |   |--- class: 1\n",
      "|   |   |   |   |   |   |   |   |--- Business Value >  4927674.50\n",
      "|   |   |   |   |   |   |   |   |   |--- class: 1\n",
      "|   |   |   |   |   |--- Known Vulnerabilities >  3.50\n",
      "|   |   |   |   |   |   |--- Known Vulnerabilities <= 4.50\n",
      "|   |   |   |   |   |   |   |--- Successful Attacks <= 32.50\n",
      "|   |   |   |   |   |   |   |   |--- Number of Employees <= 7899.00\n",
      "|   |   |   |   |   |   |   |   |   |--- class: 2\n",
      "|   |   |   |   |   |   |   |   |--- Number of Employees >  7899.00\n",
      "|   |   |   |   |   |   |   |   |   |--- class: 1\n",
      "|   |   |   |   |   |   |   |--- Successful Attacks >  32.50\n",
      "|   |   |   |   |   |   |   |   |--- class: 2\n",
      "|   |   |   |   |   |   |--- Known Vulnerabilities >  4.50\n",
      "|   |   |   |   |   |   |   |--- class: 2\n",
      "|   |   |   |--- Employee Training >  1.50\n",
      "|   |   |   |   |--- Successful Attacks <= 27.50\n",
      "|   |   |   |   |   |--- Known Vulnerabilities <= 3.50\n",
      "|   |   |   |   |   |   |--- Number of Employees <= 6840.00\n",
      "|   |   |   |   |   |   |   |--- Successful Attacks <= 19.50\n",
      "|   |   |   |   |   |   |   |   |--- Known Vulnerabilities <= 1.50\n",
      "|   |   |   |   |   |   |   |   |   |--- class: 0\n",
      "|   |   |   |   |   |   |   |   |--- Known Vulnerabilities >  1.50\n",
      "|   |   |   |   |   |   |   |   |   |--- class: 1\n",
      "|   |   |   |   |   |   |   |--- Successful Attacks >  19.50\n",
      "|   |   |   |   |   |   |   |   |--- class: 1\n",
      "|   |   |   |   |   |   |--- Number of Employees >  6840.00\n",
      "|   |   |   |   |   |   |   |--- class: 0\n",
      "|   |   |   |   |   |--- Known Vulnerabilities >  3.50\n",
      "|   |   |   |   |   |   |--- Number of Employees <= 8259.50\n",
      "|   |   |   |   |   |   |   |--- Known Vulnerabilities <= 6.50\n",
      "|   |   |   |   |   |   |   |   |--- Successful Attacks <= 3.50\n",
      "|   |   |   |   |   |   |   |   |   |--- class: 0\n",
      "|   |   |   |   |   |   |   |   |--- Successful Attacks >  3.50\n",
      "|   |   |   |   |   |   |   |   |   |--- class: 1\n",
      "|   |   |   |   |   |   |   |--- Known Vulnerabilities >  6.50\n",
      "|   |   |   |   |   |   |   |   |--- Number of Employees <= 5692.50\n",
      "|   |   |   |   |   |   |   |   |   |--- class: 2\n",
      "|   |   |   |   |   |   |   |   |--- Number of Employees >  5692.50\n",
      "|   |   |   |   |   |   |   |   |   |--- class: 1\n",
      "|   |   |   |   |   |   |--- Number of Employees >  8259.50\n",
      "|   |   |   |   |   |   |   |--- Successful Attacks <= 13.50\n",
      "|   |   |   |   |   |   |   |   |--- Known Vulnerabilities <= 7.50\n",
      "|   |   |   |   |   |   |   |   |   |--- class: 0\n",
      "|   |   |   |   |   |   |   |   |--- Known Vulnerabilities >  7.50\n",
      "|   |   |   |   |   |   |   |   |   |--- class: 0\n",
      "|   |   |   |   |   |   |   |--- Successful Attacks >  13.50\n",
      "|   |   |   |   |   |   |   |   |--- Known Vulnerabilities <= 6.50\n",
      "|   |   |   |   |   |   |   |   |   |--- class: 0\n",
      "|   |   |   |   |   |   |   |   |--- Known Vulnerabilities >  6.50\n",
      "|   |   |   |   |   |   |   |   |   |--- class: 1\n",
      "|   |   |   |   |--- Successful Attacks >  27.50\n",
      "|   |   |   |   |   |--- Known Vulnerabilities <= 2.50\n",
      "|   |   |   |   |   |   |--- Number of Employees <= 7978.00\n",
      "|   |   |   |   |   |   |   |--- Invested Amount <= 1430123.00\n",
      "|   |   |   |   |   |   |   |   |--- class: 1\n",
      "|   |   |   |   |   |   |   |--- Invested Amount >  1430123.00\n",
      "|   |   |   |   |   |   |   |   |--- class: 1\n",
      "|   |   |   |   |   |   |--- Number of Employees >  7978.00\n",
      "|   |   |   |   |   |   |   |--- Successful Attacks <= 34.50\n",
      "|   |   |   |   |   |   |   |   |--- class: 0\n",
      "|   |   |   |   |   |   |   |--- Successful Attacks >  34.50\n",
      "|   |   |   |   |   |   |   |   |--- Number of Employees <= 9047.00\n",
      "|   |   |   |   |   |   |   |   |   |--- class: 1\n",
      "|   |   |   |   |   |   |   |   |--- Number of Employees >  9047.00\n",
      "|   |   |   |   |   |   |   |   |   |--- class: 0\n",
      "|   |   |   |   |   |--- Known Vulnerabilities >  2.50\n",
      "|   |   |   |   |   |   |--- Number of Employees <= 6508.50\n",
      "|   |   |   |   |   |   |   |--- Known Vulnerabilities <= 6.50\n",
      "|   |   |   |   |   |   |   |   |--- Successful Attacks <= 46.50\n",
      "|   |   |   |   |   |   |   |   |   |--- class: 1\n",
      "|   |   |   |   |   |   |   |   |--- Successful Attacks >  46.50\n",
      "|   |   |   |   |   |   |   |   |   |--- class: 2\n",
      "|   |   |   |   |   |   |   |--- Known Vulnerabilities >  6.50\n",
      "|   |   |   |   |   |   |   |   |--- Successful Attacks <= 31.50\n",
      "|   |   |   |   |   |   |   |   |   |--- class: 2\n",
      "|   |   |   |   |   |   |   |   |--- Successful Attacks >  31.50\n",
      "|   |   |   |   |   |   |   |   |   |--- class: 2\n",
      "|   |   |   |   |   |   |--- Number of Employees >  6508.50\n",
      "|   |   |   |   |   |   |   |--- Known Vulnerabilities <= 7.50\n",
      "|   |   |   |   |   |   |   |   |--- Failed Attacks <= 46.50\n",
      "|   |   |   |   |   |   |   |   |   |--- class: 1\n",
      "|   |   |   |   |   |   |   |   |--- Failed Attacks >  46.50\n",
      "|   |   |   |   |   |   |   |   |   |--- class: 1\n",
      "|   |   |   |   |   |   |   |--- Known Vulnerabilities >  7.50\n",
      "|   |   |   |   |   |   |   |   |--- Number of Employees <= 8105.50\n",
      "|   |   |   |   |   |   |   |   |   |--- class: 2\n",
      "|   |   |   |   |   |   |   |   |--- Number of Employees >  8105.50\n",
      "|   |   |   |   |   |   |   |   |   |--- class: 1\n",
      "\n"
     ]
    }
   ],
   "source": [
    "r = export_text(dtree.best_estimator_, feature_names=features)\n",
    "print(r)\n",
    "\n",
    "#dump(dtree, MODEL_OUTPUT_PATH + 'Tree_classifier.joblib') "
   ]
  },
  {
   "cell_type": "markdown",
   "metadata": {
    "id": "v0K5xoX4Dq7c"
   },
   "source": [
    "## Prediction"
   ]
  },
  {
   "cell_type": "code",
   "execution_count": 140,
   "metadata": {
    "colab": {
     "base_uri": "https://localhost:8080/",
     "height": 80
    },
    "id": "Dg0Ruo5uDVyN",
    "outputId": "450f7695-d7e8-4394-86b6-f8f0bfa57d84"
   },
   "outputs": [
    {
     "data": {
      "text/html": [
       "<div>\n",
       "<style scoped>\n",
       "    .dataframe tbody tr th:only-of-type {\n",
       "        vertical-align: middle;\n",
       "    }\n",
       "\n",
       "    .dataframe tbody tr th {\n",
       "        vertical-align: top;\n",
       "    }\n",
       "\n",
       "    .dataframe thead th {\n",
       "        text-align: right;\n",
       "    }\n",
       "</style>\n",
       "<table border=\"1\" class=\"dataframe\">\n",
       "  <thead>\n",
       "    <tr style=\"text-align: right;\">\n",
       "      <th></th>\n",
       "      <th>Invested Amount</th>\n",
       "      <th>Successful Attacks</th>\n",
       "      <th>Failed Attacks</th>\n",
       "      <th>Business Value</th>\n",
       "      <th>Number of Employees</th>\n",
       "      <th>Employee Training</th>\n",
       "      <th>Known Vulnerabilities</th>\n",
       "      <th>External Advisor</th>\n",
       "    </tr>\n",
       "  </thead>\n",
       "  <tbody>\n",
       "    <tr>\n",
       "      <th>0</th>\n",
       "      <td>1077113</td>\n",
       "      <td>8</td>\n",
       "      <td>29</td>\n",
       "      <td>4947796</td>\n",
       "      <td>57879</td>\n",
       "      <td>1</td>\n",
       "      <td>6</td>\n",
       "      <td>0</td>\n",
       "    </tr>\n",
       "  </tbody>\n",
       "</table>\n",
       "</div>"
      ],
      "text/plain": [
       "   Invested Amount  Successful Attacks  Failed Attacks  Business Value  \\\n",
       "0          1077113                   8              29         4947796   \n",
       "\n",
       "   Number of Employees  Employee Training  Known Vulnerabilities  \\\n",
       "0                57879                  1                      6   \n",
       "\n",
       "   External Advisor  \n",
       "0                 0  "
      ]
     },
     "execution_count": 140,
     "metadata": {},
     "output_type": "execute_result"
    }
   ],
   "source": [
    "# Create DataFrame from data to be predicted\n",
    "prediction_df = pd.DataFrame([[1077113, 8, 29, 4947796, 57879, 1, 6, 0]], columns=features)\n",
    "prediction_df"
   ]
  },
  {
   "cell_type": "code",
   "execution_count": 171,
   "metadata": {
    "colab": {
     "base_uri": "https://localhost:8080/"
    },
    "id": "hEtL2WYM_LYf",
    "outputId": "2ffd7074-e93c-4e5e-b72b-6ef0ccdd1669"
   },
   "outputs": [
    {
     "name": "stdout",
     "output_type": "stream",
     "text": [
      "Predicted RISK is: LOW\n"
     ]
    }
   ],
   "source": [
    "predicted_risk = dtree.predict(prediction_df)[0]\n",
    "print(\"Predicted RISK is: \" + prediction_result_mapping[predicted_risk])"
   ]
  },
  {
   "cell_type": "markdown",
   "metadata": {
    "id": "tq--wueVRT2V"
   },
   "source": [
    "# Support Vector Machine (SVM) classifier"
   ]
  },
  {
   "cell_type": "code",
   "execution_count": 172,
   "metadata": {
    "id": "Bw6TcEsVRvCS"
   },
   "outputs": [],
   "source": [
    "from sklearn.svm import LinearSVC, SVC "
   ]
  },
  {
   "cell_type": "code",
   "execution_count": null,
   "metadata": {},
   "outputs": [],
   "source": [
    "# Linear\n",
    "#svm_model = LinearSVC().fit(X_train, y_train)"
   ]
  },
  {
   "cell_type": "markdown",
   "metadata": {},
   "source": [
    "## Parameter Tuning (with K-Fold Cross Validation)"
   ]
  },
  {
   "cell_type": "code",
   "execution_count": 173,
   "metadata": {},
   "outputs": [
    {
     "name": "stderr",
     "output_type": "stream",
     "text": [
      "/usr/local/lib/python3.9/site-packages/joblib/externals/loky/process_executor.py:688: UserWarning: A worker stopped while some jobs were given to the executor. This can be caused by a too short worker timeout or by a memory leak.\n",
      "  warnings.warn(\n"
     ]
    }
   ],
   "source": [
    "# Define the parameter ranges that should be tested on the model\n",
    "svm_params = {\n",
    "    'kernel': [\"poly\", \"rbf\", \"sigmoid\"],\n",
    "    'gamma': [\"scale\", \"auto\"]\n",
    "}\n",
    "\n",
    "# Instanciate the Grid for parameter tuning\n",
    "svm_grid = GridSearchCV(SVC(), svm_params, cv=10, scoring='accuracy', n_jobs=-1)\n",
    "\n",
    "svm = svm_grid.fit(X_normalized, Y)"
   ]
  },
  {
   "cell_type": "code",
   "execution_count": 174,
   "metadata": {},
   "outputs": [
    {
     "data": {
      "text/html": [
       "<div>\n",
       "<style scoped>\n",
       "    .dataframe tbody tr th:only-of-type {\n",
       "        vertical-align: middle;\n",
       "    }\n",
       "\n",
       "    .dataframe tbody tr th {\n",
       "        vertical-align: top;\n",
       "    }\n",
       "\n",
       "    .dataframe thead th {\n",
       "        text-align: right;\n",
       "    }\n",
       "</style>\n",
       "<table border=\"1\" class=\"dataframe\">\n",
       "  <thead>\n",
       "    <tr style=\"text-align: right;\">\n",
       "      <th></th>\n",
       "      <th>mean_fit_time</th>\n",
       "      <th>std_fit_time</th>\n",
       "      <th>mean_score_time</th>\n",
       "      <th>std_score_time</th>\n",
       "      <th>param_gamma</th>\n",
       "      <th>param_kernel</th>\n",
       "      <th>params</th>\n",
       "      <th>split0_test_score</th>\n",
       "      <th>split1_test_score</th>\n",
       "      <th>split2_test_score</th>\n",
       "      <th>split3_test_score</th>\n",
       "      <th>split4_test_score</th>\n",
       "      <th>split5_test_score</th>\n",
       "      <th>split6_test_score</th>\n",
       "      <th>split7_test_score</th>\n",
       "      <th>split8_test_score</th>\n",
       "      <th>split9_test_score</th>\n",
       "      <th>mean_test_score</th>\n",
       "      <th>std_test_score</th>\n",
       "      <th>rank_test_score</th>\n",
       "    </tr>\n",
       "  </thead>\n",
       "  <tbody>\n",
       "    <tr>\n",
       "      <th>0</th>\n",
       "      <td>0.358150</td>\n",
       "      <td>0.031652</td>\n",
       "      <td>0.030355</td>\n",
       "      <td>0.007551</td>\n",
       "      <td>scale</td>\n",
       "      <td>poly</td>\n",
       "      <td>{'gamma': 'scale', 'kernel': 'poly'}</td>\n",
       "      <td>0.981</td>\n",
       "      <td>0.984</td>\n",
       "      <td>0.984</td>\n",
       "      <td>0.984</td>\n",
       "      <td>0.982</td>\n",
       "      <td>0.980</td>\n",
       "      <td>0.985</td>\n",
       "      <td>0.975</td>\n",
       "      <td>0.987</td>\n",
       "      <td>0.984</td>\n",
       "      <td>0.9826</td>\n",
       "      <td>0.003169</td>\n",
       "      <td>1</td>\n",
       "    </tr>\n",
       "    <tr>\n",
       "      <th>1</th>\n",
       "      <td>0.825914</td>\n",
       "      <td>0.053131</td>\n",
       "      <td>0.240829</td>\n",
       "      <td>0.018714</td>\n",
       "      <td>scale</td>\n",
       "      <td>rbf</td>\n",
       "      <td>{'gamma': 'scale', 'kernel': 'rbf'}</td>\n",
       "      <td>0.979</td>\n",
       "      <td>0.963</td>\n",
       "      <td>0.978</td>\n",
       "      <td>0.988</td>\n",
       "      <td>0.977</td>\n",
       "      <td>0.984</td>\n",
       "      <td>0.982</td>\n",
       "      <td>0.978</td>\n",
       "      <td>0.978</td>\n",
       "      <td>0.975</td>\n",
       "      <td>0.9782</td>\n",
       "      <td>0.006226</td>\n",
       "      <td>2</td>\n",
       "    </tr>\n",
       "    <tr>\n",
       "      <th>2</th>\n",
       "      <td>2.973521</td>\n",
       "      <td>0.287113</td>\n",
       "      <td>0.323203</td>\n",
       "      <td>0.030764</td>\n",
       "      <td>scale</td>\n",
       "      <td>sigmoid</td>\n",
       "      <td>{'gamma': 'scale', 'kernel': 'sigmoid'}</td>\n",
       "      <td>0.398</td>\n",
       "      <td>0.424</td>\n",
       "      <td>0.418</td>\n",
       "      <td>0.436</td>\n",
       "      <td>0.434</td>\n",
       "      <td>0.498</td>\n",
       "      <td>0.453</td>\n",
       "      <td>0.429</td>\n",
       "      <td>0.439</td>\n",
       "      <td>0.423</td>\n",
       "      <td>0.4352</td>\n",
       "      <td>0.025039</td>\n",
       "      <td>6</td>\n",
       "    </tr>\n",
       "    <tr>\n",
       "      <th>3</th>\n",
       "      <td>1.659002</td>\n",
       "      <td>0.152800</td>\n",
       "      <td>0.201300</td>\n",
       "      <td>0.018509</td>\n",
       "      <td>auto</td>\n",
       "      <td>poly</td>\n",
       "      <td>{'gamma': 'auto', 'kernel': 'poly'}</td>\n",
       "      <td>0.901</td>\n",
       "      <td>0.894</td>\n",
       "      <td>0.915</td>\n",
       "      <td>0.894</td>\n",
       "      <td>0.910</td>\n",
       "      <td>0.920</td>\n",
       "      <td>0.924</td>\n",
       "      <td>0.895</td>\n",
       "      <td>0.902</td>\n",
       "      <td>0.922</td>\n",
       "      <td>0.9077</td>\n",
       "      <td>0.011376</td>\n",
       "      <td>4</td>\n",
       "    </tr>\n",
       "    <tr>\n",
       "      <th>4</th>\n",
       "      <td>1.280386</td>\n",
       "      <td>0.068541</td>\n",
       "      <td>0.417284</td>\n",
       "      <td>0.011500</td>\n",
       "      <td>auto</td>\n",
       "      <td>rbf</td>\n",
       "      <td>{'gamma': 'auto', 'kernel': 'rbf'}</td>\n",
       "      <td>0.945</td>\n",
       "      <td>0.943</td>\n",
       "      <td>0.954</td>\n",
       "      <td>0.953</td>\n",
       "      <td>0.937</td>\n",
       "      <td>0.952</td>\n",
       "      <td>0.961</td>\n",
       "      <td>0.940</td>\n",
       "      <td>0.952</td>\n",
       "      <td>0.960</td>\n",
       "      <td>0.9497</td>\n",
       "      <td>0.007721</td>\n",
       "      <td>3</td>\n",
       "    </tr>\n",
       "  </tbody>\n",
       "</table>\n",
       "</div>"
      ],
      "text/plain": [
       "   mean_fit_time  std_fit_time  mean_score_time  std_score_time param_gamma  \\\n",
       "0       0.358150      0.031652         0.030355        0.007551       scale   \n",
       "1       0.825914      0.053131         0.240829        0.018714       scale   \n",
       "2       2.973521      0.287113         0.323203        0.030764       scale   \n",
       "3       1.659002      0.152800         0.201300        0.018509        auto   \n",
       "4       1.280386      0.068541         0.417284        0.011500        auto   \n",
       "\n",
       "  param_kernel                                   params  split0_test_score  \\\n",
       "0         poly     {'gamma': 'scale', 'kernel': 'poly'}              0.981   \n",
       "1          rbf      {'gamma': 'scale', 'kernel': 'rbf'}              0.979   \n",
       "2      sigmoid  {'gamma': 'scale', 'kernel': 'sigmoid'}              0.398   \n",
       "3         poly      {'gamma': 'auto', 'kernel': 'poly'}              0.901   \n",
       "4          rbf       {'gamma': 'auto', 'kernel': 'rbf'}              0.945   \n",
       "\n",
       "   split1_test_score  split2_test_score  split3_test_score  split4_test_score  \\\n",
       "0              0.984              0.984              0.984              0.982   \n",
       "1              0.963              0.978              0.988              0.977   \n",
       "2              0.424              0.418              0.436              0.434   \n",
       "3              0.894              0.915              0.894              0.910   \n",
       "4              0.943              0.954              0.953              0.937   \n",
       "\n",
       "   split5_test_score  split6_test_score  split7_test_score  split8_test_score  \\\n",
       "0              0.980              0.985              0.975              0.987   \n",
       "1              0.984              0.982              0.978              0.978   \n",
       "2              0.498              0.453              0.429              0.439   \n",
       "3              0.920              0.924              0.895              0.902   \n",
       "4              0.952              0.961              0.940              0.952   \n",
       "\n",
       "   split9_test_score  mean_test_score  std_test_score  rank_test_score  \n",
       "0              0.984           0.9826        0.003169                1  \n",
       "1              0.975           0.9782        0.006226                2  \n",
       "2              0.423           0.4352        0.025039                6  \n",
       "3              0.922           0.9077        0.011376                4  \n",
       "4              0.960           0.9497        0.007721                3  "
      ]
     },
     "execution_count": 174,
     "metadata": {},
     "output_type": "execute_result"
    }
   ],
   "source": [
    "pd.DataFrame(svm.cv_results_).head()"
   ]
  },
  {
   "cell_type": "code",
   "execution_count": 175,
   "metadata": {},
   "outputs": [
    {
     "name": "stdout",
     "output_type": "stream",
     "text": [
      "SVC(kernel='poly')\n",
      "{'gamma': 'scale', 'kernel': 'poly'}\n",
      "Best Accuracy: 98.26%\n"
     ]
    }
   ],
   "source": [
    "print(svm.best_estimator_)\n",
    "print(svm.best_params_)\n",
    "print('Best Accuracy: {0:.2%}'.format(svm.best_score_))"
   ]
  },
  {
   "cell_type": "markdown",
   "metadata": {
    "id": "M27Qv-vxR-PC"
   },
   "source": [
    "## (Train - using Test-Train Split)"
   ]
  },
  {
   "cell_type": "code",
   "execution_count": 452,
   "metadata": {
    "id": "xZvj-RR8R3p4"
   },
   "outputs": [],
   "source": [
    "# Linear\n",
    "#svm_model = LinearSVC().fit(X_train, y_train)\n",
    "\n",
    "#start = time.time()\n",
    "\n",
    "#svm.fit(X_train_normalized, y_train)\n",
    "\n",
    "#stop = time.time()\n",
    "#print(f\"Training time for polynomial SVM: {stop - start}s\")"
   ]
  },
  {
   "cell_type": "markdown",
   "metadata": {
    "id": "MzgoC2twSGou"
   },
   "source": [
    "## Evaluate"
   ]
  },
  {
   "cell_type": "code",
   "execution_count": 176,
   "metadata": {},
   "outputs": [
    {
     "data": {
      "image/png": "[encoded data removed]",
      "text/plain": [
       "<Figure size 432x288 with 1 Axes>"
      ]
     },
     "metadata": {
      "needs_background": "light"
     },
     "output_type": "display_data"
    }
   ],
   "source": [
    "test_scores = svm.cv_results_['mean_test_score']\n",
    "\n",
    "plt.title(\"Mean accuracy after 10-Fold Cross Validation\")\n",
    "plt.plot(test_scores)\n",
    "plt.xlabel(\"Iteration\")\n",
    "plt.ylabel(\"Accuracy\")\n",
    "plt.show()"
   ]
  },
  {
   "cell_type": "code",
   "execution_count": null,
   "metadata": {
    "colab": {
     "base_uri": "https://localhost:8080/"
    },
    "id": "SHvrY_WTSO9j",
    "outputId": "2b5f6949-3590-4738-9bc5-7c2cde47fc32"
   },
   "outputs": [],
   "source": [
    "#accuracy = svm_model.score(X_test_normalized, y_test) \n",
    "\n",
    "#print('Accuracy: {0:.2%}'.format(accuracy))"
   ]
  },
  {
   "cell_type": "code",
   "execution_count": 177,
   "metadata": {
    "colab": {
     "base_uri": "https://localhost:8080/",
     "height": 279
    },
    "id": "inO0fhE8StyF",
    "outputId": "50419daf-6978-45a8-9c8f-f669917fa251"
   },
   "outputs": [
    {
     "data": {
      "image/png": "[encoded data removed]",
      "text/plain": [
       "<Figure size 432x288 with 2 Axes>"
      ]
     },
     "metadata": {
      "needs_background": "light"
     },
     "output_type": "display_data"
    }
   ],
   "source": [
    "plot_confusion_matrix(svm, X_test_normalized, y_test)  \n",
    "plt.show()"
   ]
  },
  {
   "cell_type": "markdown",
   "metadata": {
    "id": "AyWsyFoGv92H"
   },
   "source": [
    "## Export"
   ]
  },
  {
   "cell_type": "code",
   "execution_count": 549,
   "metadata": {
    "colab": {
     "base_uri": "https://localhost:8080/"
    },
    "id": "vWwDHaMxwANd",
    "outputId": "927eff1d-1e84-42b5-f195-5af4593eae54"
   },
   "outputs": [
    {
     "data": {
      "text/plain": [
       "['../src/models/SVM_classifier.joblib']"
      ]
     },
     "execution_count": 549,
     "metadata": {},
     "output_type": "execute_result"
    }
   ],
   "source": [
    "dump(svm, MODEL_OUTPUT_PATH + 'SVM_classifier.joblib') "
   ]
  },
  {
   "cell_type": "markdown",
   "metadata": {
    "id": "TsL5MGI2Scsk"
   },
   "source": [
    "## Prediction"
   ]
  },
  {
   "cell_type": "code",
   "execution_count": 178,
   "metadata": {
    "colab": {
     "base_uri": "https://localhost:8080/"
    },
    "id": "lgzVe198aOe3",
    "outputId": "145d728f-ff21-4fbd-ed67-fc0c15ecc5f3"
   },
   "outputs": [
    {
     "name": "stdout",
     "output_type": "stream",
     "text": [
      "Predicted RISK is: LOW\n"
     ]
    }
   ],
   "source": [
    "predicted_risk = svm.predict(scaler.transform([[1077113, 8, 29, 4947796, 57879, 1, 6, 0]]))[0]\n",
    "print(\"Predicted RISK is: \" + prediction_result_mapping[predicted_risk])"
   ]
  },
  {
   "cell_type": "markdown",
   "metadata": {
    "id": "h6Nun-zRkweH"
   },
   "source": [
    "# K-nearest Neighbours Classifier"
   ]
  },
  {
   "cell_type": "code",
   "execution_count": 179,
   "metadata": {
    "id": "g419boPkk11J"
   },
   "outputs": [],
   "source": [
    "from sklearn.neighbors import KNeighborsClassifier"
   ]
  },
  {
   "cell_type": "code",
   "execution_count": 189,
   "metadata": {},
   "outputs": [],
   "source": [
    "knn = KNeighborsClassifier()"
   ]
  },
  {
   "cell_type": "markdown",
   "metadata": {},
   "source": [
    "## Parameter Tuning (with K-Fold Cross Validation)"
   ]
  },
  {
   "cell_type": "code",
   "execution_count": 190,
   "metadata": {},
   "outputs": [],
   "source": [
    "# Define the parameter ranges that should be tested on the model\n",
    "knn_params = {\n",
    "    'n_neighbors': range(1, 30),\n",
    "    'weights': ['uniform', 'distance']\n",
    "}\n",
    "\n",
    "# Instanciate the Grid for parameter tuning\n",
    "knn_grid = GridSearchCV(knn, knn_params, cv=10, scoring='accuracy', n_jobs=-1)\n",
    "\n",
    "knn = knn_grid.fit(X_normalized, Y)"
   ]
  },
  {
   "cell_type": "code",
   "execution_count": 191,
   "metadata": {},
   "outputs": [
    {
     "data": {
      "text/html": [
       "<div>\n",
       "<style scoped>\n",
       "    .dataframe tbody tr th:only-of-type {\n",
       "        vertical-align: middle;\n",
       "    }\n",
       "\n",
       "    .dataframe tbody tr th {\n",
       "        vertical-align: top;\n",
       "    }\n",
       "\n",
       "    .dataframe thead th {\n",
       "        text-align: right;\n",
       "    }\n",
       "</style>\n",
       "<table border=\"1\" class=\"dataframe\">\n",
       "  <thead>\n",
       "    <tr style=\"text-align: right;\">\n",
       "      <th></th>\n",
       "      <th>mean_fit_time</th>\n",
       "      <th>std_fit_time</th>\n",
       "      <th>mean_score_time</th>\n",
       "      <th>std_score_time</th>\n",
       "      <th>param_n_neighbors</th>\n",
       "      <th>param_weights</th>\n",
       "      <th>params</th>\n",
       "      <th>split0_test_score</th>\n",
       "      <th>split1_test_score</th>\n",
       "      <th>split2_test_score</th>\n",
       "      <th>split3_test_score</th>\n",
       "      <th>split4_test_score</th>\n",
       "      <th>split5_test_score</th>\n",
       "      <th>split6_test_score</th>\n",
       "      <th>split7_test_score</th>\n",
       "      <th>split8_test_score</th>\n",
       "      <th>split9_test_score</th>\n",
       "      <th>mean_test_score</th>\n",
       "      <th>std_test_score</th>\n",
       "      <th>rank_test_score</th>\n",
       "    </tr>\n",
       "  </thead>\n",
       "  <tbody>\n",
       "    <tr>\n",
       "      <th>0</th>\n",
       "      <td>0.015875</td>\n",
       "      <td>0.005984</td>\n",
       "      <td>0.042440</td>\n",
       "      <td>0.005095</td>\n",
       "      <td>1</td>\n",
       "      <td>uniform</td>\n",
       "      <td>{'n_neighbors': 1, 'weights': 'uniform'}</td>\n",
       "      <td>0.905</td>\n",
       "      <td>0.902</td>\n",
       "      <td>0.904</td>\n",
       "      <td>0.907</td>\n",
       "      <td>0.906</td>\n",
       "      <td>0.924</td>\n",
       "      <td>0.920</td>\n",
       "      <td>0.919</td>\n",
       "      <td>0.900</td>\n",
       "      <td>0.917</td>\n",
       "      <td>0.9104</td>\n",
       "      <td>0.008212</td>\n",
       "      <td>55</td>\n",
       "    </tr>\n",
       "    <tr>\n",
       "      <th>1</th>\n",
       "      <td>0.011870</td>\n",
       "      <td>0.002204</td>\n",
       "      <td>0.017256</td>\n",
       "      <td>0.005695</td>\n",
       "      <td>1</td>\n",
       "      <td>distance</td>\n",
       "      <td>{'n_neighbors': 1, 'weights': 'distance'}</td>\n",
       "      <td>0.905</td>\n",
       "      <td>0.902</td>\n",
       "      <td>0.904</td>\n",
       "      <td>0.907</td>\n",
       "      <td>0.906</td>\n",
       "      <td>0.924</td>\n",
       "      <td>0.920</td>\n",
       "      <td>0.919</td>\n",
       "      <td>0.900</td>\n",
       "      <td>0.917</td>\n",
       "      <td>0.9104</td>\n",
       "      <td>0.008212</td>\n",
       "      <td>55</td>\n",
       "    </tr>\n",
       "    <tr>\n",
       "      <th>2</th>\n",
       "      <td>0.014714</td>\n",
       "      <td>0.007545</td>\n",
       "      <td>0.039812</td>\n",
       "      <td>0.007163</td>\n",
       "      <td>2</td>\n",
       "      <td>uniform</td>\n",
       "      <td>{'n_neighbors': 2, 'weights': 'uniform'}</td>\n",
       "      <td>0.887</td>\n",
       "      <td>0.895</td>\n",
       "      <td>0.906</td>\n",
       "      <td>0.888</td>\n",
       "      <td>0.906</td>\n",
       "      <td>0.911</td>\n",
       "      <td>0.901</td>\n",
       "      <td>0.903</td>\n",
       "      <td>0.906</td>\n",
       "      <td>0.901</td>\n",
       "      <td>0.9004</td>\n",
       "      <td>0.007592</td>\n",
       "      <td>58</td>\n",
       "    </tr>\n",
       "    <tr>\n",
       "      <th>3</th>\n",
       "      <td>0.013372</td>\n",
       "      <td>0.005111</td>\n",
       "      <td>0.017877</td>\n",
       "      <td>0.005836</td>\n",
       "      <td>2</td>\n",
       "      <td>distance</td>\n",
       "      <td>{'n_neighbors': 2, 'weights': 'distance'}</td>\n",
       "      <td>0.905</td>\n",
       "      <td>0.902</td>\n",
       "      <td>0.904</td>\n",
       "      <td>0.907</td>\n",
       "      <td>0.906</td>\n",
       "      <td>0.924</td>\n",
       "      <td>0.920</td>\n",
       "      <td>0.919</td>\n",
       "      <td>0.900</td>\n",
       "      <td>0.917</td>\n",
       "      <td>0.9104</td>\n",
       "      <td>0.008212</td>\n",
       "      <td>55</td>\n",
       "    </tr>\n",
       "    <tr>\n",
       "      <th>4</th>\n",
       "      <td>0.014095</td>\n",
       "      <td>0.005123</td>\n",
       "      <td>0.039061</td>\n",
       "      <td>0.006136</td>\n",
       "      <td>3</td>\n",
       "      <td>uniform</td>\n",
       "      <td>{'n_neighbors': 3, 'weights': 'uniform'}</td>\n",
       "      <td>0.915</td>\n",
       "      <td>0.926</td>\n",
       "      <td>0.929</td>\n",
       "      <td>0.926</td>\n",
       "      <td>0.919</td>\n",
       "      <td>0.924</td>\n",
       "      <td>0.920</td>\n",
       "      <td>0.930</td>\n",
       "      <td>0.920</td>\n",
       "      <td>0.933</td>\n",
       "      <td>0.9242</td>\n",
       "      <td>0.005363</td>\n",
       "      <td>53</td>\n",
       "    </tr>\n",
       "  </tbody>\n",
       "</table>\n",
       "</div>"
      ],
      "text/plain": [
       "   mean_fit_time  std_fit_time  mean_score_time  std_score_time  \\\n",
       "0       0.015875      0.005984         0.042440        0.005095   \n",
       "1       0.011870      0.002204         0.017256        0.005695   \n",
       "2       0.014714      0.007545         0.039812        0.007163   \n",
       "3       0.013372      0.005111         0.017877        0.005836   \n",
       "4       0.014095      0.005123         0.039061        0.006136   \n",
       "\n",
       "  param_n_neighbors param_weights                                     params  \\\n",
       "0                 1       uniform   {'n_neighbors': 1, 'weights': 'uniform'}   \n",
       "1                 1      distance  {'n_neighbors': 1, 'weights': 'distance'}   \n",
       "2                 2       uniform   {'n_neighbors': 2, 'weights': 'uniform'}   \n",
       "3                 2      distance  {'n_neighbors': 2, 'weights': 'distance'}   \n",
       "4                 3       uniform   {'n_neighbors': 3, 'weights': 'uniform'}   \n",
       "\n",
       "   split0_test_score  split1_test_score  split2_test_score  split3_test_score  \\\n",
       "0              0.905              0.902              0.904              0.907   \n",
       "1              0.905              0.902              0.904              0.907   \n",
       "2              0.887              0.895              0.906              0.888   \n",
       "3              0.905              0.902              0.904              0.907   \n",
       "4              0.915              0.926              0.929              0.926   \n",
       "\n",
       "   split4_test_score  split5_test_score  split6_test_score  split7_test_score  \\\n",
       "0              0.906              0.924              0.920              0.919   \n",
       "1              0.906              0.924              0.920              0.919   \n",
       "2              0.906              0.911              0.901              0.903   \n",
       "3              0.906              0.924              0.920              0.919   \n",
       "4              0.919              0.924              0.920              0.930   \n",
       "\n",
       "   split8_test_score  split9_test_score  mean_test_score  std_test_score  \\\n",
       "0              0.900              0.917           0.9104        0.008212   \n",
       "1              0.900              0.917           0.9104        0.008212   \n",
       "2              0.906              0.901           0.9004        0.007592   \n",
       "3              0.900              0.917           0.9104        0.008212   \n",
       "4              0.920              0.933           0.9242        0.005363   \n",
       "\n",
       "   rank_test_score  \n",
       "0               55  \n",
       "1               55  \n",
       "2               58  \n",
       "3               55  \n",
       "4               53  "
      ]
     },
     "execution_count": 191,
     "metadata": {},
     "output_type": "execute_result"
    }
   ],
   "source": [
    "pd.DataFrame(knn.cv_results_).head()"
   ]
  },
  {
   "cell_type": "code",
   "execution_count": 192,
   "metadata": {},
   "outputs": [
    {
     "name": "stdout",
     "output_type": "stream",
     "text": [
      "KNeighborsClassifier(n_neighbors=21, weights='distance')\n",
      "{'n_neighbors': 21, 'weights': 'distance'}\n",
      "Best Accuracy: 93.76%\n"
     ]
    }
   ],
   "source": [
    "print(knn.best_estimator_)\n",
    "print(knn.best_params_)\n",
    "print('Best Accuracy: {0:.2%}'.format(knn.best_score_))"
   ]
  },
  {
   "cell_type": "markdown",
   "metadata": {
    "id": "80VauLEYk-Ab"
   },
   "source": [
    "## (Train - using Test-Train Split)"
   ]
  },
  {
   "cell_type": "code",
   "execution_count": 130,
   "metadata": {
    "id": "kMYIfIEMk_Rr"
   },
   "outputs": [
    {
     "name": "stdout",
     "output_type": "stream",
     "text": [
      "Training time KNN Classifier: 0.0075609683990478516s\n"
     ]
    }
   ],
   "source": [
    "#start = time.time()\n",
    "\n",
    "#knn.fit(X_train_normalized, y_train) \n",
    "\n",
    "#stop = time.time()\n",
    "#print(f\"Training time KNN Classifier: {stop - start}s\")"
   ]
  },
  {
   "cell_type": "markdown",
   "metadata": {
    "id": "ury_lL8glFBP"
   },
   "source": [
    "## Evaluate"
   ]
  },
  {
   "cell_type": "code",
   "execution_count": 194,
   "metadata": {},
   "outputs": [
    {
     "data": {
      "image/png": "[encoded data removed]",
      "text/plain": [
       "<Figure size 432x288 with 1 Axes>"
      ]
     },
     "metadata": {
      "needs_background": "light"
     },
     "output_type": "display_data"
    }
   ],
   "source": [
    "test_scores_weight_uniform = [ x for ind, x in enumerate(knn.cv_results_['mean_test_score']) if ind % 2 == 0]\n",
    "test_scores_weight_distance = [ x for ind, x in enumerate(knn.cv_results_['mean_test_score']) if ind % 2 == 1]\n",
    "\n",
    "\n",
    "plt.title(\"Mean accuracy after 10-Fold Cross Validation\")\n",
    "plt.plot(test_scores_weight_uniform, label='weight=uniform')\n",
    "plt.plot(test_scores_weight_distance, label='weight=distance')\n",
    "plt.axvline(x=knn.best_params_['n_neighbors'], label='Best Estimator', color='r')\n",
    "plt.xlabel(\"N\")\n",
    "plt.ylabel(\"Accuracy\")\n",
    "plt.legend(loc='best')\n",
    "plt.show()"
   ]
  },
  {
   "cell_type": "code",
   "execution_count": 187,
   "metadata": {
    "colab": {
     "base_uri": "https://localhost:8080/"
    },
    "id": "g3wV1N50lGlb",
    "outputId": "917f1fd2-356d-4874-cc71-1a9918a15012"
   },
   "outputs": [],
   "source": [
    "#accuracy = knn.score(X_test_normalized, y_test) \n",
    "#print('Accuracy: {0:.2%}'.format(accuracy))"
   ]
  },
  {
   "cell_type": "code",
   "execution_count": 195,
   "metadata": {
    "colab": {
     "base_uri": "https://localhost:8080/",
     "height": 279
    },
    "id": "xdsPnneFlK4I",
    "outputId": "ad63944e-9657-461b-cd70-0169b2c5ed78"
   },
   "outputs": [
    {
     "data": {
      "image/png": "[encoded data removed]",
      "text/plain": [
       "<Figure size 432x288 with 2 Axes>"
      ]
     },
     "metadata": {
      "needs_background": "light"
     },
     "output_type": "display_data"
    }
   ],
   "source": [
    "plot_confusion_matrix(knn, X_test_normalized, y_test)  \n",
    "plt.show()"
   ]
  },
  {
   "cell_type": "markdown",
   "metadata": {
    "id": "DXBlr3WdwMCg"
   },
   "source": [
    "## Export"
   ]
  },
  {
   "cell_type": "code",
   "execution_count": 559,
   "metadata": {
    "colab": {
     "base_uri": "https://localhost:8080/"
    },
    "id": "8expQdoewNvq",
    "outputId": "627ccd8b-9e35-4015-b660-dd44b53e2150"
   },
   "outputs": [
    {
     "data": {
      "text/plain": [
       "['../src/models/KNN_classifier.joblib']"
      ]
     },
     "execution_count": 559,
     "metadata": {},
     "output_type": "execute_result"
    }
   ],
   "source": [
    "dump(knn, MODEL_OUTPUT_PATH + 'KNN_classifier.joblib') "
   ]
  },
  {
   "cell_type": "markdown",
   "metadata": {
    "id": "TASducYTs27s"
   },
   "source": [
    "## Prediction"
   ]
  },
  {
   "cell_type": "code",
   "execution_count": 196,
   "metadata": {
    "colab": {
     "base_uri": "https://localhost:8080/"
    },
    "id": "WtQjtAOcs-ID",
    "outputId": "3316441d-2200-4f6d-d45b-a57f9e7d0716"
   },
   "outputs": [
    {
     "name": "stdout",
     "output_type": "stream",
     "text": [
      "Predicted RISK is: LOW\n"
     ]
    }
   ],
   "source": [
    "predicted_risk = knn.predict(scaler.transform([[1077113, 8, 29, 4947796, 57879, 1, 6, 0]]))[0]\n",
    "print(\"Predicted RISK is: \" + prediction_result_mapping[predicted_risk])"
   ]
  },
  {
   "cell_type": "markdown",
   "metadata": {
    "id": "t6WO67S-A9il"
   },
   "source": [
    "# Multilayer Perceptron (MLP) using Backpropagation"
   ]
  },
  {
   "cell_type": "code",
   "execution_count": 14,
   "metadata": {
    "id": "0xlIU84RBKX-"
   },
   "outputs": [],
   "source": [
    "from sklearn.neural_network import MLPClassifier"
   ]
  },
  {
   "cell_type": "code",
   "execution_count": 15,
   "metadata": {
    "id": "14ShmPsoBTfm"
   },
   "outputs": [],
   "source": [
    "#clf = MLPClassifier(activation='tanh', solver='adam', alpha=1e-5, hidden_layer_sizes=(5, 2), max_iter=10000)\n",
    "\n",
    "mlp = MLPClassifier()"
   ]
  },
  {
   "cell_type": "markdown",
   "metadata": {},
   "source": [
    "## Parameter Tuning (with K-Fold Cross Validation)"
   ]
  },
  {
   "cell_type": "code",
   "execution_count": 16,
   "metadata": {},
   "outputs": [
    {
     "name": "stderr",
     "output_type": "stream",
     "text": [
      "/usr/local/lib/python3.9/site-packages/sklearn/neural_network/_multilayer_perceptron.py:500: ConvergenceWarning: lbfgs failed to converge (status=1):\n",
      "STOP: TOTAL NO. of ITERATIONS REACHED LIMIT.\n",
      "\n",
      "Increase the number of iterations (max_iter) or scale the data as shown in:\n",
      "    https://scikit-learn.org/stable/modules/preprocessing.html\n",
      "  self.n_iter_ = _check_optimize_result(\"lbfgs\", opt_res, self.max_iter)\n"
     ]
    }
   ],
   "source": [
    "mlp_params={\n",
    "'learning_rate': [\"constant\", \"invscaling\", \"adaptive\"],\n",
    "'hidden_layer_sizes': [(5, 2)],\n",
    "'solver': [\"lbfgs\", \"sgd\", \"adam\"],\n",
    "'activation': [\"logistic\", \"relu\", \"tanh\"]\n",
    "}\n",
    "\n",
    "# Instanciate the Grid for parameter tuning\n",
    "mlp_grid = GridSearchCV(mlp, mlp_params, cv=10, scoring='accuracy', n_jobs=-1)\n",
    "\n",
    "mlp = mlp_grid.fit(X_normalized, Y)"
   ]
  },
  {
   "cell_type": "code",
   "execution_count": 17,
   "metadata": {},
   "outputs": [
    {
     "data": {
      "text/html": [
       "<div>\n",
       "<style scoped>\n",
       "    .dataframe tbody tr th:only-of-type {\n",
       "        vertical-align: middle;\n",
       "    }\n",
       "\n",
       "    .dataframe tbody tr th {\n",
       "        vertical-align: top;\n",
       "    }\n",
       "\n",
       "    .dataframe thead th {\n",
       "        text-align: right;\n",
       "    }\n",
       "</style>\n",
       "<table border=\"1\" class=\"dataframe\">\n",
       "  <thead>\n",
       "    <tr style=\"text-align: right;\">\n",
       "      <th></th>\n",
       "      <th>mean_fit_time</th>\n",
       "      <th>std_fit_time</th>\n",
       "      <th>mean_score_time</th>\n",
       "      <th>std_score_time</th>\n",
       "      <th>param_activation</th>\n",
       "      <th>param_hidden_layer_sizes</th>\n",
       "      <th>param_learning_rate</th>\n",
       "      <th>param_solver</th>\n",
       "      <th>params</th>\n",
       "      <th>split0_test_score</th>\n",
       "      <th>...</th>\n",
       "      <th>split3_test_score</th>\n",
       "      <th>split4_test_score</th>\n",
       "      <th>split5_test_score</th>\n",
       "      <th>split6_test_score</th>\n",
       "      <th>split7_test_score</th>\n",
       "      <th>split8_test_score</th>\n",
       "      <th>split9_test_score</th>\n",
       "      <th>mean_test_score</th>\n",
       "      <th>std_test_score</th>\n",
       "      <th>rank_test_score</th>\n",
       "    </tr>\n",
       "  </thead>\n",
       "  <tbody>\n",
       "    <tr>\n",
       "      <th>0</th>\n",
       "      <td>1.059636</td>\n",
       "      <td>0.052553</td>\n",
       "      <td>0.001217</td>\n",
       "      <td>0.000587</td>\n",
       "      <td>logistic</td>\n",
       "      <td>(5, 2)</td>\n",
       "      <td>constant</td>\n",
       "      <td>lbfgs</td>\n",
       "      <td>{'activation': 'logistic', 'hidden_layer_sizes...</td>\n",
       "      <td>0.972</td>\n",
       "      <td>...</td>\n",
       "      <td>0.989</td>\n",
       "      <td>0.978</td>\n",
       "      <td>0.935</td>\n",
       "      <td>0.959</td>\n",
       "      <td>0.988</td>\n",
       "      <td>0.987</td>\n",
       "      <td>0.970</td>\n",
       "      <td>0.9696</td>\n",
       "      <td>0.018304</td>\n",
       "      <td>6</td>\n",
       "    </tr>\n",
       "    <tr>\n",
       "      <th>1</th>\n",
       "      <td>0.459977</td>\n",
       "      <td>0.046644</td>\n",
       "      <td>0.000842</td>\n",
       "      <td>0.000644</td>\n",
       "      <td>logistic</td>\n",
       "      <td>(5, 2)</td>\n",
       "      <td>constant</td>\n",
       "      <td>sgd</td>\n",
       "      <td>{'activation': 'logistic', 'hidden_layer_sizes...</td>\n",
       "      <td>0.425</td>\n",
       "      <td>...</td>\n",
       "      <td>0.425</td>\n",
       "      <td>0.426</td>\n",
       "      <td>0.426</td>\n",
       "      <td>0.425</td>\n",
       "      <td>0.425</td>\n",
       "      <td>0.425</td>\n",
       "      <td>0.425</td>\n",
       "      <td>0.4252</td>\n",
       "      <td>0.000400</td>\n",
       "      <td>24</td>\n",
       "    </tr>\n",
       "    <tr>\n",
       "      <th>2</th>\n",
       "      <td>3.837968</td>\n",
       "      <td>0.095261</td>\n",
       "      <td>0.001260</td>\n",
       "      <td>0.000483</td>\n",
       "      <td>logistic</td>\n",
       "      <td>(5, 2)</td>\n",
       "      <td>constant</td>\n",
       "      <td>adam</td>\n",
       "      <td>{'activation': 'logistic', 'hidden_layer_sizes...</td>\n",
       "      <td>0.906</td>\n",
       "      <td>...</td>\n",
       "      <td>0.887</td>\n",
       "      <td>0.876</td>\n",
       "      <td>0.899</td>\n",
       "      <td>0.897</td>\n",
       "      <td>0.911</td>\n",
       "      <td>0.920</td>\n",
       "      <td>0.910</td>\n",
       "      <td>0.9008</td>\n",
       "      <td>0.014593</td>\n",
       "      <td>15</td>\n",
       "    </tr>\n",
       "    <tr>\n",
       "      <th>3</th>\n",
       "      <td>0.985229</td>\n",
       "      <td>0.034561</td>\n",
       "      <td>0.001253</td>\n",
       "      <td>0.001734</td>\n",
       "      <td>logistic</td>\n",
       "      <td>(5, 2)</td>\n",
       "      <td>invscaling</td>\n",
       "      <td>lbfgs</td>\n",
       "      <td>{'activation': 'logistic', 'hidden_layer_sizes...</td>\n",
       "      <td>0.913</td>\n",
       "      <td>...</td>\n",
       "      <td>0.931</td>\n",
       "      <td>0.928</td>\n",
       "      <td>0.949</td>\n",
       "      <td>0.946</td>\n",
       "      <td>0.987</td>\n",
       "      <td>0.949</td>\n",
       "      <td>0.924</td>\n",
       "      <td>0.9460</td>\n",
       "      <td>0.022095</td>\n",
       "      <td>10</td>\n",
       "    </tr>\n",
       "    <tr>\n",
       "      <th>4</th>\n",
       "      <td>0.365024</td>\n",
       "      <td>0.193508</td>\n",
       "      <td>0.000733</td>\n",
       "      <td>0.000639</td>\n",
       "      <td>logistic</td>\n",
       "      <td>(5, 2)</td>\n",
       "      <td>invscaling</td>\n",
       "      <td>sgd</td>\n",
       "      <td>{'activation': 'logistic', 'hidden_layer_sizes...</td>\n",
       "      <td>0.425</td>\n",
       "      <td>...</td>\n",
       "      <td>0.397</td>\n",
       "      <td>0.396</td>\n",
       "      <td>0.396</td>\n",
       "      <td>0.396</td>\n",
       "      <td>0.179</td>\n",
       "      <td>0.425</td>\n",
       "      <td>0.396</td>\n",
       "      <td>0.3804</td>\n",
       "      <td>0.068074</td>\n",
       "      <td>26</td>\n",
       "    </tr>\n",
       "  </tbody>\n",
       "</table>\n",
       "<p>5 rows × 22 columns</p>\n",
       "</div>"
      ],
      "text/plain": [
       "   mean_fit_time  std_fit_time  mean_score_time  std_score_time  \\\n",
       "0       1.059636      0.052553         0.001217        0.000587   \n",
       "1       0.459977      0.046644         0.000842        0.000644   \n",
       "2       3.837968      0.095261         0.001260        0.000483   \n",
       "3       0.985229      0.034561         0.001253        0.001734   \n",
       "4       0.365024      0.193508         0.000733        0.000639   \n",
       "\n",
       "  param_activation param_hidden_layer_sizes param_learning_rate param_solver  \\\n",
       "0         logistic                   (5, 2)            constant        lbfgs   \n",
       "1         logistic                   (5, 2)            constant          sgd   \n",
       "2         logistic                   (5, 2)            constant         adam   \n",
       "3         logistic                   (5, 2)          invscaling        lbfgs   \n",
       "4         logistic                   (5, 2)          invscaling          sgd   \n",
       "\n",
       "                                              params  split0_test_score  ...  \\\n",
       "0  {'activation': 'logistic', 'hidden_layer_sizes...              0.972  ...   \n",
       "1  {'activation': 'logistic', 'hidden_layer_sizes...              0.425  ...   \n",
       "2  {'activation': 'logistic', 'hidden_layer_sizes...              0.906  ...   \n",
       "3  {'activation': 'logistic', 'hidden_layer_sizes...              0.913  ...   \n",
       "4  {'activation': 'logistic', 'hidden_layer_sizes...              0.425  ...   \n",
       "\n",
       "   split3_test_score  split4_test_score  split5_test_score  split6_test_score  \\\n",
       "0              0.989              0.978              0.935              0.959   \n",
       "1              0.425              0.426              0.426              0.425   \n",
       "2              0.887              0.876              0.899              0.897   \n",
       "3              0.931              0.928              0.949              0.946   \n",
       "4              0.397              0.396              0.396              0.396   \n",
       "\n",
       "   split7_test_score  split8_test_score  split9_test_score  mean_test_score  \\\n",
       "0              0.988              0.987              0.970           0.9696   \n",
       "1              0.425              0.425              0.425           0.4252   \n",
       "2              0.911              0.920              0.910           0.9008   \n",
       "3              0.987              0.949              0.924           0.9460   \n",
       "4              0.179              0.425              0.396           0.3804   \n",
       "\n",
       "   std_test_score  rank_test_score  \n",
       "0        0.018304                6  \n",
       "1        0.000400               24  \n",
       "2        0.014593               15  \n",
       "3        0.022095               10  \n",
       "4        0.068074               26  \n",
       "\n",
       "[5 rows x 22 columns]"
      ]
     },
     "execution_count": 17,
     "metadata": {},
     "output_type": "execute_result"
    }
   ],
   "source": [
    "mlp_result = pd.DataFrame(mlp.cv_results_)\n",
    "\n",
    "mlp_result.head()"
   ]
  },
  {
   "cell_type": "code",
   "execution_count": 18,
   "metadata": {},
   "outputs": [
    {
     "name": "stdout",
     "output_type": "stream",
     "text": [
      "MLPClassifier(activation='tanh', hidden_layer_sizes=(5, 2), solver='lbfgs')\n",
      "{'activation': 'tanh', 'hidden_layer_sizes': (5, 2), 'learning_rate': 'constant', 'solver': 'lbfgs'}\n",
      "Best Accuracy: 98.03%\n"
     ]
    }
   ],
   "source": [
    "print(mlp.best_estimator_)\n",
    "print(mlp.best_params_)\n",
    "print('Best Accuracy: {0:.2%}'.format(mlp.best_score_))"
   ]
  },
  {
   "cell_type": "markdown",
   "metadata": {
    "id": "heNQGEc9BJGk"
   },
   "source": [
    "## (Train - Using Test-Train Split)"
   ]
  },
  {
   "cell_type": "code",
   "execution_count": 322,
   "metadata": {
    "colab": {
     "base_uri": "https://localhost:8080/"
    },
    "id": "nhSBolqVBe5s",
    "outputId": "667264a9-0ff5-47c6-942b-e729d472cf79"
   },
   "outputs": [],
   "source": [
    "#start = time.time()\n",
    "\n",
    "#mlp.fit(X_train_normalized, y_train)\n",
    "\n",
    "#stop = time.time()\n",
    "#print(f\"Training time MLP Classifier: {stop - start}s\")"
   ]
  },
  {
   "cell_type": "markdown",
   "metadata": {
    "id": "pk-oY6mqBx6u"
   },
   "source": [
    "## Evaluate"
   ]
  },
  {
   "cell_type": "code",
   "execution_count": 19,
   "metadata": {},
   "outputs": [
    {
     "data": {
      "image/png": "[encoded data removed]",
      "text/plain": [
       "<Figure size 432x288 with 1 Axes>"
      ]
     },
     "metadata": {
      "needs_background": "light"
     },
     "output_type": "display_data"
    }
   ],
   "source": [
    "test_scores = mlp.cv_results_['mean_test_score']\n",
    "\n",
    "plt.title(\"Mean accuracy after 10-Fold Cross Validation with multiple param combinations\")\n",
    "plt.plot(test_scores)\n",
    "plt.ylabel(\"Accuracy\")\n",
    "plt.show()"
   ]
  },
  {
   "cell_type": "code",
   "execution_count": 373,
   "metadata": {
    "colab": {
     "base_uri": "https://localhost:8080/"
    },
    "id": "QeRwdI0FBzxi",
    "outputId": "c83f2462-6ce1-41af-b093-3442aa531d7b"
   },
   "outputs": [],
   "source": [
    "#from sklearn.model_selection import cross_val_score\n",
    "\n",
    "\n",
    "#accuracy = clf.score(X_test_normalized, y_test) \n",
    "\n",
    "#print('Accuracy: {0:.2%}'.format(accuracy))\n",
    "\n",
    "# lbfgs\n",
    "# identity -> 90.72%\n",
    "# logistic -> 98.88%\n",
    "# tanh -> 99.68%\n",
    "# relu -> 62.08%\n",
    "\n",
    "\n",
    "# sgd\n",
    "# identity -> 90.48%\n",
    "# logistic -> 62.08%\n",
    "# tanh -> 98.24%\n",
    "# relu -> 62.08%\n",
    "\n",
    "# adam\n",
    "# identity -> 90.88%\n",
    "# logistic -> 98.48%\n",
    "# tanh -> 99.04%\n",
    "# relu -> 98.88%"
   ]
  },
  {
   "cell_type": "code",
   "execution_count": 205,
   "metadata": {
    "colab": {
     "base_uri": "https://localhost:8080/",
     "height": 279
    },
    "id": "YVKeIhlOCN9Q",
    "outputId": "d8a47643-6c1b-4e47-b7f6-da07f2ef6b30"
   },
   "outputs": [
    {
     "data": {
      "image/png": "[encoded data removed]",
      "text/plain": [
       "<Figure size 432x288 with 2 Axes>"
      ]
     },
     "metadata": {
      "needs_background": "light"
     },
     "output_type": "display_data"
    }
   ],
   "source": [
    "plot_confusion_matrix(mlp, X_test_normalized, y_test)  \n",
    "plt.show()"
   ]
  },
  {
   "cell_type": "code",
   "execution_count": null,
   "metadata": {},
   "outputs": [],
   "source": [
    "X = scaler.transform(data[features])\n",
    "Y = data[\"Risk\"]\n",
    "plot_learning_curve(mlp, X, Y)"
   ]
  },
  {
   "cell_type": "markdown",
   "metadata": {
    "id": "GYKHF_jWCqxx"
   },
   "source": [
    "## Export"
   ]
  },
  {
   "cell_type": "code",
   "execution_count": 563,
   "metadata": {
    "colab": {
     "base_uri": "https://localhost:8080/"
    },
    "id": "5UNgMCQ9Cr9A",
    "outputId": "eac77c62-e3ed-479b-b135-7484afecb21a"
   },
   "outputs": [
    {
     "data": {
      "text/plain": [
       "['../src/models/MLP_classifier.joblib']"
      ]
     },
     "execution_count": 563,
     "metadata": {},
     "output_type": "execute_result"
    }
   ],
   "source": [
    "dump(mlp, MODEL_OUTPUT_PATH + 'MLP_classifier.joblib') "
   ]
  },
  {
   "cell_type": "markdown",
   "metadata": {
    "id": "8RdkYgONC1M5"
   },
   "source": [
    "## Prediction"
   ]
  },
  {
   "cell_type": "code",
   "execution_count": 24,
   "metadata": {
    "colab": {
     "base_uri": "https://localhost:8080/"
    },
    "id": "_3ehYsrbC0ki",
    "outputId": "540ef808-ca55-4deb-a7fc-1ea63e16abca"
   },
   "outputs": [
    {
     "name": "stdout",
     "output_type": "stream",
     "text": [
      "Predicted RISK is: LOW\n",
      "[0]\n"
     ]
    }
   ],
   "source": [
    "predicted_risk = mlp.predict(scaler.transform([[1077113, 8, 29, 4947796, 57879, 1, 6, 0]]))[0]\n",
    "print(\"Predicted RISK is: \" + prediction_result_mapping[predicted_risk])"
   ]
  },
  {
   "cell_type": "markdown",
   "metadata": {},
   "source": [
    "# Benchmarking"
   ]
  },
  {
   "cell_type": "code",
   "execution_count": 93,
   "metadata": {},
   "outputs": [],
   "source": [
    "dataset_entries = [5000, 10000, 25000, 50000, 100000]\n",
    "dt_accuracy_list = []\n",
    "svm_accuracy_list = []\n",
    "knn_accuracy_list = []\n",
    "mlp_accuracy_list = []\n",
    "\n",
    "dt_training_times = []\n",
    "svm_training_times = []\n",
    "knn_training_times = []\n",
    "mlp_training_times = []"
   ]
  },
  {
   "cell_type": "code",
   "execution_count": 94,
   "metadata": {},
   "outputs": [],
   "source": [
    "for nr_of_entries in dataset_entries:\n",
    "    data = generate_data(nr_of_entries)\n",
    "    data = data.replace({'Employee Training': levels_mapping, 'Risk': levels_mapping, 'External Advisor': advisor_mapping})\n",
    "    \n",
    "    X_train, X_test, y_train, y_test = train_test_split(data[features].values, data[\"Risk\"].values, random_state=0)\n",
    "    \n",
    "    # Decision Tree\n",
    "    dtree_model = DecisionTreeClassifier()\n",
    "    start = time.time()\n",
    "    dtree_model.fit(X_train, y_train) \n",
    "    stop = time.time()\n",
    "    dt_training_times.append(stop - start)\n",
    "    dt_accuracy_list.append(dtree_model.score(X_test, y_test))\n",
    "                            \n",
    "    # Scaler\n",
    "    scaler = MinMaxScaler()\n",
    "    scaler.fit(X_train)\n",
    "    X_train_normalized = scaler.transform(X_train)\n",
    "    X_test_normalized = scaler.transform(X_test)\n",
    "    \n",
    "    # SVM\n",
    "    svm_model = SVC(kernel='poly')\n",
    "    start = time.time()\n",
    "    svm_model.fit(X_train_normalized, y_train)\n",
    "    stop = time.time()\n",
    "    svm_training_times.append(stop - start)\n",
    "    svm_accuracy_list.append(svm_model.score(X_test_normalized, y_test))\n",
    "    \n",
    "    # KNN\n",
    "    knn = KNeighborsClassifier(n_neighbors = 17)\n",
    "    start = time.time()\n",
    "    knn.fit(X_train_normalized, y_train) \n",
    "    stop = time.time()\n",
    "    knn_training_times.append(stop - start)\n",
    "    knn_accuracy_list.append(knn.score(X_test_normalized, y_test))\n",
    "    \n",
    "    # MLP\n",
    "    clf = MLPClassifier(activation='tanh', solver='lbfgs', alpha=1e-5, hidden_layer_sizes=(5, 2), max_iter=100000)\n",
    "    start = time.time()\n",
    "    clf.fit(X_train_normalized, y_train)\n",
    "    stop = time.time()\n",
    "    mlp_training_times.append(stop - start)\n",
    "    mlp_accuracy_list.append(clf.score(X_test_normalized, y_test))\n",
    "    "
   ]
  },
  {
   "cell_type": "code",
   "execution_count": 100,
   "metadata": {},
   "outputs": [
    {
     "name": "stdout",
     "output_type": "stream",
     "text": [
      "[5000, 10000, 25000, 50000, 100000]\n",
      "\n",
      " Accuracy:\n",
      "Decision Tree: [0.8784, 0.9048, 0.92896, 0.93928, 0.9508]\n",
      "[0.9664, 0.9772, 0.98528, 0.98728, 0.98984]\n",
      "[0.9168, 0.9332, 0.9496, 0.95544, 0.96436]\n",
      "[0.9888, 0.9972, 0.99824, 0.97256, 0.9992]\n",
      "\n",
      " Training Times:\n",
      "[0.010490179061889648, 0.0204160213470459, 0.05765199661254883, 0.12712311744689941, 0.3110668659210205]\n",
      "[0.06813311576843262, 0.19890880584716797, 0.8305602073669434, 3.1285979747772217, 12.188233137130737]\n",
      "[0.0017361640930175781, 0.004775047302246094, 0.0270688533782959, 0.054738759994506836, 0.365800142288208]\n",
      "[8.24178409576416, 11.813431978225708, 30.678292989730835, 13.996891021728516, 540.4573841094971]\n"
     ]
    }
   ],
   "source": [
    "print(dataset_entries)\n",
    "print(\"\\n Accuracy:\")\n",
    "print(\"Decision Tree: \" + str(dt_accuracy_list))\n",
    "print(svm_accuracy_list)\n",
    "print(knn_accuracy_list)\n",
    "print(mlp_accuracy_list)\n",
    "\n",
    "print(\"\\n Training Times:\")\n",
    "print(dt_training_times)\n",
    "print(svm_training_times)\n",
    "print(knn_training_times)\n",
    "print(mlp_training_times)"
   ]
  }
 ],
 "metadata": {
  "colab": {
   "collapsed_sections": [
    "CcxkNU9NnM8p",
    "tq--wueVRT2V",
    "h6Nun-zRkweH"
   ],
   "name": "MA_Erion_Sula.ipynb",
   "provenance": [],
   "toc_visible": true
  },
  "kernelspec": {
   "display_name": "Python 3",
   "language": "python",
   "name": "python3"
  },
  "language_info": {
   "codemirror_mode": {
    "name": "ipython",
    "version": 3
   },
   "file_extension": ".py",
   "mimetype": "text/x-python",
   "name": "python",
   "nbconvert_exporter": "python",
   "pygments_lexer": "ipython3",
   "version": "3.9.2"
  }
 },
 "nbformat": 4,
 "nbformat_minor": 1
}
