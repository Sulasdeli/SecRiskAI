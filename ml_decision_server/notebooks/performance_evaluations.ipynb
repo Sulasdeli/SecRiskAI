{
 "cells": [
  {
   "cell_type": "code",
   "execution_count": 179,
   "id": "smart-stephen",
   "metadata": {},
   "outputs": [],
   "source": [
    "import os\n",
    "import random\n",
    "import pandas as pd\n",
    "import numpy\n",
    "from sklearn.model_selection import train_test_split\n",
    "from sklearn.metrics import plot_confusion_matrix, ConfusionMatrixDisplay, classification_report\n",
    "import matplotlib.pyplot as plt\n",
    "from sklearn.tree import export_text\n",
    "from joblib import dump, load\n",
    "from tqdm import tqdm\n",
    "from wandb.sklearn import plot_learning_curve\n",
    "from sklearn.model_selection import GridSearchCV\n",
    "import time\n",
    "\n",
    "MODEL_OUTPUT_PATH = \"../src/models/\"\n",
    "SCALER_OUTPUT_PATH = \"../src/scaler/\""
   ]
  },
  {
   "cell_type": "code",
   "execution_count": 180,
   "id": "dedicated-headline",
   "metadata": {},
   "outputs": [],
   "source": [
    "columns = ['Invested Amount', 'Successful Attacks', 'Failed Attacks', 'Business Value', 'Number of Employees', 'Employee Training', 'Known Vulnerabilities', 'External Advisor', 'Risk']\n",
    "features = columns[:-1]\n",
    "LEVELS = ['LOW', 'MEDIUM', 'HIGH']\n",
    "ADVISOR = ['NO', 'YES']\n",
    "prediction_result_mapping = {0: 'LOW', 1: 'MEDIUM', 2: 'HIGH'}"
   ]
  },
  {
   "cell_type": "code",
   "execution_count": 181,
   "id": "wanted-cabinet",
   "metadata": {},
   "outputs": [],
   "source": [
    "def generate_data(nr_entries = 1000, min_empl = 30, max_empl = 10000, min_nr_attacks = 0, nr_attacks = 50, \n",
    "                  avg_business_value = 5000000, std_business_value = 50000, max_invested_perc = 0.3, max_nr_vulnerabilities = 10):\n",
    "    df = pd.DataFrame(columns=columns)\n",
    "    for i in tqdm(range(0, nr_entries)):\n",
    "        nr_employees = random.randint(min_empl, max_empl)\n",
    "        employees_training = random.choice(LEVELS)\n",
    "        \n",
    "        failed_attack = random.randrange(nr_attacks)\n",
    "        succ_attack = random.randrange(nr_attacks)\n",
    "        \n",
    "        business_value = int(numpy.random.normal(loc=avg_business_value, scale=std_business_value))\n",
    "        invested_perc = random.uniform(0, max_invested_perc)\n",
    "        invested_amount = int(invested_perc * business_value)\n",
    "        \n",
    "        known_vulnerabilities = random.randrange(max_nr_vulnerabilities)\n",
    "        external_adv = random.choice(ADVISOR)\n",
    "\n",
    "        # Risk is computed based on the other parameters and is then categorized using 'get_categorized_risk'\n",
    "        computed_risk = invested_perc - (succ_attack / nr_attacks) + (nr_employees / max_empl) * LEVELS.index(employees_training) - (known_vulnerabilities / max_nr_vulnerabilities) + ADVISOR.index(external_adv)\n",
    "                \n",
    "        df.loc[i] = [invested_amount, succ_attack, failed_attack, business_value, nr_employees, employees_training, known_vulnerabilities, external_adv, get_categorized_risk(computed_risk)]\n",
    "    return df\n",
    "\n",
    "def get_categorized_risk(weighted_risk, upper_boundary = 1.0, lower_boundary = 0.0):\n",
    "  if weighted_risk >= upper_boundary:\n",
    "      return \"LOW\"\n",
    "  elif weighted_risk >= lower_boundary and weighted_risk < upper_boundary:\n",
    "      return \"MEDIUM\"\n",
    "  else:\n",
    "      return \"HIGH\""
   ]
  },
  {
   "cell_type": "code",
   "execution_count": 182,
   "id": "genuine-aaron",
   "metadata": {},
   "outputs": [
    {
     "name": "stderr",
     "output_type": "stream",
     "text": [
      "100%|██████████| 50000/50000 [04:02<00:00, 205.76it/s]\n"
     ]
    }
   ],
   "source": [
    "data = generate_data(nr_entries = 50000)"
   ]
  },
  {
   "cell_type": "code",
   "execution_count": 183,
   "id": "associate-transport",
   "metadata": {},
   "outputs": [
    {
     "name": "stdout",
     "output_type": "stream",
     "text": [
      "Categorization time: 0.052388906478881836s\n"
     ]
    }
   ],
   "source": [
    "start = time.time()\n",
    "\n",
    "levels_mapping = { 'LOW': 0, 'MEDIUM': 1, 'HIGH': 2 }\n",
    "advisor_mapping = { 'NO': 0, 'YES': 1 }\n",
    "\n",
    "data = data.replace({'Employee Training': levels_mapping, 'Risk': levels_mapping, 'External Advisor': advisor_mapping})\n",
    "\n",
    "stop = time.time()\n",
    "print(f\"Categorization time: {stop - start}s\")"
   ]
  },
  {
   "cell_type": "code",
   "execution_count": 184,
   "id": "curious-brother",
   "metadata": {},
   "outputs": [],
   "source": [
    "from sklearn.preprocessing import StandardScaler, MinMaxScaler\n",
    "\n",
    "# Used for the scikit models\n",
    "X_train, X_test, y_train, y_test = train_test_split(data[features].values, data[\"Risk\"].values, test_size=0.2)\n",
    "\n",
    "scaler = MinMaxScaler()\n",
    "scaler.fit(X_train)\n",
    "\n",
    "# Normalized Splitted X Data\n",
    "X_train_normalized = scaler.transform(X_train)\n",
    "X_test_normalized = scaler.transform(X_test)"
   ]
  },
  {
   "cell_type": "markdown",
   "id": "copyrighted-study",
   "metadata": {},
   "source": [
    "# DECISION TREE"
   ]
  },
  {
   "cell_type": "code",
   "execution_count": 185,
   "id": "bottom-selection",
   "metadata": {},
   "outputs": [
    {
     "name": "stdout",
     "output_type": "stream",
     "text": [
      "Decision Tree Cross-Validation & Training time: 161.44733095169067s\n"
     ]
    }
   ],
   "source": [
    "from sklearn.tree import DecisionTreeClassifier \n",
    "from sklearn.metrics import accuracy_score\n",
    "\n",
    "# Define the parameter ranges that should be tested on the model\n",
    "dtree_params = {\n",
    "    'criterion': [\"gini\", \"entropy\"],\n",
    "    'max_depth': range(1, 10),\n",
    "    'min_samples_split': range(2, 10),\n",
    "    'min_samples_leaf': range(1, 10)\n",
    "}\n",
    "\n",
    "# Instanciate the Grid for parameter tuning\n",
    "dtree_grid = GridSearchCV(DecisionTreeClassifier(), dtree_params, cv=5, scoring='accuracy', n_jobs=-1)\n",
    "\n",
    "start = time.time()\n",
    "dtree = dtree_grid.fit(X_train, y_train)\n",
    "stop = time.time()\n",
    "print(f\"Decision Tree Cross-Validation & Training time: {stop - start}s\")"
   ]
  },
  {
   "cell_type": "code",
   "execution_count": 186,
   "id": "accurate-tuner",
   "metadata": {},
   "outputs": [
    {
     "name": "stdout",
     "output_type": "stream",
     "text": [
      "DecisionTreeClassifier(max_depth=9, min_samples_leaf=8, min_samples_split=9)\n",
      "{'criterion': 'gini', 'max_depth': 9, 'min_samples_leaf': 8, 'min_samples_split': 9}\n",
      "Best Accuracy: 92.21%\n"
     ]
    }
   ],
   "source": [
    "print(dtree.best_estimator_)\n",
    "print(dtree.best_params_)\n",
    "print('Best Accuracy: {0:.2%}'.format(dtree.best_score_))"
   ]
  },
  {
   "cell_type": "code",
   "execution_count": 187,
   "id": "general-quilt",
   "metadata": {},
   "outputs": [
    {
     "name": "stdout",
     "output_type": "stream",
     "text": [
      "Decision Tree Training time: 0.1652541160583496s\n"
     ]
    }
   ],
   "source": [
    "test = DecisionTreeClassifier(max_depth=9, min_samples_leaf=4, min_samples_split=7)\n",
    "\n",
    "start = time.time()\n",
    "test = test.fit(X_train, y_train)\n",
    "stop = time.time()\n",
    "print(f\"Decision Tree Training time: {stop - start}s\")"
   ]
  },
  {
   "cell_type": "code",
   "execution_count": 188,
   "id": "unlike-november",
   "metadata": {},
   "outputs": [
    {
     "name": "stdout",
     "output_type": "stream",
     "text": [
      "Accuracy: 92.39%\n"
     ]
    }
   ],
   "source": [
    "accuracy = dtree.score(X_test, y_test) \n",
    "print('Accuracy: {0:.2%}'.format(accuracy))"
   ]
  },
  {
   "cell_type": "code",
   "execution_count": 189,
   "id": "legal-region",
   "metadata": {},
   "outputs": [
    {
     "data": {
      "image/png": "[encoded data removed]",
      "text/plain": [
       "<Figure size 432x288 with 2 Axes>"
      ]
     },
     "metadata": {
      "needs_background": "light"
     },
     "output_type": "display_data"
    }
   ],
   "source": [
    "f = plot_confusion_matrix(dtree, X_test, y_test, cmap='Blues', display_labels = LEVELS)  \n",
    "plt.show()\n",
    "f.figure_.savefig(\"dtree_confusion.pdf\", bbox_inches='tight')"
   ]
  },
  {
   "cell_type": "code",
   "execution_count": 213,
   "id": "injured-senior",
   "metadata": {},
   "outputs": [
    {
     "name": "stdout",
     "output_type": "stream",
     "text": [
      "              precision    recall  f1-score   support\n",
      "\n",
      "         LOW       0.91      0.89      0.90      1842\n",
      "      MEDIUM       0.90      0.91      0.91      4008\n",
      "        HIGH       0.96      0.95      0.95      4150\n",
      "\n",
      "    accuracy                           0.92     10000\n",
      "   macro avg       0.92      0.92      0.92     10000\n",
      "weighted avg       0.92      0.92      0.92     10000\n",
      "\n"
     ]
    }
   ],
   "source": [
    "print(classification_report(y_test, dtree.predict(X_test), target_names=LEVELS))"
   ]
  },
  {
   "cell_type": "markdown",
   "id": "expressed-element",
   "metadata": {},
   "source": [
    "# Support Vector Machine (SVM)"
   ]
  },
  {
   "cell_type": "code",
   "execution_count": 191,
   "id": "mediterranean-terror",
   "metadata": {},
   "outputs": [
    {
     "name": "stderr",
     "output_type": "stream",
     "text": [
      "/usr/local/lib/python3.9/site-packages/joblib/externals/loky/process_executor.py:688: UserWarning: A worker stopped while some jobs were given to the executor. This can be caused by a too short worker timeout or by a memory leak.\n",
      "  warnings.warn(\n"
     ]
    },
    {
     "name": "stdout",
     "output_type": "stream",
     "text": [
      "Support Vector Machine Cross-Validation & Training time: 161.30179691314697s\n"
     ]
    }
   ],
   "source": [
    "from sklearn.svm import LinearSVC, SVC \n",
    "\n",
    "# Define the parameter ranges that should be tested on the model\n",
    "svm_params = {\n",
    "    'kernel': [\"poly\", \"rbf\", \"sigmoid\"],\n",
    "    'gamma': [\"scale\", \"auto\"]\n",
    "}\n",
    "\n",
    "# Instanciate the Grid for parameter tuning\n",
    "svm_grid = GridSearchCV(SVC(), svm_params, cv=5, scoring='accuracy', n_jobs=-1)\n",
    "\n",
    "start = time.time()\n",
    "svm = svm_grid.fit(X_train_normalized, y_train)\n",
    "\n",
    "stop = time.time()\n",
    "print(f\"Support Vector Machine Cross-Validation & Training time: {stop - start}s\")"
   ]
  },
  {
   "cell_type": "code",
   "execution_count": 192,
   "id": "limiting-final",
   "metadata": {},
   "outputs": [
    {
     "name": "stdout",
     "output_type": "stream",
     "text": [
      "SVC()\n",
      "{'gamma': 'scale', 'kernel': 'rbf'}\n",
      "Best Accuracy: 98.80%\n"
     ]
    }
   ],
   "source": [
    "print(svm.best_estimator_)\n",
    "print(svm.best_params_)\n",
    "print('Best Accuracy: {0:.2%}'.format(svm.best_score_))"
   ]
  },
  {
   "cell_type": "code",
   "execution_count": 193,
   "id": "directed-austria",
   "metadata": {},
   "outputs": [
    {
     "name": "stdout",
     "output_type": "stream",
     "text": [
      "SVM Training time: 6.557694911956787s\n"
     ]
    }
   ],
   "source": [
    "test = SVC()\n",
    "\n",
    "start = time.time()\n",
    "test = test.fit(X_train_normalized, y_train)\n",
    "stop = time.time()\n",
    "print(f\"SVM Training time: {stop - start}s\")"
   ]
  },
  {
   "cell_type": "code",
   "execution_count": 194,
   "id": "united-taiwan",
   "metadata": {},
   "outputs": [
    {
     "name": "stdout",
     "output_type": "stream",
     "text": [
      "Accuracy: 98.95%\n"
     ]
    }
   ],
   "source": [
    "accuracy = svm.score(X_test_normalized, y_test) \n",
    "\n",
    "print('Accuracy: {0:.2%}'.format(accuracy))"
   ]
  },
  {
   "cell_type": "code",
   "execution_count": 195,
   "id": "jewish-journal",
   "metadata": {},
   "outputs": [
    {
     "data": {
      "image/png": "[encoded data removed]",
      "text/plain": [
       "<Figure size 432x288 with 2 Axes>"
      ]
     },
     "metadata": {
      "needs_background": "light"
     },
     "output_type": "display_data"
    }
   ],
   "source": [
    "f = plot_confusion_matrix(svm, X_test_normalized, y_test, cmap='Blues', display_labels = LEVELS)  \n",
    "plt.show()\n",
    "f.figure_.savefig(\"svm_confusion.pdf\", bbox_inches='tight')"
   ]
  },
  {
   "cell_type": "code",
   "execution_count": 196,
   "id": "afraid-greeting",
   "metadata": {},
   "outputs": [
    {
     "name": "stdout",
     "output_type": "stream",
     "text": [
      "              precision    recall  f1-score   support\n",
      "\n",
      "         LOW       0.99      0.98      0.99      1842\n",
      "      MEDIUM       0.98      0.99      0.99      4008\n",
      "        HIGH       0.99      0.99      0.99      4150\n",
      "\n",
      "    accuracy                           0.99     10000\n",
      "   macro avg       0.99      0.99      0.99     10000\n",
      "weighted avg       0.99      0.99      0.99     10000\n",
      "\n"
     ]
    }
   ],
   "source": [
    "print(classification_report(y_test, svm.predict(X_test_normalized), target_names=LEVELS))"
   ]
  },
  {
   "cell_type": "markdown",
   "id": "thirty-sullivan",
   "metadata": {},
   "source": [
    "# K-nearest Neighbours Classifier"
   ]
  },
  {
   "cell_type": "code",
   "execution_count": 197,
   "id": "second-stationery",
   "metadata": {},
   "outputs": [
    {
     "name": "stdout",
     "output_type": "stream",
     "text": [
      "KNN Cross-Validation & Training time: 41.46168088912964s\n"
     ]
    }
   ],
   "source": [
    "from sklearn.neighbors import KNeighborsClassifier\n",
    "\n",
    "# Define the parameter ranges that should be tested on the model\n",
    "knn_params = {\n",
    "    'n_neighbors': range(1, 30),\n",
    "    'weights': ['uniform', 'distance']\n",
    "}\n",
    "\n",
    "# Instanciate the Grid for parameter tuning\n",
    "knn_grid = GridSearchCV(KNeighborsClassifier(), knn_params, cv=5, scoring='accuracy', n_jobs=-1)\n",
    "\n",
    "start = time.time()\n",
    "knn = knn_grid.fit(X_train_normalized, y_train)\n",
    "stop = time.time()\n",
    "print(f\"KNN Cross-Validation & Training time: {stop - start}s\")"
   ]
  },
  {
   "cell_type": "code",
   "execution_count": 198,
   "id": "physical-wiring",
   "metadata": {},
   "outputs": [
    {
     "name": "stdout",
     "output_type": "stream",
     "text": [
      "KNeighborsClassifier(n_neighbors=22, weights='distance')\n",
      "{'n_neighbors': 22, 'weights': 'distance'}\n",
      "Best Accuracy: 95.52%\n"
     ]
    }
   ],
   "source": [
    "print(knn.best_estimator_)\n",
    "print(knn.best_params_)\n",
    "print('Best Accuracy: {0:.2%}'.format(knn.best_score_))"
   ]
  },
  {
   "cell_type": "code",
   "execution_count": 199,
   "id": "seven-painting",
   "metadata": {},
   "outputs": [
    {
     "name": "stdout",
     "output_type": "stream",
     "text": [
      "KNN Training time: 0.06664705276489258s\n"
     ]
    }
   ],
   "source": [
    "test = KNeighborsClassifier(n_neighbors=15, weights='distance')\n",
    "\n",
    "start = time.time()\n",
    "test = test.fit(X_train_normalized, y_train)\n",
    "stop = time.time()\n",
    "print(f\"KNN Training time: {stop - start}s\")"
   ]
  },
  {
   "cell_type": "code",
   "execution_count": 200,
   "id": "effective-louis",
   "metadata": {},
   "outputs": [
    {
     "name": "stdout",
     "output_type": "stream",
     "text": [
      "Accuracy: 95.98%\n"
     ]
    }
   ],
   "source": [
    "accuracy = knn.score(X_test_normalized, y_test) \n",
    "print('Accuracy: {0:.2%}'.format(accuracy))"
   ]
  },
  {
   "cell_type": "code",
   "execution_count": 201,
   "id": "accomplished-rings",
   "metadata": {},
   "outputs": [
    {
     "data": {
      "image/png": "[encoded data removed]",
      "text/plain": [
       "<Figure size 432x288 with 2 Axes>"
      ]
     },
     "metadata": {
      "needs_background": "light"
     },
     "output_type": "display_data"
    }
   ],
   "source": [
    "f = plot_confusion_matrix(knn, X_test_normalized, y_test, cmap='Blues', display_labels = LEVELS)  \n",
    "plt.show()\n",
    "f.figure_.savefig(\"knn_confusion.pdf\", bbox_inches='tight')"
   ]
  },
  {
   "cell_type": "code",
   "execution_count": 202,
   "id": "veterinary-juvenile",
   "metadata": {},
   "outputs": [
    {
     "name": "stdout",
     "output_type": "stream",
     "text": [
      "              precision    recall  f1-score   support\n",
      "\n",
      "         LOW       0.97      0.93      0.95      1842\n",
      "      MEDIUM       0.94      0.96      0.95      4008\n",
      "        HIGH       0.98      0.97      0.97      4150\n",
      "\n",
      "    accuracy                           0.96     10000\n",
      "   macro avg       0.96      0.96      0.96     10000\n",
      "weighted avg       0.96      0.96      0.96     10000\n",
      "\n"
     ]
    }
   ],
   "source": [
    "print(classification_report(y_test, knn.predict(X_test_normalized), target_names=LEVELS))"
   ]
  },
  {
   "cell_type": "markdown",
   "id": "suspended-change",
   "metadata": {},
   "source": [
    "# Multilayer Perceptron (MLP) using Backpropagation"
   ]
  },
  {
   "cell_type": "code",
   "execution_count": 203,
   "id": "natural-partner",
   "metadata": {},
   "outputs": [
    {
     "name": "stderr",
     "output_type": "stream",
     "text": [
      "/usr/local/lib/python3.9/site-packages/joblib/externals/loky/process_executor.py:688: UserWarning: A worker stopped while some jobs were given to the executor. This can be caused by a too short worker timeout or by a memory leak.\n",
      "  warnings.warn(\n"
     ]
    },
    {
     "name": "stdout",
     "output_type": "stream",
     "text": [
      "MLP Cross-Validation & Training time: 240.93812203407288s\n"
     ]
    },
    {
     "name": "stderr",
     "output_type": "stream",
     "text": [
      "/usr/local/lib/python3.9/site-packages/sklearn/neural_network/_multilayer_perceptron.py:614: ConvergenceWarning: Stochastic Optimizer: Maximum iterations (200) reached and the optimization hasn't converged yet.\n",
      "  warnings.warn(\n"
     ]
    }
   ],
   "source": [
    "from sklearn.neural_network import MLPClassifier\n",
    "\n",
    "mlp_params={\n",
    "'learning_rate': [\"constant\", \"invscaling\", \"adaptive\"],\n",
    "'hidden_layer_sizes': [(5, 5)],\n",
    "'solver': [\"lbfgs\", \"sgd\", \"adam\"],\n",
    "'activation': [\"logistic\", \"relu\", \"tanh\"]\n",
    "}\n",
    "\n",
    "# Instanciate the Grid for parameter tuning\n",
    "mlp_grid = GridSearchCV(MLPClassifier(), mlp_params, cv=5, scoring='accuracy', n_jobs=-1)\n",
    "\n",
    "start = time.time()\n",
    "mlp = mlp_grid.fit(X_train_normalized, y_train)\n",
    "stop = time.time()\n",
    "print(f\"MLP Cross-Validation & Training time: {stop - start}s\")"
   ]
  },
  {
   "cell_type": "code",
   "execution_count": 204,
   "id": "alternate-mississippi",
   "metadata": {},
   "outputs": [
    {
     "name": "stdout",
     "output_type": "stream",
     "text": [
      "MLPClassifier(activation='tanh', hidden_layer_sizes=(5, 5))\n",
      "{'activation': 'tanh', 'hidden_layer_sizes': (5, 5), 'learning_rate': 'constant', 'solver': 'adam'}\n",
      "Best Accuracy: 99.27%\n"
     ]
    }
   ],
   "source": [
    "print(mlp.best_estimator_)\n",
    "print(mlp.best_params_)\n",
    "print('Best Accuracy: {0:.2%}'.format(mlp.best_score_))"
   ]
  },
  {
   "cell_type": "code",
   "execution_count": 205,
   "id": "mexican-hudson",
   "metadata": {},
   "outputs": [
    {
     "name": "stdout",
     "output_type": "stream",
     "text": [
      "MLP Training time: 10.777590036392212s\n"
     ]
    },
    {
     "name": "stderr",
     "output_type": "stream",
     "text": [
      "/usr/local/lib/python3.9/site-packages/sklearn/neural_network/_multilayer_perceptron.py:614: ConvergenceWarning: Stochastic Optimizer: Maximum iterations (200) reached and the optimization hasn't converged yet.\n",
      "  warnings.warn(\n"
     ]
    }
   ],
   "source": [
    "test = MLPClassifier(activation='tanh', hidden_layer_sizes=(5, 5))\n",
    "\n",
    "start = time.time()\n",
    "test = test.fit(X_train_normalized, y_train)\n",
    "stop = time.time()\n",
    "print(f\"MLP Training time: {stop - start}s\")"
   ]
  },
  {
   "cell_type": "code",
   "execution_count": 206,
   "id": "sized-helen",
   "metadata": {},
   "outputs": [
    {
     "name": "stdout",
     "output_type": "stream",
     "text": [
      "Accuracy: 99.30%\n"
     ]
    }
   ],
   "source": [
    "accuracy = mlp.score(X_test_normalized, y_test) \n",
    "print('Accuracy: {0:.2%}'.format(accuracy))"
   ]
  },
  {
   "cell_type": "code",
   "execution_count": 207,
   "id": "dirty-force",
   "metadata": {},
   "outputs": [
    {
     "data": {
      "image/png": "[encoded data removed]",
      "text/plain": [
       "<Figure size 432x288 with 2 Axes>"
      ]
     },
     "metadata": {
      "needs_background": "light"
     },
     "output_type": "display_data"
    }
   ],
   "source": [
    "f = plot_confusion_matrix(mlp, X_test_normalized, y_test, cmap='Blues', display_labels = LEVELS)  \n",
    "plt.show()\n",
    "f.figure_.savefig(\"mlp_confusion.pdf\", bbox_inches='tight')"
   ]
  },
  {
   "cell_type": "code",
   "execution_count": 208,
   "id": "subject-conservation",
   "metadata": {},
   "outputs": [
    {
     "name": "stdout",
     "output_type": "stream",
     "text": [
      "              precision    recall  f1-score   support\n",
      "\n",
      "         LOW       1.00      0.99      0.99      1842\n",
      "      MEDIUM       0.99      0.99      0.99      4008\n",
      "        HIGH       0.99      1.00      1.00      4150\n",
      "\n",
      "    accuracy                           0.99     10000\n",
      "   macro avg       0.99      0.99      0.99     10000\n",
      "weighted avg       0.99      0.99      0.99     10000\n",
      "\n"
     ]
    }
   ],
   "source": [
    "print(classification_report(y_test, mlp.predict(X_test_normalized), target_names=LEVELS))"
   ]
  },
  {
   "cell_type": "markdown",
   "id": "preceding-concept",
   "metadata": {},
   "source": [
    "## Accuracy - Dataset size - Plot"
   ]
  },
  {
   "cell_type": "code",
   "execution_count": 250,
   "id": "accepting-lease",
   "metadata": {},
   "outputs": [
    {
     "data": {
      "image/png": "[encoded data removed]",
      "text/plain": [
       "<Figure size 432x288 with 1 Axes>"
      ]
     },
     "metadata": {
      "needs_background": "light"
     },
     "output_type": "display_data"
    }
   ],
   "source": [
    "import matplotlib.pyplot as plt\n",
    "\n",
    "dataset_sizes = [\"5'000\", \"15'000\", \"30'000\", \"50'000\"]\n",
    "DT = [91.80, 91.67, 92.17, 92.64]\n",
    "SVM = [97.90, 98.10, 98.45, 99.03]\n",
    "KNN = [92.50, 94.87, 94.77, 95.82]\n",
    "MLP = [96.00, 99.60, 99.22, 98.86]\n",
    "\n",
    "f = plt.figure()\n",
    "\n",
    "plt.plot(dataset_sizes, DT, label = \"DT\")\n",
    "plt.plot(dataset_sizes, SVM, label = \"SVM\")\n",
    "plt.plot(dataset_sizes, KNN, label = \"KNN\")\n",
    "plt.plot(dataset_sizes, MLP, label = \"MLP\")\n",
    "\n",
    "for x in dataset_sizes:\n",
    "    plt.axvline(x=x, linestyle=\"dashed\", color='gray', linewidth=1)\n",
    "\n",
    "\n",
    "plt.gca().spines['right'].set_color('none')\n",
    "plt.gca().spines['top'].set_color('none')\n",
    "\n",
    "plt.xlabel('Dataset Size')\n",
    "plt.ylabel('Accuracy (%)')\n",
    "plt.legend(loc='upper left', bbox_to_anchor=(1.05, 1), frameon=False)\n",
    "\n",
    "plt.show()\n",
    "\n",
    "f.savefig(\"sizeXAccuracy.pdf\", bbox_inches='tight')\n"
   ]
  },
  {
   "cell_type": "code",
   "execution_count": 252,
   "id": "agricultural-flexibility",
   "metadata": {},
   "outputs": [
    {
     "data": {
      "image/png": "[encoded data removed]",
      "text/plain": [
       "<Figure size 432x288 with 1 Axes>"
      ]
     },
     "metadata": {
      "needs_background": "light"
     },
     "output_type": "display_data"
    }
   ],
   "source": [
    "import matplotlib.pyplot as plt\n",
    "\n",
    "dataset_sizes = [\"5'000\", \"15'000\", \"30'000\", \"50'000\"]\n",
    "DT = [0.037, 0.063, 0.114, 0.184]\n",
    "SVM = [0.108, 0.415, 2.408, 5.838]\n",
    "KNN = [0.006, 0.009, 0.055, 0.084]\n",
    "MLP = [0.411, 1.287, 6.286, 10.533]\n",
    "\n",
    "f = plt.figure()\n",
    "\n",
    "plt.plot(dataset_sizes, DT, label = \"DT\")\n",
    "plt.plot(dataset_sizes, SVM, label = \"SVM\")\n",
    "plt.plot(dataset_sizes, KNN, label = \"KNN\")\n",
    "plt.plot(dataset_sizes, MLP, label = \"MLP\")\n",
    "\n",
    "for x in dataset_sizes:\n",
    "    plt.axvline(x=x, linestyle=\"dashed\", color='gray', linewidth=1)\n",
    "\n",
    "\n",
    "plt.gca().spines['right'].set_color('none')\n",
    "plt.gca().spines['top'].set_color('none')\n",
    "\n",
    "plt.xlabel('Dataset Size')\n",
    "plt.ylabel('Training Time (s)')\n",
    "plt.legend(loc='upper left', bbox_to_anchor=(1.05, 1), frameon=False)\n",
    "\n",
    "plt.show()\n",
    "\n",
    "f.savefig(\"sizeXTraining.pdf\", bbox_inches='tight')"
   ]
  }
 ],
 "metadata": {
  "kernelspec": {
   "display_name": "Python 3",
   "language": "python",
   "name": "python3"
  },
  "language_info": {
   "codemirror_mode": {
    "name": "ipython",
    "version": 3
   },
   "file_extension": ".py",
   "mimetype": "text/x-python",
   "name": "python",
   "nbconvert_exporter": "python",
   "pygments_lexer": "ipython3",
   "version": "3.9.2"
  }
 },
 "nbformat": 4,
 "nbformat_minor": 5
}
